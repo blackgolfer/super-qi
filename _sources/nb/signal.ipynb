{
 "cells": [
  {
   "cell_type": "markdown",
   "metadata": {},
   "source": [
    "# 信号空间"
   ]
  },
  {
   "cell_type": "markdown",
   "metadata": {},
   "source": [
    "## Generator of a cyclic group\n",
    "The following is the from the article [Number Theory | Generators of finite cyclic group under addition](https://www.geeksforgeeks.org/generators-finite-cyclic-group-addition/).\n",
    "\n",
    "Given a number $n$, find all generators of cyclic additive group under modulo $n$. Generator of a set $\\{0, 1, … n-1\\}$ is an element $x$ such that $x$ is smaller than $n$, and using $x$ (and addition operation), we can generate all elements of the set.\n",
    "\n",
    "A *simple solution* is to run a loop from $1$ to $n-1$ and for every element check if it is generator. To check generator, we keep adding element and we check if we can generate all numbers until remainder starts repeating.\n",
    "\n",
    "An *efficient solution* is based on the fact that a number $x$ is generator if $x$ is relatively prime to $n$, i.e., $gcd(n, x) =1$.\n",
    "\n",
    "Number of generators of a number n is equal to $\\Phi(n)$ where $\\Phi$ is [Euler Totient Function](https://www.geeksforgeeks.org/eulers-totient-function/)."
   ]
  },
  {
   "cell_type": "code",
   "execution_count": 1,
   "metadata": {},
   "outputs": [],
   "source": [
    "# Function to return gcd of a and b\n",
    "def gcd(a, b):\n",
    "    if (a == 0):\n",
    "        return b;\n",
    "    return gcd(b % a, a);\n",
    " \n",
    "# Print generators of n\n",
    "def printGenerators(n):\n",
    "     \n",
    "    # 1 is always a generator\n",
    "    print(\"1\", end = \" \");\n",
    " \n",
    "    for i in range(2, n):\n",
    " \n",
    "        # A number x is generator\n",
    "        # of GCD is 1\n",
    "        if (gcd(i, n) == 1):\n",
    "            print(i, end = \" \");\n",
    "\n",
    "def check(m,n):\n",
    "    v=[]\n",
    "    for i in range(1,n+1):\n",
    "        v.append((m*i)%n)\n",
    "    return sorted(v)"
   ]
  },
  {
   "cell_type": "code",
   "execution_count": 2,
   "metadata": {},
   "outputs": [
    {
     "name": "stdout",
     "output_type": "stream",
     "text": [
      "1 3 7 9 "
     ]
    }
   ],
   "source": [
    "n=10\n",
    "printGenerators(n)"
   ]
  },
  {
   "cell_type": "code",
   "execution_count": 3,
   "metadata": {},
   "outputs": [
    {
     "data": {
      "text/plain": [
       "[0, 1, 2, 3, 4, 5, 6, 7, 8, 9]"
      ]
     },
     "execution_count": 3,
     "metadata": {},
     "output_type": "execute_result"
    }
   ],
   "source": [
    "check(3,n)"
   ]
  },
  {
   "cell_type": "code",
   "execution_count": 4,
   "metadata": {},
   "outputs": [
    {
     "data": {
      "text/plain": [
       "[0, 0, 2, 2, 4, 4, 6, 6, 8, 8]"
      ]
     },
     "execution_count": 4,
     "metadata": {},
     "output_type": "execute_result"
    }
   ],
   "source": [
    "check(2,n)"
   ]
  },
  {
   "cell_type": "code",
   "execution_count": 5,
   "metadata": {},
   "outputs": [
    {
     "data": {
      "text/plain": [
       "[0, 1, 2, 3, 4, 5, 6, 7, 8, 9]"
      ]
     },
     "execution_count": 5,
     "metadata": {},
     "output_type": "execute_result"
    }
   ],
   "source": [
    "check(7,n)"
   ]
  },
  {
   "cell_type": "code",
   "execution_count": 6,
   "metadata": {},
   "outputs": [
    {
     "data": {
      "text/plain": [
       "[0, 1, 2, 3, 4, 5, 6, 7, 8, 9]"
      ]
     },
     "execution_count": 6,
     "metadata": {},
     "output_type": "execute_result"
    }
   ],
   "source": [
    "check(1,n)"
   ]
  },
  {
   "cell_type": "code",
   "execution_count": null,
   "metadata": {},
   "outputs": [],
   "source": []
  }
 ],
 "metadata": {
  "kernelspec": {
   "display_name": "Python 3 (ipykernel)",
   "language": "python",
   "name": "python3"
  },
  "language_info": {
   "codemirror_mode": {
    "name": "ipython",
    "version": 3
   },
   "file_extension": ".py",
   "mimetype": "text/x-python",
   "name": "python",
   "nbconvert_exporter": "python",
   "pygments_lexer": "ipython3",
   "version": "3.11.0"
  },
  "toc": {
   "base_numbering": 1,
   "nav_menu": {},
   "number_sections": true,
   "sideBar": true,
   "skip_h1_title": false,
   "title_cell": "Table of Contents",
   "title_sidebar": "Contents",
   "toc_cell": false,
   "toc_position": {},
   "toc_section_display": true,
   "toc_window_display": false
  }
 },
 "nbformat": 4,
 "nbformat_minor": 2
}
