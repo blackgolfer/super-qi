{
 "cells": [
  {
   "cell_type": "markdown",
   "id": "f926eb58",
   "metadata": {},
   "source": [
    "# 信号空间的数据结构"
   ]
  },
  {
   "cell_type": "code",
   "execution_count": 1,
   "id": "435faefc",
   "metadata": {
    "scrolled": false
   },
   "outputs": [],
   "source": [
    "import sys\n",
    "import numpy as np\n",
    "import matplotlib.pyplot as plt\n",
    "\n",
    "import btnt\n",
    "import timedomain as td\n",
    "from qiplot import *\n",
    "from qisignal import *\n",
    "from interval import interval\n",
    "import utils\n",
    "plt.style.use(['ggplot','../../presentation.mplstyle'])"
   ]
  },
  {
   "cell_type": "markdown",
   "id": "071f678d",
   "metadata": {},
   "source": [
    "## 时间域\n",
    "### 时间轴上的切割\n",
    "如前所说，整个时间轴上的第$j$层的切割如下：\n",
    "\n",
    "$$\n",
    "I_{j,k}\\defeq\\left[\\frac{k}{2^j},\\frac{k+1}{2^j}\\right];\\quad\\R=\\bigcup_{k\\in\\Z}I_{j,k}\n",
    "$$\n",
    "\n",
    "并且我们有上下层的关系，\n",
    "\n",
    "$$\n",
    "I_{j,k}=I_{j+1,2k}\\bigcup I_{j+1,2k+1}\n",
    "$$\n",
    "\n",
    "这里我们只考虑区间$I=[0,1]$（对应于上面公式中的$I_{0,0}$）切割的问题，并且针对有限$N$个采样点，将时间域转换成正整数域：$[0,1,\\cdots,N-1]$。对采样点的假设:\n",
    "\n",
    "1. 采样点$i\\in[0,1,\\cdots,N-1]$对应于$t_i\\in[0,1]$或$[0,1)$，\n",
    "\n",
    "    $$\n",
    "    t_i=\\left\\{\n",
    "    \\begin{array}{ll}\n",
    "    \\dfrac{i}{N-1},&[0,1]\\ \\textrm{的情形}\\\\\n",
    "    \\dfrac{i}{N},&[0,1)\\ \\textrm{的情形}\n",
    "    \\end{array}\n",
    "    \\right.\n",
    "    $$\n",
    "\n",
    "    即采样频率分别为$\\Delta t=i/(N-1)$和$\\Delta t=i/N$。\n",
    "\n",
    "2. $N=2^L$，其中$L\\in\\N$。\n",
    "\n",
    "在连续域上，根据上面的$I_{0,0}$，第$j$层的分割为\n",
    "\n",
    "$$\n",
    "I=\\bigcup_{k=0}^{2^j-1}I_{j,k},\\quad I_{j,k}=\\left[\\frac{k}{2^j},\\frac{k+1}{2^j}\\right]\n",
    "$$\n",
    "\n",
    "$j$与$j+1$层的递归关系为$I_{j,k}=I_{j+1,2k}\\bigcup I_{j+1,2k+1}，k\\in[0,1,\\cdots,2^j]$。\n",
    "\n",
    "连续域上的切割区间节点与我们的采样点是吻合的（对应与$[0,1)$采样的情形），因此在整数域上的切割为：\n",
    "\n",
    "$$\n",
    "\\begin{array}{lll}\n",
    "\\textrm{第0层}&I_{0,0}=[0,1,\\cdots,2^L-1]\\\\\n",
    "\\textrm{第1层}&I_{1,0}=[0,1,\\cdots,2^{L-1}-1],\\quad I_{1,1}=[2^{L-1},2^{L-1}+1,\\cdots,2^L-1]\\\\\n",
    "\\cdots&\\cdots\\\\\n",
    "\\textrm{第$j$层}&I_{j,0},I_{j,1},\\cdots,I_{j,2^j-1},\\quad I_{j,k}=[2^{L-j}k,\\cdots,2^{L-j}(k+1)-1],\\quad k\\in[0,1,\\cdots,2^j-1]\\\\\n",
    "\\cdots&\\cdots\\\\\n",
    "\\textrm{第$L$层}&I_{L,0},I_{L,1},\\cdots,I_{L,2^L-1},\\quad I_{L,k}=[k],\\quad k\\in[0,1,\\cdots,N-1]\n",
    "\\end{array}\n",
    "$$\n",
    "\n",
    "递归公式为$I_{j,k}=I_{j+1,2k}\\bigcup I_{j+1,2k+1}$，也就是给定$I_{j,k}$，可以生成左右两个子区间分别是$I_{j+1,2k}$和$I_{j+1,2k+1}$。左子区间取当期区间$I_{j,k}$的左半部，右子区间取右半部。"
   ]
  },
  {
   "cell_type": "markdown",
   "id": "3252d9bb",
   "metadata": {},
   "source": [
    "我们用二叉树来实现这个分割逻辑，作为一个例子，以上的递归关系用以下的`left_half`和`right_half`函数来实现。通过`btnt.makebtnt`函数来产生对任意的数组$[0,1,\\cdots,N-1]$建立一个二叉树来实现以上的分割。\n",
    "\n",
    "这里`btn`是二叉树的节点数据结构，用一个简单的类来实现，其中包括类的几个参数：\n",
    "- `content`：节点的内容，可以是任意的数据类\n",
    "- `left`：左子节点，数据类为`btn`\n",
    "- `right`：右子节点，数据类为`btn`\n",
    "- `tag`：节点的标识，可以是任意的数据类\n",
    "\n",
    "```{code-block} python\n",
    "---\n",
    "name: btn\n",
    "linenos: True\n",
    "caption: |\n",
    "    类`btn`源代码\n",
    "---\n",
    "class btn:\n",
    "    def __init__(self,content: Any,left: btn,right: btn,tag: Any):\n",
    "        self.content=content\n",
    "        self.left=left\n",
    "        self.right=right\n",
    "        self.tag=tag\n",
    "```\n",
    "\n",
    "下面是产生二叉树的函数（builder），输入参数：\n",
    "- `level`：二叉树的层数，数据类为`int`。如果应用于上面的时间域的分割，`level`小于或等于$L$。\n",
    "- `content`：根节点的内容，数据类为`Any`。\n",
    "- `lp`：根据当期内容，产生左子节点内容，一个`content`类=>`content`类的函数\n",
    "- `rp`：根据当期内容，产生右子节点内容，一个`content`类=>`content`类的函数\n",
    "\n",
    "输出为`root`，二叉树的根节点，数据类是`btn`。\n",
    "\n",
    "```python\n",
    "def makebtnt(level,content,lp,rp):\n",
    "    if not isinstance(level,int) or level<0:\n",
    "        raise ValueError('invalid input in makebtnt')\n",
    "    root = btn(content,None,None,None)\n",
    "    if level>0:\n",
    "        root.left=makebtnt(level-1,lp(content),lp,rp)\n",
    "        root.right=makebtnt(level-1,rp(content),lp,rp)\n",
    "    return root\n",
    "```\n",
    "\n",
    "这是第一个版本，有一个小瑕疵，就是不能产生没有内容的二叉树。改进的代码如下：\n",
    "\n",
    "```{code-block} python\n",
    "---\n",
    "name: makebtnt\n",
    "linenos: True\n",
    "caption: |\n",
    "    `makebtnt`源代码\n",
    "---\n",
    "def makebtnt(level,content=None,lp=None,rp=None):\n",
    "    if not isinstance(level,int) or level<0:\n",
    "        raise ValueError('invalid input in makebtnt')\n",
    "    root = btn(content,None,None,None)\n",
    "    if level>0:\n",
    "        if lp!=None:\n",
    "            root.left=makebtnt(level-1,lp(content),lp,rp)\n",
    "        else:\n",
    "            root.left=makebtnt(level-1,None,lp,rp)\n",
    "        if rp!=None:\n",
    "            root.right=makebtnt(level-1,rp(content),lp,rp)\n",
    "        else:\n",
    "            root.right=makebtnt(level-1,None,lp,rp)\n",
    "    return root\n",
    "```\n",
    "\n",
    "关于二叉树的数据结构在`btnt`程序包里（即文件`btnt.py`）。"
   ]
  },
  {
   "cell_type": "code",
   "execution_count": 2,
   "id": "9ffdb5be",
   "metadata": {},
   "outputs": [],
   "source": [
    "def left_half(t):\n",
    "    if t==None:\n",
    "        return None\n",
    "    n=len(t)\n",
    "    if not btnt.ispower2(n):\n",
    "        raise ValueError(\"input must be power of 2\")\n",
    "    n>>=1\n",
    "    return t[0:n]\n",
    "\n",
    "def right_half(t):\n",
    "    if t==None:\n",
    "        return None\n",
    "    n=len(t)\n",
    "    if not btnt.ispower2(n):\n",
    "        raise ValueError(\"input must be power of 2\")\n",
    "    n>>=1\n",
    "    return t[n:len(t)]"
   ]
  },
  {
   "cell_type": "code",
   "execution_count": 3,
   "id": "419afe7d",
   "metadata": {},
   "outputs": [
    {
     "data": {
      "text/plain": [
       "[0, 1, 2, 3]"
      ]
     },
     "execution_count": 3,
     "metadata": {},
     "output_type": "execute_result"
    }
   ],
   "source": [
    "t=list(range(8))\n",
    "left_half(t)"
   ]
  },
  {
   "cell_type": "code",
   "execution_count": 4,
   "id": "ae9dc507",
   "metadata": {},
   "outputs": [
    {
     "data": {
      "text/plain": [
       "[4, 5, 6, 7]"
      ]
     },
     "execution_count": 4,
     "metadata": {},
     "output_type": "execute_result"
    }
   ],
   "source": [
    "right_half(t)"
   ]
  },
  {
   "cell_type": "code",
   "execution_count": 5,
   "id": "dace5571",
   "metadata": {},
   "outputs": [
    {
     "name": "stdout",
     "output_type": "stream",
     "text": [
      "[0, 1, 2, 3, 4, 5, 6, 7] \n",
      "\n",
      "[0, 1, 2, 3] [4, 5, 6, 7] \n",
      "\n",
      "[0, 1] [2, 3] [4, 5] [6, 7] \n",
      "\n",
      "[0] [1] [2] [3] [4] [5] [6] [7] \n",
      "\n"
     ]
    }
   ],
   "source": [
    "root=btnt.makebtnt(3,t,left_half,right_half)\n",
    "btnt.print_level_order(root)"
   ]
  },
  {
   "cell_type": "code",
   "execution_count": 6,
   "id": "1d4b2e9e",
   "metadata": {},
   "outputs": [
    {
     "data": {
      "text/plain": [
       "4"
      ]
     },
     "execution_count": 6,
     "metadata": {},
     "output_type": "execute_result"
    }
   ],
   "source": [
    "foo=btnt.makebtnt(3,None,None,None)\n",
    "btnt.height(foo)"
   ]
  },
  {
   "cell_type": "code",
   "execution_count": 7,
   "id": "dc527c6f",
   "metadata": {},
   "outputs": [
    {
     "name": "stdout",
     "output_type": "stream",
     "text": [
      "None \n",
      "\n",
      "None None \n",
      "\n",
      "None None None None \n",
      "\n",
      "None None None None None None None None \n",
      "\n"
     ]
    }
   ],
   "source": [
    "btnt.print_level_order(foo)"
   ]
  },
  {
   "cell_type": "code",
   "execution_count": 8,
   "id": "43872a07",
   "metadata": {},
   "outputs": [
    {
     "name": "stdout",
     "output_type": "stream",
     "text": [
      "[0, 1, 2, 3, 4, 5, 6, 7] \n",
      "\n",
      "None None \n",
      "\n",
      "None None None None \n",
      "\n",
      "None None None None None None None None \n",
      "\n"
     ]
    }
   ],
   "source": [
    "foo=btnt.makebtnt(3,t,None,None)\n",
    "btnt.print_level_order(foo)"
   ]
  },
  {
   "cell_type": "code",
   "execution_count": 9,
   "id": "9e508204",
   "metadata": {},
   "outputs": [
    {
     "name": "stdout",
     "output_type": "stream",
     "text": [
      "[0, 1, 2, 3, 4, 5, 6, 7] \n",
      "\n",
      "[0, 1, 2, 3] None \n",
      "\n",
      "[0, 1] None None None \n",
      "\n",
      "[0] None None None None None None None \n",
      "\n"
     ]
    }
   ],
   "source": [
    "foo=btnt.makebtnt(3,t,left_half,None)\n",
    "btnt.print_level_order(foo)"
   ]
  },
  {
   "cell_type": "markdown",
   "id": "071982b8",
   "metadata": {},
   "source": [
    "### 一些生成时间域序列的辅助工具\n",
    "1. `partition`：对以上的分割算法的一个封装，输入参数为一个连续的整数序列，$[0,1,2,\\cdots,N-1]$\n",
    "2. `block`：$I_{j,k}$的获取，输入参数`root`，`level`，`block`，其中`level`，`block`对应于$I_{j,k}$下标，`root`是二叉树的根，即内容为$I_{0,0}$的节点；输出是内容为$I_{j,k}$的节点。\n",
    "3. `qilinespace`：整数时间序列到实数时间序列的转换，输入参数：`v`，`[a, b]`。其中`v`为被转换的整数序列，要求最后一个数$N-1$，其中$N$是采样点的个数，也要求`v`从小到大排列；$[a,b]$为实数时间域区间，默认为$[0,1]$。输出为转化后的实数时间域序列。"
   ]
  },
  {
   "cell_type": "code",
   "execution_count": 10,
   "id": "3a1535f0",
   "metadata": {},
   "outputs": [
    {
     "data": {
      "text/plain": [
       "[0.0,\n",
       " 0.2857142857142857,\n",
       " 0.5714285714285714,\n",
       " 0.8571428571428571,\n",
       " 1.1428571428571428,\n",
       " 1.4285714285714284,\n",
       " 1.7142857142857142,\n",
       " 2.0]"
      ]
     },
     "execution_count": 10,
     "metadata": {},
     "output_type": "execute_result"
    }
   ],
   "source": [
    "nn=list(range(8))\n",
    "t=td.qilinespace(nn,[0,2])\n",
    "t"
   ]
  },
  {
   "cell_type": "code",
   "execution_count": 11,
   "id": "a18f7354",
   "metadata": {},
   "outputs": [
    {
     "name": "stdout",
     "output_type": "stream",
     "text": [
      "[4, 5, 6, 7]\n"
     ]
    }
   ],
   "source": [
    "root=td.partition(nn,3)\n",
    "i11=td.block(root,1,1)\n",
    "print(i11.content)"
   ]
  },
  {
   "cell_type": "code",
   "execution_count": 12,
   "id": "b91a0bcd",
   "metadata": {},
   "outputs": [
    {
     "name": "stdout",
     "output_type": "stream",
     "text": [
      "[0, 1]\n"
     ]
    }
   ],
   "source": [
    "i20=td.block(root,2,0)\n",
    "print(i20.content)"
   ]
  },
  {
   "cell_type": "markdown",
   "id": "1a270230",
   "metadata": {},
   "source": [
    "## interval\n",
    "`interval`数据结构是为截取一段信号而设计，时间域是整数序列，而且允许负整数指针的数据提取。`interval`是不可变更类。\n",
    "\n",
    "`interval`的参数：\n",
    "1. `least`：负时间域采样点个数\n",
    "2. `final`：正时间域采样点个数\n",
    "3. `zero`：零指针\n",
    "4. `origin`：对应于时间域的值域数组\n",
    "\n",
    "```{code-block} python\n",
    "---\n",
    "name: interval\n",
    "linenos: True\n",
    "caption: |\n",
    "    `interval`源代码\n",
    "---\n",
    "class interval(object):\n",
    "    def __init__(self,data,least,final):\n",
    "        \"\"\"\n",
    "        Inputs:\n",
    "        data: data to be copy to origin, data[0]=orgin[least+zero]\n",
    "        least: the `least` attribute\n",
    "        final: the `final` attribute\n",
    "        \"\"\"\n",
    "        if not isinstance(least,int) or not isinstance(final,int):\n",
    "            raise ValueError(\"Invalid type input in intervel constructor\")\n",
    "        if  least>0 or least>final:\n",
    "            raise ValueError(\"Invalid least parameter\")\n",
    "        length=1+final-least\n",
    "        if length>0 or data is None:\n",
    "                if len(data)<length:\n",
    "                    raise ValueError(\"Invalid input in interval constructor for data\")\n",
    "                self.ORIGIN=np.array(data[0:length],dtype=float)\n",
    "                self.ORIGIN.flags.writeable=False\n",
    "        else:\n",
    "            self.ORIGIIN=None\n",
    "        self.LEAST=least\n",
    "        self.FINAL=final\n",
    "        self.ZERO=-least\n",
    "\n",
    "    def __len__(self):\n",
    "        return len(self.ORIGIN)\n",
    "            \n",
    "    def __getitem__(self,n):\n",
    "        if isinstance(n,int):\n",
    "            if not self.ininterval(n):\n",
    "                raise ValueError(\"interval getitem out of bound\")\n",
    "            else:\n",
    "                return self.ORIGIN[n+self.ZERO]\n",
    "        elif isinstance(n,slice):\n",
    "            if n.start==None:\n",
    "                start=self.LEAST\n",
    "            else:\n",
    "                start=n.start\n",
    "            if n.stop==None:\n",
    "                stop=self.FINAL\n",
    "            else:\n",
    "                stop=n.stop\n",
    "            if n.step==None:\n",
    "                step = 1\n",
    "            else:\n",
    "                step = n.step\n",
    "            if self.ininterval(start) and self.ininterval(stop):\n",
    "                start += self.ZERO\n",
    "                stop += self.ZERO\n",
    "                return np.array([self.ORIGIN[i] for i in range(start,stop,step)],dtype=float)\n",
    "            else:\n",
    "                raise ValueError(\"out of bound\")\n",
    "        else:\n",
    "            raise TypeError(\"type unkown\")\n",
    "\n",
    "    def ininterval(self,offset):\n",
    "        if not isinstance(offset,int):\n",
    "            raise ValueError('invalid input')\n",
    "        if offset>=self.LEAST and offset<=self.FINAL:\n",
    "            return True\n",
    "        else:\n",
    "            return False\n",
    "```\n",
    "\n",
    "参数的意义：\n",
    "1. 时间域：$\\left[\\textrm{LEAST},\\ \\textrm{FINAL}\\right]$\n",
    "2. 值域：$\\textrm{ORIGIN}[i],\\ i\\in\\left[\\textrm{LEAST},\\ \\textrm{FINAL}\\right]$为时间域的值。\n",
    "3. 被截取数据`data`与`interval`中`ORIGIN`的关系：$\\textrm{data}[i]=\\textrm{ORIGIN}\\left[\\textrm{ZERO}+i],\\ i\\in[\\textrm{LEAST},\\ \\textrm{FINAL}\\right]$。\n",
    "\n",
    "```{note}\n",
    "`interval`并没有继承`Immutable`，但是`interval`不可变性是通过将所有成员常数化，包括将时间序列的值域系列设置成不可变更序列，见源代码中的第18行。\n",
    "```"
   ]
  },
  {
   "cell_type": "code",
   "execution_count": 13,
   "id": "0141b720",
   "metadata": {},
   "outputs": [],
   "source": [
    "test_data=list(range(-10,54))\n",
    "least=-10\n",
    "final=9\n",
    "\n",
    "i=interval(test_data,least,final)"
   ]
  },
  {
   "cell_type": "code",
   "execution_count": 14,
   "id": "d610a393",
   "metadata": {},
   "outputs": [
    {
     "data": {
      "text/plain": [
       "True"
      ]
     },
     "execution_count": 14,
     "metadata": {},
     "output_type": "execute_result"
    }
   ],
   "source": [
    "len(i)==(i.FINAL-i.LEAST+1)"
   ]
  },
  {
   "cell_type": "code",
   "execution_count": 15,
   "id": "77d5e29a",
   "metadata": {},
   "outputs": [
    {
     "data": {
      "text/plain": [
       "True"
      ]
     },
     "execution_count": 15,
     "metadata": {},
     "output_type": "execute_result"
    }
   ],
   "source": [
    "i[0]==test_data[i.ZERO]"
   ]
  },
  {
   "cell_type": "code",
   "execution_count": 16,
   "id": "b65cb026",
   "metadata": {},
   "outputs": [
    {
     "data": {
      "text/plain": [
       "True"
      ]
     },
     "execution_count": 16,
     "metadata": {},
     "output_type": "execute_result"
    }
   ],
   "source": [
    "i[i.LEAST]==test_data[0]"
   ]
  },
  {
   "cell_type": "code",
   "execution_count": 17,
   "id": "d49dde9f",
   "metadata": {},
   "outputs": [
    {
     "data": {
      "text/plain": [
       "array([ True,  True,  True,  True,  True,  True,  True,  True,  True,\n",
       "        True,  True,  True,  True,  True,  True])"
      ]
     },
     "execution_count": 17,
     "metadata": {},
     "output_type": "execute_result"
    }
   ],
   "source": [
    "i[:5]==test_data[0:(5+i.ZERO)]"
   ]
  },
  {
   "cell_type": "code",
   "execution_count": 18,
   "id": "ca1f44f2",
   "metadata": {},
   "outputs": [
    {
     "data": {
      "text/plain": [
       "array([ True,  True,  True,  True])"
      ]
     },
     "execution_count": 18,
     "metadata": {},
     "output_type": "execute_result"
    }
   ],
   "source": [
    "i[-5:-1]==test_data[i.ZERO-5:i.ZERO-1]"
   ]
  },
  {
   "cell_type": "code",
   "execution_count": 19,
   "id": "4f1d01c0",
   "metadata": {},
   "outputs": [
    {
     "data": {
      "text/plain": [
       "9.0"
      ]
     },
     "execution_count": 19,
     "metadata": {},
     "output_type": "execute_result"
    }
   ],
   "source": [
    "i[i.FINAL]"
   ]
  },
  {
   "cell_type": "code",
   "execution_count": 20,
   "id": "d284408d",
   "metadata": {},
   "outputs": [
    {
     "name": "stdout",
     "output_type": "stream",
     "text": [
      "least= -10  zero= 10  final= 9  len(ORIGIN)= 20\n"
     ]
    }
   ],
   "source": [
    "print(\"least=\",i.LEAST,\" zero=\",i.ZERO,\" final=\",i.FINAL,\" len(ORIGIN)=\",len(i))"
   ]
  },
  {
   "cell_type": "code",
   "execution_count": 21,
   "id": "2dcfb769",
   "metadata": {},
   "outputs": [
    {
     "data": {
      "text/plain": [
       "True"
      ]
     },
     "execution_count": 21,
     "metadata": {},
     "output_type": "execute_result"
    }
   ],
   "source": [
    "i.ininterval(0)"
   ]
  },
  {
   "cell_type": "markdown",
   "id": "e519aec8",
   "metadata": {},
   "source": [
    "`interval`不完全是不可变更的！请看下例。这个问题在下个版本解决。"
   ]
  },
  {
   "cell_type": "code",
   "execution_count": 22,
   "id": "58bda34a",
   "metadata": {},
   "outputs": [
    {
     "name": "stdout",
     "output_type": "stream",
     "text": [
      "更改前的数据\n",
      "d[0:5]=[-10.  -9.  -8.  -7.  -6.]\n",
      "ORIGIN[0:5]=[-10.  -9.  -8.  -7.  -6.]\n",
      "更改后的数据：\n",
      "d[0:5]=[nan -9. -8. -7. -6.]\n",
      "ORIGIN[0:5]=[nan -9. -8. -7. -6.]\n"
     ]
    }
   ],
   "source": [
    "test_data=list(range(-10,54))\n",
    "least=-10\n",
    "final=9\n",
    "\n",
    "i=interval(test_data,least,final)\n",
    "\n",
    "data=i.ORIGIN\n",
    "print(\"更改前的数据\")\n",
    "print(f\"d[0:5]={data[0:5]}\")\n",
    "print(f\"ORIGIN[0:5]={i.ORIGIN[0:5]}\")\n",
    "data.flags.writeable=True\n",
    "data[0]=None\n",
    "print(\"更改后的数据：\")\n",
    "print(f\"d[0:5]={data[0:5]}\")\n",
    "print(f\"ORIGIN[0:5]={i.ORIGIN[0:5]}\")"
   ]
  },
  {
   "cell_type": "markdown",
   "id": "73dcf2ee",
   "metadata": {},
   "source": [
    "## signal\n",
    "### signal_i\n",
    "`signal_i`在`interval`的基础上加上一个成员`T`以及一个类方法：`plot`，从某种意义上说`signal_i`只是方便`interval`绘图的类。这个类成员`T`是相应时间域的序列。由于展示时间序列用实数时间域会更有意义，所以一般来说，`signal_i`的成员`T`是实数时间域序列。`signal_i`的构造函数的输入为`t`和`x`，分别是时间序列的时间域和值域序列。构造函数根据`t`来决定参数`LEAST`，`ZERO`，`FINAL`。\n",
    "\n",
    "```{code-block} python\n",
    "---\n",
    "name: signal_i\n",
    "linenos: True\n",
    "caption: |\n",
    "    `signal_i`的源代码\n",
    "---\n",
    "class signal_i(interval):\n",
    "    def __init__(self,t,x):\n",
    "        if not utils.is_sorted(t):\n",
    "            raise NameError('time stamp not in order')\n",
    "        nn=utils.nnegatives(t)\n",
    "        f = len(t)-nn-1\n",
    "        l = -nn\n",
    "        interval.__init__(self,x,l,f)\n",
    "        if isinstance(t,list):\n",
    "            self.T=np.array(t,dtype=float)\n",
    "        elif isinstance(t,np.ndarray):\n",
    "            self.T=t\n",
    "        else:\n",
    "            raise TypeError(\"known type\")\n",
    "        self.T.flags.writeable=False\n",
    "    \n",
    "    def plot(self,ax):\n",
    "        dd = self.ORIGIN\n",
    "        plot_ts(ax,self.T,dd)\n",
    "```"
   ]
  },
  {
   "cell_type": "code",
   "execution_count": 23,
   "id": "7057556d",
   "metadata": {},
   "outputs": [
    {
     "data": {
      "image/png": "[encoded data removed]",
      "text/plain": [
       "<Figure size 640x480 with 1 Axes>"
      ]
     },
     "metadata": {},
     "output_type": "display_data"
    }
   ],
   "source": [
    "N=64\n",
    "t=np.linspace(-1,1,N)\n",
    "x=[1.0 if v>=-0.5 and v<=0.5 else 0.0 for v in t]\n",
    "sig=signal_i(t,x)\n",
    "fig,ax=plt.subplots()\n",
    "sig.plot(ax)"
   ]
  },
  {
   "cell_type": "code",
   "execution_count": 24,
   "id": "ee461ce3",
   "metadata": {},
   "outputs": [
    {
     "name": "stdout",
     "output_type": "stream",
     "text": [
      "-32 32 31 64\n"
     ]
    }
   ],
   "source": [
    "print(sig.LEAST,sig.ZERO,sig.FINAL,len(sig))"
   ]
  },
  {
   "cell_type": "markdown",
   "id": "3a65b207",
   "metadata": {},
   "source": [
    "### signal_p\n",
    "`signal_i`的主要功能是截取的信号（输入参数）封装成一个不可变更的对象，并且允许负指针操作。其中负指针的操作是相对零点指针而言。\n",
    "\n",
    "python数组本身就有负指针的概念和定义。这种定义非常适合周期信号序列，但对排序需要作如下的调整：假设$n$为负时间域采样点个数，$m$为正采样点个数，输入信号$\\{x_i,i\\in[0,1,\\cdots,N-1]\\}$，其中$N$为信号的长度，并且$N=m-n+1$。赋予时间的意义，那么输入信号的顺序假设为：\n",
    "\n",
    "$$\n",
    "x[-n], x[-n+1],\\cdots,x[-1],x[0],x[1],\\cdots,x[m]\n",
    "$$\n",
    "\n",
    "在`signal_p`中，我们将这个序列变成：\n",
    "\n",
    "$$\n",
    "x[0],x[1],\\cdots,x[m],x[-n], x[-n+1],\\cdots,x[-1]\n",
    "$$\n",
    "\n",
    "也就将输入数组以$N$为周期左移$n$。\n",
    "\n",
    "其中的绘图函数`plot`则是按原来的顺序展示，即`plot`使用右移了$n$的内部数组进行绘图。\n",
    "\n",
    "```{code-block} python\n",
    "---\n",
    "name: signal_p\n",
    "linenos: True\n",
    "caption: |\n",
    "    `signal_p`的源代码\n",
    "---\n",
    "class signal_p(object):\n",
    "    \"\"\"\n",
    "    Periodic signal class\n",
    "\n",
    "    \"\"\"\n",
    "    def __init__(self,t,x):\n",
    "        if len(t)!=len(x):\n",
    "            raise ValueError(\"size of t and x are not the same\")\n",
    "        if not utils.is_sorted(t):\n",
    "            raise NameError('time stamp not in order')\n",
    "        nn=utils.nnegatives(t)\n",
    "        f = len(t)-nn-1\n",
    "        l = -nn\n",
    "        self.NN=nn\n",
    "        self.DATA=np.roll(x,l)\n",
    "        if isinstance(t,list):\n",
    "            self.T=np.array(t,dtype=float)\n",
    "        elif isinstance(t,np.ndarray):\n",
    "            self.T=t\n",
    "        else:\n",
    "            raise TypeError(\"known type\")\n",
    "        self.DATA.flags.writeable=False\n",
    "        self.T.flags.writeable=False\n",
    "    \n",
    "    def __len__(self):\n",
    "        return len(self.DATA)\n",
    "\n",
    "    def __getitem__(self,position):\n",
    "        return self.DATA[position]\n",
    "\n",
    "    def plot(self,ax):\n",
    "        plot_ts(ax,self.T,np.roll(self.DATA,self.NN))\n",
    "```"
   ]
  },
  {
   "cell_type": "code",
   "execution_count": 25,
   "id": "4a5221a3",
   "metadata": {},
   "outputs": [
    {
     "data": {
      "image/png": "[encoded data removed]",
      "text/plain": [
       "<Figure size 640x480 with 1 Axes>"
      ]
     },
     "metadata": {},
     "output_type": "display_data"
    }
   ],
   "source": [
    "N=64\n",
    "t=np.linspace(-1,1,N)\n",
    "x=[1.0 if v>=-0.5 and v<=0.5 else 0.0 for v in t]\n",
    "sig=signal_p(t,x)\n",
    "fig,ax=plt.subplots()\n",
    "sig.plot(ax)"
   ]
  },
  {
   "cell_type": "markdown",
   "id": "4001883c",
   "metadata": {},
   "source": [
    "## 函数式\n",
    "从算法的角度上看，上面关于信号序列的类，`signal_i`和`signal_p`，定义了数组指针的行为。这两个类更多的像一个信号载体，我们对这个载体赋予了一定的特征，不可变更性和指针行为。这些特征还不能满足算法的需求。能不能设计出特征比较丰富（对算法而言）的类（往往是多个类），成为一个课题。\n",
    "\n",
    "### 算法特征\n",
    "首先来看看我们的算法特征。所考虑的算法最大的特征就是局部分析，而且是应用成熟的外部程序库中众多的算法进行局部分析。另外一个特征就是按照某种逻辑反复多次的进行这种局部分析，上面看到的对时间域分层切割就是经典的（几乎是是唯一用到的）逻辑。\n",
    "\n",
    "我们要设计的类就是要针对这些特征进行。\n",
    "\n",
    "### 算法在信号空间上的单元操作\n",
    "根据算法的特征，在信号空间上所需的类特征如下：\n",
    "1. 局部性（localizatioin）\n",
    "2. 位移（translation）\n",
    "3. 伸缩或抽样（decimation）\n",
    "4. 函数式，能够让外部函数作用于内部数据。"
   ]
  },
  {
   "cell_type": "markdown",
   "id": "a781bed7",
   "metadata": {},
   "source": [
    "### 函数式的实现\n",
    "特征4通过函数式来实现，容器的内容主要是局部的信号，也就是外部函数作用到局部信号上。具体的实现是设计一个以`tuple`为容器的`functor`。`tuple`中的元素是局部信号，也就是要求元素为`Iterable`。这个类放在`utils`的程序包下，因为其适用性跳出了信号空间的范畴。\n",
    "\n",
    "```{code-block} python\n",
    "---\n",
    "name: functor.Tuple\n",
    "linenos: True\n",
    "caption: |\n",
    "    `functor.Tuple`的源代码\n",
    "---\n",
    "from typing import TypeVar, Callable, Generic\n",
    "from collections.abc import Iterable\n",
    "\n",
    "A=TypeVar(\"A\")\n",
    "B=TypeVar(\"B\")\n",
    "\n",
    "class TimeSeries(Generic[A]):\n",
    "    pass\n",
    "\n",
    "class Tuple(TimeSeries[tuple[A]]):\n",
    "    def __init__(self,sig:tuple[A]):\n",
    "        if sig!=None:\n",
    "            if not isinstance(sig,tuple):\n",
    "                raise TypeError(\"sig must be tuple\")\n",
    "            self.signal=sig\n",
    "\n",
    "    def fmap(self,func: Callable[[tuple],tuple])->TimeSeries[tuple[A]]:\n",
    "        try:\n",
    "            rs=[]\n",
    "            for i in self.signal:\n",
    "                tmp = func(i)\n",
    "                if tmp==None:\n",
    "                    continue\n",
    "                if isinstance(tmp,Iterable):\n",
    "                    rs.append(tmp)\n",
    "                else:\n",
    "                    rs.append((tmp,))\n",
    "            return Tuple(tuple(rs))\n",
    "        except Exception as e:\n",
    "            return ()\n",
    "\n",
    "    def __iter__(self):\n",
    "        return iter(self.signal)\n",
    "\n",
    "```"
   ]
  },
  {
   "attachments": {},
   "cell_type": "markdown",
   "id": "e166e943",
   "metadata": {},
   "source": [
    "### 局部性\n",
    "`blocks`是一个类，对信号进行等分分割并且进行分析。分析能力是通过赋予`functor`的功能来实现。切割函数`chunked`来自于`more_itertools`，跟导言所分析的`grouper`功能是一样的。\n",
    "\n",
    "```{code-block} python\n",
    "---\n",
    "name: blocks\n",
    "linenos: True\n",
    "caption: |\n",
    "    `blocks`的源代码\n",
    "---\n",
    "class blocks(functor.Tuple):\n",
    "    def __init__(self,sig:tuple,B: int):\n",
    "        if not isinstance(sig,Iterable) or not isinstance(B,int):\n",
    "            raise TypeError(\"sig must be tuple, B must be int\")\n",
    "        functor.Tuple.__init__(self,tuple(tuple(i) for i in chunked(sig,B)))\n",
    "```"
   ]
  },
  {
   "cell_type": "code",
   "execution_count": 26,
   "id": "1fda9b63",
   "metadata": {},
   "outputs": [],
   "source": [
    "N=64\n",
    "B=16\n",
    "foo=tuple(range(N))\n",
    "qif=blocks(foo,B)"
   ]
  },
  {
   "cell_type": "code",
   "execution_count": 27,
   "id": "991deb2c",
   "metadata": {},
   "outputs": [
    {
     "name": "stdout",
     "output_type": "stream",
     "text": [
      "(0, 1, 2, 3, 4, 5, 6, 7, 8, 9, 10, 11, 12, 13, 14, 15)\n",
      "(16, 17, 18, 19, 20, 21, 22, 23, 24, 25, 26, 27, 28, 29, 30, 31)\n",
      "(32, 33, 34, 35, 36, 37, 38, 39, 40, 41, 42, 43, 44, 45, 46, 47)\n",
      "(48, 49, 50, 51, 52, 53, 54, 55, 56, 57, 58, 59, 60, 61, 62, 63)\n"
     ]
    }
   ],
   "source": [
    "tmp=qif.fmap(print)"
   ]
  },
  {
   "cell_type": "markdown",
   "id": "6bdcb77d",
   "metadata": {},
   "source": [
    "`decimation`是对数组抽样，每隔一个数抽取一个，下面做了两次这样的抽样，每个数组的个数从$N$变成$N/4$。最后应用`print`将每一组数打印出来。这种组合式的做法简洁明了。"
   ]
  },
  {
   "cell_type": "code",
   "execution_count": 28,
   "id": "672fa9a5",
   "metadata": {},
   "outputs": [
    {
     "name": "stdout",
     "output_type": "stream",
     "text": [
      "(0, 4, 8, 12)\n",
      "(16, 20, 24, 28)\n",
      "(32, 36, 40, 44)\n",
      "(48, 52, 56, 60)\n"
     ]
    },
    {
     "data": {
      "text/plain": [
       "<functor.Tuple at 0x7fb90c01bd50>"
      ]
     },
     "execution_count": 28,
     "metadata": {},
     "output_type": "execute_result"
    }
   ],
   "source": [
    "qif.fmap(decimation).fmap(decimation).fmap(print)"
   ]
  },
  {
   "cell_type": "markdown",
   "id": "6f74371f",
   "metadata": {},
   "source": [
    "上面所用到的函数`decimation`和`print`叫做应用函数，也就是能够作为`fmap`输入参数的函数。严格来说，对应用函数的要求是能够将`blocks`容器的元素映射到`Iterable`数据类，这个`Iterable`的元素类可以跟原来的类不同。`functor.Tuple`对映像的`Iterable`的要求放宽了一点，也接受空映像和单个数据的情况。这就是为什么`print`可以是一个应用函数。函数`sum`将数组映射成一个数值，同样是`functor.Tuple`的应用函数。"
   ]
  },
  {
   "cell_type": "code",
   "execution_count": 29,
   "id": "86c31f2b",
   "metadata": {},
   "outputs": [
    {
     "name": "stdout",
     "output_type": "stream",
     "text": [
      "120\n",
      "376\n",
      "632\n",
      "888\n"
     ]
    },
    {
     "data": {
      "text/plain": [
       "<functor.Tuple at 0x7fb909f41650>"
      ]
     },
     "execution_count": 29,
     "metadata": {},
     "output_type": "execute_result"
    }
   ],
   "source": [
    "qif.fmap(sum).fmap(print)"
   ]
  },
  {
   "cell_type": "markdown",
   "id": "fc56e306",
   "metadata": {},
   "source": [
    "python的类系统不清晰，也比较松散，有不少隐规则。这是这个语言最大的缺点，当然也有人说是最大的优点。对设计`functo.Tuple`而言，这样的不清晰的类系统挑战很大。我们对应用函数的范围还需要不断摸索。\n",
    "\n",
    "无论是`decimation`还是`sum`，多次重复应用都会到达一个不变点。我们来看看`blocks`经过大量的重复应用后会怎么样："
   ]
  },
  {
   "cell_type": "code",
   "execution_count": 30,
   "id": "8b2600e0",
   "metadata": {},
   "outputs": [],
   "source": [
    "tmp=qif.fmap(decimation)\n",
    "for _ in range(100):\n",
    "    tmp=tmp.fmap(decimation)"
   ]
  },
  {
   "cell_type": "code",
   "execution_count": 31,
   "id": "d5b3922f",
   "metadata": {},
   "outputs": [
    {
     "name": "stdout",
     "output_type": "stream",
     "text": [
      "(0,)\n",
      "(16,)\n",
      "(32,)\n",
      "(48,)\n"
     ]
    },
    {
     "data": {
      "text/plain": [
       "<functor.Tuple at 0x7fb90c299290>"
      ]
     },
     "execution_count": 31,
     "metadata": {},
     "output_type": "execute_result"
    }
   ],
   "source": [
    "tmp.fmap(print)"
   ]
  },
  {
   "cell_type": "code",
   "execution_count": 32,
   "id": "e067e7d9",
   "metadata": {},
   "outputs": [
    {
     "data": {
      "text/plain": [
       "Empty...."
      ]
     },
     "execution_count": 32,
     "metadata": {},
     "output_type": "execute_result"
    }
   ],
   "source": [
    "tmp=qif.fmap(sum)\n",
    "for _ in range(100):\n",
    "    tmp=tmp.fmap(sum)\n",
    "tmp.fmap(print)"
   ]
  },
  {
   "cell_type": "code",
   "execution_count": 33,
   "id": "e992d6a3",
   "metadata": {},
   "outputs": [
    {
     "data": {
      "text/plain": [
       "Empty...."
      ]
     },
     "execution_count": 33,
     "metadata": {},
     "output_type": "execute_result"
    }
   ],
   "source": [
    "qif.fmap(int).fmap(str)"
   ]
  },
  {
   "attachments": {},
   "cell_type": "markdown",
   "id": "61f663b9",
   "metadata": {},
   "source": [
    "### 光滑切割\n",
    "`blocks`满足了block transform的要求。为了能够运用于lct，lst这样的局部分析，我们还需要加功能以满足折叠与扩充（padding）的需求。扩充是在两个端点将数组扩大的方法。新的需求体现在下面两点：\n",
    "1. 上面的分组，相邻的组没有交集，而折叠算子要求相邻的组有一定的交集。\n",
    "2. 新的算法由两类算法组成，这两种算法分别是block transform和磨光、延伸。block transform作用于核心区域（也就是原来不做延伸的区域），磨光与延伸作用于延伸区域和一部分核心区域。\n",
    "\n",
    "从程序设计的角度看，就是要在基础类上加功能。非常适合用traits和组合（mixin）的方法。"
   ]
  },
  {
   "attachments": {},
   "cell_type": "markdown",
   "id": "372f034d",
   "metadata": {},
   "source": [
    "#### traits与mixin\n",
    "扩充目前有三个方法：加零扩充，周期扩充和对称扩充。加零扩充就是用零去设置扩充的区域。严格来说，周期扩展是把数组看成是首尾相接的循环序列，周期为信号的长度，不需要扩充数组的长度。但是通常人们是利用这个概念设置扩充区域的值。对称扩充是以端点为对称点的扩充。完整的对称扩充如下：用符合$x$记信号的值，即$x[0],x[1],\\cdots,x[N-1]$为被扩充的数组。对于$0$点进行对称扩充后所得到的数组为$x[N-1],x[N-2],\\cdots,x[1],x[0],x[0],x[1],x[2],\\cdots,x[N-1]$，也就是得到了长度为$2N$的数组，把这个新的数组看成周期数组，也就是首尾相接的数组，这个数组在端点具备连续性，这就是对称扩充的好处。如果不是做完整的扩充，只是继续$M$个元素的扩充（$M<N$），那么我们只是对端点进行对称操作。\n",
    "\n",
    "这是三种不同的算法，我们分别用三个函数来实现，用`traits`的方式把这个三种算法封装起来，通过`mixin`，我们可以灵活地赋予一个类具备padding的功能。下面是这个设计思路的实验："
   ]
  },
  {
   "cell_type": "code",
   "execution_count": 34,
   "id": "f20a1c6c",
   "metadata": {},
   "outputs": [],
   "source": [
    "def padding_zero():\n",
    "    print(\"this is padding with zero\")\n",
    "def padding_period():\n",
    "    print(\"this is periodic padding\")\n",
    "def padding_symetric():\n",
    "    print(\"this is symetrical padding\")\n",
    "\n",
    "def has_padding(name, default=None, doc=None):\n",
    "    \"\"\"\n",
    "    Return an anonymous class that has a padding property\n",
    "    named `name`, with a default value of `default` and\n",
    "    a docstring of `doc`.\n",
    "    \"\"\"\n",
    "\n",
    "    propname = \"__padding_method_{}\".format(name)\n",
    "    padding_method = {\n",
    "        \"zero\": padding_zero,\n",
    "        \"period\": padding_period,\n",
    "        \"symetric\": padding_symetric\n",
    "    }\n",
    "\n",
    "    def getter(self):\n",
    "        return getattr(self, propname, default)\n",
    "\n",
    "    def setter(self, value):\n",
    "        if isinstance(value, str):\n",
    "            if value not in padding_method:\n",
    "                raise ValueError(\"unknown padding method '{}'\".format(value))\n",
    "            setattr(self, propname, staticmethod(padding_method[value]))\n",
    "\n",
    "        else:\n",
    "            raise TypeError(\"padding method specifications must be strs\")\n",
    "\n",
    "\n",
    "    class Inner:\n",
    "        pass\n",
    "\n",
    "    setattr(Inner, name, property(getter, setter, None, doc))\n",
    "    return Inner"
   ]
  },
  {
   "cell_type": "code",
   "execution_count": 35,
   "id": "633eed0f",
   "metadata": {},
   "outputs": [],
   "source": [
    "class Preprocessor:\n",
    "    pass\n",
    "\n",
    "class test(Preprocessor,\n",
    "           has_padding(\"left\"),\n",
    "           has_padding(\"right\")):\n",
    "           pass"
   ]
  },
  {
   "cell_type": "code",
   "execution_count": 36,
   "id": "95b59ca8",
   "metadata": {},
   "outputs": [],
   "source": [
    "c=test()"
   ]
  },
  {
   "cell_type": "code",
   "execution_count": 37,
   "id": "dc4b29ba",
   "metadata": {},
   "outputs": [],
   "source": [
    "c.left='zero'"
   ]
  },
  {
   "cell_type": "code",
   "execution_count": 38,
   "id": "3ceccf88",
   "metadata": {},
   "outputs": [
    {
     "data": {
      "text/plain": [
       "staticmethod"
      ]
     },
     "execution_count": 38,
     "metadata": {},
     "output_type": "execute_result"
    }
   ],
   "source": [
    "type(c.left)"
   ]
  },
  {
   "cell_type": "code",
   "execution_count": 39,
   "id": "f1be7d88",
   "metadata": {},
   "outputs": [
    {
     "name": "stdout",
     "output_type": "stream",
     "text": [
      "this is padding with zero\n"
     ]
    }
   ],
   "source": [
    "c.left()"
   ]
  },
  {
   "cell_type": "code",
   "execution_count": 40,
   "id": "7fd441ad",
   "metadata": {},
   "outputs": [],
   "source": [
    "c.right='symetric'"
   ]
  },
  {
   "cell_type": "code",
   "execution_count": 41,
   "id": "2ab16b0f",
   "metadata": {},
   "outputs": [
    {
     "name": "stdout",
     "output_type": "stream",
     "text": [
      "this is symetrical padding\n"
     ]
    }
   ],
   "source": [
    "c.right()"
   ]
  },
  {
   "cell_type": "code",
   "execution_count": 42,
   "id": "60f63b81",
   "metadata": {},
   "outputs": [],
   "source": [
    "c.left='period'"
   ]
  },
  {
   "cell_type": "code",
   "execution_count": 43,
   "id": "e1afa398",
   "metadata": {},
   "outputs": [
    {
     "name": "stdout",
     "output_type": "stream",
     "text": [
      "this is periodic padding\n"
     ]
    }
   ],
   "source": [
    "c.left()"
   ]
  },
  {
   "cell_type": "code",
   "execution_count": 44,
   "id": "25237f51",
   "metadata": {},
   "outputs": [
    {
     "data": {
      "text/plain": [
       "<staticmethod(<function padding_period at 0x7fb90c0c6ac0>)>"
      ]
     },
     "execution_count": 44,
     "metadata": {},
     "output_type": "execute_result"
    }
   ],
   "source": [
    "c.left"
   ]
  },
  {
   "attachments": {},
   "cell_type": "markdown",
   "id": "7f2dd6c3",
   "metadata": {},
   "source": [
    "基本达到我们的设计要求，但是扩充除了算法外，还有一个关于端点的参数。下面是算法函数的实现，我们基本上只考虑三类数组类型（而且假设是一维数组，这里对类的把握还不是太严密，以后会不断加强）。"
   ]
  },
  {
   "attachments": {},
   "cell_type": "markdown",
   "id": "d2782b3e",
   "metadata": {},
   "source": [
    "#### 扩充算法实现"
   ]
  },
  {
   "cell_type": "code",
   "execution_count": 45,
   "id": "61a1b0a7",
   "metadata": {},
   "outputs": [],
   "source": [
    "from functools import partial\n",
    "\n",
    "def padding_zero(n,size,iterable):\n",
    "    if isinstance(iterable, np.ndarray):\n",
    "        return np.zeros(size,dtype=float)\n",
    "    elif isinstance(iterable, list):\n",
    "        return [0 for _ in range(size)]\n",
    "    else:\n",
    "        return tuple(0.0 for _ in range(size))\n",
    "\n",
    "def padding_periodic(n,size,iterable):\n",
    "    if n==0:\n",
    "        return iterable[-size:]\n",
    "    elif n==-1:\n",
    "        return iterable[:size]\n",
    "    else:\n",
    "        raise ValueError(\"unhandled index\")\n",
    "\n",
    "def padding_symetric(n,size,iterable):\n",
    "    # not sure how to convert a reversed iterator for np.ndarray\n",
    "    # so use slice ::-1\n",
    "    if n==0:\n",
    "        tmp=(iterable[:size])[::-1]\n",
    "    elif n==-1:\n",
    "        tmp=(iterable[-size:])[::-1]\n",
    "    else:\n",
    "        raise ValueError(\"unhandled index\")\n",
    "    if isinstance(iterable,np.ndarray):\n",
    "        return np.array(tmp,dtype=float)\n",
    "    elif isinstance(iterable,list):\n",
    "        return list(tmp)\n",
    "    else:\n",
    "        return tuple(tmp)\n",
    "\n",
    "left_zero=partial(padding_zero,0)\n",
    "right_zero=partial(padding_zero,-1)\n",
    "\n",
    "left_periodic=partial(padding_periodic,0)\n",
    "right_periodic=partial(padding_periodic,-1)\n",
    "\n",
    "left_symetric=partial(padding_symetric,0)\n",
    "right_symetric=partial(padding_symetric,-1)"
   ]
  },
  {
   "cell_type": "code",
   "execution_count": 46,
   "id": "b665e6bc",
   "metadata": {},
   "outputs": [],
   "source": [
    "from collections import namedtuple\n",
    "\n",
    "Padding = namedtuple(\"Padding\",[\"method\",\"at\"])\n",
    "methods= 'zero periodic symetric'.split()\n",
    "endpoints = 'left right'.split() \n",
    "paddings=[Padding(method,at) for method in methods for at in endpoints]\n",
    "\n",
    "def print_padding_result(size,iterable):\n",
    "    for i in paddings:\n",
    "        print(f\"{i.at} {i.method}={eval(i.at+'_'+i.method)(size,iterable)}\")"
   ]
  },
  {
   "cell_type": "code",
   "execution_count": 47,
   "id": "3a0ca874",
   "metadata": {},
   "outputs": [
    {
     "name": "stdout",
     "output_type": "stream",
     "text": [
      "left zero=[0, 0, 0, 0, 0, 0, 0, 0]\n",
      "right zero=[0, 0, 0, 0, 0, 0, 0, 0]\n",
      "left periodic=[24, 25, 26, 27, 28, 29, 30, 31]\n",
      "right periodic=[0, 1, 2, 3, 4, 5, 6, 7]\n",
      "left symetric=[7, 6, 5, 4, 3, 2, 1, 0]\n",
      "right symetric=[31, 30, 29, 28, 27, 26, 25, 24]\n"
     ]
    }
   ],
   "source": [
    "foo=list(range(32))\n",
    "print_padding_result(8,foo)"
   ]
  },
  {
   "cell_type": "code",
   "execution_count": 48,
   "id": "149c035d",
   "metadata": {},
   "outputs": [
    {
     "name": "stdout",
     "output_type": "stream",
     "text": [
      "left zero=(0.0, 0.0, 0.0, 0.0, 0.0, 0.0, 0.0, 0.0)\n",
      "right zero=(0.0, 0.0, 0.0, 0.0, 0.0, 0.0, 0.0, 0.0)\n",
      "left periodic=(24, 25, 26, 27, 28, 29, 30, 31)\n",
      "right periodic=(0, 1, 2, 3, 4, 5, 6, 7)\n",
      "left symetric=(7, 6, 5, 4, 3, 2, 1, 0)\n",
      "right symetric=(31, 30, 29, 28, 27, 26, 25, 24)\n"
     ]
    }
   ],
   "source": [
    "foo=tuple(range(32))\n",
    "print_padding_result(8,foo)"
   ]
  },
  {
   "cell_type": "code",
   "execution_count": 49,
   "id": "b6e59078",
   "metadata": {},
   "outputs": [
    {
     "name": "stdout",
     "output_type": "stream",
     "text": [
      "left zero=[0. 0. 0. 0. 0. 0. 0. 0.]\n",
      "right zero=[0. 0. 0. 0. 0. 0. 0. 0.]\n",
      "left periodic=[24. 25. 26. 27. 28. 29. 30. 31.]\n",
      "right periodic=[0. 1. 2. 3. 4. 5. 6. 7.]\n",
      "left symetric=[7. 6. 5. 4. 3. 2. 1. 0.]\n",
      "right symetric=[31. 30. 29. 28. 27. 26. 25. 24.]\n"
     ]
    }
   ],
   "source": [
    "foo=np.array(foo,dtype=float)\n",
    "print_padding_result(8,foo)"
   ]
  },
  {
   "attachments": {},
   "cell_type": "markdown",
   "id": "10726282",
   "metadata": {},
   "source": [
    "有了扩充算法函数，我们对`traits`做相应的修改，主要是限制`name`只能是`left`或者`right`。"
   ]
  },
  {
   "attachments": {},
   "cell_type": "markdown",
   "id": "0cf6a855",
   "metadata": {},
   "source": [
    "#### padding trait"
   ]
  },
  {
   "cell_type": "code",
   "execution_count": 50,
   "id": "bc040306",
   "metadata": {},
   "outputs": [],
   "source": [
    "def use_padding_at(name, default=None, doc=None):\n",
    "    \"\"\"\n",
    "    Return an anonymous class that has a padding property\n",
    "    named `name`, with a default value of `default` and\n",
    "    a docstring of `doc`.\n",
    "    \"\"\"\n",
    "\n",
    "    if name!='left' and name!='right':\n",
    "        raise ValueError(\"name is either 'left' or 'right'\")\n",
    "    propname = \"__padding_method_{}\".format(name)\n",
    "\n",
    "    padding_methods = {\n",
    "        \"left zero\": left_zero,\n",
    "        \"left periodic\": left_periodic,\n",
    "        \"left symetric\": left_symetric,\n",
    "        \"right zero\": right_zero,\n",
    "        \"right periodic\": right_periodic,\n",
    "        \"right symetric\": right_symetric\n",
    "    }\n",
    "\n",
    "    def getter(self):\n",
    "        return getattr(self, propname, default)\n",
    "\n",
    "    def setter(self, value):\n",
    "        if isinstance(value, str):\n",
    "            value=name+' '+value\n",
    "            if value not in padding_methods:\n",
    "                raise ValueError(\"unknown padding method '{}'\".format(value))\n",
    "            setattr(self, propname, staticmethod(padding_methods[value]))\n",
    "        else:\n",
    "            raise TypeError(\"padding method specifications must be strs\")\n",
    "\n",
    "    class Inner:\n",
    "        pass\n",
    "\n",
    "    setattr(Inner, name, property(getter, setter, None, doc))\n",
    "    return Inner\n"
   ]
  },
  {
   "attachments": {},
   "cell_type": "markdown",
   "id": "44025ea8",
   "metadata": {},
   "source": [
    "#### 有交集的切割"
   ]
  },
  {
   "cell_type": "code",
   "execution_count": 51,
   "id": "a1e719b7",
   "metadata": {},
   "outputs": [],
   "source": [
    "class oblocks(blocks,use_padding_at(\"left\"),use_padding_at(\"right\")):\n",
    "    \"\"\"\n",
    "    overlapping blocks\n",
    "    \n",
    "    \"\"\"\n",
    "    def __init__(self,sig,B,ps,pm=['periodic','periodic']):\n",
    "        blocks.__init__(self,sig,B)\n",
    "        self.left,self.right=pm\n",
    "        self.leftsize,self.rightsize=ps\n",
    "        "
   ]
  },
  {
   "cell_type": "code",
   "execution_count": 52,
   "id": "46fd0d01",
   "metadata": {},
   "outputs": [],
   "source": [
    "foo=np.array(list(range(32)))\n",
    "c=oblocks(foo,16,[8,8])"
   ]
  },
  {
   "cell_type": "code",
   "execution_count": 53,
   "id": "a7ba5c3e",
   "metadata": {},
   "outputs": [
    {
     "name": "stdout",
     "output_type": "stream",
     "text": [
      "<staticmethod(functools.partial(<function padding_periodic at 0x7fb90c0c6fc0>, 0))>\n",
      "<staticmethod(functools.partial(<function padding_periodic at 0x7fb90c0c6fc0>, -1))>\n"
     ]
    }
   ],
   "source": [
    "print(c.left)\n",
    "print(c.right)"
   ]
  },
  {
   "cell_type": "code",
   "execution_count": 54,
   "id": "76d8ced3",
   "metadata": {},
   "outputs": [
    {
     "name": "stdout",
     "output_type": "stream",
     "text": [
      "(0, 2, 4, 6, 8, 10, 12, 14)\n",
      "(16, 18, 20, 22, 24, 26, 28, 30)\n"
     ]
    },
    {
     "data": {
      "text/plain": [
       "<functor.Tuple at 0x7fb90c0dd590>"
      ]
     },
     "execution_count": 54,
     "metadata": {},
     "output_type": "execute_result"
    }
   ],
   "source": [
    "c.fmap(decimation).fmap(print)"
   ]
  },
  {
   "attachments": {},
   "cell_type": "markdown",
   "id": "8baec309",
   "metadata": {},
   "source": [
    "#### `oblocks`的构造函数\n",
    "`blocks`将长度为$N$的输入信号切割成长度为$B$的$N/B$个子序列（我们将会对$N$和$B$进行限制：$N=2^L$，$B=2^l$, $l<L$）。`oblocks`在这个基础上，\n",
    "\n",
    "1. 对每个子序列两端进行扩充，扩充的范围由输入参数`ps`（padding size）决定；\n",
    "2. 子序列的扩充分三种情况：\n",
    "    - 第一个子序列：左端点按输入参数`pm`（padding method）中的第一个参数决定扩充方法，右端点外的扩充区域由相邻的第二个子序列的决定（交集部分）。\n",
    "    - 最后一个序列：右端点按输入参数`pm` 中的第二个参数决定扩充方法，左端点外的扩充区域由倒数第二个子序列决定（交集部分）。\n",
    "    - 其他子序列的扩充两端都由相邻的子序列决定。\n",
    "3. 保持`blocks`的子序列，并称之为核心子序列，创建两个新的子序列，分别为左扩充区域子序列和右扩充区域子序列。\n",
    "\n",
    "以上这些都是在`oblock`构造的时候实施。"
   ]
  },
  {
   "cell_type": "code",
   "execution_count": 55,
   "id": "5deaa352",
   "metadata": {},
   "outputs": [],
   "source": [
    "from collections import namedtuple\n",
    "from collections.abc import  Iterable\n",
    "import typing\n",
    "from contextlib import contextmanager\n",
    "from more_itertools import windowed\n",
    "\n",
    "PaddingParam = typing.NamedTuple(\"PaddingParam\",method=str,size=int)\n",
    "Edge = typing.NamedTuple(\"Edge\",left=PaddingParam,right=PaddingParam)\n",
    "\n",
    "def getedge(lm,ls,rm,rs):\n",
    "    return Edge(left=PaddingParam(method=lm,size=ls),right=PaddingParam(method=rm,size=rs))\n",
    "\n",
    "class EdgeIndexBuilder(object):\n",
    "    def __init__(self,N):\n",
    "        self.nob=N # number of blocks\n",
    "\n",
    "    @contextmanager\n",
    "    def whole_group(self):\n",
    "        try:\n",
    "            yield windowed(range(self.nob),3) # internal overlapping blocks indeces\n",
    "        finally:\n",
    "            return ()\n",
    "\n",
    "class oblocks(blocks,use_padding_at('left'),use_padding_at('right')):\n",
    "    \"\"\"\n",
    "    overlapping blocks\n",
    "    \n",
    "    \"\"\"\n",
    "    \n",
    "    def __init__(self,sig:Iterable,B:int,edge:Edge):\n",
    "        self.__input_validation(sig,B,edge)\n",
    "        blocks.__init__(self,sig,B)\n",
    "        self.edge = edge\n",
    "        self.__set_padding(edge)\n",
    "        self.__edge_extensions(sig)\n",
    "\n",
    "    def __set_padding(self,edge):\n",
    "        self.left=edge.left.method\n",
    "        self.right=edge.right.method\n",
    "\n",
    "    def __input_validation(self,sig,B,edge):\n",
    "        if not utils.ispower2(len(sig)):\n",
    "            raise ValueError(\"The length of sig must be power of 2\")\n",
    "        elif not utils.ispower2(B):\n",
    "            raise ValueError(\"B must be power of 2\")\n",
    "        elif B>len(sig):\n",
    "            raise ValueError(\"B can not be bigger than len(sig)\")\n",
    "        else:\n",
    "            pass\n",
    "\n",
    "    def __edge_extensions(self,sig):\n",
    "        \"\"\"\n",
    "        create left and right extension\n",
    "        \"\"\"\n",
    "        self.left_ext=(tuple(self.left(self.edge.left.size,sig)),) # the first left extension\n",
    "        lre=tuple(self.right(self.edge.right.size,sig)) # the last right extension\n",
    "        if len(self.signal)>1:\n",
    "            self.right_ext=(tuple((self.signal[1])[:self.edge.right.size]),) # the right extenstion for the first block\n",
    "        else:\n",
    "            self.right_ext=()\n",
    "        eb=EdgeIndexBuilder(len(self.signal))\n",
    "        with eb.whole_group() as iobis:\n",
    "            for i in iobis:\n",
    "                lb=self.signal[i[0]] # left block\n",
    "                cb=self.signal[i[1]] # center block (this primary block)\n",
    "                rb=self.signal[i[2]] # right block\n",
    "                thisLE=lb[-self.edge.left.size:]\n",
    "                thisRE=rb[:self.edge.right.size]\n",
    "                self.right_ext=self.right_ext+(tuple(thisRE),)\n",
    "                self.left_ext=self.left_ext+(tuple(thisLE),)\n",
    "            self.left_ext=self.left_ext+(tuple(self.signal[-2][-self.edge.left.size:]),) # the left extension for the last block\n",
    "            self.right_ext=self.right_ext+(lre,)\n"
   ]
  },
  {
   "cell_type": "code",
   "execution_count": 56,
   "id": "8ec772d0",
   "metadata": {},
   "outputs": [
    {
     "name": "stdout",
     "output_type": "stream",
     "text": [
      "(120, 121, 122, 123, 124, 125, 126, 127)\n",
      "(8, 9, 10, 11, 12, 13, 14, 15)\n",
      "(24, 25, 26, 27, 28, 29, 30, 31)\n",
      "(40, 41, 42, 43, 44, 45, 46, 47)\n",
      "(56, 57, 58, 59, 60, 61, 62, 63)\n",
      "(72, 73, 74, 75, 76, 77, 78, 79)\n",
      "(88, 89, 90, 91, 92, 93, 94, 95)\n",
      "(104, 105, 106, 107, 108, 109, 110, 111)\n"
     ]
    }
   ],
   "source": [
    "foo=list(range(128))\n",
    "c=oblocks(foo,16,getedge('periodic',8,'periodic',8))\n",
    "for i in c.left_ext:\n",
    "    print(i)"
   ]
  },
  {
   "cell_type": "code",
   "execution_count": 57,
   "id": "dbae954e",
   "metadata": {},
   "outputs": [
    {
     "name": "stdout",
     "output_type": "stream",
     "text": [
      "(16, 17, 18, 19, 20, 21, 22, 23)\n",
      "(32, 33, 34, 35, 36, 37, 38, 39)\n",
      "(48, 49, 50, 51, 52, 53, 54, 55)\n",
      "(64, 65, 66, 67, 68, 69, 70, 71)\n",
      "(80, 81, 82, 83, 84, 85, 86, 87)\n",
      "(96, 97, 98, 99, 100, 101, 102, 103)\n",
      "(112, 113, 114, 115, 116, 117, 118, 119)\n",
      "(0, 1, 2, 3, 4, 5, 6, 7)\n"
     ]
    }
   ],
   "source": [
    "for i in c.right_ext:\n",
    "    print(i)"
   ]
  },
  {
   "attachments": {},
   "cell_type": "markdown",
   "id": "f862612d",
   "metadata": {},
   "source": [
    "#### `oblocks`的`fmap`\n",
    "对`oblocks`而言，通过`fmap`作用到子序列上的函数有两类：第一类函数不需要扩充信息，这类函数作用于核心子序列上；第二类是需要扩充区域信息的函数，但是我们需要定义`oblock`与这类函数的接口：\n",
    "1. 函数的输入方式，三个参数，核心子序列的元素与扩充区域（左和右）子序列的元素。\n",
    "2. 这类函数必须定义一个能够被`oblocks`识别的`attribute`。"
   ]
  },
  {
   "attachments": {},
   "cell_type": "markdown",
   "id": "eff69a11",
   "metadata": {},
   "source": [
    "##### 函数`attribute`的用法"
   ]
  },
  {
   "cell_type": "code",
   "execution_count": 58,
   "id": "2e6b62e0",
   "metadata": {},
   "outputs": [
    {
     "data": {
      "text/plain": [
       "['__annotations__',\n",
       " '__builtins__',\n",
       " '__call__',\n",
       " '__class__',\n",
       " '__closure__',\n",
       " '__code__',\n",
       " '__defaults__',\n",
       " '__delattr__',\n",
       " '__dict__',\n",
       " '__dir__',\n",
       " '__doc__',\n",
       " '__eq__',\n",
       " '__format__',\n",
       " '__ge__',\n",
       " '__get__',\n",
       " '__getattribute__',\n",
       " '__getstate__',\n",
       " '__globals__',\n",
       " '__gt__',\n",
       " '__hash__',\n",
       " '__init__',\n",
       " '__init_subclass__',\n",
       " '__kwdefaults__',\n",
       " '__le__',\n",
       " '__lt__',\n",
       " '__module__',\n",
       " '__name__',\n",
       " '__ne__',\n",
       " '__new__',\n",
       " '__qualname__',\n",
       " '__reduce__',\n",
       " '__reduce_ex__',\n",
       " '__repr__',\n",
       " '__setattr__',\n",
       " '__sizeof__',\n",
       " '__str__',\n",
       " '__subclasshook__']"
      ]
     },
     "execution_count": 58,
     "metadata": {},
     "output_type": "execute_result"
    }
   ],
   "source": [
    "dir(decimation)"
   ]
  },
  {
   "cell_type": "code",
   "execution_count": 59,
   "id": "a066e900",
   "metadata": {},
   "outputs": [
    {
     "data": {
      "text/plain": [
       "True"
      ]
     },
     "execution_count": 59,
     "metadata": {},
     "output_type": "execute_result"
    }
   ],
   "source": [
    "decimation.oblock=True\n",
    "getattr(decimation,'oblock')"
   ]
  },
  {
   "cell_type": "code",
   "execution_count": 60,
   "id": "834dd76a",
   "metadata": {},
   "outputs": [
    {
     "data": {
      "text/plain": [
       "[1, 3]"
      ]
     },
     "execution_count": 60,
     "metadata": {},
     "output_type": "execute_result"
    }
   ],
   "source": [
    "decimation([1,2,3,4])"
   ]
  },
  {
   "cell_type": "code",
   "execution_count": 61,
   "id": "a01c85a5",
   "metadata": {},
   "outputs": [
    {
     "data": {
      "text/plain": [
       "['__annotations__',\n",
       " '__builtins__',\n",
       " '__call__',\n",
       " '__class__',\n",
       " '__closure__',\n",
       " '__code__',\n",
       " '__defaults__',\n",
       " '__delattr__',\n",
       " '__dict__',\n",
       " '__dir__',\n",
       " '__doc__',\n",
       " '__eq__',\n",
       " '__format__',\n",
       " '__ge__',\n",
       " '__get__',\n",
       " '__getattribute__',\n",
       " '__getstate__',\n",
       " '__globals__',\n",
       " '__gt__',\n",
       " '__hash__',\n",
       " '__init__',\n",
       " '__init_subclass__',\n",
       " '__kwdefaults__',\n",
       " '__le__',\n",
       " '__lt__',\n",
       " '__module__',\n",
       " '__name__',\n",
       " '__ne__',\n",
       " '__new__',\n",
       " '__qualname__',\n",
       " '__reduce__',\n",
       " '__reduce_ex__',\n",
       " '__repr__',\n",
       " '__setattr__',\n",
       " '__sizeof__',\n",
       " '__str__',\n",
       " '__subclasshook__',\n",
       " 'oblock']"
      ]
     },
     "execution_count": 61,
     "metadata": {},
     "output_type": "execute_result"
    }
   ],
   "source": [
    "dir(decimation)"
   ]
  },
  {
   "attachments": {},
   "cell_type": "markdown",
   "id": "77d97ddb",
   "metadata": {},
   "source": [
    "#### `oblocks`中`fmap`与外部函数交互的接口\n",
    "有了函数`attribute`的功能后，我们可以界定`oblocks`中`fmap`的接口：\n",
    "1. 输入函数没有名字为`oblocks`的`attribute`为第一类函数，`oblocks`的`fmap`将核心序列的元素作为函数的唯一输入参数传送给这类输入函数。\n",
    "2. 输入函数具有名字为`oblocks`的`attribute`, 而且设置为`True`，`fmap`将核心子序列元素，左扩充区域序列元素，右扩充区域序列元素作为输入参数。如果`oblocks`的`attribute`为`False`，那么按第一类函数处理。\n",
    "\n",
    "```{note}\n",
    "接口2的约定比较实用，但是不严密。另外一种思路就是用环境管理器和`decorator`去赋予外部函数的类别，但是因为外部函数的不可控性，这种方法不太实用。还有一种思路就是`oblocks`不兼容`blocks`的函数，但这样就 限制来联带操作(chain operation)只能应用第二类函数，这明显不可取。\n",
    "```\n",
    "\n",
    "```{note}\n",
    "用`type class`对输入函数归类，这个应该是最合理的方案，以后对这种方法会进行探讨。\n",
    "```"
   ]
  },
  {
   "cell_type": "code",
   "execution_count": 62,
   "id": "a9aebdf3",
   "metadata": {},
   "outputs": [],
   "source": [
    "from functor import EmptyTuple, Tuple\n",
    "\n",
    "class oblocks(blocks,use_padding_at('left'),use_padding_at('right')):\n",
    "    \"\"\"\n",
    "    overlapping blocks\n",
    "    \n",
    "    \"\"\"\n",
    "    \n",
    "    def __init__(self,sig:Iterable,B:int,edge:Edge):\n",
    "        self.__input_validation(sig,B,edge)\n",
    "        blocks.__init__(self,sig,B)\n",
    "        self.edge = edge\n",
    "        self.__set_padding(edge)\n",
    "        self.__edge_extensions(sig)\n",
    "\n",
    "    def __set_padding(self,edge):\n",
    "        self.left=edge.left.method\n",
    "        self.right=edge.right.method\n",
    "\n",
    "    def __input_validation(self,sig,B,edge):\n",
    "        if not utils.ispower2(len(sig)):\n",
    "            raise ValueError(\"The length of sig must be power of 2\")\n",
    "        elif not utils.ispower2(B):\n",
    "            raise ValueError(\"B must be power of 2\")\n",
    "        elif B>len(sig):\n",
    "            raise ValueError(\"B can not be bigger than len(sig)\")\n",
    "        else:\n",
    "            pass\n",
    "\n",
    "    def __edge_extensions(self,sig):\n",
    "        \"\"\"\n",
    "        create left and right extension\n",
    "        \"\"\"\n",
    "        self.left_ext=(tuple(self.left(self.edge.left.size,sig)),) # the first left extension\n",
    "        lre=tuple(self.right(self.edge.right.size,sig)) # the last right extension\n",
    "        if len(self.signal)>1:\n",
    "            self.right_ext=(tuple((self.signal[1])[:self.edge.right.size]),) # the right extenstion for the first block\n",
    "        else:\n",
    "            self.right_ext=()\n",
    "        iobis = windowed(range(len(self.signal)),3)\n",
    "        for i in iobis:\n",
    "            lb=self.signal[i[0]] # left block\n",
    "            cb=self.signal[i[1]] # center block (this primary block)\n",
    "            rb=self.signal[i[2]] # right block\n",
    "            thisLE=lb[-self.edge.left.size:]\n",
    "            thisRE=rb[:self.edge.right.size]\n",
    "            self.right_ext=self.right_ext+(tuple(thisRE),)\n",
    "            self.left_ext=self.left_ext+(tuple(thisLE),)\n",
    "        self.left_ext=self.left_ext+(tuple(self.signal[-2][-self.edge.left.size:]),) # the left extension for the last block\n",
    "        self.right_ext=self.right_ext+(lre,)\n",
    "\n",
    "    def __getitem__(self,p):\n",
    "        return (self.left_ext[p],tuple(self.signal[i]),self.right_ext[i])\n",
    "\n",
    "    def fmap(self,func):\n",
    "        try:\n",
    "            rs=[]\n",
    "            for i,l,r in zip(self.signal,self.left_ext,self.right_ext):\n",
    "                try:\n",
    "                    if getattr(func, 'oblocks'):\n",
    "                        tmp = func(i,l,r)\n",
    "                    else:\n",
    "                        tmp = func(i)\n",
    "                except AttributeError:\n",
    "                    pass\n",
    "                finally:\n",
    "                    tmp=func(i)\n",
    "                if tmp==None:\n",
    "                    continue\n",
    "                if isinstance(tmp,Iterable):\n",
    "                    rs.append(tmp)\n",
    "                else:\n",
    "                    rs.append((tmp,))\n",
    "            return oblocks(tuple(rs))\n",
    "        except Exception as e:\n",
    "            return EmptyTuple()\n"
   ]
  },
  {
   "cell_type": "code",
   "execution_count": 63,
   "id": "9bd9a1d8",
   "metadata": {},
   "outputs": [],
   "source": [
    "def left_ext(e):\n",
    "    lb,cb,rb=e\n",
    "    "
   ]
  },
  {
   "cell_type": "code",
   "execution_count": 64,
   "id": "7f08c948",
   "metadata": {},
   "outputs": [
    {
     "name": "stdout",
     "output_type": "stream",
     "text": [
      "((120, 121, 122, 123, 124, 125, 126, 127), (0, 1, 2, 3, 4, 5, 6, 7, 8, 9, 10, 11, 12, 13, 14, 15), (16, 17, 18, 19, 20, 21, 22, 23))\n",
      "((8, 9, 10, 11, 12, 13, 14, 15), (16, 17, 18, 19, 20, 21, 22, 23, 24, 25, 26, 27, 28, 29, 30, 31), (32, 33, 34, 35, 36, 37, 38, 39))\n",
      "((24, 25, 26, 27, 28, 29, 30, 31), (32, 33, 34, 35, 36, 37, 38, 39, 40, 41, 42, 43, 44, 45, 46, 47), (48, 49, 50, 51, 52, 53, 54, 55))\n",
      "((40, 41, 42, 43, 44, 45, 46, 47), (48, 49, 50, 51, 52, 53, 54, 55, 56, 57, 58, 59, 60, 61, 62, 63), (64, 65, 66, 67, 68, 69, 70, 71))\n",
      "((56, 57, 58, 59, 60, 61, 62, 63), (64, 65, 66, 67, 68, 69, 70, 71, 72, 73, 74, 75, 76, 77, 78, 79), (80, 81, 82, 83, 84, 85, 86, 87))\n",
      "((72, 73, 74, 75, 76, 77, 78, 79), (80, 81, 82, 83, 84, 85, 86, 87, 88, 89, 90, 91, 92, 93, 94, 95), (96, 97, 98, 99, 100, 101, 102, 103))\n",
      "((88, 89, 90, 91, 92, 93, 94, 95), (96, 97, 98, 99, 100, 101, 102, 103, 104, 105, 106, 107, 108, 109, 110, 111), (112, 113, 114, 115, 116, 117, 118, 119))\n",
      "((104, 105, 106, 107, 108, 109, 110, 111), (112, 113, 114, 115, 116, 117, 118, 119, 120, 121, 122, 123, 124, 125, 126, 127), (0, 1, 2, 3, 4, 5, 6, 7))\n"
     ]
    }
   ],
   "source": [
    "foo=list(range(128))\n",
    "c=oblocks(foo,16,getedge('periodic',8,'periodic',8))\n",
    "for i in range(len(c)):\n",
    "    print(c[i])"
   ]
  },
  {
   "cell_type": "code",
   "execution_count": 65,
   "id": "916865b8",
   "metadata": {},
   "outputs": [
    {
     "data": {
      "text/plain": [
       "Empty...."
      ]
     },
     "execution_count": 65,
     "metadata": {},
     "output_type": "execute_result"
    }
   ],
   "source": [
    "c.fmap(decimation).fmap(print)"
   ]
  },
  {
   "cell_type": "code",
   "execution_count": 66,
   "id": "6af059fa",
   "metadata": {},
   "outputs": [],
   "source": [
    "def odecimation(e):\n",
    "    sig,l,r=e\n",
    "    return (decimation(sig),decimation(l),decimation(r))"
   ]
  },
  {
   "cell_type": "code",
   "execution_count": 67,
   "id": "317abb9f",
   "metadata": {},
   "outputs": [
    {
     "data": {
      "text/plain": [
       "Empty...."
      ]
     },
     "execution_count": 67,
     "metadata": {},
     "output_type": "execute_result"
    }
   ],
   "source": [
    "c.fmap(odecimation)"
   ]
  },
  {
   "attachments": {},
   "cell_type": "markdown",
   "id": "df40f52d",
   "metadata": {},
   "source": [
    "到了这里我们做不下去了，因为结构上出问题了。\n",
    "\n",
    "`blocks`将容器`functor.Tuple`的元素变成`tuple[A]`，其中`A`为`float`，`int`这类型的数据。对于`oblocks`，我们企图加辅助性的`tuple[A]`数组。因为是辅助数组，我们不得不去重新定义`fmap`。这样的结构是错误的。正确的做法是将辅助数组放到`functor`的结构中，也就是`oblock`的元素应该是`(tuple[A],tuple[A],tuple[A])`，而且应该直接继承`functor.Tuple`。`functor.Tuple`提供`fmap`的功能，`oblocks`就像`blocks`一样，主要就是定义好元素的结构。`blocks`与`oblocks`通过定义`functor`元素的结构提供了本身与`fmap`函数的接口，只有能够接受这种接口的函数才能被应用在所定义的特定的`functor`空间上。"
   ]
  },
  {
   "cell_type": "code",
   "execution_count": 68,
   "id": "0e8512f1",
   "metadata": {},
   "outputs": [],
   "source": [
    "from more_itertools import windowed\n",
    "import functor\n",
    "class oblocks(functor.Tuple):\n",
    "    def __init__(self,sig,B):\n",
    "        if not isinstance(sig,Iterable) or not isinstance(B,int):\n",
    "            raise TypeError(\"sig must be tuple, B must be int\")\n",
    "        s = tuple(tuple(i) for i in chunked(sig,B))\n",
    "        iobis = windowed(range(int(len(sig)/B)),3)\n",
    "        e=((s[-1],s[0],s[1]),)\n",
    "        for i in iobis:\n",
    "            e = e+((s[i[0]],s[i[1]],s[i[2]]),)\n",
    "        e = e+((s[-2],s[-1],s[0]),)\n",
    "        functor.Tuple.__init__(self,e)"
   ]
  },
  {
   "cell_type": "code",
   "execution_count": 69,
   "id": "37795084",
   "metadata": {},
   "outputs": [
    {
     "name": "stdout",
     "output_type": "stream",
     "text": [
      "(56, 57, 58, 59, 60, 61, 62, 63) (0, 1, 2, 3, 4, 5, 6, 7) (8, 9, 10, 11, 12, 13, 14, 15)\n",
      "(0, 1, 2, 3, 4, 5, 6, 7) (8, 9, 10, 11, 12, 13, 14, 15) (16, 17, 18, 19, 20, 21, 22, 23)\n",
      "(8, 9, 10, 11, 12, 13, 14, 15) (16, 17, 18, 19, 20, 21, 22, 23) (24, 25, 26, 27, 28, 29, 30, 31)\n",
      "(16, 17, 18, 19, 20, 21, 22, 23) (24, 25, 26, 27, 28, 29, 30, 31) (32, 33, 34, 35, 36, 37, 38, 39)\n",
      "(24, 25, 26, 27, 28, 29, 30, 31) (32, 33, 34, 35, 36, 37, 38, 39) (40, 41, 42, 43, 44, 45, 46, 47)\n",
      "(32, 33, 34, 35, 36, 37, 38, 39) (40, 41, 42, 43, 44, 45, 46, 47) (48, 49, 50, 51, 52, 53, 54, 55)\n",
      "(40, 41, 42, 43, 44, 45, 46, 47) (48, 49, 50, 51, 52, 53, 54, 55) (56, 57, 58, 59, 60, 61, 62, 63)\n",
      "(48, 49, 50, 51, 52, 53, 54, 55) (56, 57, 58, 59, 60, 61, 62, 63) (0, 1, 2, 3, 4, 5, 6, 7)\n"
     ]
    }
   ],
   "source": [
    "foo=list(range(64))\n",
    "c=oblocks(foo,8)\n",
    "for i in range(len(c)):\n",
    "    print(c[i][0],c[i][1],c[i][2])"
   ]
  },
  {
   "cell_type": "code",
   "execution_count": 70,
   "id": "dbda69e1",
   "metadata": {},
   "outputs": [
    {
     "name": "stdout",
     "output_type": "stream",
     "text": [
      "((56, 57, 58, 59, 60, 61, 62, 63), (0, 1, 2, 3, 4, 5, 6, 7), (8, 9, 10, 11, 12, 13, 14, 15))\n",
      "((0, 1, 2, 3, 4, 5, 6, 7), (8, 9, 10, 11, 12, 13, 14, 15), (16, 17, 18, 19, 20, 21, 22, 23))\n",
      "((8, 9, 10, 11, 12, 13, 14, 15), (16, 17, 18, 19, 20, 21, 22, 23), (24, 25, 26, 27, 28, 29, 30, 31))\n",
      "((16, 17, 18, 19, 20, 21, 22, 23), (24, 25, 26, 27, 28, 29, 30, 31), (32, 33, 34, 35, 36, 37, 38, 39))\n",
      "((24, 25, 26, 27, 28, 29, 30, 31), (32, 33, 34, 35, 36, 37, 38, 39), (40, 41, 42, 43, 44, 45, 46, 47))\n",
      "((32, 33, 34, 35, 36, 37, 38, 39), (40, 41, 42, 43, 44, 45, 46, 47), (48, 49, 50, 51, 52, 53, 54, 55))\n",
      "((40, 41, 42, 43, 44, 45, 46, 47), (48, 49, 50, 51, 52, 53, 54, 55), (56, 57, 58, 59, 60, 61, 62, 63))\n",
      "((48, 49, 50, 51, 52, 53, 54, 55), (56, 57, 58, 59, 60, 61, 62, 63), (0, 1, 2, 3, 4, 5, 6, 7))\n"
     ]
    },
    {
     "data": {
      "text/plain": [
       "<functor.Tuple at 0x7fb909e1d350>"
      ]
     },
     "execution_count": 70,
     "metadata": {},
     "output_type": "execute_result"
    }
   ],
   "source": [
    "c.fmap(print)"
   ]
  },
  {
   "cell_type": "code",
   "execution_count": 71,
   "id": "9aa46be2",
   "metadata": {},
   "outputs": [
    {
     "name": "stdout",
     "output_type": "stream",
     "text": [
      "((56, 60), (0, 4), (8, 12))\n",
      "((0, 4), (8, 12), (16, 20))\n",
      "((8, 12), (16, 20), (24, 28))\n",
      "((16, 20), (24, 28), (32, 36))\n",
      "((24, 28), (32, 36), (40, 44))\n",
      "((32, 36), (40, 44), (48, 52))\n",
      "((40, 44), (48, 52), (56, 60))\n",
      "((48, 52), (56, 60), (0, 4))\n"
     ]
    },
    {
     "data": {
      "text/plain": [
       "<functor.Tuple at 0x7fb909de6710>"
      ]
     },
     "execution_count": 71,
     "metadata": {},
     "output_type": "execute_result"
    }
   ],
   "source": [
    "c.fmap(odecimation).fmap(odecimation).fmap(print)"
   ]
  },
  {
   "cell_type": "code",
   "execution_count": 72,
   "id": "f5859efc",
   "metadata": {},
   "outputs": [],
   "source": [
    "def take_signal(e):\n",
    "    l,sig,r=e\n",
    "    return sig"
   ]
  },
  {
   "attachments": {},
   "cell_type": "markdown",
   "id": "d90e775a",
   "metadata": {},
   "source": [
    "结构调整好了，把扩充区域的功能放回去。"
   ]
  },
  {
   "cell_type": "code",
   "execution_count": 73,
   "id": "5f6f625b",
   "metadata": {},
   "outputs": [],
   "source": [
    "from more_itertools import windowed\n",
    "import functor\n",
    "class oblocks(functor.Tuple,use_padding_at('left'),use_padding_at('right')):\n",
    "    def __init__(self,sig:Iterable,B:int,edge:Edge):\n",
    "        self.__input_validation(sig,B,edge)\n",
    "        self.edge = edge\n",
    "        self.__set_padding(edge)\n",
    "        s = tuple(tuple(i) for i in chunked(sig,B))\n",
    "        left_ext,right_ext=self.__edge_extensions(sig,s)\n",
    "        e = tuple((a,b,c) for a,b,c, in zip(left_ext,s,right_ext))\n",
    "        functor.Tuple.__init__(self,e)\n",
    "\n",
    "    def __set_padding(self,edge):\n",
    "        self.left=edge.left.method\n",
    "        self.right=edge.right.method\n",
    "\n",
    "    def __input_validation(self,sig,B,edge):\n",
    "        if not utils.ispower2(len(sig)):\n",
    "            raise ValueError(\"The length of sig must be power of 2\")\n",
    "        elif not utils.ispower2(B):\n",
    "            raise ValueError(\"B must be power of 2\")\n",
    "        elif B>len(sig):\n",
    "            raise ValueError(\"B can not be bigger than len(sig)\")\n",
    "        else:\n",
    "            pass\n",
    "\n",
    "    def __edge_extensions(self,sig,s):\n",
    "        \"\"\"\n",
    "        create left and right extension\n",
    "        \"\"\"\n",
    "        left_ext=(tuple(self.left(self.edge.left.size,sig)),) # the first left extension\n",
    "        lre=tuple(self.right(self.edge.right.size,sig)) # the last right extension\n",
    "        if len(s)>1:\n",
    "            right_ext=(tuple((s[1])[:self.edge.right.size]),) # the right extenstion for the first block\n",
    "        else:\n",
    "            right_ext=()\n",
    "        iobis = windowed(range(len(s)),3)\n",
    "        for i in iobis:\n",
    "            lb=s[i[0]] # left block\n",
    "            cb=s[i[1]] # center block (this primary block)\n",
    "            rb=s[i[2]] # right block\n",
    "            thisLE=lb[-self.edge.left.size:]\n",
    "            thisRE=rb[:self.edge.right.size]\n",
    "            right_ext=right_ext+(tuple(thisRE),)\n",
    "            left_ext=left_ext+(tuple(thisLE),)\n",
    "        left_ext=left_ext+(tuple(s[-2][-self.edge.left.size:]),) # the left extension for the last block\n",
    "        right_ext=right_ext+(lre,)\n",
    "        return (left_ext,right_ext)\n"
   ]
  },
  {
   "cell_type": "code",
   "execution_count": 74,
   "id": "be8fa09f",
   "metadata": {},
   "outputs": [
    {
     "name": "stdout",
     "output_type": "stream",
     "text": [
      "((60, 61, 62, 63), (0, 1, 2, 3, 4, 5, 6, 7), (8, 9, 10, 11))\n",
      "((4, 5, 6, 7), (8, 9, 10, 11, 12, 13, 14, 15), (16, 17, 18, 19))\n",
      "((12, 13, 14, 15), (16, 17, 18, 19, 20, 21, 22, 23), (24, 25, 26, 27))\n",
      "((20, 21, 22, 23), (24, 25, 26, 27, 28, 29, 30, 31), (32, 33, 34, 35))\n",
      "((28, 29, 30, 31), (32, 33, 34, 35, 36, 37, 38, 39), (40, 41, 42, 43))\n",
      "((36, 37, 38, 39), (40, 41, 42, 43, 44, 45, 46, 47), (48, 49, 50, 51))\n",
      "((44, 45, 46, 47), (48, 49, 50, 51, 52, 53, 54, 55), (56, 57, 58, 59))\n",
      "((52, 53, 54, 55), (56, 57, 58, 59, 60, 61, 62, 63), (0, 1, 2, 3))\n"
     ]
    },
    {
     "data": {
      "text/plain": [
       "<functor.Tuple at 0x7fb90c0e6090>"
      ]
     },
     "execution_count": 74,
     "metadata": {},
     "output_type": "execute_result"
    }
   ],
   "source": [
    "foo=list(range(64))\n",
    "c=oblocks(foo,8,getedge('periodic',4,'periodic',4))\n",
    "c.fmap(print)"
   ]
  },
  {
   "cell_type": "code",
   "execution_count": 75,
   "id": "c7865501",
   "metadata": {},
   "outputs": [
    {
     "name": "stdout",
     "output_type": "stream",
     "text": [
      "12\n",
      "44\n",
      "76\n",
      "108\n",
      "140\n",
      "172\n",
      "204\n",
      "236\n"
     ]
    },
    {
     "data": {
      "text/plain": [
       "<functor.Tuple at 0x7fb909de2f90>"
      ]
     },
     "execution_count": 75,
     "metadata": {},
     "output_type": "execute_result"
    }
   ],
   "source": [
    "c.fmap(odecimation).fmap(take_signal).fmap(sum).fmap(print)"
   ]
  },
  {
   "attachments": {},
   "cell_type": "markdown",
   "id": "15e611bd",
   "metadata": {},
   "source": [
    "## Level Manager\n",
    "从多层局部分割的角度看，`oblocks`对应于一层的分割。"
   ]
  }
 ],
 "metadata": {
  "kernelspec": {
   "display_name": "python3.11",
   "language": "python",
   "name": "python3"
  },
  "language_info": {
   "codemirror_mode": {
    "name": "ipython",
    "version": 3
   },
   "file_extension": ".py",
   "mimetype": "text/x-python",
   "name": "python",
   "nbconvert_exporter": "python",
   "pygments_lexer": "ipython3",
   "version": "3.11.1"
  },
  "toc": {
   "base_numbering": 1,
   "nav_menu": {},
   "number_sections": true,
   "sideBar": true,
   "skip_h1_title": false,
   "title_cell": "Table of Contents",
   "title_sidebar": "Contents",
   "toc_cell": false,
   "toc_position": {},
   "toc_section_display": true,
   "toc_window_display": false
  },
  "vscode": {
   "interpreter": {
    "hash": "2087eca3fad66ca9d4d1d86e427c4b9c0d9b1d79bcc58c64103e4aea588944e2"
   }
  }
 },
 "nbformat": 4,
 "nbformat_minor": 5
}
