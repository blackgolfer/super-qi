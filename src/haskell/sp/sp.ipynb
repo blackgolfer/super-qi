{
 "cells": [
  {
   "attachments": {},
   "cell_type": "markdown",
   "metadata": {},
   "source": [
    "# Signal Spaces\n",
    " \n",
    "```{epigraph}\n",
    "Programming starts with types and functions. You probably have some preconceptions\n",
    "about what types and functions are: get rid of them! They will cloud your mind. \n",
    " \n",
    "--Bartosz Milewski\n",
    "```"
   ]
  },
  {
   "attachments": {},
   "cell_type": "markdown",
   "metadata": {},
   "source": [
    "## The model\n",
    "\n",
    "Signal processing starts with a time series, we apply algorithms on the time series to analyze it. To systemetically organize such processing procedure, we need to model the process.\n",
    "\n",
    "The signal spaces we are considering is finite discrete spaces whereas the time domain is the  set of natural numbers. The intepretation of this finite set of time axis is not within our model. In this setting, the signal spaces we is simply $\\mathbb C^N$, where $N$ is a natural number corresponding to the length of the signal.\n",
    "\n",
    "We have two classes of time series analysis algorithms, the global analysis and localized analysis. The algebraic data structure (ADS) for the signal is just a list of numbers, we name it *0-sig* with symbol $\\mathfrak{F}_0$. \n",
    "\n",
    "For localized analysis we have two cases, the block transforms and smooth block transforms.\n",
    "\n",
    "A block transform basically cut the original signal into serveral sub-signals with the same length and uses the global algorithm performing on each sub-signal. This leads to the notion of *1-sig* which is list of list of numbers or list of 0-sig, the symbol $\\mathfrak{F}_1$ is used for this category.\n",
    "\n",
    "A smooth version of block transform requires extensions on two ends of each sub-signal, we use *3-sig* to denote its ADS, which is a list of triple 0-sig, corresponding to the left extension, the sub-signal itself and the the right extension repectively. Symbolically, this category is identified as $\\mathfrak{F}_3$.\n",
    "\n",
    "For global analysis, we view it as a special case of 1-sig, which contains only one block. This block's ADS is 0-sig representing the original signal.\n",
    "\n",
    "To summerize, the following is our model:\n",
    "1. Time domain is digitalize into natural number.\n",
    "2. $\\mathbb C^N$ is the Signal spaces.\n",
    "3. Three algebraic data structures 0-sig, 1-sig and 3-sig corresponding to original signal, block transforms (global transforms) and smooth block transform repectively. We view these ADS's as container or category, containing blocks of signal with particular structure. A given analysis (or algoritm) is performed on each block.\n",
    "4. We further require $N=2^L, L,N\\in\\mathbb N$, preprocessing and time domain intepretation are outside the model.\n",
    "\n",
    "### The mathematical representation\n",
    "In mathematical terms, we have defined three underlying signal categories: $\\mathfrak{F}_0=\\mathbb{C}^N$, $\\mathfrak{F}_1=\\{\\mathbb{C}^M\\}_{k=1}^K$ and $\\mathfrak{F_3}=\\{(C^{M_e},C^M,C^{M_e})\\}_{k=1}^K$. Verbally, we name these three categories 0-sig, 1-sig and 3-sig respectively. Each block (for 3-sig, a block is a triple 0-sig) is an object in the corresponding category. There are two distinguashed classes of mappings: mappings in the category level and mappings in the object level. Mappings in the category level are called *morphisms*. There are three classes of morphisms we are interested in:\n",
    "1. $f:\\mathfrak{F}_i\\longrightarrow\\mathfrak{F}_i,\\ \\textrm{for}\\ i=0,1,3$, this class consists of morphisms that are map from $\\mathfrak{F}_i$ to itself. This kind of morphisms is *endomorphism*.\n",
    "2. $f:\\mathfrak{F}_i\\longrightarrow\\mathfrak{F}_j,\\ \\textrm{for}\\ i,j=0,1,3,i\\neq j$, these are the morphisms that go from one of the three signal categories to another one within the three.\n",
    "3. $f:\\mathfrak{F}_i\\longrightarrow\\mathfrak{F},\\ \\textrm{for}\\ i=0,1,3$, morphisms from within this three categries go outside of the three.\n",
    "\n",
    "Mappings in object level are called *local  analysis* or *atomic algorithms* (or just simply *algorithms*) in our case, in general they are called *arrows*. These are the functions acting on a particular object in a category and mapping to another object (might be in another category). they are not acting on the categories. In our case, an object is a blocked of original input signal. To be more specific, *algorithms* are the functions on $\\mathbb{C}^M$, or symbolically, $\\lambda:\\mathbb{C}^M\\longrightarrow\\mathbb{C}^M$ for a given algorithm $\\lambda$.\n",
    "\n",
    "```{note}\n",
    "One might argue that the three categories we defined is in fact one category with three objects, $\\cdot$, $[\\cdot]$ and $[[[\\cdot],[\\cdot],[\\cdot]]]$. This is a zoomed out version of our model, it is a different model. We want more detail structures so that we can operate on the `Sig_0` level, which is viewed as the objects in `Sig_1`. But this point of view is fruitful as it points out all three categories share the same outer structure, namely the $[]$.\n",
    "```\n",
    "\n",
    "### Implementation\n",
    "#### Data type\n",
    "In program, here in haskell, we use different data type representing the above concepts. The three categories are corresponding to: $[\\cdot]$, $[[\\cdot]]$, $[([\\cdot],[\\cdot],[\\cdot])]$, where\n",
    "1. $\\cdot$ : primitive type, e.g number and string.\n",
    "2. $[]$: container, e.g. list.\n",
    "\n",
    "Therefore, for the three categories, we have two classes of types: primitive types and the container.\n",
    "\n",
    "#### Algorithms and morphisms\n",
    "The development of a given algorithm for analyzing signals are composed of two phases: the atomic level implementation and the morphism level implementation. An atomic algorithm is acting on an object and give rise to another object may or may not  be the same type. The morphism level implementation orchestrate the atomic alogrithm for the entire category. The implementations of atomic algorithms varies from algorithm to algorithm, while there are only few patterns in the morphism level. One pattern used the most often, for example, is the process of visiting each object in the category and apply the atomic algorithm on it, the resulting set of objects are in the same container structure. These morphism level patterns are called behaviors.\n",
    "\n",
    "Containers are structures holding objects, we attach to them with behaviors, and turn them into contexts. Each context has one or few morphism level patterns. Implementation of the morphism level turns to construct procedure that utilize context to achieve the need for a given algorithm. So the needs may varies from algorithm to algorithm, but the patters are common to serve as the basic tools to implment each particular need.\n",
    "\n",
    "Let's first look at a very simple example in `0-Sig`, take the atomic algorithm $\\lambda$ to be the `abs` function that take a number and return its absolute value. morphism $f$ maps `0-Sig` to `0-Sig` by applying `abs` to each object in `0-Sig` and assemble the result in `0-Sig` structure as the return. Denoting this morphism as `fmap`, in haskell, `fmap` is defined by:\n",
    "```haskell\n",
    "fmap::(a->a)->([a]->[b])\n",
    "```\n",
    "here `(a->a)` is a function in object level, while `([a]->[b])` is the map in the category level. In a way, through `fmap`, we promoted `abs` that is in the object level into a morphism in the category level. The implementation of `([a]->[b])` is quite simple, go through each object in `[]`, applying `abs` in each object, collecting all the result, assembe them in `[]` as the return of the morphism.\n",
    "\n",
    " The technique that promotes a given atomic algorithm $\\alpha$ to morphism $f$, is call lifting. A good frame work for lifting allows us focusing more on developing functions on objects of the categories, which is usually simplyfying the development process. In addition, this also makes it possible to leverage the usage of the existing algorithms has been developed.\n",
    "\n",
    "Systematically constructing these patterns (contexts) seems like a daunting task. Fortunately, the lifting schemes are quite mature, our efforts mostly are not developing them, rather to learn how to use them effectively."
   ]
  },
  {
   "attachments": {},
   "cell_type": "markdown",
   "metadata": {},
   "source": [
    "## Signal categories and localization\n",
    "As described earler, we categorize our signal spaces into three categories: 0-sig, 1-sig, 3-sig, corresponding to types `[a]`, `[[a]]` and `[[TripleBlocks a]]`, where `a` is a type of `SigType`. We use type synonym `Sig_0`, `Sig_1` and `Sig_3` repectively. They all have  build-in functor, Applicative, Monad mong other many behaviors as we use list as container. `SigType` can be set initially to some numerical type through type synonym."
   ]
  },
  {
   "cell_type": "code",
   "execution_count": 1,
   "metadata": {},
   "outputs": [],
   "source": [
    "import Data.Bits\n",
    "\n",
    "ispower2::Int->Bool\n",
    "ispower2 n\n",
    "    | n<=0 = False\n",
    "    | otherwise = (n .&. (n-1))==0"
   ]
  },
  {
   "attachments": {},
   "cell_type": "markdown",
   "metadata": {},
   "source": [
    "### 0-sig"
   ]
  },
  {
   "cell_type": "code",
   "execution_count": 2,
   "metadata": {},
   "outputs": [],
   "source": [
    ":set -XConstraintKinds\n",
    "type SigType a = (Num a, Fractional a, Show a, Ord a)"
   ]
  },
  {
   "attachments": {},
   "cell_type": "markdown",
   "metadata": {},
   "source": [
    "What we want is to restrict `Sig_0` to `SigType`,\n",
    "```haskell\n",
    "type Sig_0 a = SigType a => [a]\n",
    "```\n",
    "This works for ghc > 9.0.2, but not working for ghc 8.10.7 and ghc 9.0.2 we have tested."
   ]
  },
  {
   "cell_type": "code",
   "execution_count": 3,
   "metadata": {},
   "outputs": [],
   "source": [
    ":set -XExplicitForAll\n",
    "type Sig_0 = []"
   ]
  },
  {
   "cell_type": "code",
   "execution_count": 4,
   "metadata": {},
   "outputs": [
    {
     "data": {
      "text/html": [
       "<style>/* Styles used for the Hoogle display in the pager */\n",
       ".hoogle-doc {\n",
       "display: block;\n",
       "padding-bottom: 1.3em;\n",
       "padding-left: 0.4em;\n",
       "}\n",
       ".hoogle-code {\n",
       "display: block;\n",
       "font-family: monospace;\n",
       "white-space: pre;\n",
       "}\n",
       ".hoogle-text {\n",
       "display: block;\n",
       "}\n",
       ".hoogle-name {\n",
       "color: green;\n",
       "font-weight: bold;\n",
       "}\n",
       ".hoogle-head {\n",
       "font-weight: bold;\n",
       "}\n",
       ".hoogle-sub {\n",
       "display: block;\n",
       "margin-left: 0.4em;\n",
       "}\n",
       ".hoogle-package {\n",
       "font-weight: bold;\n",
       "font-style: italic;\n",
       "}\n",
       ".hoogle-module {\n",
       "font-weight: bold;\n",
       "}\n",
       ".hoogle-class {\n",
       "font-weight: bold;\n",
       "}\n",
       ".get-type {\n",
       "color: green;\n",
       "font-weight: bold;\n",
       "font-family: monospace;\n",
       "display: block;\n",
       "white-space: pre-wrap;\n",
       "}\n",
       ".show-type {\n",
       "color: green;\n",
       "font-weight: bold;\n",
       "font-family: monospace;\n",
       "margin-left: 1em;\n",
       "}\n",
       ".mono {\n",
       "font-family: monospace;\n",
       "display: block;\n",
       "}\n",
       ".err-msg {\n",
       "color: red;\n",
       "font-style: italic;\n",
       "font-family: monospace;\n",
       "white-space: pre;\n",
       "display: block;\n",
       "}\n",
       "#unshowable {\n",
       "color: red;\n",
       "font-weight: bold;\n",
       "}\n",
       ".err-msg.in.collapse {\n",
       "padding-top: 0.7em;\n",
       "}\n",
       ".highlight-code {\n",
       "white-space: pre;\n",
       "font-family: monospace;\n",
       "}\n",
       ".suggestion-warning { \n",
       "font-weight: bold;\n",
       "color: rgb(200, 130, 0);\n",
       "}\n",
       ".suggestion-error { \n",
       "font-weight: bold;\n",
       "color: red;\n",
       "}\n",
       ".suggestion-name {\n",
       "font-weight: bold;\n",
       "}\n",
       "</style><span class='get-type'>Sig_0 :: * -> *</span>"
      ],
      "text/plain": [
       "Sig_0 :: * -> *"
      ]
     },
     "metadata": {},
     "output_type": "display_data"
    }
   ],
   "source": [
    ":k Sig_0"
   ]
  },
  {
   "attachments": {},
   "cell_type": "markdown",
   "metadata": {},
   "source": [
    "### 1-sig\n",
    "We use type synonym here. The other method is to use `newtype`. The advantage of using `newtype` is making the code more regulated as one needs to use the type name to construct the `Sig_1` type object  (the same goes to the other types). The price we pay for such regulation is the need to derive almost all useful type classes like `Functor`, `Show`, etc. Worst of all, there are quite a few `prefix` and `infix` operators, such as `take`, `(++)`, we need to reimplement. Although it is not a lot of work to redo all of these, for the moment, we stay with synonym.\n",
    "\n",
    "`Sig_0`, `Sig_1` and `Sig_3` enforce the underline data type to be `SigType`, but this enforcement is not restricted, it works only if we code within the space of `Sig_0`, `Sig_1` and `Sig_3`. In many cases one can code with `[]`, as the `Sig` system is just the synonym of `[]`. This is the big drawback for using synonym."
   ]
  },
  {
   "cell_type": "code",
   "execution_count": 5,
   "metadata": {},
   "outputs": [],
   "source": [
    "type Sig_1 a = [Sig_0 a]"
   ]
  },
  {
   "attachments": {},
   "cell_type": "markdown",
   "metadata": {},
   "source": [
    "`blocks` is a morphism (category level function) that maps 0-sig to 1-sig with a given size of each element of 1-sig, so the definition is `blocks::n->Sig_0 a->Sig_1 a`. We require the size of each element must be power of 2. The same requirement goes to 0-sig."
   ]
  },
  {
   "cell_type": "code",
   "execution_count": 6,
   "metadata": {},
   "outputs": [],
   "source": [
    "blocks::forall a.SigType a=>Int->Sig_0 a->Sig_1 a\n",
    "blocks n x\n",
    "    | not $ ispower2 n = []\n",
    "    | n<=0 = [x]\n",
    "blocks _ [] = []\n",
    "blocks n xs = take n xs:blocks n (drop n xs)"
   ]
  },
  {
   "cell_type": "code",
   "execution_count": 7,
   "metadata": {},
   "outputs": [
    {
     "data": {
      "text/plain": [
       "[[0.0,1.0],[2.0,3.0],[4.0,5.0],[6.0,7.0]]"
      ]
     },
     "metadata": {},
     "output_type": "display_data"
    }
   ],
   "source": [
    "blocks 2 [0..7]"
   ]
  },
  {
   "cell_type": "code",
   "execution_count": 8,
   "metadata": {},
   "outputs": [
    {
     "data": {
      "text/plain": [
       "[1.0,5.0,9.0,13.0,17.0]"
      ]
     },
     "metadata": {},
     "output_type": "display_data"
    }
   ],
   "source": [
    "fmap sum $ take 5 $ blocks 2 [0..]"
   ]
  },
  {
   "attachments": {},
   "cell_type": "markdown",
   "metadata": {},
   "source": [
    "### 3-sig"
   ]
  },
  {
   "cell_type": "code",
   "execution_count": 9,
   "metadata": {},
   "outputs": [],
   "source": [
    "data TripleBlocks a = TripleBlocks{left::Sig_0 a,center::Sig_0 a,right::Sig_0 a}\n",
    "type Sig_3 a = [TripleBlocks a]"
   ]
  },
  {
   "cell_type": "code",
   "execution_count": 10,
   "metadata": {},
   "outputs": [],
   "source": [
    "instance forall a.SigType a => Show (TripleBlocks a) where\n",
    "    show TripleBlocks{left=a,center=b,right=c} = \"[\" ++ show a ++ \",\" ++ show b ++ \",\" ++ show c ++ \"]\"++\"\\n\""
   ]
  },
  {
   "cell_type": "code",
   "execution_count": 11,
   "metadata": {},
   "outputs": [
    {
     "data": {
      "text/html": [
       "<style>/* Styles used for the Hoogle display in the pager */\n",
       ".hoogle-doc {\n",
       "display: block;\n",
       "padding-bottom: 1.3em;\n",
       "padding-left: 0.4em;\n",
       "}\n",
       ".hoogle-code {\n",
       "display: block;\n",
       "font-family: monospace;\n",
       "white-space: pre;\n",
       "}\n",
       ".hoogle-text {\n",
       "display: block;\n",
       "}\n",
       ".hoogle-name {\n",
       "color: green;\n",
       "font-weight: bold;\n",
       "}\n",
       ".hoogle-head {\n",
       "font-weight: bold;\n",
       "}\n",
       ".hoogle-sub {\n",
       "display: block;\n",
       "margin-left: 0.4em;\n",
       "}\n",
       ".hoogle-package {\n",
       "font-weight: bold;\n",
       "font-style: italic;\n",
       "}\n",
       ".hoogle-module {\n",
       "font-weight: bold;\n",
       "}\n",
       ".hoogle-class {\n",
       "font-weight: bold;\n",
       "}\n",
       ".get-type {\n",
       "color: green;\n",
       "font-weight: bold;\n",
       "font-family: monospace;\n",
       "display: block;\n",
       "white-space: pre-wrap;\n",
       "}\n",
       ".show-type {\n",
       "color: green;\n",
       "font-weight: bold;\n",
       "font-family: monospace;\n",
       "margin-left: 1em;\n",
       "}\n",
       ".mono {\n",
       "font-family: monospace;\n",
       "display: block;\n",
       "}\n",
       ".err-msg {\n",
       "color: red;\n",
       "font-style: italic;\n",
       "font-family: monospace;\n",
       "white-space: pre;\n",
       "display: block;\n",
       "}\n",
       "#unshowable {\n",
       "color: red;\n",
       "font-weight: bold;\n",
       "}\n",
       ".err-msg.in.collapse {\n",
       "padding-top: 0.7em;\n",
       "}\n",
       ".highlight-code {\n",
       "white-space: pre;\n",
       "font-family: monospace;\n",
       "}\n",
       ".suggestion-warning { \n",
       "font-weight: bold;\n",
       "color: rgb(200, 130, 0);\n",
       "}\n",
       ".suggestion-error { \n",
       "font-weight: bold;\n",
       "color: red;\n",
       "}\n",
       ".suggestion-name {\n",
       "font-weight: bold;\n",
       "}\n",
       "</style><span class='get-type'>left :: forall {a}. TripleBlocks a -> Sig_0 a</span>"
      ],
      "text/plain": [
       "left :: forall {a}. TripleBlocks a -> Sig_0 a"
      ]
     },
     "metadata": {},
     "output_type": "display_data"
    }
   ],
   "source": [
    ":t left"
   ]
  },
  {
   "cell_type": "code",
   "execution_count": 12,
   "metadata": {},
   "outputs": [
    {
     "data": {
      "text/plain": [
       "[[1.0,2.0],[3.0,4.0],[5.0,6.0]]"
      ]
     },
     "metadata": {},
     "output_type": "display_data"
    }
   ],
   "source": [
    "foo=TripleBlocks{left=[1,2],center=[3,4],right=[5,6]}\n",
    "print foo"
   ]
  },
  {
   "cell_type": "code",
   "execution_count": 13,
   "metadata": {},
   "outputs": [
    {
     "data": {
      "text/plain": [
       "[1,2]"
      ]
     },
     "metadata": {},
     "output_type": "display_data"
    },
    {
     "data": {
      "text/plain": [
       "[3,4]"
      ]
     },
     "metadata": {},
     "output_type": "display_data"
    },
    {
     "data": {
      "text/plain": [
       "[5,6]"
      ]
     },
     "metadata": {},
     "output_type": "display_data"
    }
   ],
   "source": [
    "print $ left foo\n",
    "print $ center foo\n",
    "print $ right foo"
   ]
  },
  {
   "cell_type": "code",
   "execution_count": 14,
   "metadata": {},
   "outputs": [
    {
     "data": {
      "text/html": [
       "<style>/* Styles used for the Hoogle display in the pager */\n",
       ".hoogle-doc {\n",
       "display: block;\n",
       "padding-bottom: 1.3em;\n",
       "padding-left: 0.4em;\n",
       "}\n",
       ".hoogle-code {\n",
       "display: block;\n",
       "font-family: monospace;\n",
       "white-space: pre;\n",
       "}\n",
       ".hoogle-text {\n",
       "display: block;\n",
       "}\n",
       ".hoogle-name {\n",
       "color: green;\n",
       "font-weight: bold;\n",
       "}\n",
       ".hoogle-head {\n",
       "font-weight: bold;\n",
       "}\n",
       ".hoogle-sub {\n",
       "display: block;\n",
       "margin-left: 0.4em;\n",
       "}\n",
       ".hoogle-package {\n",
       "font-weight: bold;\n",
       "font-style: italic;\n",
       "}\n",
       ".hoogle-module {\n",
       "font-weight: bold;\n",
       "}\n",
       ".hoogle-class {\n",
       "font-weight: bold;\n",
       "}\n",
       ".get-type {\n",
       "color: green;\n",
       "font-weight: bold;\n",
       "font-family: monospace;\n",
       "display: block;\n",
       "white-space: pre-wrap;\n",
       "}\n",
       ".show-type {\n",
       "color: green;\n",
       "font-weight: bold;\n",
       "font-family: monospace;\n",
       "margin-left: 1em;\n",
       "}\n",
       ".mono {\n",
       "font-family: monospace;\n",
       "display: block;\n",
       "}\n",
       ".err-msg {\n",
       "color: red;\n",
       "font-style: italic;\n",
       "font-family: monospace;\n",
       "white-space: pre;\n",
       "display: block;\n",
       "}\n",
       "#unshowable {\n",
       "color: red;\n",
       "font-weight: bold;\n",
       "}\n",
       ".err-msg.in.collapse {\n",
       "padding-top: 0.7em;\n",
       "}\n",
       ".highlight-code {\n",
       "white-space: pre;\n",
       "font-family: monospace;\n",
       "}\n",
       ".suggestion-warning { \n",
       "font-weight: bold;\n",
       "color: rgb(200, 130, 0);\n",
       "}\n",
       ".suggestion-error { \n",
       "font-weight: bold;\n",
       "color: red;\n",
       "}\n",
       ".suggestion-name {\n",
       "font-weight: bold;\n",
       "}\n",
       "</style><span class='get-type'>left :: forall {a}. TripleBlocks a -> Sig_0 a</span>"
      ],
      "text/plain": [
       "left :: forall {a}. TripleBlocks a -> Sig_0 a"
      ]
     },
     "metadata": {},
     "output_type": "display_data"
    }
   ],
   "source": [
    ":t left"
   ]
  },
  {
   "cell_type": "code",
   "execution_count": 15,
   "metadata": {},
   "outputs": [],
   "source": [
    "foo = TripleBlocks{left=[1.0,2.0]}"
   ]
  },
  {
   "cell_type": "code",
   "execution_count": 16,
   "metadata": {},
   "outputs": [
    {
     "data": {
      "text/plain": [
       "[1.0,2.0]"
      ]
     },
     "metadata": {},
     "output_type": "display_data"
    }
   ],
   "source": [
    "print $ left foo"
   ]
  },
  {
   "attachments": {},
   "cell_type": "markdown",
   "metadata": {},
   "source": [
    "### Padding"
   ]
  },
  {
   "cell_type": "code",
   "execution_count": 17,
   "metadata": {},
   "outputs": [],
   "source": [
    "data Extensions a = Extensions{extleft::Sig_0 a, extright::Sig_0 a}\n",
    "\n",
    "instance SigType a=>Show (Extensions a) where\n",
    "    show Extensions{extleft=l,extright=r} = \"[\"++ show l ++ \",\" ++ show r ++ \"]\" ++ \"\\n\""
   ]
  },
  {
   "cell_type": "code",
   "execution_count": 18,
   "metadata": {},
   "outputs": [],
   "source": [
    "type GetExtensions a = Int->Sig_0 a->Extensions a"
   ]
  },
  {
   "cell_type": "code",
   "execution_count": 19,
   "metadata": {},
   "outputs": [],
   "source": [
    "zeroPadding'::SigType a=>Int->Sig_0 a->TripleBlocks a\n",
    "zeroPadding' n a = TripleBlocks{left=replicate n 0, center=a, right=replicate n 0}"
   ]
  },
  {
   "cell_type": "code",
   "execution_count": 20,
   "metadata": {},
   "outputs": [],
   "source": [
    "zeroPadding::SigType a=>GetExtensions a\n",
    "zeroPadding n a = Extensions{extleft=replicate n 0, extright=replicate n 0}"
   ]
  },
  {
   "cell_type": "code",
   "execution_count": 21,
   "metadata": {},
   "outputs": [],
   "source": [
    "symetricPadding::SigType a=>GetExtensions a\n",
    "symetricPadding n a = Extensions{extleft=lr,extright=rr} where\n",
    "    lr = reverse $ take n a\n",
    "    rr = take n $ reverse a"
   ]
  },
  {
   "cell_type": "code",
   "execution_count": 22,
   "metadata": {},
   "outputs": [],
   "source": [
    "periodicPadding::SigType a=>GetExtensions a\n",
    "periodicPadding n a = Extensions{extleft=lr,extright=rr} where\n",
    "    lr = reverse $ take n  $ reverse a\n",
    "    rr = take n a"
   ]
  },
  {
   "attachments": {},
   "cell_type": "markdown",
   "metadata": {},
   "source": [
    "#### Implementation using pattern matching"
   ]
  },
  {
   "cell_type": "code",
   "execution_count": 23,
   "metadata": {},
   "outputs": [],
   "source": [
    "data PaddingMethod=ZERO|PERIODIC|SYMETRIC deriving(Eq)"
   ]
  },
  {
   "cell_type": "code",
   "execution_count": 24,
   "metadata": {},
   "outputs": [],
   "source": [
    "pad'::SigType a=>PaddingMethod->Int->Sig_0 a->Extensions a\n",
    "pad' ZERO = zeroPadding\n",
    "pad' PERIODIC = periodicPadding\n",
    "pad' SYMETRIC = symetricPadding"
   ]
  },
  {
   "cell_type": "code",
   "execution_count": 25,
   "metadata": {},
   "outputs": [
    {
     "data": {
      "text/plain": [
       "[[[0.0,0.0,0.0,0.0],[0.0,0.0,0.0,0.0]]\n",
       ",[[5.0,6.0,7.0,8.0],[1.0,2.0,3.0,4.0]]\n",
       ",[[4.0,3.0,2.0,1.0],[8.0,7.0,6.0,5.0]]\n",
       "]"
      ]
     },
     "metadata": {},
     "output_type": "display_data"
    }
   ],
   "source": [
    "a=[1..8]\n",
    "fmap (\\x -> pad' x 4 a) [ZERO,PERIODIC,SYMETRIC]"
   ]
  },
  {
   "attachments": {},
   "cell_type": "markdown",
   "metadata": {},
   "source": [
    "### Interface implementation"
   ]
  },
  {
   "cell_type": "code",
   "execution_count": 26,
   "metadata": {},
   "outputs": [],
   "source": [
    "class Padding f where\n",
    "    pad::(SigType a)=>f->(Int->Sig_0 a-> Extensions a)"
   ]
  },
  {
   "cell_type": "code",
   "execution_count": 27,
   "metadata": {},
   "outputs": [],
   "source": [
    "instance Padding PaddingMethod where\n",
    "    pad ZERO = zeroPadding\n",
    "    pad PERIODIC = periodicPadding\n",
    "    pad SYMETRIC = symetricPadding"
   ]
  },
  {
   "cell_type": "code",
   "execution_count": 28,
   "metadata": {},
   "outputs": [
    {
     "data": {
      "text/plain": [
       "[[[0.0,0.0,0.0,0.0],[0.0,0.0,0.0,0.0]]\n",
       ",[[5.0,6.0,7.0,8.0],[1.0,2.0,3.0,4.0]]\n",
       ",[[4.0,3.0,2.0,1.0],[8.0,7.0,6.0,5.0]]\n",
       "]"
      ]
     },
     "metadata": {},
     "output_type": "display_data"
    }
   ],
   "source": [
    "a=[1..8]\n",
    "fmap (\\x -> pad x 4 a) [ZERO,PERIODIC,SYMETRIC]"
   ]
  },
  {
   "attachments": {},
   "cell_type": "markdown",
   "metadata": {},
   "source": [
    "#### `oblocks` --- A `1-Sig` to `3-Sig` morphism\n",
    "```haskell\n",
    "oblocks a::Int->Sig_1 a->Sig_3 a\n",
    "```"
   ]
  },
  {
   "cell_type": "code",
   "execution_count": 29,
   "metadata": {},
   "outputs": [],
   "source": [
    "oblocksInner::Int->Sig_1 a->Sig_3 a\n",
    "oblocksInner n (x:xs)\n",
    "    | n > length x = error \"illegal length\"\n",
    "    | length (take 3 (x : xs))  < 3 = [] -- `take 3` intended to make it work for infinite sequence\n",
    "    | otherwise = TripleBlocks{left=drop (length x-n) $ head w,center=w!!1,right=take n $ last w}:oblocksInner n xs\n",
    "    where\n",
    "        w=take 3 (x:xs)"
   ]
  },
  {
   "cell_type": "code",
   "execution_count": 30,
   "metadata": {},
   "outputs": [],
   "source": [
    "oblocks::SigType a=>PaddingMethod->Int->Sig_1 a->Sig_3 a\n",
    "oblocks pm n xs\n",
    "    | pm == PERIODIC = oblocksInner n (last xs : xs ++ [head xs])\n",
    "    | pm == ZERO = oblocksInner n (replicate n 0:xs ++ [replicate n 0])\n",
    "    | pm == SYMETRIC = oblocksInner n (reverse (head xs):xs++[reverse $ last xs])\n",
    "    | otherwise = error \"unkown method\""
   ]
  },
  {
   "cell_type": "code",
   "execution_count": 31,
   "metadata": {},
   "outputs": [
    {
     "data": {
      "text/plain": [
       "[[[[7.0,8.0],[1.0,2.0,3.0,4.0],[5.0,6.0]]\n",
       ",[[3.0,4.0],[5.0,6.0,7.0,8.0],[1.0,2.0]]\n",
       "],[[[0.0,0.0],[1.0,2.0,3.0,4.0],[5.0,6.0]]\n",
       ",[[3.0,4.0],[5.0,6.0,7.0,8.0],[0.0,0.0]]\n",
       "],[[[2.0,1.0],[1.0,2.0,3.0,4.0],[5.0,6.0]]\n",
       ",[[3.0,4.0],[5.0,6.0,7.0,8.0],[8.0,7.0]]\n",
       "]]"
      ]
     },
     "metadata": {},
     "output_type": "display_data"
    }
   ],
   "source": [
    "a=[1..8]\n",
    "b=blocks 4 a\n",
    "fmap (\\x -> oblocks x 2 b) [PERIODIC,ZERO,SYMETRIC]"
   ]
  },
  {
   "cell_type": "code",
   "execution_count": 129,
   "metadata": {},
   "outputs": [
    {
     "data": {
      "text/plain": [
       "[[1,1],[1,2]]"
      ]
     },
     "metadata": {},
     "output_type": "display_data"
    }
   ],
   "source": [
    "generation a b= [[a,b]]\n",
    "[1,2]>>=generation 1"
   ]
  },
  {
   "cell_type": "code",
   "execution_count": 135,
   "metadata": {},
   "outputs": [],
   "source": []
  },
  {
   "cell_type": "code",
   "execution_count": null,
   "metadata": {},
   "outputs": [],
   "source": [
    "fmap2::(Functor f)=>(a->b->c)->f a->f b->f c\n",
    "fmap2 "
   ]
  },
  {
   "attachments": {},
   "cell_type": "markdown",
   "metadata": {},
   "source": [
    "### Sig\n",
    "The type class `Sig` federalizes the behavior of `fmap` by providing a new function `transform`, but it is too restrictive. What we intend to do here to restrict `transform` so that function `([a]->[b])` is permitted but function `([a]->b)` (e.g. `sum`) is not allowed, in other words we want to preserve the `Sig_1` structure. We don't know how to do this just yet, but it is the placeholder for future development on this issue."
   ]
  },
  {
   "cell_type": "code",
   "execution_count": 32,
   "metadata": {},
   "outputs": [],
   "source": [
    "class Sig s where\n",
    "    transform::(a->a)->s a->s a"
   ]
  },
  {
   "cell_type": "code",
   "execution_count": 33,
   "metadata": {},
   "outputs": [],
   "source": [
    "instance Sig [] where\n",
    "    transform=fmap"
   ]
  },
  {
   "cell_type": "code",
   "execution_count": 34,
   "metadata": {},
   "outputs": [],
   "source": [
    "a = [[1,2],[3,4]]\n",
    "b = [[5,6],[7,8]]"
   ]
  },
  {
   "cell_type": "code",
   "execution_count": 35,
   "metadata": {},
   "outputs": [
    {
     "data": {
      "text/plain": [
       "[[1,2],[3,4],[5,6],[7,8]]"
      ]
     },
     "metadata": {},
     "output_type": "display_data"
    }
   ],
   "source": [
    "a++b"
   ]
  },
  {
   "cell_type": "code",
   "execution_count": 36,
   "metadata": {},
   "outputs": [
    {
     "data": {
      "text/plain": [
       "[[1,2],[3,4],[5,6],[7,8]]"
      ]
     },
     "metadata": {},
     "output_type": "display_data"
    }
   ],
   "source": [
    "transform (take 2) $ a++b"
   ]
  },
  {
   "cell_type": "code",
   "execution_count": 37,
   "metadata": {},
   "outputs": [
    {
     "data": {
      "text/plain": [
       "[3,7,11,15]"
      ]
     },
     "metadata": {},
     "output_type": "display_data"
    }
   ],
   "source": [
    "fmap sum $ a++b"
   ]
  },
  {
   "attachments": {},
   "cell_type": "markdown",
   "metadata": {},
   "source": [
    "## Decimation"
   ]
  },
  {
   "cell_type": "code",
   "execution_count": 38,
   "metadata": {},
   "outputs": [],
   "source": [
    "decimation::Int->[a]->[a]\n",
    "decimation n x\n",
    "    | n<2 = x\n",
    "decimation _ [] = []\n",
    "decimation n (x:xs) = x:decimation n (drop (n-1) xs)"
   ]
  },
  {
   "cell_type": "code",
   "execution_count": 39,
   "metadata": {},
   "outputs": [
    {
     "data": {
      "text/plain": [
       "[1,3]"
      ]
     },
     "metadata": {},
     "output_type": "display_data"
    }
   ],
   "source": [
    "decimation 2 [1,2,3]"
   ]
  },
  {
   "cell_type": "code",
   "execution_count": 40,
   "metadata": {},
   "outputs": [
    {
     "data": {
      "text/plain": [
       "[0,2,4,6,8]"
      ]
     },
     "metadata": {},
     "output_type": "display_data"
    }
   ],
   "source": [
    "take 5 $ decimation 2 [0..]"
   ]
  },
  {
   "cell_type": "code",
   "execution_count": 41,
   "metadata": {},
   "outputs": [
    {
     "data": {
      "text/plain": [
       "[1,2,3,4,5]"
      ]
     },
     "metadata": {},
     "output_type": "display_data"
    }
   ],
   "source": [
    "decimation 1 [1..5]"
   ]
  },
  {
   "attachments": {},
   "cell_type": "markdown",
   "metadata": {},
   "source": [
    "## Translation"
   ]
  },
  {
   "attachments": {},
   "cell_type": "markdown",
   "metadata": {},
   "source": [
    "## Utils\n",
    "### Linespace"
   ]
  },
  {
   "attachments": {},
   "cell_type": "markdown",
   "metadata": {},
   "source": [
    "```{note}\n",
    "Integral literals written using scientific notation will be desugared using fromInteger, whereas any literals which aren’t integral will be desugared using fromRational as usual.\n",
    "```"
   ]
  },
  {
   "cell_type": "code",
   "execution_count": 42,
   "metadata": {},
   "outputs": [],
   "source": [
    "linespace' :: SigType a=>a->a->Int->[a]\n",
    "linespace' _ _ n\n",
    "    | n<=1 = []\n",
    "linespace' a1 a2 _\n",
    "    | a2<=a1 = []\n",
    "linespace' a1 a2 n = map (\\ i -> a1+dt*fromIntegral i) [0..(n-1)]\n",
    "    where\n",
    "        dt=(a2-a1)/fromIntegral(n-1)\n",
    "--linespace a1 a2 n = [let dt=(a2-a1)/(n-1) in a1+i*dt | i<-[0..(n-1)]]"
   ]
  },
  {
   "attachments": {},
   "cell_type": "markdown",
   "metadata": {},
   "source": [
    "```{warning}\n",
    "The fromIntegral function is actually unsafe and should be used\n",
    "with care. The problem is that this function doesn’t check for underflows and\n",
    "overflows in data. This could potentially lead to corrupting data when doing\n",
    "incompatible type conversion.\n",
    "```"
   ]
  },
  {
   "cell_type": "code",
   "execution_count": 43,
   "metadata": {},
   "outputs": [],
   "source": [
    "linespace :: (SigType a, Integral n)=>a->a->n->Sig_0 a\n",
    "linespace a1 a2 _\n",
    "    | a2<=a1 = []\n",
    "linespace a b n\n",
    "    | n<=0 = []\n",
    "    | n==1 = [a, b]\n",
    "linespace a b n = [let dt=(b-a)/fromIntegral(n-1) in a+dt*fromIntegral i | i<-[0..(n-1)]]"
   ]
  },
  {
   "cell_type": "code",
   "execution_count": 44,
   "metadata": {},
   "outputs": [
    {
     "data": {
      "text/plain": [
       "[1.0,0.7142857142857143,0.4285714285714286,0.1428571428571429,0.1428571428571428,0.4285714285714284,0.7142857142857142,1.0]"
      ]
     },
     "metadata": {},
     "output_type": "display_data"
    }
   ],
   "source": [
    "abs <$> linespace (-1) 1 8"
   ]
  },
  {
   "cell_type": "code",
   "execution_count": 45,
   "metadata": {},
   "outputs": [
    {
     "data": {
      "text/plain": [
       "[-1.7142857142857144,-0.5714285714285715,0.5714285714285712,1.7142857142857142]"
      ]
     },
     "metadata": {},
     "output_type": "display_data"
    }
   ],
   "source": [
    "fmap sum $ blocks 2 $ linespace (-1) 1 8"
   ]
  },
  {
   "cell_type": "code",
   "execution_count": 46,
   "metadata": {},
   "outputs": [
    {
     "data": {
      "text/plain": [
       "[]"
      ]
     },
     "metadata": {},
     "output_type": "display_data"
    }
   ],
   "source": [
    "linespace 1.0 (-1) 1"
   ]
  },
  {
   "cell_type": "code",
   "execution_count": 47,
   "metadata": {},
   "outputs": [],
   "source": [
    "len::[a]->Int\n",
    "len [] = 0\n",
    "len xs = foldr (\\ x -> (+) 1) 0 xs"
   ]
  },
  {
   "cell_type": "code",
   "execution_count": 48,
   "metadata": {},
   "outputs": [
    {
     "data": {
      "text/plain": [
       "8"
      ]
     },
     "metadata": {},
     "output_type": "display_data"
    }
   ],
   "source": [
    "len [0..7]"
   ]
  },
  {
   "cell_type": "code",
   "execution_count": 49,
   "metadata": {},
   "outputs": [],
   "source": [
    "foo=len [0..]"
   ]
  },
  {
   "attachments": {},
   "cell_type": "markdown",
   "metadata": {},
   "source": [
    "#### Sliding windows --- windowed::Int->[a]->[[a]]"
   ]
  },
  {
   "cell_type": "code",
   "execution_count": 50,
   "metadata": {},
   "outputs": [],
   "source": [
    "-- windowed on list, returning windows with n elements  each\n",
    "windowed :: Int->[a]->[[a]]\n",
    "windowed n x\n",
    "    | n<=1 = [x]\n",
    "windowed _ [] = []\n",
    "windowed n (x:xs)\n",
    "    | length(take n (x:xs))<n = [] -- `take n` makes sure it works on infinite list\n",
    "    | otherwise = w:windowed n xs\n",
    "    where w=take n (x:xs)\n",
    "-- without guarantee each window has n element, then the following works:\n",
    "-- windowed n x = Data.List.transpose $ take n $ tails x\n",
    "-- or\n",
    "-- windowed n x = map (tak n) $ tails x\n",
    "\n"
   ]
  },
  {
   "cell_type": "code",
   "execution_count": 51,
   "metadata": {},
   "outputs": [
    {
     "data": {
      "text/plain": [
       "[[0,1,2],[1,2,3],[2,3,4],[3,4,5],[4,5,6]]"
      ]
     },
     "metadata": {},
     "output_type": "display_data"
    }
   ],
   "source": [
    "take 5 $ windowed 3 [0..]"
   ]
  },
  {
   "cell_type": "code",
   "execution_count": 52,
   "metadata": {},
   "outputs": [
    {
     "data": {
      "text/plain": [
       "[[0,1,2],[1,2,3],[2,3,4],[3,4,5],[4,5,6],[5,6,7]]"
      ]
     },
     "metadata": {},
     "output_type": "display_data"
    }
   ],
   "source": [
    "windowed 3 [0..7]"
   ]
  },
  {
   "attachments": {},
   "cell_type": "markdown",
   "metadata": {},
   "source": [
    "### Binary Tree"
   ]
  },
  {
   "cell_type": "code",
   "execution_count": 53,
   "metadata": {},
   "outputs": [],
   "source": [
    "data Tree a = EmptyTree | Node a (Tree a) (Tree a) deriving (Show, Read, Eq) "
   ]
  },
  {
   "attachments": {},
   "cell_type": "markdown",
   "metadata": {},
   "source": [
    "## Visualization"
   ]
  },
  {
   "cell_type": "code",
   "execution_count": 54,
   "metadata": {},
   "outputs": [
    {
     "ename": "",
     "evalue": "",
     "output_type": "error",
     "traceback": [
      "<interactive>:1:1: error:\n    Could not find module ‘Graphics.Matplotlib’\n    Use -v (or `:set -v` in ghci) to see a list of the files searched for."
     ]
    }
   ],
   "source": [
    ":set -XExtendedDefaultRules\n",
    "import Graphics.Matplotlib"
   ]
  },
  {
   "cell_type": "code",
   "execution_count": 1,
   "metadata": {},
   "outputs": [
    {
     "ename": "",
     "evalue": "",
     "output_type": "error",
     "traceback": [
      "<interactive>:1:1: error:\n    Could not find module ‘Graphics.Rendering.Chart’\n    Use -v (or `:set -v` in ghci) to see a list of the files searched for."
     ]
    }
   ],
   "source": [
    "import Graphics.Rendering.Chart"
   ]
  },
  {
   "cell_type": "code",
   "execution_count": 2,
   "metadata": {},
   "outputs": [
    {
     "ename": "",
     "evalue": "",
     "output_type": "error",
     "traceback": [
      "<interactive>:1:1: error:\n    Could not find module ‘Graphics.Rendering.Chart.Backend.Diagrams’\n    Use -v (or `:set -v` in ghci) to see a list of the files searched for."
     ]
    }
   ],
   "source": [
    "import Graphics.Rendering.Chart.Backend.Diagrams"
   ]
  },
  {
   "cell_type": "code",
   "execution_count": 3,
   "metadata": {},
   "outputs": [
    {
     "ename": "",
     "evalue": "",
     "output_type": "error",
     "traceback": [
      "<interactive>:1:1: error:\n    Could not find module ‘Diagrams.TwoD.Apollonian’\n    Use -v (or `:set -v` in ghci) to see a list of the files searched for."
     ]
    }
   ],
   "source": [
    "import Diagrams.TwoD.Apollonian"
   ]
  }
 ],
 "metadata": {
  "kernelspec": {
   "display_name": "Haskell",
   "language": "haskell",
   "name": "haskell"
  },
  "language_info": {
   "codemirror_mode": "ihaskell",
   "file_extension": ".hs",
   "mimetype": "text/x-haskell",
   "name": "haskell",
   "pygments_lexer": "Haskell",
   "version": "9.0.2"
  },
  "orig_nbformat": 4,
  "vscode": {
   "interpreter": {
    "hash": "e7370f93d1d0cde622a1f8e1c04877d8463912d04d973331ad4851f04de6915a"
   }
  }
 },
 "nbformat": 4,
 "nbformat_minor": 2
}
