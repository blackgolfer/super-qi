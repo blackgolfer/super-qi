{
 "cells": [
  {
   "attachments": {},
   "cell_type": "markdown",
   "metadata": {},
   "source": [
    "## Basics\n",
    "\n",
    "### Type and function\n",
    "Paraphrasing Lao Tzu: *The type that can be described is not the eternal type.* In other\n",
    "words, type is a primitive notion. It cannot be defined.\n",
    "\n",
    "Instead of calling it a *type*, we could as well call it an object or a proposition. These\n",
    "are the words that are used to describe it in different areas of mathematics (type theory,\n",
    "category theory, and logic, respectively).\n",
    "\n",
    "A type by itself has no meaning. What makes it special is how it connects to other\n",
    "types. The connections are described by arrows. \n",
    "\n",
    "An arrow between types is called a *function*. An arrow between objects is called\n",
    "a *morphism*. An arrow between propositions is called an *entailment*. These are just\n",
    "words that are used to describe arrows in different areas of mathematics. You can use\n",
    "them interchangeably.\n",
    "\n",
    "| Programming | Category Theory      | Logic          |\n",
    "| :---:       | :---:                | :---:          |\n",
    "| type        | object               | proposition    |\n",
    "| function    | arrow                | implication    |\n",
    "| Void        | initial object, $0$  | False, $\\perp$ |\n",
    "| ()          | terminal object, $1$ | True, $\\top$   |\n",
    "\n",
    "#### idiom\n",
    "Haskell uses capitalized names for concrete types, and lower-cased names for type variables.\n",
    "\n",
    "#### global element"
   ]
  },
  {
   "attachments": {},
   "cell_type": "markdown",
   "metadata": {},
   "source": [
    "## Implementing functions\n",
    "\n",
    "### where\n",
    "1. flip'\n",
    "\n",
    "### tail recursion\n",
    "1. maximum'\n",
    "2. zipWith'\n",
    "3. map'\n",
    "4. filter\n",
    "5. quickSort\n",
    "6. Collatz sequence\n",
    "\n",
    "### foldl, foldl1 and foldr, foldr1\n",
    "1. elem\n",
    "2. map\n",
    "3. maximum\n",
    "4. reverse\n",
    "5. filter\n",
    "6. product\n",
    "7. head\n",
    "8. last\n",
    "\n",
    "### scanl, scanl1 and scanr, scanr1"
   ]
  },
  {
   "cell_type": "code",
   "execution_count": 1,
   "metadata": {},
   "outputs": [],
   "source": [
    "maximum' :: (Ord a) => [a] -> a  \n",
    "maximum' [] = error \"maximum of empty list\"  \n",
    "maximum' [x] = x  \n",
    "maximum' (x:xs)   \n",
    "    | x > maxTail = x  \n",
    "    | otherwise = maxTail  \n",
    "    where maxTail = maximum' xs"
   ]
  },
  {
   "cell_type": "code",
   "execution_count": 2,
   "metadata": {},
   "outputs": [
    {
     "data": {
      "text/plain": [
       "4"
      ]
     },
     "metadata": {},
     "output_type": "display_data"
    }
   ],
   "source": [
    "maximum' [1,2,3,4]"
   ]
  }
 ],
 "metadata": {
  "kernelspec": {
   "display_name": "Haskell",
   "language": "haskell",
   "name": "haskell"
  },
  "language_info": {
   "codemirror_mode": "ihaskell",
   "file_extension": ".hs",
   "mimetype": "text/x-haskell",
   "name": "haskell",
   "pygments_lexer": "Haskell",
   "version": "9.4.2"
  },
  "orig_nbformat": 4
 },
 "nbformat": 4,
 "nbformat_minor": 2
}
