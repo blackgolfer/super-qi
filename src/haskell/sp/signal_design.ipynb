{
 "cells": [
  {
   "attachments": {},
   "cell_type": "markdown",
   "metadata": {},
   "source": [
    "# Signal Spaces"
   ]
  },
  {
   "attachments": {},
   "cell_type": "markdown",
   "metadata": {},
   "source": [
    "## Basic types\n",
    "This module define the types of the signal spaces, which is the types of the elments in the signal module. The type here behaves like configuration.\n",
    "\n",
    "- `SigNum`: the type that will be used in 0-sig, 1-sig and 3-sig"
   ]
  },
  {
   "cell_type": "code",
   "execution_count": 1,
   "metadata": {},
   "outputs": [],
   "source": [
    "{-# LANGUAGE  ConstraintKinds #-}\n",
    "\n",
    "module Signal.Types\n",
    "(SigNum\n",
    ") where\n",
    "\n",
    "type SigNum a = (Num a, Ord a, Show a)"
   ]
  },
  {
   "attachments": {},
   "cell_type": "markdown",
   "metadata": {},
   "source": [
    "## Utils\n",
    "Utility functions used in the signal module.\n",
    "\n",
    "- `ispower2::Int->Bool`: check if the input `int` is a power of 2\n",
    "- `linespace::(Fractiona a, Ord a, Integral n)=>a->a->n->[a]`: function in the form of `f(a,b,n)` generates the sequence of equal spacing fractional numbers in interval `[a,b]` with length of `n`.\n",
    "- `windowed :: Int->[a]->[[a]]`: give rise to sliding windows on the input list of type `a`.\n"
   ]
  },
  {
   "cell_type": "code",
   "execution_count": 3,
   "metadata": {},
   "outputs": [],
   "source": [
    "module Signal.Utils\n",
    "(ispower2\n",
    ",linespace\n",
    ",windowed\n",
    ") where\n",
    "\n",
    "import Data.Bits\n",
    "\n",
    "ispower2::Int->Bool\n",
    "ispower2 n\n",
    "    | n<=0 = False\n",
    "    | otherwise = (n .&. (n-1))==0\n",
    "\n",
    "linespace :: (Fractional a, Ord a, Integral n)=>a->a->n->[a]\n",
    "linespace a1 a2 _\n",
    "    | a2<=a1 = []\n",
    "linespace a b n\n",
    "    | n<=0 = []\n",
    "    | n==1 = [a, b]\n",
    "linespace a b n = [let dt=(b-a)/fromIntegral(n-1) in a+dt*fromIntegral i | i<-[0..(n-1)]]\n",
    "\n",
    "-- windowed on list, returning windows with n elements  each\n",
    "windowed :: Int->[a]->[[a]]\n",
    "windowed n x\n",
    "    | n<=1 = [x]\n",
    "windowed _ [] = []\n",
    "windowed n (x:xs)\n",
    "    | length(take n (x:xs))<n = [] -- `take n` makes sure it works on infinite list\n",
    "    | otherwise = w:windowed n xs\n",
    "    where w=take n (x:xs)\n",
    "-- without guarantee each window has n element, then the following works:\n",
    "-- windowed n x = Data.List.transpose $ take n $ tails x\n",
    "-- or\n",
    "-- windowed n x = map (tak n) $ tails x"
   ]
  },
  {
   "attachments": {},
   "cell_type": "markdown",
   "metadata": {},
   "source": [
    "## Padding"
   ]
  },
  {
   "cell_type": "code",
   "execution_count": 5,
   "metadata": {},
   "outputs": [],
   "source": [
    "{-# LANGUAGE  ConstraintKinds, RankNTypes #-}\n",
    "\n",
    "module Signal.Padding\n",
    "(Padding(..)\n",
    ",Extensions(..)\n",
    ",PaddingMethod(ZERO,PERIODIC,SYMETRIC)\n",
    ") where\n",
    "\n",
    "import Signal.Types\n",
    "\n",
    "data Extensions a = Extensions{left::[a]\n",
    "                              ,right::[a]}\n",
    "instance (Show a)=>Show (Extensions a) where\n",
    "    show Extensions{left=l,right=r} = \"[\"++ show l ++ \",\" ++ show r ++ \"]\" ++ \"\\n\"\n",
    "\n",
    "class Padding f where\n",
    "    pad::SigNum a=>f->(Int->[a]->Extensions a)\n",
    "\n",
    "data PaddingMethod=ZERO|PERIODIC|SYMETRIC deriving(Eq)\n",
    "\n",
    "type GetExtensions a = SigNum a=>Int->[a]->Extensions a\n",
    "\n",
    "zero::GetExtensions a\n",
    "zero n a = Extensions{left=replicate n 0, right=replicate n 0}\n",
    "\n",
    "symetric::GetExtensions a\n",
    "symetric n a = Extensions{left=lr,right=rr} where\n",
    "    lr = reverse $ take n a\n",
    "    rr = take n $ reverse a\n",
    "\n",
    "periodic::GetExtensions a\n",
    "periodic n a = Extensions{left=lr,right=rr} where\n",
    "    lr = reverse $ take n  $ reverse a\n",
    "    rr = take n a\n",
    "\n",
    "instance Padding PaddingMethod where\n",
    "    pad ZERO = zero\n",
    "    pad PERIODIC = periodic\n",
    "    pad SYMETRIC = symetric"
   ]
  },
  {
   "cell_type": "code",
   "execution_count": 6,
   "metadata": {},
   "outputs": [],
   "source": [
    "{-# LANGUAGE  TypeFamilies #-}\n",
    "\n",
    "module Signal.Model\n",
    "(Sig_0\n",
    ",Sig_1\n",
    ",blocks\n",
    ",Triple\n",
    ",Sig_3\n",
    ",oblocks\n",
    ",Sig\n",
    ",SigF\n",
    ") where\n",
    "\n",
    "import qualified Signal.Utils as Utils\n",
    "import Signal.Types\n",
    "import Signal.Padding\n",
    "\n",
    "type family SigF a where\n",
    "  SigF a = [a]\n",
    "\n",
    "type Sig_0 a = SigNum a=>SigF a\n",
    "type Sig_1 a = SigNum a=>SigF [a]\n",
    "\n",
    "--type Triple::Type->Type->Type\n",
    "type Triple a  = ([a],[a],[a])\n",
    "\n",
    "type Sig_3 a = SigNum a=>SigF (Triple a)\n",
    "\n",
    "blocks::forall a.SigNum a=>Int->Sig_0 a->Sig_1 a\n",
    "blocks n x\n",
    "    | not $ Utils.ispower2 n = error \"illegal size of blocks\"\n",
    "    | n<=0 = [x]\n",
    "blocks _ [] = []\n",
    "blocks n xs = take n xs:blocks n (drop n xs)\n",
    "\n",
    "oblocksInner::Int->Sig_1 a->Sig_3 a\n",
    "oblocksInner n (x:xs)\n",
    "    | length (take 3 (x : xs))  < 3 = [] -- `take 3` intended to make it work for infinite sequence\n",
    "    | otherwise = (drop (length x-n) $ head w, w!!1, take n $ last w):oblocksInner n xs\n",
    "    where\n",
    "        w=take 3 (x:xs)\n",
    "\n",
    "oblocks::SigNum a=>PaddingMethod->Int->Sig_1 a->Sig_3 a\n",
    "oblocks pm n xs\n",
    "    | (n > length xs) || not (Utils.ispower2 n) = error \"illegal size of blocks\"\n",
    "    | pm == PERIODIC = oblocksInner n (last xs : xs ++ [head xs])\n",
    "    | pm == ZERO = oblocksInner n (replicate n 0:xs ++ [replicate n 0])\n",
    "    | pm == SYMETRIC = oblocksInner n (reverse (head xs):xs++[reverse $ last xs])\n",
    "    | otherwise = error \"unkown method\"\n",
    "\n",
    "class Sig s where\n",
    "    transform::(a->a)->s a->s a\n",
    "\n",
    "instance Sig [] where\n",
    "    transform=fmap"
   ]
  },
  {
   "cell_type": "code",
   "execution_count": 7,
   "metadata": {},
   "outputs": [],
   "source": [
    "import Signal.Model"
   ]
  },
  {
   "cell_type": "code",
   "execution_count": 8,
   "metadata": {},
   "outputs": [],
   "source": [
    "module Signal.Algorithms\n",
    "(decimation\n",
    ") where\n",
    "\n",
    "decimation::Int->[a]->[a]\n",
    "decimation n x\n",
    "    | n<2 = x\n",
    "decimation _ [] = []\n",
    "decimation n (x:xs) = x:decimation n (drop (n-1) xs)"
   ]
  }
 ],
 "metadata": {
  "kernelspec": {
   "display_name": "Haskell",
   "language": "haskell",
   "name": "haskell"
  },
  "language_info": {
   "codemirror_mode": "ihaskell",
   "file_extension": ".hs",
   "mimetype": "text/x-haskell",
   "name": "haskell",
   "pygments_lexer": "Haskell",
   "version": "9.0.2"
  },
  "orig_nbformat": 4,
  "vscode": {
   "interpreter": {
    "hash": "b10226086f9c590e4f011c15abe890420217b7a9f5fcad7de85d05c11c6ee1f9"
   }
  }
 },
 "nbformat": 4,
 "nbformat_minor": 2
}
