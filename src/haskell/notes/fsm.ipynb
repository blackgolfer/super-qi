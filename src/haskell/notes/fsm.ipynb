{
 "cells": [
  {
   "attachments": {},
   "cell_type": "markdown",
   "metadata": {},
   "source": [
    "# Finite-State Machine\n",
    "The pattern finite-state machine appears in our analytical model as well as in programming. We need to look into this pattern in detail.\n",
    "\n",
    "[Finite-state machines](https://en.wikipedia.org/wiki/Finite-state_machine) can be subdivided into acceptors, classifiers, transducers and sequencers. \n",
    "\n",
    "*Acceptors* (also called detectors or recognizers) produce binary output, indicating whether or not the received input is accepted. Each state of an acceptor is either accepting or non accepting. Once all input has been received, if the current state is an accepting state, the input is accepted; otherwise it is rejected. "
   ]
  },
  {
   "attachments": {},
   "cell_type": "markdown",
   "metadata": {},
   "source": [
    "## `Control.Monad.State`\n",
    "The haskell package `Control.Monad.State` has a main context called `MonadState`:\n",
    "```haskell\n",
    "class Monad m => MonadState s m | m -> s where\n",
    "    get :: m s\n",
    "    put :: s -> m ()\n",
    "    state :: (s -> (a, s)) -> m a\n",
    "```\n",
    "\n",
    "and few utilities around it:\n",
    "\n",
    "```haskell\n",
    "modify :: MonadState s m => (s -> s) -> m ()\n",
    "gets :: MonadState s m => (s -> a) -> m a\n",
    "```\n",
    "\n",
    "The $s$ type variable represents a type of state. It is uniquely determined by the monad\n",
    "$m$ as specified by the $| m -> s$ part. For example State Integer is a concrete monad\n",
    "with a state of type Integer. The `get` method resembles ask from Reader—it gives\n",
    "access to the current state. The `gets` function is the counterpart to asks. The `put`\n",
    "method is analogous to tell—it sets the current state. The `state` method combines\n",
    "both reader and writer functionalities. Let’s compare these three functions as follows:\n",
    "\n",
    "```haskell\n",
    "reader :: MonadReader r m => (r -> a) -> m a\n",
    "writer :: MonadWriter w m => (a, w) -> m a\n",
    "state :: MonadState s m => (s -> (a, s)) -> m a\n",
    "```\n",
    "All of them construct a computation in the corresponding Monad from its internal representation (a function, a pair, and a function returning a pair, respectively).\n"
   ]
  },
  {
   "attachments": {},
   "cell_type": "markdown",
   "metadata": {},
   "source": [
    "## Some examples\n",
    "### A simple game\n",
    "This example is from [State Monad](https://wiki.haskell.org/State_Monad)."
   ]
  },
  {
   "cell_type": "code",
   "execution_count": 2,
   "metadata": {},
   "outputs": [],
   "source": [
    "import Control.Monad.State"
   ]
  },
  {
   "cell_type": "code",
   "execution_count": 7,
   "metadata": {},
   "outputs": [],
   "source": [
    "type GameValue = Int\n",
    "type GameState = (Bool, Int)\n",
    "\n",
    "playGame :: String -> State GameState GameValue\n",
    "playGame []     = do\n",
    "    (_, score) <- get\n",
    "    return score\n",
    "\n",
    "playGame (x:xs) = do\n",
    "    (on, score) <- get\n",
    "    case x of\n",
    "         'a' | on -> put (on, score + 1)\n",
    "         'b' | on -> put (on, score - 1)\n",
    "         'c'      -> put (not on, score)\n",
    "         _        -> put (on, score)\n",
    "    playGame xs\n",
    "\n",
    "startState = (False, 0)"
   ]
  },
  {
   "cell_type": "code",
   "execution_count": 8,
   "metadata": {},
   "outputs": [
    {
     "data": {
      "text/plain": [
       "2"
      ]
     },
     "metadata": {},
     "output_type": "display_data"
    }
   ],
   "source": [
    "print $ evalState (playGame \"abcaaacbbcabbab\") startState"
   ]
  },
  {
   "attachments": {},
   "cell_type": "markdown",
   "metadata": {},
   "source": [
    "### A coin example\n",
    "This material is from [Using the Haskell State Monad](https://user.it.uu.se/~justin/Hugo/post/haskel_state_random/)."
   ]
  },
  {
   "cell_type": "code",
   "execution_count": 5,
   "metadata": {},
   "outputs": [],
   "source": [
    "import System.Random\n",
    "import Control.Monad\n",
    "import Control.Monad.State\n",
    "\n",
    "randomSt :: (RandomGen g, Random  a) => State g a\n",
    "randomSt = state random \n",
    "\n",
    "threeCoinsState :: State StdGen (Bool, Bool , Bool)\n",
    "threeCoinsState = do\n",
    "  a <- randomSt \n",
    "  b <- randomSt\n",
    "  c <- randomSt\n",
    "  return (a,b,c)\n"
   ]
  },
  {
   "attachments": {},
   "cell_type": "markdown",
   "metadata": {},
   "source": [
    "Most monads do not do anything on their own, they are just sequences of actions. You need to do something to make those actions happen. The required magic for the state monad is `runState`."
   ]
  },
  {
   "cell_type": "code",
   "execution_count": 6,
   "metadata": {},
   "outputs": [
    {
     "data": {
      "text/plain": [
       "((True,False,False),StdGen {unStdGen = SMGen 5638754522534429640 489215147674969543})"
      ]
     },
     "metadata": {},
     "output_type": "display_data"
    }
   ],
   "source": [
    "runState threeCoinsState (mkStdGen 21)"
   ]
  },
  {
   "attachments": {},
   "cell_type": "markdown",
   "metadata": {},
   "source": [
    "#### The two entries from `runState`"
   ]
  },
  {
   "attachments": {},
   "cell_type": "markdown",
   "metadata": {},
   "source": [
    "The first entry is the result from `runState`, one can use `evalState` to get it."
   ]
  },
  {
   "cell_type": "code",
   "execution_count": 7,
   "metadata": {},
   "outputs": [
    {
     "data": {
      "text/plain": [
       "(True,False,False)"
      ]
     },
     "metadata": {},
     "output_type": "display_data"
    }
   ],
   "source": [
    "evalState threeCoinsState (mkStdGen 21)"
   ]
  },
  {
   "attachments": {},
   "cell_type": "markdown",
   "metadata": {},
   "source": [
    "mkStdGen 210"
   ]
  },
  {
   "cell_type": "code",
   "execution_count": 8,
   "metadata": {},
   "outputs": [],
   "source": [
    "r=mkStdGen 21"
   ]
  },
  {
   "cell_type": "code",
   "execution_count": 9,
   "metadata": {},
   "outputs": [],
   "source": [
    "(x1,r1)=next r"
   ]
  },
  {
   "cell_type": "code",
   "execution_count": 10,
   "metadata": {},
   "outputs": [
    {
     "data": {
      "text/plain": [
       "-5847039462251234981"
      ]
     },
     "metadata": {},
     "output_type": "display_data"
    }
   ],
   "source": [
    "print x1"
   ]
  },
  {
   "cell_type": "code",
   "execution_count": 11,
   "metadata": {},
   "outputs": [
    {
     "data": {
      "text/plain": [
       "StdGen {unStdGen = SMGen 4660324227184490554 489215147674969543}"
      ]
     },
     "metadata": {},
     "output_type": "display_data"
    }
   ],
   "source": [
    "print r1"
   ]
  },
  {
   "cell_type": "code",
   "execution_count": 12,
   "metadata": {},
   "outputs": [
    {
     "data": {
      "text/plain": [
       "\"/home/zzhang/.cabal\""
      ]
     },
     "metadata": {},
     "output_type": "display_data"
    }
   ],
   "source": [
    "import System.Directory\n",
    "getAppUserDataDirectory \"cabal\""
   ]
  }
 ],
 "metadata": {
  "kernelspec": {
   "display_name": "Haskell",
   "language": "haskell",
   "name": "haskell"
  },
  "language_info": {
   "codemirror_mode": "ihaskell",
   "file_extension": ".hs",
   "mimetype": "text/x-haskell",
   "name": "haskell",
   "pygments_lexer": "Haskell",
   "version": "9.0.2"
  },
  "orig_nbformat": 4,
  "vscode": {
   "interpreter": {
    "hash": "b10226086f9c590e4f011c15abe890420217b7a9f5fcad7de85d05c11c6ee1f9"
   }
  }
 },
 "nbformat": 4,
 "nbformat_minor": 2
}
