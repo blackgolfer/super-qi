{
 "cells": [
  {
   "cell_type": "code",
   "execution_count": 2,
   "metadata": {},
   "outputs": [],
   "source": [
    "import Control.Monad"
   ]
  },
  {
   "cell_type": "code",
   "execution_count": 3,
   "metadata": {},
   "outputs": [],
   "source": [
    "sevensOnly :: [Int]  \n",
    "sevensOnly = do  \n",
    "    x <- [1..50]  \n",
    "    guard ('7' `elem` show x)  \n",
    "    return x  "
   ]
  },
  {
   "attachments": {},
   "cell_type": "markdown",
   "metadata": {},
   "source": [
    "Suppose we are modeling a turn-based board game and want to find all the possible ways the game could progress. We would need a function to calculate the list of options for the next turn, given a current board state:"
   ]
  },
  {
   "cell_type": "code",
   "execution_count": 4,
   "metadata": {},
   "outputs": [],
   "source": [
    "--import Data.Vector\n",
    "--type Pot = Int\n",
    "--type Board = Vector Pot"
   ]
  },
  {
   "cell_type": "code",
   "execution_count": 5,
   "metadata": {},
   "outputs": [],
   "source": [
    "type Board = (Int,Int) \n",
    "nextConfigs :: Board -> [Board]  \n",
    "nextConfigs (c,r) = filter onBoard  \n",
    "    [(c+2,r-1),(c+2,r+1),(c-2,r-1),(c-2,r+1)  \n",
    "    ,(c+1,r-2),(c+1,r+2),(c-1,r-2),(c-1,r+2)  \n",
    "    ]  \n",
    "    where onBoard (c,r) = c `elem` [1..8] && r `elem` [1..8]  "
   ]
  },
  {
   "cell_type": "code",
   "execution_count": 6,
   "metadata": {},
   "outputs": [
    {
     "data": {
      "text/plain": [
       "[(6,2),(7,3)]"
      ]
     },
     "metadata": {},
     "output_type": "display_data"
    }
   ],
   "source": [
    "nextConfigs (8,1)"
   ]
  },
  {
   "cell_type": "code",
   "execution_count": 7,
   "metadata": {},
   "outputs": [
    {
     "data": {
      "text/plain": [
       "[(8,1),(8,3),(4,1),(4,3),(7,4),(5,4),(5,2),(5,4),(8,1),(8,5),(6,1),(6,5)]"
      ]
     },
     "metadata": {},
     "output_type": "display_data"
    }
   ],
   "source": [
    "nextConfigs (8,1) >>= nextConfigs"
   ]
  },
  {
   "cell_type": "code",
   "execution_count": 8,
   "metadata": {},
   "outputs": [
    {
     "data": {
      "text/plain": [
       "[(8,1),(8,3),(4,1),(4,3),(7,4),(5,4)]"
      ]
     },
     "metadata": {},
     "output_type": "display_data"
    }
   ],
   "source": [
    "nextConfigs (6,2)"
   ]
  },
  {
   "cell_type": "code",
   "execution_count": 9,
   "metadata": {},
   "outputs": [
    {
     "data": {
      "text/plain": [
       "[(5,2),(5,4),(8,1),(8,5),(6,1),(6,5)]"
      ]
     },
     "metadata": {},
     "output_type": "display_data"
    }
   ],
   "source": [
    "nextConfigs (7,3)"
   ]
  },
  {
   "cell_type": "code",
   "execution_count": 10,
   "metadata": {},
   "outputs": [
    {
     "data": {
      "text/plain": [
       "[(6,2),(7,3),(6,2),(6,4),(7,1),(7,5),(6,2),(2,2),(5,3),(3,3),(6,2),(6,4),(2,2),(2,4),(5,1),(5,5),(3,1),(3,5),(5,3),(5,5),(8,2),(8,6),(6,2),(6,6),(7,3),(7,5),(3,3),(3,5),(6,2),(6,6),(4,2),(4,6)]"
      ]
     },
     "metadata": {},
     "output_type": "display_data"
    }
   ],
   "source": [
    " nextConfigs (6,2) >>= nextConfigs"
   ]
  },
  {
   "cell_type": "code",
   "execution_count": 11,
   "metadata": {},
   "outputs": [],
   "source": [
    "threeTurns :: Board -> [Board]\n",
    "threeTurns bd = do\n",
    "    bd1 <- nextConfigs bd  -- bd1 refers to a board configuration after 1 turn\n",
    "    bd2 <- nextConfigs bd1\n",
    "    nextConfigs bd2"
   ]
  },
  {
   "cell_type": "code",
   "execution_count": 12,
   "metadata": {},
   "outputs": [
    {
     "data": {
      "text/plain": [
       "[(6,2),(7,3),(6,2),(6,4),(7,1),(7,5),(6,2),(2,2),(5,3),(3,3),(6,2),(6,4),(2,2),(2,4),(5,1),(5,5),(3,1),(3,5),(5,3),(5,5),(8,2),(8,6),(6,2),(6,6),(7,3),(7,5),(3,3),(3,5),(6,2),(6,6),(4,2),(4,6),(7,1),(7,3),(3,1),(3,3),(6,4),(4,4),(7,3),(7,5),(3,3),(3,5),(6,2),(6,6),(4,2),(4,6),(6,2),(7,3),(6,4),(6,6),(7,3),(7,7),(8,2),(4,2),(7,3),(5,3),(8,4),(8,6),(4,4),(4,6),(7,3),(7,7),(5,3),(5,7)]"
      ]
     },
     "metadata": {},
     "output_type": "display_data"
    }
   ],
   "source": [
    "threeTurns (8,1)"
   ]
  }
 ],
 "metadata": {
  "kernelspec": {
   "display_name": "Haskell",
   "language": "haskell",
   "name": "haskell"
  },
  "language_info": {
   "codemirror_mode": "ihaskell",
   "file_extension": ".hs",
   "mimetype": "text/x-haskell",
   "name": "haskell",
   "pygments_lexer": "Haskell",
   "version": "9.0.2"
  },
  "orig_nbformat": 4
 },
 "nbformat": 4,
 "nbformat_minor": 2
}
