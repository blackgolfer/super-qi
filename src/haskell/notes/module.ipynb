{
 "cells": [
  {
   "attachments": {},
   "cell_type": "markdown",
   "metadata": {},
   "source": [
    "# Module"
   ]
  },
  {
   "attachments": {},
   "cell_type": "markdown",
   "metadata": {},
   "source": [
    "## Basic structures and features\n",
    "\n",
    "This section is a direct copy of the topic on [modules](https://www.haskell.org/tutorial/modules.html) of [A Gentle Introduction to Haskell, Version 98](https://www.haskell.org/tutorial/index.html).\n",
    "\n",
    "A Haskell program consists of a collection of modules. A module in Haskell serves the dual purpose of controlling name-spaces and creating abstract data types.\n",
    "\n",
    "The top level of a module contains any of the various declarations we have discussed: fixity declarations, data and type declarations, class and instance declarations, type signatures, function definitions, and pattern bindings. Except for the fact that import declarations (to be described shortly) must appear first, the declarations may appear in any order (the top-level scope is mutually recursive).\n",
    "\n",
    "Haskell's module design is relatively conservative: the name-space of modules is completely flat, and modules are in no way \"first-class.\" Module names are alphanumeric and must begin with an uppercase letter. There is no formal connection between a Haskell module and the file system that would (typically) support it. In particular, there is no connection between module names and file names, and more than one module could conceivably reside in a single file (one module may even span several files). Of course, a particular implementation will most likely adopt conventions that make the connection between modules and files more stringent.\n",
    "\n",
    "Technically speaking, a module is really just one big declaration which begins with the keyword module; here's an example for a module whose name is Tree:"
   ]
  },
  {
   "cell_type": "code",
   "execution_count": 1,
   "metadata": {},
   "outputs": [],
   "source": [
    "module Tree ( Tree(Leaf,Branch), fringe ) where\n",
    "\n",
    "data Tree a                = Leaf a | Branch (Tree a) (Tree a) \n",
    "\n",
    "fringe :: Tree a -> [a]\n",
    "fringe (Leaf x)            = [x]\n",
    "fringe (Branch left right) = fringe left ++ fringe right"
   ]
  },
  {
   "attachments": {},
   "cell_type": "markdown",
   "metadata": {},
   "source": [
    "This module explicitly exports `Tree`, `Leaf`, `Branch`, and `fringe`. If the export list following the module keyword is omitted, all of the names bound at the top level of the module would be exported. (In the above example everything is explicitly exported, so the effect would be the same.) Note that the name of a type and its constructors have be grouped together, as in `Tree(Leaf,Branch)`. As short-hand, we could also write `Tree(..)`. Exporting a subset of the constructors is also possible. The names in an export list need not be local to the exporting module; any name in scope may be listed in an export list.\n",
    "\n",
    "The Tree module may now be imported into some other module:"
   ]
  },
  {
   "cell_type": "code",
   "execution_count": 2,
   "metadata": {},
   "outputs": [],
   "source": [
    "module Main (main) where\n",
    "import Tree ( Tree(Leaf,Branch), fringe )\n",
    "\n",
    "main = print (fringe (Branch (Leaf 1) (Leaf 2)))"
   ]
  },
  {
   "cell_type": "code",
   "execution_count": 3,
   "metadata": {},
   "outputs": [
    {
     "data": {
      "text/plain": [
       "[1,2]"
      ]
     },
     "metadata": {},
     "output_type": "display_data"
    }
   ],
   "source": [
    "main"
   ]
  },
  {
   "attachments": {},
   "cell_type": "markdown",
   "metadata": {},
   "source": [
    "The various items being imported into and exported out of a module are called entities. Note the explicit import list in the import declaration; omitting it would cause all entities exported from Tree to be imported."
   ]
  },
  {
   "attachments": {},
   "cell_type": "markdown",
   "metadata": {},
   "source": [
    "### Qualified Names\n",
    "There is an obvious problem with importing names directly into the namespace of module. What if two imported modules contain different entities with the same name? Haskell solves this problem using qualified names. An import declaration may use the qualified keyword to cause the imported names to be prefixed by the name of the module imported. These prefixes are followed by the `.` character without intervening whitespace. [Qualifiers are part of the lexical syntax. Thus, `A.x` and `A . x` are quite different: the first is a qualified name and the second a use of the infix `.` function.] For example, using the Tree module introduced above:"
   ]
  },
  {
   "cell_type": "code",
   "execution_count": 4,
   "metadata": {},
   "outputs": [],
   "source": [
    "module Fringe(fringe) where\n",
    "import Tree(Tree(..))\n",
    "\n",
    "data Extensions a = Extensions{eLeft::[a], eRight::[a]}\n",
    "\n",
    "fringe :: Tree a -> [a]   -- A different definition of fringe\n",
    "fringe (Leaf x) = [x]\n",
    "fringe (Branch x y) = fringe x"
   ]
  },
  {
   "cell_type": "code",
   "execution_count": 5,
   "metadata": {},
   "outputs": [],
   "source": [
    "module Main where\n",
    "import Tree ( Tree(Leaf,Branch), fringe )\n",
    "import qualified Fringe ( fringe )  \n",
    "\n",
    "main = do print (fringe (Branch (Leaf 1) (Leaf 2)))\n",
    "          print (Fringe.fringe (Branch (Leaf 1) (Leaf 2)))"
   ]
  },
  {
   "cell_type": "code",
   "execution_count": 6,
   "metadata": {},
   "outputs": [
    {
     "data": {
      "text/plain": [
       "[1,2]\n",
       "[1]"
      ]
     },
     "metadata": {},
     "output_type": "display_data"
    }
   ],
   "source": [
    "main"
   ]
  },
  {
   "attachments": {},
   "cell_type": "markdown",
   "metadata": {},
   "source": [
    "### Data abstraction\n",
    "Aside from controlling namespaces, modules provide the only way to build abstract data types (ADTs) in Haskell. For example, the characteristic feature of an ADT is that the representation type is hidden; all operations on the ADT are done at an abstract level which does not depend on the representation. For example, although the Tree type is simple enough that we might not normally make it abstract, a suitable ADT for it might include the following operations:\n",
    "```haskell\n",
    "data Tree a             -- just the type name \n",
    "leaf                    :: a -> Tree a\n",
    "branch                  :: Tree a -> Tree a -> Tree a\n",
    "cell                    :: Tree a -> a\n",
    "left, right             :: Tree a -> Tree a\n",
    "isLeaf                  :: Tree a -> Bool\n",
    "```\n",
    "A module supporting this is:"
   ]
  },
  {
   "cell_type": "code",
   "execution_count": 7,
   "metadata": {},
   "outputs": [],
   "source": [
    "module TreeADT\n",
    "(Tree\n",
    ",leaf\n",
    ",branch\n",
    ",cell\n",
    ",left\n",
    ",right\n",
    ",isLeaf) where\n",
    "\n",
    "data Tree a             = Leaf a | Branch (Tree a) (Tree a) \n",
    "\n",
    "leaf                    = Leaf\n",
    "branch                  = Branch\n",
    "cell  (Leaf a)          = a\n",
    "left  (Branch l r)      = l\n",
    "right (Branch l r)      = r\n",
    "isLeaf   (Leaf _)       = True\n",
    "isLeaf   _              = False"
   ]
  },
  {
   "attachments": {},
   "cell_type": "markdown",
   "metadata": {},
   "source": [
    "Note in the export list that the type name Tree appears alone (i.e. without its constructors). Thus Leaf and Branch are not exported, and the only way to build or take apart trees outside of the module is by using the various (abstract) operations. Of course, the advantage of this information hiding is that at a later time we could change the representation type without affecting users of the type."
   ]
  },
  {
   "attachments": {},
   "cell_type": "markdown",
   "metadata": {},
   "source": [
    "### More features\n",
    "\n",
    "Here is a brief overview of some other aspects of the module system. See the report for more details.\n",
    "\n",
    "- An import declaration may selectively hide entities using a hiding clause in the import declaration. This is useful for explicitly excluding names that are used for other purposes without having to use qualifiers for other imported names from the module.\n",
    "- An import may contain an as clause to specify a different qualifier than the name of the importing module. This can be used to shorten qualifiers from modules with long names or to easily adapt to a change in module name without changing all qualifiers.\n",
    "- Programs implicitly import the Prelude module. An explicit import of the Prelude overrides the implicit import of all Prelude names. Thus,\n",
    "\n",
    "    ```haskell\n",
    "    import Prelude hiding length\n",
    "    ```\n",
    "    will not import length from the Standard Prelude, allowing the name length to be defined differently.\n",
    "- Instance declarations are not explicitly named in import or export lists. Every module exports all of its instance declarations and every import brings all instance declarations into scope.\n",
    "- Class methods may be named either in the manner of data constructors, in parentheses following the class name, or as ordinary variables.\n",
    "\n",
    "Although Haskell's module system is relatively conservative, there are many rules concerning the import and export of values. Most of these are obvious---for instance, it is illegal to import two different entities having the same name into the same scope. Other rules are not so obvious---for example, for a given type and class, there cannot be more than one instance declaration for that combination of type and class anywhere in the program. The reader should read the Report for details ([§5](https://www.haskell.org/onlinereport/modules.html#modules))."
   ]
  },
  {
   "attachments": {},
   "cell_type": "markdown",
   "metadata": {},
   "source": [
    "## Structure in the project level\n",
    "This section is from the section [Making our own modules](http://learnyouahaskell.com/modules#making-our-own-modules) of the online book [Learn You a Haskell for Great Good](http://learnyouahaskell.com/chapters)."
   ]
  },
  {
   "attachments": {},
   "cell_type": "markdown",
   "metadata": {},
   "source": [
    "### Flat structure module\n",
    "\n",
    "Let's look at a simple geometry example:"
   ]
  },
  {
   "cell_type": "code",
   "execution_count": 8,
   "metadata": {},
   "outputs": [],
   "source": [
    "module Geometry  \n",
    "( sphereVolume  \n",
    ", sphereArea  \n",
    ", cubeVolume  \n",
    ", cubeArea  \n",
    ", cuboidArea  \n",
    ", cuboidVolume  \n",
    ") where  \n",
    "  \n",
    "sphereVolume :: Float -> Float  \n",
    "sphereVolume radius = (4.0 / 3.0) * pi * (radius ^ 3)  \n",
    "  \n",
    "sphereArea :: Float -> Float  \n",
    "sphereArea radius = 4 * pi * (radius ^ 2)  \n",
    "  \n",
    "cubeVolume :: Float -> Float  \n",
    "cubeVolume side = cuboidVolume side side side  \n",
    "  \n",
    "cubeArea :: Float -> Float  \n",
    "cubeArea side = cuboidArea side side side  \n",
    "  \n",
    "cuboidVolume :: Float -> Float -> Float -> Float  \n",
    "cuboidVolume a b c = rectangleArea a b * c  \n",
    "  \n",
    "cuboidArea :: Float -> Float -> Float -> Float  \n",
    "cuboidArea a b c = rectangleArea a b * 2 + rectangleArea a c * 2 + rectangleArea c b * 2  \n",
    "  \n",
    "rectangleArea :: Float -> Float -> Float  \n",
    "rectangleArea a b = a * b  "
   ]
  },
  {
   "attachments": {},
   "cell_type": "markdown",
   "metadata": {},
   "source": [
    "Because a cube is only a special case of a cuboid, we defined its area and volume by treating it as a cuboid whose sides are all of the same length. We also defined a helper function called `rectangleArea`, which calculates a rectangle's area based on the lenghts of its sides. It's rather trivial because it's just multiplication. Notice that we used it in our functions in the module (namely `cuboidArea` and `cuboidVolume`) but we didn't export it! Because we want our module to just present functions for dealing with three dimensional objects, we used `rectangleArea` but we didn't export it.\n",
    "\n",
    "To use our module, we just do:\n",
    "\n",
    "```haskell\n",
    "import Geometry\n",
    "```\n",
    "\n",
    "`Geometry.hs` has to be in the same folder that the program that's importing it is in, though."
   ]
  },
  {
   "attachments": {},
   "cell_type": "markdown",
   "metadata": {},
   "source": [
    "## Hierarchical structures"
   ]
  },
  {
   "attachments": {},
   "cell_type": "markdown",
   "metadata": {},
   "source": [
    "Modules can also be given a hierarchical structures. Each module can have a number of sub-modules and they can have sub-modules of their own. Let's section these functions off so that Geometry is a module that has three sub-modules, one for each type of object.\n",
    "\n",
    "First, we'll make a folder called Geometry. Mind the capital G. In it, we'll place three files: `Sphere.hs`, `Cuboid.hs`, and `Cube.hs`. Here's what the files will contain:"
   ]
  },
  {
   "attachments": {},
   "cell_type": "markdown",
   "metadata": {},
   "source": [
    "`Sphere.hs`"
   ]
  },
  {
   "cell_type": "code",
   "execution_count": 9,
   "metadata": {},
   "outputs": [],
   "source": [
    "module Geometry.Sphere  \n",
    "( volume  \n",
    ", area  \n",
    ") where  \n",
    "  \n",
    "volume :: Float -> Float  \n",
    "volume radius = (4.0 / 3.0) * pi * (radius ^ 3)  \n",
    "  \n",
    "area :: Float -> Float  \n",
    "area radius = 4 * pi * (radius ^ 2)  "
   ]
  },
  {
   "attachments": {},
   "cell_type": "markdown",
   "metadata": {},
   "source": [
    "`Cuboid.hs`"
   ]
  },
  {
   "cell_type": "code",
   "execution_count": 10,
   "metadata": {},
   "outputs": [],
   "source": [
    "module Geometry.Cuboid  \n",
    "( volume  \n",
    ", area  \n",
    ") where  \n",
    "  \n",
    "volume :: Float -> Float -> Float -> Float  \n",
    "volume a b c = rectangleArea a b * c  \n",
    "  \n",
    "area :: Float -> Float -> Float -> Float  \n",
    "area a b c = rectangleArea a b * 2 + rectangleArea a c * 2 + rectangleArea c b * 2  \n",
    "  \n",
    "rectangleArea :: Float -> Float -> Float  \n",
    "rectangleArea a b = a * b  "
   ]
  },
  {
   "attachments": {},
   "cell_type": "markdown",
   "metadata": {},
   "source": [
    "`Cube.hs`"
   ]
  },
  {
   "cell_type": "code",
   "execution_count": 11,
   "metadata": {},
   "outputs": [],
   "source": [
    "module Geometry.Cube  \n",
    "( volume  \n",
    ", area  \n",
    ") where  \n",
    "  \n",
    "import qualified Geometry.Cuboid as Cuboid  \n",
    "  \n",
    "volume :: Float -> Float  \n",
    "volume side = Cuboid.volume side side side  \n",
    "  \n",
    "area :: Float -> Float  \n",
    "area side = Cuboid.area side side side  "
   ]
  },
  {
   "attachments": {},
   "cell_type": "markdown",
   "metadata": {},
   "source": [
    "Notice how we placed it in a folder called `Geometry` and then defined the module name as `Geometry.Sphere`. We did the same for the `cuboid`. Also notice how in all three sub-modules, we defined functions with the same names. We can do this because they're separate modules. We want to use functions from `Geometry.Cuboid` in `Geometry.Cube` but we can't just straight up do import `Geometry.Cuboid` because it exports functions with the same names as `Geometry.Cube`. That's why we do a qualified import and all is well.\n",
    "\n",
    "So now if we're in a file that's on the same level as the Geometry folder, we can do, say:"
   ]
  },
  {
   "cell_type": "code",
   "execution_count": 12,
   "metadata": {},
   "outputs": [],
   "source": [
    "import Geometry.Sphere "
   ]
  },
  {
   "attachments": {},
   "cell_type": "markdown",
   "metadata": {},
   "source": [
    "And then we can call area and volume and they'll give us the `area` and `volume` for a sphere. And if we want to juggle two or more of these modules, we have to do qualified imports because they export functions with the same names. So we just do something like:"
   ]
  },
  {
   "cell_type": "code",
   "execution_count": 13,
   "metadata": {},
   "outputs": [],
   "source": [
    "import qualified Geometry.Sphere as Sphere  \n",
    "import qualified Geometry.Cuboid as Cuboid  \n",
    "import qualified Geometry.Cube as Cube"
   ]
  },
  {
   "attachments": {},
   "cell_type": "markdown",
   "metadata": {},
   "source": [
    "And then we can call `Sphere.area`, `Sphere.volume`, `Cuboid.area`, etc. and each will calculate the area or volume for their corresponding object.\n",
    "\n",
    "The next time you find yourself writing a file that's really big and has a lot of functions, try to see which functions serve some common purpose and then see if you can put them in their own module. You'll be able to just import your module the next time you're writing a program that requires some of the same functionality."
   ]
  },
  {
   "attachments": {},
   "cell_type": "markdown",
   "metadata": {},
   "source": [
    "## Managing project modules\n",
    "Chapter 4 of the book {cite}`bragilevsky2021haskell` has very thourough describtion on this subject.\n",
    "\n",
    "### Example: container.mini\n",
    "The goal of this example is to present the process of library development and turning it into a fully fledged yet simple independent Haskell package. \n",
    "\n",
    "Example outline:\n",
    "- https://github.com/bravit/containers-mini/tree/v1.0\n",
    "- We can start development without thinking about packaging.\n",
    "- We use import and export lists to implement abstract data types.\n",
    "- Compiling to an executable is done via ghc.\n",
    "- We run source code via runhaskell."
   ]
  },
  {
   "attachments": {},
   "cell_type": "markdown",
   "metadata": {},
   "source": [
    "While developing a library, we want to make sure that all our functions pass tests. We\n",
    "are also interested in benchmarking them. Let’s create a directory with the following\n",
    "structure:"
   ]
  },
  {
   "attachments": {},
   "cell_type": "markdown",
   "metadata": {},
   "source": [
    "```bash\n",
    "$ tree containers-mini\n",
    "containers-mini\n",
    "├── Bench.hs\n",
    "├── containers-mini.cabal\n",
    "├── Data\n",
    "│   ├── Deque.hs\n",
    "│   ├── Queue.hs\n",
    "│   └── Stack.hs\n",
    "├── package.yaml\n",
    "├── Setup.hs\n",
    "├── TestQueue.hs\n",
    "└── TestStack.hs\n",
    "```"
   ]
  },
  {
   "attachments": {},
   "cell_type": "markdown",
   "metadata": {},
   "source": [
    "The Data subdirectory contains our data structure modules: `Data.Stack`, `Data.Queue`, and `Data.Deque`. We have test programs and benchmarks outside it.\n",
    "\n",
    "As for the `Stack.hs`, let's load it into GHCi as follows:\n",
    "\n",
    "```bash\n",
    "containers-mini $ ghci Data/Stack.hs\n",
    "ghci> top $ push 10 empty\n",
    "Just 10\n",
    "```\n",
    "Let’s write the following simple testing scenario in the `TestStack.hs` file:\n",
    "```haskell\n",
    "import Data.Stack\n",
    "main = do\n",
    "    let st = push 15 $ push 10 $ push 5 $ push 0 empty\n",
    "    -- st == 0, 5, 10, 15 <<-- top\n",
    "    st' = pop $ pop st -- 0, 5 <<-- top\n",
    "    st'' = push 100 st' -- 0, 5, 100 <<-- top\n",
    "    shouldBeTrue = [ top st' == Just 5,\n",
    "    top st'' == Just 100,\n",
    "    isEmpty $ pop $ pop st']\n",
    "print $ and shouldBeTrue\n",
    "```\n",
    "To run the test we could compile the program as follows (in archlinux, one need the -dynamic flag to load the dynamic system library):\n",
    "```bash\n",
    "containers-mini $ ghc -dynamic TestStack.hs\n",
    "[1 of 2] Compiling Data.Stack       ( Data/Stack.hs, Data/Stack.o )\n",
    "[2 of 2] Compiling Main             ( TestStack.hs, TestStack.o )\n",
    "Linking TestStack ...\n",
    "```\n",
    "To run the test:\n",
    "```bash\n",
    "containers-mini $ ./TestStack\n",
    "True\n",
    "```\n",
    "Alternatively, we could use the `runhaskell` wrapper, as shown next:\n",
    "```bash\n",
    "containers-mini $ runhaskell TestStack.h\n",
    "True\n",
    "```"
   ]
  },
  {
   "attachments": {},
   "cell_type": "markdown",
   "metadata": {},
   "source": [
    "The rest of the package can be tested in the similar fashion. Notice in this module, we use  explicit `Prelude`, as shown in the head portion of the `Deque.hs`, because many `Data.Sequence` functions have the same names as list functions from Prelude. Alternatively, I could use `import Prelude ()` or name hiding.\n",
    "\n",
    "```haskell\n",
    "{-# LANGUAGE NoImplicitPrelude #-}\n",
    "\n",
    "module Data.Deque (\n",
    "  Deque,\n",
    "  empty,\n",
    "  isEmpty,\n",
    "  front,\n",
    "  back,\n",
    "  push_back,\n",
    "  push_front,\n",
    "  pop_back,\n",
    "  pop_front) where\n",
    "\n",
    "import Data.Sequence hiding (empty)\n",
    "import qualified Data.Sequence as Seq\n",
    "import Data.Bool (Bool)\n",
    "import Data.Maybe (Maybe(..))\n",
    "....\n",
    "```\n",
    "Without `Prelude`, we have to import everything, including Bool and Maybe, with data constructors. Note that We’ve `imported Data.Sequence` twice to disambiguate empty."
   ]
  },
  {
   "attachments": {},
   "cell_type": "markdown",
   "metadata": {},
   "source": [
    "Next we are going to install the package `timeit` which can be found on Hackage: http://hackage.haskell.org/package/timeit. With this package, we can implement benchmarking as follows:\n",
    "```haskell\n",
    "import Data.Deque as D\n",
    "import Data.Stack as S\n",
    "import Data.List\n",
    "import System.TimeIt\n",
    "\n",
    "sumAll s view remove = sum $ unfoldr iter s\n",
    "  where\n",
    "    iter s = view s >>= \\x -> Just (x, remove s)\n",
    "\n",
    "fill n insert s = foldl' (flip insert) s [1..n]\n",
    "\n",
    "main = do\n",
    "  let n = 10^6\n",
    "  timeItNamed \"Stack\" $\n",
    "    print $ sumAll (fill n push S.empty) top pop\n",
    "  timeItNamed \"Deque\" $\n",
    "    print $ sumAll (fill n push_front D.empty) front pop_front\n",
    "```\n",
    "This is save in the file `Bench.hs`. To install `timeit` manually, here are the steps that consists of downloading the package, unpacking it, configuring it, building it and installing it:\n",
    "```bash\n",
    "containers-mini $ curl http://hackage.haskell.org/package/timeit-2.0/timeit-2.0.tar.gz --output timeit-2.0.tar.gz\n",
    "  % Total    % Received % Xferd  Average Speed   Time    Time     Time  Current\n",
    "                                 Dload  Upload   Total   Spent    Left  Speed\n",
    "100  2117  100  2117    0     0   3528      0 --:--:-- --:--:-- --:--:--  3534\n",
    "containers-mini $ tar -xf timeit-2.0.tar.gz\n",
    "containers-mini $ cd timeit-2.0\n",
    "timeit-2.0 $ runhaskell Setup.hs configure\n",
    "Configuring timeit-2.0...\n",
    "timeit-2.0 $ runhaskell Setup.hs build\n",
    "Preprocessing library for timeit-2.0..\n",
    "Building library for timeit-2.0..\n",
    "[1 of 1] Compiling System.TimeIt    ( System/TimeIt.hs, dist/build/System/TimeIt.o, dist/build/System/TimeIt.dyn_o )\n",
    "timeit-2.0 $ sudo runhaskell Setup.hs install\n",
    "Registering library for timeit-2.0..\n",
    "```\n",
    "Once we are done with installation, we can get back to running our benchmark as follows:\n",
    "```bash\n",
    "containers-mini $ runhaskell Bench.hs\n",
    "500000500000\n",
    "Stack:   0.57s\n",
    "500000500000\n",
    "Deque:   0.69s\n",
    "```\n",
    "The result is as expected. Lists when operated with the head element only are more efficient than sequences used in the same style.\n"
   ]
  },
  {
   "attachments": {},
   "cell_type": "markdown",
   "metadata": {},
   "source": [
    "```{bibliography}\n",
    ":filter: docname in docnames\n",
    "```"
   ]
  }
 ],
 "metadata": {
  "kernelspec": {
   "display_name": "Haskell",
   "language": "haskell",
   "name": "haskell"
  },
  "language_info": {
   "codemirror_mode": "ihaskell",
   "file_extension": ".hs",
   "mimetype": "text/x-haskell",
   "name": "haskell",
   "pygments_lexer": "Haskell",
   "version": "9.0.2"
  },
  "orig_nbformat": 4
 },
 "nbformat": 4,
 "nbformat_minor": 2
}
