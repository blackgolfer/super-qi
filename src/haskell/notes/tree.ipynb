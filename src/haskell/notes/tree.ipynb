{
 "cells": [
  {
   "attachments": {},
   "cell_type": "markdown",
   "metadata": {},
   "source": [
    "# Tree"
   ]
  },
  {
   "attachments": {},
   "cell_type": "markdown",
   "metadata": {},
   "source": [
    "## Binary tree\n",
    "In a node of a binary tree, an element points to two elements, one on its left and one on its right. The element to the left is smaller, the element to the right is bigger. Each of those elements can also point to two elements (or one, or none). In effect, each element has up to two sub-trees. And a cool thing about binary search trees is that we know that all the elements at the left sub-tree of, say, 5 are going to be smaller than 5. Elements in its right sub-tree are going to be bigger. So if we need to find if 8 is in our tree, we'd start at 5 and then because 8 is greater than 5, we'd go right. We're now at 7 and because 8 is greater than 7, we go right again. And we've found our element in three hops! Now if this were a normal list (or a tree, but really unbalanced), it would take us seven hops instead of three to see if 8 is in there."
   ]
  },
  {
   "cell_type": "code",
   "execution_count": 1,
   "metadata": {},
   "outputs": [],
   "source": [
    "import Data.Functor.Classes"
   ]
  },
  {
   "cell_type": "code",
   "execution_count": 2,
   "metadata": {},
   "outputs": [],
   "source": [
    "data Tree a = Leaf | Node a (Tree a) (Tree a) deriving (Show,Read,Eq,Ord)"
   ]
  },
  {
   "attachments": {},
   "cell_type": "markdown",
   "metadata": {},
   "source": [
    "### Binary search tree"
   ]
  },
  {
   "cell_type": "code",
   "execution_count": 3,
   "metadata": {},
   "outputs": [],
   "source": [
    "singleton :: a -> Tree a\n",
    "singleton x = Node x Leaf Leaf\n",
    "\n",
    "treeInsert :: (Ord a) => a -> Tree a -> Tree a\n",
    "treeInsert x Leaf = singleton x\n",
    "treeInsert x (Node a left right)\n",
    "    | x == a = Node x left right\n",
    "    | x < a  = Node a (treeInsert x left) right\n",
    "    | x > a  = Node a left (treeInsert x right)\n",
    "\n",
    "treeElem :: (Ord a) => a -> Tree a -> Bool\n",
    "treeElem x Leaf = False\n",
    "treeElem x (Node a left right)\n",
    "    | x == a = True\n",
    "    | x < a  = treeElem x left\n",
    "    | x > a  = treeElem x right"
   ]
  },
  {
   "cell_type": "code",
   "execution_count": 4,
   "metadata": {},
   "outputs": [],
   "source": [
    " let nums = [8,6,4,1,7,3,5]\n",
    " let numsTreeR = foldr treeInsert Leaf nums\n",
    " let numsTreeL = foldl (flip treeInsert) Leaf nums"
   ]
  },
  {
   "cell_type": "code",
   "execution_count": 5,
   "metadata": {},
   "outputs": [
    {
     "data": {
      "text/plain": [
       "Node 5 (Node 3 (Node 1 Leaf Leaf) (Node 4 Leaf Leaf)) (Node 7 (Node 6 Leaf Leaf) (Node 8 Leaf Leaf))"
      ]
     },
     "metadata": {},
     "output_type": "display_data"
    }
   ],
   "source": [
    "numsTreeR"
   ]
  },
  {
   "cell_type": "code",
   "execution_count": 6,
   "metadata": {},
   "outputs": [
    {
     "data": {
      "text/plain": [
       "Node 8 (Node 6 (Node 4 (Node 1 Leaf (Node 3 Leaf Leaf)) (Node 5 Leaf Leaf)) (Node 7 Leaf Leaf)) Leaf"
      ]
     },
     "metadata": {},
     "output_type": "display_data"
    }
   ],
   "source": [
    "numsTreeL"
   ]
  },
  {
   "cell_type": "code",
   "execution_count": 7,
   "metadata": {},
   "outputs": [
    {
     "data": {
      "text/plain": [
       "True"
      ]
     },
     "metadata": {},
     "output_type": "display_data"
    }
   ],
   "source": [
    "8 `treeElem` numsTreeR"
   ]
  },
  {
   "cell_type": "code",
   "execution_count": 8,
   "metadata": {},
   "outputs": [
    {
     "data": {
      "text/plain": [
       "False"
      ]
     },
     "metadata": {},
     "output_type": "display_data"
    }
   ],
   "source": [
    "10 `treeElem` numsTreeR"
   ]
  },
  {
   "cell_type": "code",
   "execution_count": 9,
   "metadata": {},
   "outputs": [],
   "source": [
    "instance Functor Tree where  \n",
    "    fmap f Leaf = Leaf\n",
    "    fmap f (Node x leftsub rightsub) = Node (f x) (fmap f leftsub) (fmap f rightsub)  "
   ]
  },
  {
   "cell_type": "code",
   "execution_count": 10,
   "metadata": {},
   "outputs": [
    {
     "data": {
      "text/plain": [
       "Node 28 (Node 4 Leaf (Node 8 Leaf (Node 12 Leaf (Node 20 Leaf Leaf)))) Leaf"
      ]
     },
     "metadata": {},
     "output_type": "display_data"
    }
   ],
   "source": [
    " fmap (*4) (foldr treeInsert Leaf [5,7,3,2,1,7]) "
   ]
  }
 ],
 "metadata": {
  "kernelspec": {
   "display_name": "Haskell",
   "language": "haskell",
   "name": "haskell"
  },
  "language_info": {
   "codemirror_mode": "ihaskell",
   "file_extension": ".hs",
   "mimetype": "text/x-haskell",
   "name": "haskell",
   "pygments_lexer": "Haskell",
   "version": "9.0.2"
  },
  "orig_nbformat": 4,
  "vscode": {
   "interpreter": {
    "hash": "9898d78ebfd4f77cc66ffe2383e5aa1542f1591b22fecb87ee41062b139c2a04"
   }
  }
 },
 "nbformat": 4,
 "nbformat_minor": 2
}
