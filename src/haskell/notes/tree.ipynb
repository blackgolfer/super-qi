{
 "cells": [
  {
   "attachments": {},
   "cell_type": "markdown",
   "metadata": {},
   "source": [
    "# Tree"
   ]
  },
  {
   "attachments": {},
   "cell_type": "markdown",
   "metadata": {},
   "source": [
    "## Binary tree"
   ]
  },
  {
   "cell_type": "code",
   "execution_count": 2,
   "metadata": {},
   "outputs": [],
   "source": [
    "import Data.Functor.Classes"
   ]
  },
  {
   "cell_type": "code",
   "execution_count": 3,
   "metadata": {},
   "outputs": [],
   "source": [
    "data Tree a = Leaf | Node a (Tree a) (Tree a) deriving (Show,Read,Eq,Ord)"
   ]
  },
  {
   "attachments": {},
   "cell_type": "markdown",
   "metadata": {},
   "source": [
    "### Binary search tree"
   ]
  },
  {
   "cell_type": "code",
   "execution_count": 4,
   "metadata": {},
   "outputs": [],
   "source": [
    "singleton :: a -> Tree a\n",
    "singleton x = Node x Leaf Leaf\n",
    "\n",
    "treeInsert :: (Ord a) => a -> Tree a -> Tree a\n",
    "treeInsert x Leaf = singleton x\n",
    "treeInsert x (Node a left right)\n",
    "    | x == a = Node x left right\n",
    "    | x < a  = Node a (treeInsert x left) right\n",
    "    | x > a  = Node a left (treeInsert x right)\n",
    "\n",
    "treeElem :: (Ord a) => a -> Tree a -> Bool\n",
    "treeElem x Leaf = False\n",
    "treeElem x (Node a left right)\n",
    "    | x == a = True\n",
    "    | x < a  = treeElem x left\n",
    "    | x > a  = treeElem x right"
   ]
  },
  {
   "cell_type": "code",
   "execution_count": 34,
   "metadata": {},
   "outputs": [],
   "source": [
    " let nums = [8,6,4,1,7,3,5]\n",
    " let numsTreeR = foldr treeInsert Leaf nums\n",
    " let numsTreeL = foldl (flip treeInsert) Leaf nums"
   ]
  },
  {
   "cell_type": "code",
   "execution_count": 35,
   "metadata": {},
   "outputs": [
    {
     "data": {
      "text/plain": [
       "Node 5 (Node 3 (Node 1 Leaf Leaf) (Node 4 Leaf Leaf)) (Node 7 (Node 6 Leaf Leaf) (Node 8 Leaf Leaf))"
      ]
     },
     "metadata": {},
     "output_type": "display_data"
    }
   ],
   "source": [
    "numsTreeR"
   ]
  },
  {
   "cell_type": "code",
   "execution_count": 36,
   "metadata": {},
   "outputs": [
    {
     "data": {
      "text/plain": [
       "Node 8 (Node 6 (Node 4 (Node 1 Leaf (Node 3 Leaf Leaf)) (Node 5 Leaf Leaf)) (Node 7 Leaf Leaf)) Leaf"
      ]
     },
     "metadata": {},
     "output_type": "display_data"
    }
   ],
   "source": [
    "numsTreeL"
   ]
  }
 ],
 "metadata": {
  "kernelspec": {
   "display_name": "Haskell",
   "language": "haskell",
   "name": "haskell"
  },
  "language_info": {
   "codemirror_mode": "ihaskell",
   "file_extension": ".hs",
   "mimetype": "text/x-haskell",
   "name": "haskell",
   "pygments_lexer": "Haskell",
   "version": "9.0.2"
  },
  "orig_nbformat": 4,
  "vscode": {
   "interpreter": {
    "hash": "b10226086f9c590e4f011c15abe890420217b7a9f5fcad7de85d05c11c6ee1f9"
   }
  }
 },
 "nbformat": 4,
 "nbformat_minor": 2
}
