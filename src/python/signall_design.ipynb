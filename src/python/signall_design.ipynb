{
 "cells": [
  {
   "attachments": {},
   "cell_type": "markdown",
   "metadata": {},
   "source": [
    "# Signal Spaces"
   ]
  },
  {
   "attachments": {},
   "cell_type": "markdown",
   "metadata": {},
   "source": [
    "## Utils\n",
    "Utility functions used in the signal module.\n",
    "\n",
    "- `ispower2::int->bool`: check if the input `int` is a power of 2\n",
    "- `linespace::(signum a, int n)=>a->a->n->[a]`: function in the form of `f(a,b,n)` generates the sequence of equal spacing fractional numbers in interval `[a,b]` with length of `n`.\n",
    "- `windowed :: int->Sequence[a]->Generator[Sequence[a],None,None]`: give rise to sliding windows on the input sequence of type `a`.\n",
    "\n",
    "``` {literalinclude} ./Signal/Utils.py\n",
    "---\n",
    "name: Utils\n",
    "language: python\n",
    "linenos: True\n",
    "caption: |\n",
    "    `package Signal.Utils`\n",
    "```\n"
   ]
  },
  {
   "attachments": {},
   "cell_type": "markdown",
   "metadata": {},
   "source": [
    "## Signal types\n",
    "\n",
    "This package is about the types for the signal spaces. It defines `signum` as the (literal) data type. It is the type of the data in which the signal space package uses. It is more like a configuration parameter.\n",
    "\n",
    "Currently, `signum` is set to `int|float|complex|str|None|tuple[()]`.\n",
    "\n",
    "It also consists of the definitons of `Sig_0`, `Sig_1` and `Sig_3` representing 0-sig, 1-sig and 3-sig respectively.\n",
    "\n",
    "- `sig_0`: list of type `signum`, so 0-sig in python is a list, but not an arbitrary list, it is a list constrainted by `signum`, a literal type in particular.\n",
    "- `sig_1` list of `sig_0`. Each element is intended to be a block in the original signal. The usual use case is that blocks are non-overlapping blocks and the union is the original signal.\n",
    "- `sig_3` is a list of triples of `sig_0`. The center `sig_0` in the triple is intended to be the corresponding block in `sig_1`, the left `sig_0` in the triple is the left extension of the center `sig_0` while the right one is the right extension.\n",
    "\n",
    "``` {literalinclude} ./Signal/Types.py\n",
    "---\n",
    "name: Types\n",
    "language: python\n",
    "linenos: True\n",
    "caption: |\n",
    "    `package Signal.Types`\n",
    "```"
   ]
  },
  {
   "cell_type": "code",
   "execution_count": 26,
   "metadata": {},
   "outputs": [],
   "source": [
    "from Signal.Types import sig_0, sig_1, sig_3\n",
    "\n",
    "a=sig_0([1,2,3,4])\n",
    "b=sig_1([a,a,a])\n",
    "c=sig_3([(a,a,a),(a,a,a),(a,a,a)])"
   ]
  },
  {
   "cell_type": "code",
   "execution_count": 27,
   "metadata": {},
   "outputs": [],
   "source": [
    "def is_generic(t: type):\n",
    "    return hasattr(t, \"__origin__\")\n",
    "\n",
    "def is_generic_of(t: object, origin: object) -> bool:\n",
    "    return is_generic(t) and t.__origin__ == origin  # type: ignore"
   ]
  },
  {
   "cell_type": "code",
   "execution_count": 28,
   "metadata": {},
   "outputs": [
    {
     "data": {
      "text/plain": [
       "False"
      ]
     },
     "execution_count": 28,
     "metadata": {},
     "output_type": "execute_result"
    }
   ],
   "source": [
    "is_generic_of(a,sig_0)"
   ]
  },
  {
   "cell_type": "code",
   "execution_count": 29,
   "metadata": {},
   "outputs": [
    {
     "data": {
      "text/plain": [
       "True"
      ]
     },
     "execution_count": 29,
     "metadata": {},
     "output_type": "execute_result"
    }
   ],
   "source": [
    "is_generic_of(sig_0,list)"
   ]
  },
  {
   "attachments": {},
   "cell_type": "markdown",
   "metadata": {},
   "source": [
    "OMG....., so `sig_0([1,2,3,4])` does nothing but `[1,2,3,4]`, ok, just for the type hint, i.e. static type checker, no complain...."
   ]
  },
  {
   "cell_type": "code",
   "execution_count": 30,
   "metadata": {},
   "outputs": [
    {
     "name": "stdout",
     "output_type": "stream",
     "text": [
      "[1, 2, 3, 4]\n",
      "[[1, 2, 3, 4], [1, 2, 3, 4], [1, 2, 3, 4]]\n",
      "[([1, 2, 3, 4], [1, 2, 3, 4], [1, 2, 3, 4]), ([1, 2, 3, 4], [1, 2, 3, 4], [1, 2, 3, 4]), ([1, 2, 3, 4], [1, 2, 3, 4], [1, 2, 3, 4])]\n"
     ]
    }
   ],
   "source": [
    "print(a)\n",
    "print(b)\n",
    "print(c)"
   ]
  },
  {
   "attachments": {},
   "cell_type": "markdown",
   "metadata": {},
   "source": [
    "## Padding\n",
    "Padding package consists of `PaddingMethodNames` and `padding`:\n",
    "- `PaddingMethodNames`: `Enum` type, defines the names of three padding methds, `ZERO`, `PERIODIC` and `SYMETRIC`.\n",
    "- `padding`: a dictionary type, the key is padding method name, and the value is the function for padding corresponding to the method name, to be specific:\n",
    "    - `padding[PaddingMethodNames.ZERO]=zero(n,v)`\n",
    "    - `padding[PaddingMethodNames.PERIODIC]=periodic(n,v)`\n",
    "    - `padding[PaddingMethodNames.SYMETRIC]=symetric(n,v)`\n",
    " \n",
    "    where `n` is the length of the extension, `v` is the signal with type `Sig_0`. The return type is a pair of type `(Sig_0,Sig_0)`, correponding to the left and right extension repectively.\n",
    "\n",
    "``` {literalinclude} ./Signal/Padding.py\n",
    "---\n",
    "name: Padding\n",
    "language: python\n",
    "linenos: True\n",
    "caption: |\n",
    "    `package Signal.Padding`\n",
    "```"
   ]
  },
  {
   "cell_type": "code",
   "execution_count": 31,
   "metadata": {},
   "outputs": [
    {
     "name": "stdout",
     "output_type": "stream",
     "text": [
      "PaddingMethod.ZERO\n",
      "PaddingMethod.PERIODIC\n",
      "PaddingMethod.SYMETRIC\n"
     ]
    }
   ],
   "source": [
    "from Signal.Padding import PaddingMethodNames as pmn\n",
    "\n",
    "for i in pmn: print(i)"
   ]
  },
  {
   "cell_type": "code",
   "execution_count": 32,
   "metadata": {},
   "outputs": [
    {
     "name": "stdout",
     "output_type": "stream",
     "text": [
      "[1, 2, 3, 4, 5, 6, 7, 8]\n",
      "PaddingMethod.ZERO: ([0.0, 0.0, 0.0, 0.0], [0.0, 0.0, 0.0, 0.0])\n",
      "PaddingMethod.PERIODIC: ([5, 6, 7, 8], [1, 2, 3, 4])\n",
      "PaddingMethod.SYMETRIC: ([4, 3, 2, 1], [8, 7, 6, 5])\n"
     ]
    }
   ],
   "source": [
    "from Signal.Padding import padding\n",
    "from Signal.Types import sig_0\n",
    "\n",
    "a=sig_0([x for x in range(1,9)])\n",
    "foo = map((lambda x: padding[x](4,a)), pmn)\n",
    "print(a)\n",
    "for i,j in zip(pmn,foo): print(str(i)+\":\",j)"
   ]
  },
  {
   "attachments": {},
   "cell_type": "markdown",
   "metadata": {},
   "source": [
    "## Signal contexts\n",
    "`Sig_0`, `Sig_1` and `Sig_3` are the container. We need to attach contexts to them. There are two classes of contexts:\n",
    "computational contexts and iteration contexts. \n",
    "\n",
    "The computational context consists of:\n",
    "- functor: it is just a map, so it models a single for-loop.\n",
    "- applicative: multiple maps, so it models multiple independent for-loops.\n",
    "- monad: main method is the the bind function. It also a functor and an applicative. A chain of bind functions can emulate multiple layer for-loops.\n",
    "\n",
    "The computation results are retained within the container.\n",
    "\n",
    "The iteration context has two classes:\n",
    "- foldable\n",
    "- traversable\n",
    "\n",
    "All contexts from the `Signal` package are derived from the list contexts defined in the package `Contexts`, the types are restricted to `sig_0`, `sig_1` and `sig_3`:\n",
    "- `Sigor`: stands for signal functor.\n",
    "- `Sigive`: Signal applicative functor.\n",
    "- `SigMonad`: Signal monad, it is also a `Sigor` and `Sigive`."
   ]
  },
  {
   "cell_type": "code",
   "execution_count": 33,
   "metadata": {},
   "outputs": [
    {
     "data": {
      "text/plain": [
       "['1.0', '2.0', '3.0', '4.0', '5.0', '6.0', '7.0', '8.0']"
      ]
     },
     "execution_count": 33,
     "metadata": {},
     "output_type": "execute_result"
    }
   ],
   "source": [
    "from Signal.Contexts import Sigor\n",
    "\n",
    "s=Sigor(a)\n",
    "s.fmap(float).fmap(str)"
   ]
  },
  {
   "attachments": {},
   "cell_type": "markdown",
   "metadata": {},
   "source": [
    "eh...., problem with static checker or problem with our design?"
   ]
  },
  {
   "cell_type": "code",
   "execution_count": 34,
   "metadata": {},
   "outputs": [
    {
     "name": "stdout",
     "output_type": "stream",
     "text": [
      "140559586094080 140559585865600\n"
     ]
    }
   ],
   "source": [
    "print(id(a),id(s))"
   ]
  },
  {
   "attachments": {},
   "cell_type": "markdown",
   "metadata": {},
   "source": [
    "So, `Sigor` made a copy of `a`.....as expected. Each `fmap` creates two new copies (one from `map`, the other from the constructor of `Sigor`). This seems to be a draw back of `Sigor`. But using `map` directly seems to have the same effect. Something to think about...."
   ]
  },
  {
   "cell_type": "code",
   "execution_count": 35,
   "metadata": {},
   "outputs": [
    {
     "name": "stdout",
     "output_type": "stream",
     "text": [
      "1.0\n",
      "2.0\n",
      "3.0\n",
      "4.0\n",
      "5.0\n",
      "6.0\n",
      "7.0\n",
      "8.0\n"
     ]
    },
    {
     "data": {
      "text/plain": [
       "[None, None, None, None, None, None, None, None]"
      ]
     },
     "execution_count": 35,
     "metadata": {},
     "output_type": "execute_result"
    }
   ],
   "source": [
    "s.fmap(float).fmap(str).fmap(print)"
   ]
  },
  {
   "cell_type": "code",
   "execution_count": 36,
   "metadata": {},
   "outputs": [
    {
     "data": {
      "text/plain": [
       "108.0"
      ]
     },
     "execution_count": 36,
     "metadata": {},
     "output_type": "execute_result"
    }
   ],
   "source": [
    "b=[a,a,a]\n",
    "s=Sigor(b)\n",
    "sum(s.fmap(sum).fmap(float).fmap(abs))"
   ]
  },
  {
   "cell_type": "code",
   "execution_count": 37,
   "metadata": {},
   "outputs": [],
   "source": [
    "from Signal.Contexts import Sigive\n",
    "\n",
    "s=Sigive(a)"
   ]
  },
  {
   "cell_type": "code",
   "execution_count": 38,
   "metadata": {},
   "outputs": [
    {
     "data": {
      "text/plain": [
       "[3]"
      ]
     },
     "execution_count": 38,
     "metadata": {},
     "output_type": "execute_result"
    }
   ],
   "source": [
    "s.pure(3)"
   ]
  },
  {
   "cell_type": "code",
   "execution_count": 39,
   "metadata": {},
   "outputs": [
    {
     "data": {
      "text/plain": [
       "[-1,\n",
       " -2,\n",
       " -3,\n",
       " -4,\n",
       " -5,\n",
       " -6,\n",
       " -7,\n",
       " -8,\n",
       " -1.0,\n",
       " -2.0,\n",
       " -3.0,\n",
       " -4.0,\n",
       " -5.0,\n",
       " -6.0,\n",
       " -7.0,\n",
       " -8.0]"
      ]
     },
     "execution_count": 39,
     "metadata": {},
     "output_type": "execute_result"
    }
   ],
   "source": [
    "s.ap([abs,float]).fmap(lambda x: -x)"
   ]
  },
  {
   "cell_type": "code",
   "execution_count": 40,
   "metadata": {},
   "outputs": [
    {
     "data": {
      "text/plain": [
       "[10, 11, 12, 13, 14, 15, 16, 17, 11, 12, 13, 14, 15, 16, 17, 18]"
      ]
     },
     "execution_count": 40,
     "metadata": {},
     "output_type": "execute_result"
    }
   ],
   "source": [
    "from Signal.Contexts import SigLiftA2\n",
    "\n",
    "a=[1,2]\n",
    "b=[x for x in range(9,17)]\n",
    "list(SigLiftA2((lambda x, y: x+y),a,b))"
   ]
  },
  {
   "cell_type": "code",
   "execution_count": 41,
   "metadata": {},
   "outputs": [],
   "source": [
    "from Signal.Contexts import SigMonad\n",
    "\n",
    "a=[x for x in range(1,9)]\n",
    "m=SigMonad(a)"
   ]
  },
  {
   "cell_type": "code",
   "execution_count": 42,
   "metadata": {},
   "outputs": [
    {
     "data": {
      "text/plain": [
       "[1, 2, 1, 2, 1, 2, 1, 2, 1, 2, 1, 2, 1, 2, 1, 2]"
      ]
     },
     "execution_count": 42,
     "metadata": {},
     "output_type": "execute_result"
    }
   ],
   "source": [
    "m.then([1,2])"
   ]
  },
  {
   "cell_type": "code",
   "execution_count": 43,
   "metadata": {},
   "outputs": [
    {
     "data": {
      "text/plain": [
       "[1.0, 2.0, 3.0, 4.0, 5.0, 6.0, 7.0, 8.0]"
      ]
     },
     "execution_count": 43,
     "metadata": {},
     "output_type": "execute_result"
    }
   ],
   "source": [
    "m.fmap(float)\n"
   ]
  },
  {
   "cell_type": "code",
   "execution_count": 44,
   "metadata": {},
   "outputs": [
    {
     "data": {
      "text/plain": [
       "[1.0, 2.0, 3.0, 4.0, 5.0, 6.0, 7.0, 8.0, 3, 4, 5, 6, 7, 8, 9, 10]"
      ]
     },
     "execution_count": 44,
     "metadata": {},
     "output_type": "execute_result"
    }
   ],
   "source": [
    "m.ap([float,(lambda x: x+2)])"
   ]
  },
  {
   "cell_type": "code",
   "execution_count": 45,
   "metadata": {},
   "outputs": [
    {
     "data": {
      "text/plain": [
       "[0, 1, 2, 1, 2, 3, 2, 3, 4, 3, 4, 5, 4, 5, 6, 5, 6, 7, 6, 7, 8, 7, 8, 9]"
      ]
     },
     "execution_count": 45,
     "metadata": {},
     "output_type": "execute_result"
    }
   ],
   "source": [
    "m.bind(lambda x:[x-1,x,x+1])"
   ]
  },
  {
   "cell_type": "code",
   "execution_count": 46,
   "metadata": {},
   "outputs": [
    {
     "data": {
      "text/plain": [
       "[[0, 1, 2],\n",
       " [1, 2, 3],\n",
       " [2, 3, 4],\n",
       " [3, 4, 5],\n",
       " [4, 5, 6],\n",
       " [5, 6, 7],\n",
       " [6, 7, 8],\n",
       " [7, 8, 9]]"
      ]
     },
     "execution_count": 46,
     "metadata": {},
     "output_type": "execute_result"
    }
   ],
   "source": [
    "m.bind(lambda x:[[x-1,x,x+1]])"
   ]
  },
  {
   "attachments": {},
   "cell_type": "markdown",
   "metadata": {},
   "source": [
    "## The model\n",
    "The model package provides two morphisoms `blocks` and `oblocks`: \n",
    "- `blocks` - type definition: `blocks::int->sig_0->sig_1`, function form - `blocks(n,v)`. This maps an input signal `v` in type `sig_0` to `sig_1`, each with length of `n`.\n",
    "- `oblocks` - type definition: `oblocks::PaddingMethd->int->sig_1->sig_3`, function  form `f(pm,n,b)`. `oblocks` maps `b` in type `sig_1` to `sig_3` with `PaddingMethod` pm and extension length `n`."
   ]
  },
  {
   "cell_type": "code",
   "execution_count": 47,
   "metadata": {},
   "outputs": [
    {
     "data": {
      "text/plain": [
       "[[1, 2], [3, 4], [5, 6], [7, 8]]"
      ]
     },
     "execution_count": 47,
     "metadata": {},
     "output_type": "execute_result"
    }
   ],
   "source": [
    "from Signal.Morphisms import blocks\n",
    "\n",
    "a=sig_0([x for x in range(1,9)])\n",
    "blocks(2,a)"
   ]
  },
  {
   "cell_type": "code",
   "execution_count": 48,
   "metadata": {},
   "outputs": [
    {
     "data": {
      "text/plain": [
       "[([0, 0], [1, 2, 3, 4], [5, 6]), ([3, 4], [5, 6, 7, 8], [0, 0])]"
      ]
     },
     "execution_count": 48,
     "metadata": {},
     "output_type": "execute_result"
    }
   ],
   "source": [
    "from Signal.Morphisms import oblocks, getExtensions, leftEdge, rightEdge\n",
    "from Signal.Padding import PaddingMethodNames\n",
    "from Contexts.Foldable import scanl, scanr\n",
    "\n",
    "from functools import partial\n",
    "\n",
    "b=blocks(4,a)\n",
    "oblocks(PaddingMethodNames.ZERO,2,b)"
   ]
  },
  {
   "cell_type": "code",
   "execution_count": 49,
   "metadata": {},
   "outputs": [
    {
     "data": {
      "text/plain": [
       "[([7, 8], [1, 2, 3, 4], [5, 6]), ([3, 4], [5, 6, 7, 8], [1, 2])]"
      ]
     },
     "execution_count": 49,
     "metadata": {},
     "output_type": "execute_result"
    }
   ],
   "source": [
    "oblocks(PaddingMethodNames.PERIODIC,2,b)"
   ]
  },
  {
   "cell_type": "code",
   "execution_count": 50,
   "metadata": {},
   "outputs": [
    {
     "data": {
      "text/plain": [
       "[([2, 1], [1, 2, 3, 4], [5, 6]), ([3, 4], [5, 6, 7, 8], [8, 7])]"
      ]
     },
     "execution_count": 50,
     "metadata": {},
     "output_type": "execute_result"
    }
   ],
   "source": [
    "oblocks(PaddingMethodNames.SYMETRIC,2,b)"
   ]
  },
  {
   "attachments": {},
   "cell_type": "markdown",
   "metadata": {},
   "source": [
    "## Algorithms\n",
    "Algorithms are endomorphisms in `sig_0` or `(sig_0,sig_0,sig_0)`. For the case of `sig_0`, each algorithm maps a `sig_0` concrete object to a another `sig_0` concrete object (here the name object is in the sense of programming, e.g. `1` is an object of `int`). The same is true for the case of `(sig_0,sig_0,sig_0)`."
   ]
  },
  {
   "attachments": {},
   "cell_type": "markdown",
   "metadata": {},
   "source": [
    "## Schemes\n",
    "Schemes are the mappings between `sig_1` and `sig_3`. So they are the mappings in the category level.\n",
    "- `sig_1` to `sig_1` or `sig_3` to `sig_3`\n",
    "- `sig_1` to `sig_3` or `sig_3` to `sig_1`\n",
    "- Tree structure for the adaptive schemes (to be determined)."
   ]
  },
  {
   "cell_type": "markdown",
   "metadata": {},
   "source": []
  }
 ],
 "metadata": {
  "kernelspec": {
   "display_name": "python3.11",
   "language": "python",
   "name": "python3"
  },
  "language_info": {
   "codemirror_mode": {
    "name": "ipython",
    "version": 3
   },
   "file_extension": ".py",
   "mimetype": "text/x-python",
   "name": "python",
   "nbconvert_exporter": "python",
   "pygments_lexer": "ipython3",
   "version": "3.11.1"
  },
  "orig_nbformat": 4,
  "vscode": {
   "interpreter": {
    "hash": "b10226086f9c590e4f011c15abe890420217b7a9f5fcad7de85d05c11c6ee1f9"
   }
  }
 },
 "nbformat": 4,
 "nbformat_minor": 2
}
