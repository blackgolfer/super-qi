{
 "cells": [
  {
   "attachments": {},
   "cell_type": "markdown",
   "metadata": {},
   "source": [
    "# Signal Spaces"
   ]
  },
  {
   "attachments": {},
   "cell_type": "markdown",
   "metadata": {},
   "source": [
    "## Signal types\n",
    "We define the data type `SigNum` as primitive data type. It is the type of the data in which the signal space package uses. It is more like a configuration parameter.\n",
    "\n",
    "Currently, `SigNum` is set to `float`."
   ]
  },
  {
   "attachments": {},
   "cell_type": "markdown",
   "metadata": {},
   "source": [
    "## Utils\n",
    "Utility functions used in the signal module.\n",
    "\n",
    "- `ispower2::Int->Bool`: check if the input `int` is a power of 2\n",
    "- `linespace::(Fractiona a, Ord a, Integral n)=>a->a->n->[a]`: function in the form of `f(a,b,n)` generates the sequence of equal spacing fractional numbers in interval `[a,b]` with length of `n`.\n",
    "- `windowed :: Int->[a]->[[a]]`: give rise to sliding windows on the input list of type `a`.\n",
    "\n",
    "``` {literalinclude} ./Signal/Utils.py\n",
    "---\n",
    "name: Utils\n",
    "language: python\n",
    "linenos: True\n",
    "caption: |\n",
    "    `package Signal.Utils` source code\n",
    "```\n"
   ]
  },
  {
   "cell_type": "code",
   "execution_count": 1,
   "metadata": {},
   "outputs": [],
   "source": [
    "## Padding\n"
   ]
  },
  {
   "cell_type": "code",
   "execution_count": 2,
   "metadata": {},
   "outputs": [
    {
     "name": "stdout",
     "output_type": "stream",
     "text": [
      "PaddingMethod.ZERO\n",
      "PaddingMethod.PERIODIC\n",
      "PaddingMethod.SYMETRIC\n"
     ]
    }
   ],
   "source": [
    "from Signal.Padding import PaddingMethodNames as pmn\n",
    "\n",
    "for i in pmn:\n",
    "    print(i)"
   ]
  },
  {
   "cell_type": "code",
   "execution_count": 3,
   "metadata": {},
   "outputs": [
    {
     "name": "stdout",
     "output_type": "stream",
     "text": [
      "[1.0, 2.0, 3.0, 4.0, 5.0, 6.0, 7.0, 8.0]\n",
      "PaddingMethod.ZERO: ([0.0, 0.0, 0.0, 0.0], [0.0, 0.0, 0.0, 0.0])\n",
      "PaddingMethod.PERIODIC: ([5.0, 6.0, 7.0, 8.0], [1.0, 2.0, 3.0, 4.0])\n",
      "PaddingMethod.SYMETRIC: ([4.0, 3.0, 2.0, 1.0], [8.0, 7.0, 6.0, 5.0])\n"
     ]
    }
   ],
   "source": [
    "from Signal.Padding import padding\n",
    "\n",
    "a=[float(x) for x in range(1,9)]\n",
    "foo = map((lambda x: padding[x](4,a)), pmn)\n",
    "print(a)\n",
    "for i,j in zip(pmn,foo):\n",
    "    print(str(i)+\":\",j)"
   ]
  },
  {
   "attachments": {},
   "cell_type": "markdown",
   "metadata": {},
   "source": [
    "## The model\n",
    "The model consists of the definitons of `Sig_0`, `Sig_1` and `Sig_3` representing 0-sig, 1-sig and 3-sig respectively.\n",
    "\n",
    "- `Sig_0`: list of type `SigNum`\n",
    "- `Sig_1` list of `Sig_0`. \n",
    "- `Sig_3` is a list of triples of `Sig_0`.\n",
    "\n",
    "The model package also provides two morphisoms `blocks` and `oblocks`: \n",
    "- `blocks` - type definition: `blocks::int->Sig_0->Sig_1`, function form - `blocks(n,v)`. This maps an input signal `v` in type `Sig_0` to `Sig_1`, each with length of `n`.\n",
    "- `oblocks` - type definition: `oblocks::PaddingMethd->int->Sig_1->Sig_3`, function  form `f(pm,n,b)`. `oblocks` maps `b` in type `Sig_1` to `Sig_3` with `PaddingMethod` pm and extension length `n`."
   ]
  },
  {
   "cell_type": "code",
   "execution_count": 4,
   "metadata": {},
   "outputs": [],
   "source": [
    "from Signal.Types import Sig_0, Sig_1, Sig_3\n",
    "\n",
    "a=Sig_0([1,2,3,4])\n",
    "b=Sig_1([a,a,a])\n",
    "c=Sig_3([(a,a,a),(a,a,a),(a,a,a)])"
   ]
  },
  {
   "cell_type": "code",
   "execution_count": 5,
   "metadata": {},
   "outputs": [
    {
     "name": "stdout",
     "output_type": "stream",
     "text": [
      "[1, 2, 3, 4]\n",
      "[[1, 2, 3, 4], [1, 2, 3, 4], [1, 2, 3, 4]]\n",
      "[([1, 2, 3, 4], [1, 2, 3, 4], [1, 2, 3, 4]), ([1, 2, 3, 4], [1, 2, 3, 4], [1, 2, 3, 4]), ([1, 2, 3, 4], [1, 2, 3, 4], [1, 2, 3, 4])]\n"
     ]
    }
   ],
   "source": [
    "print(a)\n",
    "print(b)\n",
    "print(c)"
   ]
  },
  {
   "attachments": {},
   "cell_type": "markdown",
   "metadata": {},
   "source": [
    "## Signal contexts"
   ]
  },
  {
   "cell_type": "code",
   "execution_count": 7,
   "metadata": {},
   "outputs": [
    {
     "data": {
      "text/plain": [
       "[[1, 2], [3, 4], [5, 6], [7, 8]]"
      ]
     },
     "execution_count": 7,
     "metadata": {},
     "output_type": "execute_result"
    }
   ],
   "source": [
    "from Signal.Model import blocks\n",
    "\n",
    "a=Sig_0([x for x in range(1,9)])\n",
    "blocks(2,a)"
   ]
  },
  {
   "cell_type": "code",
   "execution_count": 11,
   "metadata": {},
   "outputs": [
    {
     "data": {
      "text/plain": [
       "['1.0', '2.0', '3.0', '4.0', '5.0', '6.0', '7.0', '8.0']"
      ]
     },
     "execution_count": 11,
     "metadata": {},
     "output_type": "execute_result"
    }
   ],
   "source": [
    "from Signal.Contexts import Sigor\n",
    "\n",
    "s=Sigor(a)\n",
    "s.fmap(float).fmap(str)"
   ]
  },
  {
   "cell_type": "code",
   "execution_count": 12,
   "metadata": {},
   "outputs": [
    {
     "name": "stdout",
     "output_type": "stream",
     "text": [
      "1.0\n",
      "2.0\n",
      "3.0\n",
      "4.0\n",
      "5.0\n",
      "6.0\n",
      "7.0\n",
      "8.0\n"
     ]
    },
    {
     "data": {
      "text/plain": [
       "[None, None, None, None, None, None, None, None]"
      ]
     },
     "execution_count": 12,
     "metadata": {},
     "output_type": "execute_result"
    }
   ],
   "source": [
    "s.fmap(float).fmap(str).fmap(print)"
   ]
  },
  {
   "cell_type": "code",
   "execution_count": 20,
   "metadata": {},
   "outputs": [
    {
     "data": {
      "text/plain": [
       "108.0"
      ]
     },
     "execution_count": 20,
     "metadata": {},
     "output_type": "execute_result"
    }
   ],
   "source": [
    "b=Sig_1([a,a,a])\n",
    "s=Sigor(b)\n",
    "sum(s.fmap(sum).fmap(float).fmap(abs))"
   ]
  },
  {
   "attachments": {},
   "cell_type": "markdown",
   "metadata": {},
   "source": [
    "## Algorithms"
   ]
  }
 ],
 "metadata": {
  "kernelspec": {
   "display_name": "python3.11",
   "language": "python",
   "name": "python3"
  },
  "language_info": {
   "codemirror_mode": {
    "name": "ipython",
    "version": 3
   },
   "file_extension": ".py",
   "mimetype": "text/x-python",
   "name": "python",
   "nbconvert_exporter": "python",
   "pygments_lexer": "ipython3",
   "version": "3.11.1"
  },
  "orig_nbformat": 4,
  "vscode": {
   "interpreter": {
    "hash": "b10226086f9c590e4f011c15abe890420217b7a9f5fcad7de85d05c11c6ee1f9"
   }
  }
 },
 "nbformat": 4,
 "nbformat_minor": 2
}
