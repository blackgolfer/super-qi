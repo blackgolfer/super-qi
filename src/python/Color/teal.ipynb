{
 "cells": [
  {
   "attachments": {},
   "cell_type": "markdown",
   "metadata": {},
   "source": [
    "# Teal Color Harmony\n",
    "Reference:\n",
    "1. [21 Beautiful Colors That Always Pair Well With Teal](https://www.mydomaine.com/what-colors-go-with-teal-5186804#:~:text=Teal%20and%20yellow%20(especially%20darker,adds%20a%20lot%20of%20interest.))"
   ]
  },
  {
   "cell_type": "code",
   "execution_count": 1,
   "metadata": {},
   "outputs": [],
   "source": [
    "import colorsys"
   ]
  },
  {
   "cell_type": "code",
   "execution_count": 2,
   "metadata": {},
   "outputs": [],
   "source": [
    "from Color import Calc, Plot"
   ]
  },
  {
   "attachments": {},
   "cell_type": "markdown",
   "metadata": {},
   "source": [
    "## The color teal"
   ]
  },
  {
   "cell_type": "code",
   "execution_count": 3,
   "metadata": {},
   "outputs": [],
   "source": [
    "hex_teal='#008080'\n",
    "rgb_teal=Calc.hex2rgb(hex_teal)"
   ]
  },
  {
   "cell_type": "code",
   "execution_count": 4,
   "metadata": {},
   "outputs": [
    {
     "data": {
      "image/png": "[encoded data removed]",
      "text/plain": [
       "<Figure size 100x100 with 1 Axes>"
      ]
     },
     "metadata": {},
     "output_type": "display_data"
    }
   ],
   "source": [
    "palette=[hex_teal]\n",
    "Plot.plot_palette(palette)"
   ]
  },
  {
   "attachments": {},
   "cell_type": "markdown",
   "metadata": {},
   "source": [
    "### Complementary"
   ]
  },
  {
   "cell_type": "code",
   "execution_count": 5,
   "metadata": {},
   "outputs": [],
   "source": [
    "rgb_teal_c=Calc.complementary(rgb_teal)\n",
    "rgb_teal_rgbc=Calc.rgb_complementary(rgb_teal)\n",
    "hex_teal_c=Calc.rgb2hex(rgb_teal_c)\n",
    "hex_teal_rgbc=Calc.rgb2hex(rgb_teal_rgbc)"
   ]
  },
  {
   "cell_type": "code",
   "execution_count": 6,
   "metadata": {},
   "outputs": [
    {
     "data": {
      "image/png": "[encoded data removed]",
      "text/plain": [
       "<Figure size 200x100 with 1 Axes>"
      ]
     },
     "metadata": {},
     "output_type": "display_data"
    }
   ],
   "source": [
    "palette=[hex_teal_c,hex_teal_rgbc]\n",
    "Plot.plot_palette(palette)"
   ]
  },
  {
   "attachments": {},
   "cell_type": "markdown",
   "metadata": {},
   "source": [
    "The two complementary algorithms are very different, in particular, one can't convert the rgb complementary algorithm to hue complementary algorithm by using `tint`. "
   ]
  },
  {
   "cell_type": "code",
   "execution_count": 7,
   "metadata": {},
   "outputs": [
    {
     "data": {
      "image/png": "[encoded data removed]",
      "text/plain": [
       "<Figure size 200x100 with 1 Axes>"
      ]
     },
     "metadata": {},
     "output_type": "display_data"
    }
   ],
   "source": [
    "palette=[hex_teal_c,Calc.rgb2hex(Calc.tint(rgb_teal_rgbc,.25))]\n",
    "Plot.plot_palette(palette)"
   ]
  },
  {
   "attachments": {},
   "cell_type": "markdown",
   "metadata": {},
   "source": [
    "### Triadic"
   ]
  },
  {
   "cell_type": "code",
   "execution_count": 8,
   "metadata": {},
   "outputs": [
    {
     "data": {
      "image/png": "[encoded data removed]",
      "text/plain": [
       "<Figure size 200x100 with 1 Axes>"
      ]
     },
     "metadata": {},
     "output_type": "display_data"
    }
   ],
   "source": [
    "rgb_teal_triadic=Calc.triadic(rgb_teal)\n",
    "hex_teal_triadic=[Calc.rgb2hex(x) for x in rgb_teal_triadic]\n",
    "Plot.plot_palette(hex_teal_triadic)"
   ]
  },
  {
   "cell_type": "code",
   "execution_count": 9,
   "metadata": {},
   "outputs": [
    {
     "data": {
      "image/png": "[encoded data removed]",
      "text/plain": [
       "<Figure size 300x100 with 1 Axes>"
      ]
     },
     "metadata": {},
     "output_type": "display_data"
    }
   ],
   "source": [
    "Plot.plot_palette([hex_teal]+hex_teal_triadic)"
   ]
  },
  {
   "attachments": {},
   "cell_type": "markdown",
   "metadata": {},
   "source": [
    "### Tetradic"
   ]
  },
  {
   "cell_type": "code",
   "execution_count": 10,
   "metadata": {},
   "outputs": [
    {
     "data": {
      "image/png": "[encoded data removed]",
      "text/plain": [
       "<Figure size 300x100 with 1 Axes>"
      ]
     },
     "metadata": {},
     "output_type": "display_data"
    }
   ],
   "source": [
    "rgb_teal_tetradic=Calc.tetradic(rgb_teal)\n",
    "hex_teal_tetradic=[Calc.rgb2hex(x) for x in rgb_teal_tetradic]\n",
    "Plot.plot_palette(hex_teal_tetradic)"
   ]
  },
  {
   "cell_type": "code",
   "execution_count": 11,
   "metadata": {},
   "outputs": [
    {
     "data": {
      "image/png": "[encoded data removed]",
      "text/plain": [
       "<Figure size 400x100 with 1 Axes>"
      ]
     },
     "metadata": {},
     "output_type": "display_data"
    }
   ],
   "source": [
    "Plot.plot_palette([hex_teal]+hex_teal_tetradic)"
   ]
  },
  {
   "attachments": {},
   "cell_type": "markdown",
   "metadata": {},
   "source": [
    "## Tint teal"
   ]
  },
  {
   "cell_type": "code",
   "execution_count": 12,
   "metadata": {},
   "outputs": [],
   "source": [
    "rgb_teal_tint=Calc.tint(rgb_teal,0.5)\n",
    "hex_teal_tint=Calc.rgb2hex(rgb_teal_tint)\n",
    "rgb_teal_tint_triadic=Calc.triadic(rgb_teal_tint)\n",
    "hex_teal_tint_triadic=[Calc.rgb2hex(x) for x in rgb_teal_tint_triadic]\n",
    "rgb_teal_tint_tetradic=Calc.tetradic(rgb_teal_tint)\n",
    "hex_teal_tint_tetradic=[Calc.rgb2hex(x) for x in rgb_teal_tint_tetradic]"
   ]
  },
  {
   "cell_type": "code",
   "execution_count": 13,
   "metadata": {},
   "outputs": [
    {
     "data": {
      "image/png": "[encoded data removed]",
      "text/plain": [
       "<Figure size 300x100 with 1 Axes>"
      ]
     },
     "metadata": {},
     "output_type": "display_data"
    }
   ],
   "source": [
    "Plot.plot_palette([hex_teal_tint]+hex_teal_tint_triadic)"
   ]
  },
  {
   "cell_type": "code",
   "execution_count": 14,
   "metadata": {},
   "outputs": [
    {
     "data": {
      "image/png": "[encoded data removed]",
      "text/plain": [
       "<Figure size 400x100 with 1 Axes>"
      ]
     },
     "metadata": {},
     "output_type": "display_data"
    }
   ],
   "source": [
    "from Color.Calc import foreground, add\n",
    "palette_teal_tint_tetradic=[hex_teal_tint]+hex_teal_tint_tetradic\n",
    "palette_teal_tint_complement=list(map(lambda x:foreground(x),palette_teal_tint_tetradic))\n",
    "Plot.plot_palette(palette_teal_tint_tetradic)"
   ]
  },
  {
   "cell_type": "code",
   "execution_count": 15,
   "metadata": {},
   "outputs": [
    {
     "data": {
      "image/png": "[encoded data removed]",
      "text/plain": [
       "<Figure size 400x100 with 1 Axes>"
      ]
     },
     "metadata": {},
     "output_type": "display_data"
    }
   ],
   "source": [
    "Plot.plot_palette(palette_teal_tint_complement)"
   ]
  },
  {
   "cell_type": "code",
   "execution_count": 16,
   "metadata": {},
   "outputs": [
    {
     "data": {
      "text/plain": [
       "['#7fbfbf', '#17e17e1be', '#bf7f7f', '#bfbf7f']"
      ]
     },
     "execution_count": 16,
     "metadata": {},
     "output_type": "execute_result"
    }
   ],
   "source": [
    "list(map(lambda x:add(x[0],x[1]),zip(palette_teal_tint_tetradic,palette_teal_tint_complement)))"
   ]
  },
  {
   "attachments": {},
   "cell_type": "markdown",
   "metadata": {},
   "source": [
    "## Shade teal"
   ]
  },
  {
   "cell_type": "code",
   "execution_count": 17,
   "metadata": {},
   "outputs": [],
   "source": [
    "rgb_teal_shade=Calc.shade(rgb_teal,0.5)\n",
    "hex_teal_shade=Calc.rgb2hex(rgb_teal_shade)\n",
    "rgb_teal_shade_triadic=Calc.triadic(rgb_teal_shade)\n",
    "hex_teal_shade_triadic=[Calc.rgb2hex(x) for x in rgb_teal_shade_triadic]\n",
    "rgb_teal_shade_tetradic=Calc.tetradic(rgb_teal_shade)\n",
    "hex_teal_shade_tetradic=[Calc.rgb2hex(x) for x in rgb_teal_shade_tetradic]"
   ]
  },
  {
   "cell_type": "code",
   "execution_count": 18,
   "metadata": {},
   "outputs": [
    {
     "data": {
      "image/png": "[encoded data removed]",
      "text/plain": [
       "<Figure size 300x100 with 1 Axes>"
      ]
     },
     "metadata": {},
     "output_type": "display_data"
    }
   ],
   "source": [
    "Plot.plot_palette([hex_teal_shade]+hex_teal_shade_triadic)"
   ]
  },
  {
   "cell_type": "code",
   "execution_count": 19,
   "metadata": {},
   "outputs": [
    {
     "data": {
      "image/png": "[encoded data removed]",
      "text/plain": [
       "<Figure size 400x100 with 1 Axes>"
      ]
     },
     "metadata": {},
     "output_type": "display_data"
    }
   ],
   "source": [
    "Plot.plot_palette([hex_teal_shade]+hex_teal_shade_tetradic)"
   ]
  },
  {
   "cell_type": "code",
   "execution_count": 20,
   "metadata": {},
   "outputs": [],
   "source": [
    "def background(c:str)->str:\n",
    "    rgb=Calc.hex2rgb(c)\n",
    "    rgb=Calc.rgb_complementary(rgb)\n",
    "    return Calc.rgb2hex(rgb)"
   ]
  },
  {
   "cell_type": "code",
   "execution_count": 21,
   "metadata": {},
   "outputs": [
    {
     "data": {
      "text/plain": [
       "'#6060c0'"
      ]
     },
     "execution_count": 21,
     "metadata": {},
     "output_type": "execute_result"
    }
   ],
   "source": [
    "background('#9f9f3f')"
   ]
  },
  {
   "cell_type": "code",
   "execution_count": 22,
   "metadata": {},
   "outputs": [
    {
     "data": {
      "text/plain": [
       "'6060c0'"
      ]
     },
     "execution_count": 22,
     "metadata": {},
     "output_type": "execute_result"
    }
   ],
   "source": [
    "background('#9f9f3f')[1:]"
   ]
  },
  {
   "cell_type": "code",
   "execution_count": 23,
   "metadata": {},
   "outputs": [],
   "source": [
    "from matplotlib import pyplot as plt\n",
    "\n",
    "plt.style.use(\"dark_background\")"
   ]
  },
  {
   "cell_type": "code",
   "execution_count": 24,
   "metadata": {},
   "outputs": [
    {
     "data": {
      "image/png": "[encoded data removed]",
      "text/plain": [
       "<Figure size 400x100 with 1 Axes>"
      ]
     },
     "metadata": {},
     "output_type": "display_data"
    }
   ],
   "source": [
    "Plot.plot_palette([hex_teal_shade]+hex_teal_shade_tetradic)"
   ]
  },
  {
   "cell_type": "code",
   "execution_count": 25,
   "metadata": {},
   "outputs": [],
   "source": [
    "from Color.Utils import latex_palette, latex_palette_file"
   ]
  },
  {
   "cell_type": "code",
   "execution_count": 26,
   "metadata": {},
   "outputs": [
    {
     "name": "stdout",
     "output_type": "stream",
     "text": [
      "\\definecolor[named]{primary}{HTML}{008080}\n",
      "\\definecolor[named]{secondary}{HTML}{000080}\n",
      "\\definecolor[named]{complement}{HTML}{800000}\n",
      "\\definecolor[named]{tertiary}{HTML}{808000}\n",
      "\\definecolor[named]{primaryc}{HTML}{ffffff}\n",
      "\\definecolor[named]{secondaryc}{HTML}{ffffff}\n",
      "\\definecolor[named]{complementc}{HTML}{ffffff}\n",
      "\\definecolor[named]{tertiaryc}{HTML}{ffffff}\n"
     ]
    }
   ],
   "source": [
    "latex_palette([hex_teal]+hex_teal_tetradic)\n",
    "latex_palette_file([hex_teal]+hex_teal_tetradic,'teal_tetradic.tex')"
   ]
  },
  {
   "cell_type": "code",
   "execution_count": 27,
   "metadata": {},
   "outputs": [],
   "source": [
    "latex_palette_file([hex_teal_shade]+hex_teal_shade_tetradic,'teal_shade_tetradic.tex')"
   ]
  },
  {
   "cell_type": "code",
   "execution_count": 28,
   "metadata": {},
   "outputs": [
    {
     "name": "stdout",
     "output_type": "stream",
     "text": [
      "\\definecolor[named]{primary}{HTML}{008080}\n",
      "\\definecolor[named]{secondary}{HTML}{7f7fbf}\n",
      "\\definecolor[named]{complement}{HTML}{bf7f7f}\n",
      "\\definecolor[named]{tertiary}{HTML}{bfbf7f}\n",
      "\\definecolor[named]{primaryc}{HTML}{ffffff}\n",
      "\\definecolor[named]{secondaryc}{HTML}{ffffff}\n",
      "\\definecolor[named]{complementc}{HTML}{000000}\n",
      "\\definecolor[named]{tertiaryc}{HTML}{000000}\n"
     ]
    }
   ],
   "source": [
    "palette_teal_tint_tetradic=[hex_teal]+hex_teal_tint_tetradic\n",
    "latex_palette(palette_teal_tint_tetradic)\n",
    "latex_palette_file(palette_teal_tint_tetradic,'teal_tint_tetradic.tex')"
   ]
  },
  {
   "attachments": {},
   "cell_type": "markdown",
   "metadata": {},
   "source": [
    "## Determine the foreground color"
   ]
  },
  {
   "cell_type": "code",
   "execution_count": 29,
   "metadata": {},
   "outputs": [],
   "source": [
    "from Color.Calc import luminance"
   ]
  },
  {
   "cell_type": "code",
   "execution_count": 30,
   "metadata": {},
   "outputs": [
    {
     "data": {
      "text/plain": [
       "131.6208"
      ]
     },
     "execution_count": 30,
     "metadata": {},
     "output_type": "execute_result"
    }
   ],
   "source": [
    "luminance(palette_teal_tint_tetradic[1])"
   ]
  },
  {
   "attachments": {},
   "cell_type": "markdown",
   "metadata": {},
   "source": [
    "## Teal palette from images"
   ]
  }
 ],
 "metadata": {
  "kernelspec": {
   "display_name": "python3.11",
   "language": "python",
   "name": "python3"
  },
  "language_info": {
   "codemirror_mode": {
    "name": "ipython",
    "version": 3
   },
   "file_extension": ".py",
   "mimetype": "text/x-python",
   "name": "python",
   "nbconvert_exporter": "python",
   "pygments_lexer": "ipython3",
   "version": "3.11.1"
  },
  "orig_nbformat": 4
 },
 "nbformat": 4,
 "nbformat_minor": 2
}
