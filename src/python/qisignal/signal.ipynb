{
 "cells": [
  {
   "attachments": {},
   "cell_type": "markdown",
   "metadata": {},
   "source": [
    "# Signal Spaces"
   ]
  },
  {
   "attachments": {},
   "cell_type": "markdown",
   "metadata": {},
   "source": [
    "## Basic data types"
   ]
  },
  {
   "cell_type": "code",
   "execution_count": 1,
   "metadata": {
    "vscode": {
     "languageId": "python"
    }
   },
   "outputs": [],
   "source": [
    "from typing import NewType, Iterable, Sequence, Callable, TypeVar, Generic, Union, Generator, Any"
   ]
  },
  {
   "cell_type": "code",
   "execution_count": 2,
   "metadata": {
    "vscode": {
     "languageId": "python"
    }
   },
   "outputs": [],
   "source": [
    "SigType=float"
   ]
  },
  {
   "cell_type": "code",
   "execution_count": 3,
   "metadata": {
    "vscode": {
     "languageId": "python"
    }
   },
   "outputs": [],
   "source": [
    "Sig_0=NewType('Sig_0',tuple[SigType])\n",
    "Sig_1=NewType('Sig_1',tuple[Sig_0])\n",
    "Sig_2=NewType('Sig_2',tuple[Sig_0,Sig_0])\n",
    "TripleBlocks=NewType('TripleBlocks',tuple[Sig_0,Sig_0,Sig_0])\n",
    "Sig_3=NewType('Sig_3',tuple[TripleBlocks])"
   ]
  },
  {
   "cell_type": "code",
   "execution_count": 4,
   "metadata": {
    "vscode": {
     "languageId": "python"
    }
   },
   "outputs": [],
   "source": [
    "Vector = list[float]\n",
    "\n",
    "def scale(scalar: float, vector: Vector) -> Vector:\n",
    "    return [scalar * num for num in vector]"
   ]
  },
  {
   "cell_type": "code",
   "execution_count": 5,
   "metadata": {
    "vscode": {
     "languageId": "python"
    }
   },
   "outputs": [
    {
     "name": "stdout",
     "output_type": "stream",
     "text": [
      "[2.0, -8.4, 10.8]\n"
     ]
    }
   ],
   "source": [
    "new_vector = scale(2.0, [1.0, -4.2, 5.4])\n",
    "print(new_vector)"
   ]
  },
  {
   "cell_type": "code",
   "execution_count": 6,
   "metadata": {
    "vscode": {
     "languageId": "python"
    }
   },
   "outputs": [],
   "source": [
    "a=(1,2,3,4)\n",
    "a_s=Sig_0(tuple(a))    "
   ]
  },
  {
   "cell_type": "code",
   "execution_count": 7,
   "metadata": {
    "vscode": {
     "languageId": "python"
    }
   },
   "outputs": [
    {
     "name": "stdout",
     "output_type": "stream",
     "text": [
      "((1, 2), (3, 4), (5, 6), (7, 8))\n"
     ]
    }
   ],
   "source": [
    "b=(Sig_0(tuple((1,2))),Sig_0(tuple((3,4))),Sig_0(tuple((5,6))),Sig_0(tuple((7,8))))\n",
    "b_s=Sig_1(tuple(b))\n",
    "print(b_s)"
   ]
  },
  {
   "cell_type": "code",
   "execution_count": 8,
   "metadata": {
    "vscode": {
     "languageId": "python"
    }
   },
   "outputs": [
    {
     "data": {
      "text/plain": [
       "(((1, 2, 3, 4), (1, 2, 3, 4), (1, 2, 3, 4)),)"
      ]
     },
     "execution_count": 8,
     "metadata": {},
     "output_type": "execute_result"
    }
   ],
   "source": [
    "c=TripleBlocks(tuple((a_s,a_s,a_s)))\n",
    "Sig_3(tuple((c,)))"
   ]
  },
  {
   "attachments": {},
   "cell_type": "markdown",
   "metadata": {},
   "source": [
    "python compiler does not check type in run time, so the above is just type hints. We need to use a static type checker to check the above type definitions and their applications.\n",
    "\n",
    "In vscode, to use the static type checker, put the following lines into the `.vscode/settings.json`. After installing the vscode extension `Pylance` (by microsoft), the type checker will do the checking for the file opened with the editor.\n",
    "```json\n",
    "{\n",
    "  \"python.analysis.typeCheckingMode\": \"basic\"\n",
    "}\n",
    "```"
   ]
  },
  {
   "cell_type": "code",
   "execution_count": 9,
   "metadata": {
    "vscode": {
     "languageId": "python"
    }
   },
   "outputs": [
    {
     "data": {
      "text/plain": [
       "[[1, 2, 3, 4], [5, 6, 7, 8], [1, 2, 3, 4]]"
      ]
     },
     "execution_count": 9,
     "metadata": {},
     "output_type": "execute_result"
    }
   ],
   "source": [
    "a=Sig_0([1,2,3,4])\n",
    "b=Sig_0([5,6,7,8])\n",
    "Sig_3([a,b,a])"
   ]
  },
  {
   "cell_type": "code",
   "execution_count": 10,
   "metadata": {
    "vscode": {
     "languageId": "python"
    }
   },
   "outputs": [
    {
     "data": {
      "text/plain": [
       "((1, 2, 3, 4), [5, 6, 7, 8], (1, 2, 3, 4), [5, 6, 7, 8])"
      ]
     },
     "execution_count": 10,
     "metadata": {},
     "output_type": "execute_result"
    }
   ],
   "source": [
    "a=Sig_0((1,2,3,4))\n",
    "b=Sig_0([5,6,7,8])\n",
    "Sig_3((a,b,a,b))"
   ]
  },
  {
   "attachments": {},
   "cell_type": "markdown",
   "metadata": {},
   "source": [
    "### Operators on the signal data structure\n",
    "These functions are hardly used, instead, we usually use index slicing directly. But here we illustrate the concepts."
   ]
  },
  {
   "cell_type": "code",
   "execution_count": 11,
   "metadata": {
    "vscode": {
     "languageId": "python"
    }
   },
   "outputs": [],
   "source": [
    "def head(s:Sequence[Any])->Any:\n",
    "    return s[0]"
   ]
  },
  {
   "cell_type": "code",
   "execution_count": 12,
   "metadata": {
    "vscode": {
     "languageId": "python"
    }
   },
   "outputs": [],
   "source": [
    "def tail(s:Sequence[Any])->Sequence[Any]:\n",
    "    return s[1:]"
   ]
  },
  {
   "cell_type": "code",
   "execution_count": 13,
   "metadata": {
    "vscode": {
     "languageId": "python"
    }
   },
   "outputs": [],
   "source": [
    "def last(s:Sequence[Any])->Any:\n",
    "    return s[-1]"
   ]
  },
  {
   "cell_type": "code",
   "execution_count": 14,
   "metadata": {
    "vscode": {
     "languageId": "python"
    }
   },
   "outputs": [],
   "source": [
    "def take(n:int,s:Sequence[Any])->Sequence[Any]:\n",
    "    return s[:n]"
   ]
  },
  {
   "cell_type": "code",
   "execution_count": 15,
   "metadata": {
    "vscode": {
     "languageId": "python"
    }
   },
   "outputs": [],
   "source": [
    "def drop(n:int,s:Sequence[Any])->Sequence[Any]:\n",
    "    return s[n:]"
   ]
  },
  {
   "cell_type": "code",
   "execution_count": 16,
   "metadata": {
    "vscode": {
     "languageId": "python"
    }
   },
   "outputs": [],
   "source": [
    "def length(s:Sequence[Any])->int:\n",
    "    if s==():\n",
    "        return 0\n",
    "    else:\n",
    "        return 1+length(drop(1,s))"
   ]
  },
  {
   "cell_type": "code",
   "execution_count": 17,
   "metadata": {
    "vscode": {
     "languageId": "python"
    }
   },
   "outputs": [
    {
     "data": {
      "text/plain": [
       "4"
      ]
     },
     "execution_count": 17,
     "metadata": {},
     "output_type": "execute_result"
    }
   ],
   "source": [
    "length(a)"
   ]
  },
  {
   "attachments": {},
   "cell_type": "markdown",
   "metadata": {},
   "source": [
    "### foldl and foldr"
   ]
  },
  {
   "cell_type": "code",
   "execution_count": 18,
   "metadata": {
    "vscode": {
     "languageId": "python"
    }
   },
   "outputs": [],
   "source": [
    "B=TypeVar(\"B\")\n",
    "A=TypeVar(\"A\")\n",
    "T=Generic[A]"
   ]
  },
  {
   "cell_type": "code",
   "execution_count": 19,
   "metadata": {
    "vscode": {
     "languageId": "python"
    }
   },
   "outputs": [],
   "source": [
    "def foldl(f: Callable[[B, A], B], x0: B, v: Iterable[A]) -> Generator[B,None,None]:\n",
    "    for i in v:\n",
    "        r = f(x0, i)\n",
    "        x0 = r\n",
    "        yield r"
   ]
  },
  {
   "cell_type": "code",
   "execution_count": 20,
   "metadata": {
    "vscode": {
     "languageId": "python"
    }
   },
   "outputs": [],
   "source": [
    "def foldr(f:Callable[[B,A],B],x0:B,v:Sequence[A])->Generator[B,None,None]:\n",
    "    for i in range(1,1+len(v)):\n",
    "        r = f(x0,v[-i])\n",
    "        x0=r\n",
    "        yield r"
   ]
  },
  {
   "cell_type": "code",
   "execution_count": 21,
   "metadata": {
    "vscode": {
     "languageId": "python"
    }
   },
   "outputs": [],
   "source": [
    "foo=foldl((lambda acc,x: acc+x),0,[1,2,3,4])"
   ]
  },
  {
   "cell_type": "code",
   "execution_count": 22,
   "metadata": {
    "vscode": {
     "languageId": "python"
    }
   },
   "outputs": [
    {
     "name": "stdout",
     "output_type": "stream",
     "text": [
      "1\n",
      "3\n",
      "6\n"
     ]
    }
   ],
   "source": [
    "for i in range(3):\n",
    "    print(next(foo))"
   ]
  },
  {
   "cell_type": "code",
   "execution_count": 23,
   "metadata": {
    "vscode": {
     "languageId": "python"
    }
   },
   "outputs": [],
   "source": [
    "foo=foldl((lambda acc,x: (acc[1][-2:],x)),(None,(-1,0)),((1,2,3,4),(5,6,7,8)))"
   ]
  },
  {
   "cell_type": "code",
   "execution_count": 24,
   "metadata": {
    "vscode": {
     "languageId": "python"
    }
   },
   "outputs": [
    {
     "name": "stdout",
     "output_type": "stream",
     "text": [
      "((-1, 0), (1, 2, 3, 4))\n",
      "((3, 4), (5, 6, 7, 8))\n"
     ]
    }
   ],
   "source": [
    "for i in foo:\n",
    "    print(i)"
   ]
  },
  {
   "cell_type": "code",
   "execution_count": 25,
   "metadata": {
    "vscode": {
     "languageId": "python"
    }
   },
   "outputs": [
    {
     "name": "stdout",
     "output_type": "stream",
     "text": [
      "((5, 6, 7, 8), (9, 10))\n",
      "((1, 2, 3, 4), (5, 6))\n"
     ]
    }
   ],
   "source": [
    "foo=foldr((lambda acc,x:(x,acc[0][:2])),((9,10),None),((1,2,3,4),(5,6,7,8)))\n",
    "for i in foo:\n",
    "    print(i)"
   ]
  },
  {
   "attachments": {},
   "cell_type": "markdown",
   "metadata": {},
   "source": [
    "## Basic morphisms"
   ]
  },
  {
   "attachments": {},
   "cell_type": "markdown",
   "metadata": {},
   "source": [
    "### blocks: `Sig_0` to `Sig_1` morphism"
   ]
  },
  {
   "cell_type": "code",
   "execution_count": 26,
   "metadata": {
    "vscode": {
     "languageId": "python"
    }
   },
   "outputs": [],
   "source": [
    "def blocks(n:int,s:Sig_0)->Sig_1:\n",
    "    if n<=0:\n",
    "        return Sig_1((s,))\n",
    "    elif s==Sig_0(tuple()):\n",
    "        return  () #Sig_1(tuple((Sig_0(tuple()),)))\n",
    "    return (s[:n],)+blocks(n,s[n:]) # (take(n,s),)+blocks(n,drop(n,s))"
   ]
  },
  {
   "cell_type": "code",
   "execution_count": 27,
   "metadata": {
    "vscode": {
     "languageId": "python"
    }
   },
   "outputs": [
    {
     "data": {
      "text/plain": [
       "((0, 1), (2, 3), (4, 5), (6, 7))"
      ]
     },
     "execution_count": 27,
     "metadata": {},
     "output_type": "execute_result"
    }
   ],
   "source": [
    "a=Sig_0(tuple(x for x in range(8)))\n",
    "blocks(2,a)"
   ]
  },
  {
   "cell_type": "code",
   "execution_count": 28,
   "metadata": {
    "vscode": {
     "languageId": "python"
    }
   },
   "outputs": [
    {
     "data": {
      "text/plain": [
       "((0, 1, 2, 3, 4, 5, 6, 7),)"
      ]
     },
     "execution_count": 28,
     "metadata": {},
     "output_type": "execute_result"
    }
   ],
   "source": [
    "blocks(0,a)"
   ]
  },
  {
   "cell_type": "code",
   "execution_count": 29,
   "metadata": {
    "vscode": {
     "languageId": "python"
    }
   },
   "outputs": [
    {
     "data": {
      "text/plain": [
       "((0, 1, 2, 3, 4, 5, 6, 7),)"
      ]
     },
     "execution_count": 29,
     "metadata": {},
     "output_type": "execute_result"
    }
   ],
   "source": [
    "blocks(len(a),a)"
   ]
  },
  {
   "attachments": {},
   "cell_type": "markdown",
   "metadata": {},
   "source": [
    "### oblocks: `Sig_1` to `Sig_3` morphism"
   ]
  },
  {
   "cell_type": "code",
   "execution_count": 30,
   "metadata": {
    "vscode": {
     "languageId": "python"
    }
   },
   "outputs": [
    {
     "name": "stdout",
     "output_type": "stream",
     "text": [
      "((0, 1), (2, 3), (4, 5), (6, 7))\n"
     ]
    }
   ],
   "source": [
    "foo = blocks(2,a)\n",
    "print(foo)"
   ]
  },
  {
   "cell_type": "code",
   "execution_count": 31,
   "metadata": {
    "vscode": {
     "languageId": "python"
    }
   },
   "outputs": [
    {
     "data": {
      "text/plain": [
       "[1, 5, 9, 13]"
      ]
     },
     "execution_count": 31,
     "metadata": {},
     "output_type": "execute_result"
    }
   ],
   "source": [
    "list(map(sum,foo))"
   ]
  }
 ],
 "metadata": {
  "kernelspec": {
   "display_name": "Python (3.11.1)",
   "language": "python",
   "name": "python3.11"
  },
  "orig_nbformat": 4,
  "vscode": {
   "interpreter": {
    "hash": "719ef30dc8c4a191af290fe87910f01c90a4e374dbbaa8219fa30d3c3e9ff6d5"
   }
  }
 },
 "nbformat": 4,
 "nbformat_minor": 2
}
