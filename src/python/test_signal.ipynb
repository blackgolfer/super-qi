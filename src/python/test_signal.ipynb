{
 "cells": [
  {
   "cell_type": "code",
   "execution_count": 3,
   "metadata": {},
   "outputs": [
    {
     "ename": "ModuleNotFoundError",
     "evalue": "No module named 'signal.types'; 'signal' is not a package",
     "output_type": "error",
     "traceback": [
      "\u001b[0;31m---------------------------------------------------------------------------\u001b[0m",
      "\u001b[0;31mModuleNotFoundError\u001b[0m                       Traceback (most recent call last)",
      "Cell \u001b[0;32mIn[3], line 1\u001b[0m\n\u001b[0;32m----> 1\u001b[0m \u001b[39mfrom\u001b[39;00m \u001b[39mmodel\u001b[39;00m \u001b[39mimport\u001b[39;00m \u001b[39m*\u001b[39m\n",
      "File \u001b[0;32m~/dev/qi/super-qi/src/python/signal/model.py:2\u001b[0m\n\u001b[1;32m      1\u001b[0m \u001b[39mfrom\u001b[39;00m \u001b[39mtyping\u001b[39;00m \u001b[39mimport\u001b[39;00m NewType\n\u001b[0;32m----> 2\u001b[0m \u001b[39mfrom\u001b[39;00m \u001b[39msignal\u001b[39;00m\u001b[39m.\u001b[39;00m\u001b[39mtypes\u001b[39;00m \u001b[39mimport\u001b[39;00m SigNum\n\u001b[1;32m      4\u001b[0m Sig_0\u001b[39m=\u001b[39mNewType(\u001b[39m'\u001b[39m\u001b[39mSig_0\u001b[39m\u001b[39m'\u001b[39m,\u001b[39mtuple\u001b[39m[SigNum])\n\u001b[1;32m      5\u001b[0m Sig_1\u001b[39m=\u001b[39mNewType(\u001b[39m'\u001b[39m\u001b[39mSig_1\u001b[39m\u001b[39m'\u001b[39m,\u001b[39mtuple\u001b[39m[Sig_0])\n",
      "\u001b[0;31mModuleNotFoundError\u001b[0m: No module named 'signal.types'; 'signal' is not a package"
     ]
    }
   ],
   "source": [
    "from model import *"
   ]
  }
 ],
 "metadata": {
  "kernelspec": {
   "display_name": "python3.11",
   "language": "python",
   "name": "python3"
  },
  "language_info": {
   "codemirror_mode": {
    "name": "ipython",
    "version": 3
   },
   "file_extension": ".py",
   "mimetype": "text/x-python",
   "name": "python",
   "nbconvert_exporter": "python",
   "pygments_lexer": "ipython3",
   "version": "3.11.1"
  },
  "orig_nbformat": 4,
  "vscode": {
   "interpreter": {
    "hash": "b10226086f9c590e4f011c15abe890420217b7a9f5fcad7de85d05c11c6ee1f9"
   }
  }
 },
 "nbformat": 4,
 "nbformat_minor": 2
}
