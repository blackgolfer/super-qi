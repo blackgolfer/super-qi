{
 "cells": [
  {
   "attachments": {},
   "cell_type": "markdown",
   "metadata": {},
   "source": [
    "# Bryne's Euclid: Book I"
   ]
  },
  {
   "attachments": {},
   "cell_type": "markdown",
   "metadata": {},
   "source": [
    "```epigraph\n",
    "*Elements* is a *tour de force*. Theorem, theorem, problem, theorem, all laid out in confident succession. It was not always known that from simple rules you could rigorously deduce beautiful facts. It was not always known that you could start with so little, and end with so much.\n",
    "\n",
    "--TurnTrout\n",
    "```"
   ]
  },
  {
   "attachments": {},
   "cell_type": "markdown",
   "metadata": {},
   "source": [
    "References:\n",
    "- [Elementary Euclid](https://www.c82.net/euclid/book1/)"
   ]
  },
  {
   "attachments": {},
   "cell_type": "markdown",
   "metadata": {},
   "source": [
    "## Definitions"
   ]
  },
  {
   "attachments": {},
   "cell_type": "markdown",
   "metadata": {},
   "source": [
    "### Definition I: Points\n",
    "A *point* is that which has no parts.\n",
    "\n",
    "But in python, a point in $\\mathbb R^2$ has two parts: $x$ and $y$ representing the coordinates:"
   ]
  },
  {
   "cell_type": "code",
   "execution_count": 1,
   "metadata": {},
   "outputs": [],
   "source": [
    "from dataclasses import dataclass\n",
    "from nptyping import NDArray, Shape, Float, Int\n",
    "from typing import NewType\n",
    "import numpy as np\n",
    "\n",
    "P2=NewType('P2',NDArray[Shape[\"1, 2\"], Float])\n",
    "\n",
    "def p2(x:float,y:float)->P2:\n",
    "    return P2(np.array([x,y]))\n",
    "\n",
    "def polar2(r:float,theta:float)->P2:\n",
    "    return P2(np.array([r*np.cos(theta),r*np.sin(theta)]))\n",
    "    \n",
    "def unp2(p:P2)->tuple[float,float]:\n",
    "    return (p[0],p[1])\n",
    "\n",
    "def unpolar2(p:P2)->tuple[float,float]:\n",
    "    r = np.sqrt(p[0]*p[0]+p[1]*p[1])\n",
    "    return (np.sqrt(p[0]*p[0]+p[1]*p[1]),np.arctan2(p[1],p[0]))\n"
   ]
  },
  {
   "cell_type": "code",
   "execution_count": 2,
   "metadata": {},
   "outputs": [
    {
     "name": "stdout",
     "output_type": "stream",
     "text": [
      "[1 0]\n"
     ]
    }
   ],
   "source": [
    "p1=p2(1,0)\n",
    "print(p1)"
   ]
  },
  {
   "cell_type": "code",
   "execution_count": 3,
   "metadata": {},
   "outputs": [
    {
     "name": "stdout",
     "output_type": "stream",
     "text": [
      "<function p2 at 0x7f84a4f153a0>\n"
     ]
    }
   ],
   "source": [
    "pp2=polar2(1,np.pi/4.0)\n",
    "print(p2)"
   ]
  },
  {
   "cell_type": "code",
   "execution_count": 4,
   "metadata": {},
   "outputs": [
    {
     "data": {
      "text/plain": [
       "(1.7071067811865475, 0.7071067811865475)"
      ]
     },
     "execution_count": 4,
     "metadata": {},
     "output_type": "execute_result"
    }
   ],
   "source": [
    "unp2(p1+pp2)"
   ]
  },
  {
   "cell_type": "code",
   "execution_count": 5,
   "metadata": {},
   "outputs": [
    {
     "data": {
      "text/plain": [
       "(0.7653668647301795, -1.1780972450961724)"
      ]
     },
     "execution_count": 5,
     "metadata": {},
     "output_type": "execute_result"
    }
   ],
   "source": [
    "unpolar2(p1-pp2)"
   ]
  },
  {
   "cell_type": "code",
   "execution_count": 6,
   "metadata": {},
   "outputs": [
    {
     "data": {
      "text/plain": [
       "numpy.ndarray"
      ]
     },
     "execution_count": 6,
     "metadata": {},
     "output_type": "execute_result"
    }
   ],
   "source": [
    "type(p1)"
   ]
  },
  {
   "attachments": {},
   "cell_type": "markdown",
   "metadata": {},
   "source": [
    "### Definition II: Line\n",
    "A *line* is length without breadth."
   ]
  },
  {
   "attachments": {},
   "cell_type": "markdown",
   "metadata": {},
   "source": [
    "### Definition III: Line and points\n",
    "The extremities of a line are points."
   ]
  },
  {
   "attachments": {},
   "cell_type": "markdown",
   "metadata": {},
   "source": [
    "### Definition IV: Straight line\n",
    "A *straight* or right line is that which lies evenly between its extremities."
   ]
  },
  {
   "cell_type": "code",
   "execution_count": 7,
   "metadata": {},
   "outputs": [],
   "source": [
    "@dataclass\n",
    "class Line2(): # two dimensional straight line\n",
    "    e1:P2\n",
    "    e2:P2\n",
    "\n",
    "    def __init__(self,e1:P2,e2:P2)->None:\n",
    "        self.e1=e1; self.e2=e2\n",
    "\n",
    "    def length(self)->float:\n",
    "        d=self.e2-self.e2\n",
    "        return np.sqrt(d[0]*d[0]+d[1]*d[1])\n",
    "    \n",
    "    def __repr__(self) -> str:\n",
    "        return str((tuple(self.e1),tuple(self.e2)))"
   ]
  },
  {
   "cell_type": "code",
   "execution_count": 8,
   "metadata": {},
   "outputs": [
    {
     "data": {
      "text/plain": [
       "((1, 0), (0, 1))"
      ]
     },
     "execution_count": 8,
     "metadata": {},
     "output_type": "execute_result"
    }
   ],
   "source": [
    "Line2(p2(1,0),p2(0,1))"
   ]
  },
  {
   "attachments": {},
   "cell_type": "markdown",
   "metadata": {},
   "source": [
    "Let's graduately build up the drawing library so we can visualize the geometrical objects and verify concepts. Considering the fact that we could use different drawing packages, we need to abtract the drawing logic and defining the necessary interfaces so that our library is extentable.\n",
    "\n",
    "The packages currently under consideration are the matplotlib in python and tikz/pgf in latex.\n",
    "\n",
    "The follloing are the abstract layer of the library:"
   ]
  },
  {
   "cell_type": "code",
   "execution_count": 9,
   "metadata": {},
   "outputs": [],
   "source": [
    "from typing import TypeVar, Generic, Iterable, Protocol, Iterator\n",
    "from abc import ABCMeta, abstractmethod\n",
    "A=TypeVar('A')\n",
    "\n",
    "class Shape(Generic[A]):\n",
    "    pass\n",
    "\n",
    "class Drawable(list[Shape]):\n",
    "    pass\n",
    "\n",
    "class Renderer(Generic[A]):\n",
    "    @abstractmethod\n",
    "    def save(self,filename:str,transparent:bool)->None: ...\n",
    "\n",
    "class Draw(Protocol):\n",
    "    def diagram(self,g:Drawable)->Renderer[A]: ..."
   ]
  },
  {
   "attachments": {},
   "cell_type": "markdown",
   "metadata": {},
   "source": [
    "The matplotlib implementation of the above abstract layer is as follows."
   ]
  },
  {
   "attachments": {},
   "cell_type": "markdown",
   "metadata": {},
   "source": [
    "Matplotlib impl of `Shape`"
   ]
  },
  {
   "cell_type": "code",
   "execution_count": 10,
   "metadata": {},
   "outputs": [],
   "source": [
    "from matplotlib.lines import Line2D\n",
    "\n",
    "import matplotlib.axes\n",
    "\n",
    "class ShapeMPL(Shape):\n",
    "    @abstractmethod\n",
    "    def add_object(self,ax:matplotlib.axes.Axes)->None: ...\n",
    "\n",
    "class LineMPL(ShapeMPL):\n",
    "    def __init__(self,line:Line2)->None:\n",
    "        self.line=Line2D([line.e1[0],line.e2[0]],[line.e1[1],line.e2[1]],color='blue',linewidth=2)\n",
    "    def __repr__(self)->str:\n",
    "        x=self.line.get_xdata(); y=self.line.get_ydata()\n",
    "        return str(([x[0],y[0]],[x[1],y[1]]))\n",
    "    def add_object(self,ax:matplotlib.axes.Axes)->None:\n",
    "        ax.add_line(self.line)"
   ]
  },
  {
   "attachments": {},
   "cell_type": "markdown",
   "metadata": {},
   "source": [
    "Matplotlib impl of `Rederer`"
   ]
  },
  {
   "cell_type": "code",
   "execution_count": 11,
   "metadata": {},
   "outputs": [],
   "source": [
    "import matplotlib.figure\n",
    "import matplotlib.axes\n",
    "\n",
    "class RendererMLP(Renderer[ShapeMPL]):\n",
    "    def __init__(self,ax:matplotlib.axes.Axes,fig:matplotlib.figure.Figure)->None:\n",
    "        self.ax=ax;  self.fig=fig\n",
    "    def save(self,filename:str,transparent:bool=False)->None:\n",
    "        self.fig.savefig(filename,transparent=transparent)"
   ]
  },
  {
   "attachments": {},
   "cell_type": "markdown",
   "metadata": {},
   "source": [
    "Matplotlib impl of the `Drawable` and `Draw` interface"
   ]
  },
  {
   "cell_type": "code",
   "execution_count": 12,
   "metadata": {},
   "outputs": [],
   "source": [
    "import matplotlib.pyplot as plt\n",
    "\n",
    "class DrawMLP(Drawable):\n",
    "    def __init__(self,gs:list[ShapeMPL]):\n",
    "        self.graph_objects=gs\n",
    "    def diagram(self,size:tuple[float,float]=(8,8))->RendererMLP:\n",
    "        fig,ax = plt.subplots(figsize=size)\n",
    "        for i in self.graph_objects: i.add_object(ax) # delegate the job to graph objects to add themself to ax\n",
    "        return RendererMLP(ax,fig)\n",
    "    def __iter__(self)->Iterable[ShapeMPL]:\n",
    "        return self.graph_objects.__iter__()\n",
    "    def __repr__(self)->str:\n",
    "        return self.graph_objects.__repr__()"
   ]
  },
  {
   "cell_type": "code",
   "execution_count": 13,
   "metadata": {},
   "outputs": [
    {
     "data": {
      "text/plain": [
       "(0.0, 1.0, 0.0, 1.0)"
      ]
     },
     "execution_count": 13,
     "metadata": {},
     "output_type": "execute_result"
    },
    {
     "data": {
      "image/png": "[encoded data removed]",
      "text/plain": [
       "<Figure size 800x800 with 1 Axes>"
      ]
     },
     "metadata": {},
     "output_type": "display_data"
    }
   ],
   "source": [
    "l=LineMPL(Line2(p2(1,0),p2(0,1)))\n",
    "l.line.set_color('red')\n",
    "l.line.set_linewidth(3)\n",
    "d=DrawMLP([l])\n",
    "r=d.diagram()\n",
    "plt.axis('off')"
   ]
  },
  {
   "attachments": {},
   "cell_type": "markdown",
   "metadata": {},
   "source": [
    "### Definition V: Surface\n",
    "A *surface* is that which has length and breadth only."
   ]
  },
  {
   "attachments": {},
   "cell_type": "markdown",
   "metadata": {},
   "source": [
    "### Definition VI: Surface and lines\n",
    "The extremities of a surface are lines."
   ]
  },
  {
   "attachments": {},
   "cell_type": "markdown",
   "metadata": {},
   "source": [
    "### Definition VII: Plane\n",
    "A plane surface is that which lies evenly between its extremities."
   ]
  },
  {
   "attachments": {},
   "cell_type": "markdown",
   "metadata": {},
   "source": [
    "### Definition VIII: Plane angle\n",
    "A *plane angle* is the inclination of two lines to one another, in a plane, which meet together, but are not in the same direction."
   ]
  },
  {
   "attachments": {},
   "cell_type": "markdown",
   "metadata": {},
   "source": [
    "### Definition IX: Plane rectilinear angle\n",
    "A *plane rectilinear angle* is the inclination of two straight lines to one another, which meet together, but are not in the same straight line."
   ]
  },
  {
   "attachments": {},
   "cell_type": "markdown",
   "metadata": {},
   "source": [
    "### Definition X: Right angle, perpendicular lines\n",
    "When one straight line standing on another straight line makes the adjacent angles equal, each of these angles is called a *right angle*, and each of these lines is said to be *perpendicular* to the other."
   ]
  },
  {
   "attachments": {},
   "cell_type": "markdown",
   "metadata": {},
   "source": [
    "### Definition XI: Obtuse angle\n",
    "An *obtuse angle* is an angle greater than a right angle."
   ]
  },
  {
   "attachments": {},
   "cell_type": "markdown",
   "metadata": {},
   "source": [
    "### Definition XII: Acute angle\n",
    "An *acute angle* is leſs than a right angle."
   ]
  },
  {
   "attachments": {},
   "cell_type": "markdown",
   "metadata": {},
   "source": [
    "### Definition XIII: Term and boundary\n",
    "A *term* or *boundary* is the extremity of any thing."
   ]
  },
  {
   "attachments": {},
   "cell_type": "markdown",
   "metadata": {},
   "source": [
    "### Definition XIV: Figure\n",
    "A *figure* is a surface enclosed on all sides by a line or lines."
   ]
  },
  {
   "attachments": {},
   "cell_type": "markdown",
   "metadata": {},
   "source": [
    "### Definition XV: Circle\n",
    "A *circle* is a plane figure, bounded by one continued line, called its *circumference* or *periphery*; and having a certain point within it, from which all straight lines drawn to its circumference are equal."
   ]
  },
  {
   "attachments": {},
   "cell_type": "markdown",
   "metadata": {},
   "source": [
    "### Definition XVI: The center of a circle\n",
    "This point (from which the equal lines are drawn) is called the *centre* of the circle."
   ]
  },
  {
   "cell_type": "code",
   "execution_count": 16,
   "metadata": {},
   "outputs": [],
   "source": [
    "@dataclass\n",
    "class Circle:\n",
    "    center:P2\n",
    "    radius:float\n",
    "def __init__(self,r:float,center=(0,0)):\n",
    "    self.center=center\n",
    "    self.radius=r"
   ]
  },
  {
   "cell_type": "code",
   "execution_count": 17,
   "metadata": {},
   "outputs": [],
   "source": [
    "import matplotlib.patches\n",
    "from matplotlib.path import Path\n",
    "import matplotlib.axes\n",
    "\n",
    "class CircleMPL(ShapeMPL):\n",
    "    def __init__(self,cir:Circle)->None:\n",
    "        self.circle=matplotlib.patches.Circle(xy=(cir.center[0],cir.center[1]),radius=cir.radius)\n",
    "    def __repr__(self)->str:\n",
    "        o=self.circle.get_center(); r=self.circle.get_radius\n",
    "        return str((r,o))\n",
    "    def add_object(self,ax:matplotlib.axes.Axes)->None:\n",
    "        ax.add_patch(self.circle)"
   ]
  },
  {
   "attachments": {},
   "cell_type": "markdown",
   "metadata": {},
   "source": [
    "### Definition XVII: Diameter of a circle\n",
    "A *diameter* of a circle is a straight line drawn through the centre, terminated both ways in the circumference."
   ]
  },
  {
   "attachments": {},
   "cell_type": "markdown",
   "metadata": {},
   "source": [
    "### Definition XVIII: Semicircle\n",
    "A *semicircle* is the figure contained by the diameter, and the part of the circle cut off by the diameter."
   ]
  },
  {
   "attachments": {},
   "cell_type": "markdown",
   "metadata": {},
   "source": [
    "### Definition XIX: Segment of a circle\n",
    "A segment of a circle is a figure contained by a straight line, and the part of the circumference which it cuts off."
   ]
  },
  {
   "attachments": {},
   "cell_type": "markdown",
   "metadata": {},
   "source": [
    "### Definition XX: Rectilinear figure\n",
    "A figure contained by straight lines only, is called a rectilinear figure."
   ]
  },
  {
   "attachments": {},
   "cell_type": "markdown",
   "metadata": {},
   "source": [
    "### Definition XXI: Triangle\n",
    "A triangle is a rectilinear figure included by three sides."
   ]
  },
  {
   "attachments": {},
   "cell_type": "markdown",
   "metadata": {},
   "source": [
    "### Definition XXII: Quadrilateral figure\n",
    "A *quadrilateral figure* is one which is bounded by four sides. The straight lines {tikz}`[blue,thick] \\draw[->] (0,0) -- (1,0);` and {tikz}`[red,thick] \\draw[->] (0,0) -- (1,0);` connecting the vertices of the oppoſite angles of a quadrilateral figure, are called its diagonal."
   ]
  },
  {
   "cell_type": "code",
   "execution_count": 15,
   "metadata": {},
   "outputs": [],
   "source": [
    "from Contexts.Foldable import foldl\n",
    "\n",
    "@dataclass\n",
    "class Plane2():\n",
    "    boundary:list[Line2]\n",
    "    vertices:list[P2]\n",
    "\n",
    "    def __init__(self,v:list[P2]):\n",
    "        if len(v)>=4:\n",
    "            self.vertices = v\n",
    "            self.boundary=foldl(lambda acc,x:acc+[Line2(acc[-1].e2,x)],[Line2(v[0],v[1])],v[1:]+[v[0]])\n",
    "        else:\n",
    "            raise ValueError(\"Illegal number of vertices\")\n",
    "        \n",
    "    def length(self)->float:\n",
    "        pass\n",
    "    def width(self)->float: # breadth\n",
    "        pass\n",
    "    def angles(self)->list[float]: # rectlinear angle\n",
    "        pass"
   ]
  }
 ],
 "metadata": {
  "kernelspec": {
   "display_name": "python3.11",
   "language": "python",
   "name": "python3"
  },
  "language_info": {
   "codemirror_mode": {
    "name": "ipython",
    "version": 3
   },
   "file_extension": ".py",
   "mimetype": "text/x-python",
   "name": "python",
   "nbconvert_exporter": "python",
   "pygments_lexer": "ipython3",
   "version": "3.11.1"
  },
  "orig_nbformat": 4,
  "vscode": {
   "interpreter": {
    "hash": "ce853ec20d6c6433eda5eefa32153562945a1a6dc7dc190a9d1fd4cf79c5fdd8"
   }
  }
 },
 "nbformat": 4,
 "nbformat_minor": 2
}
