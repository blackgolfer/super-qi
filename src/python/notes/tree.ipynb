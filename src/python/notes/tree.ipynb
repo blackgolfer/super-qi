{
 "cells": [
  {
   "attachments": {},
   "cell_type": "markdown",
   "metadata": {},
   "source": [
    "# Tree"
   ]
  },
  {
   "attachments": {},
   "cell_type": "markdown",
   "metadata": {},
   "source": [
    "## Binary tree"
   ]
  },
  {
   "cell_type": "code",
   "execution_count": 9,
   "metadata": {},
   "outputs": [],
   "source": [
    "from Signal.btnt import btn, print_level_order, LeafType, Leaf\n",
    "from Contexts.Foldable import foldl, foldr"
   ]
  },
  {
   "attachments": {},
   "cell_type": "markdown",
   "metadata": {},
   "source": [
    "### Binary search tree\n",
    "In a binary search tree, an element points to two elements, one on its left and one on its right. The element to the left is smaller, the element to the right is bigger. Each of those elements can also point to two elements (or one, or none). In effect, each element has up to two sub-trees. And a cool thing about binary search trees is that we know that all the elements at the left sub-tree of, say, 5 are going to be smaller than 5. Elements in its right sub-tree are going to be bigger. So if we need to find if 8 is in our tree, we'd start at 5 and then because 8 is greater than 5, we'd go right. We're now at 7 and because 8 is greater than 7, we go right again. And we've found our element in three hops! Now if this were a normal list (or a tree, but really unbalanced), it would take us seven hops instead of three to see if 8 is in there."
   ]
  },
  {
   "cell_type": "code",
   "execution_count": 10,
   "metadata": {},
   "outputs": [],
   "source": [
    "def singleton(a:int)->btn:\n",
    "    return btn(a,Leaf,Leaf)\n",
    "\n",
    "def treeInsert(x:int,tree:btn)->btn:\n",
    "    if tree:\n",
    "        a = tree.content\n",
    "        if x==a: return tree\n",
    "        elif x<a:\n",
    "            tree.left=treeInsert(x,tree.left)\n",
    "            return tree\n",
    "        else:\n",
    "            tree.right=treeInsert(x,tree.right)\n",
    "            return tree\n",
    "    else: return singleton(x)"
   ]
  },
  {
   "cell_type": "code",
   "execution_count": 11,
   "metadata": {},
   "outputs": [],
   "source": [
    "nums=[8,6,4,1,7,3,5]\n",
    "numsTreeR = foldr(treeInsert,nums,Leaf)\n",
    "numsTreeL = foldl((lambda x,y:treeInsert(y,x)),Leaf,nums)"
   ]
  },
  {
   "cell_type": "code",
   "execution_count": 12,
   "metadata": {},
   "outputs": [
    {
     "name": "stdout",
     "output_type": "stream",
     "text": [
      "5 \n",
      "\n",
      "3 7 \n",
      "\n",
      "1 4 6 8 \n",
      "\n"
     ]
    }
   ],
   "source": [
    "print_level_order(numsTreeR)"
   ]
  },
  {
   "cell_type": "code",
   "execution_count": 13,
   "metadata": {},
   "outputs": [
    {
     "name": "stdout",
     "output_type": "stream",
     "text": [
      "8 \n",
      "\n",
      "6 \n",
      "\n",
      "4 7 \n",
      "\n",
      "1 5 \n",
      "\n",
      "3 \n",
      "\n"
     ]
    }
   ],
   "source": [
    "print_level_order(numsTreeL)"
   ]
  },
  {
   "cell_type": "code",
   "execution_count": 14,
   "metadata": {},
   "outputs": [],
   "source": [
    "from __future__ import annotations\n",
    "from Contexts.Functor import Functor\n",
    "import typing\n",
    "from functools import partial\n",
    "from operator import mul\n",
    "\n",
    "A=typing.TypeVar('A')\n",
    "B=typing.TypeVar('B')"
   ]
  },
  {
   "cell_type": "code",
   "execution_count": 15,
   "metadata": {},
   "outputs": [],
   "source": [
    "class btnFunctor(btn,Functor[A]):\n",
    "    def fmap(self,f:typing.Callable[[A],B])->Functor[B]|LeafType:\n",
    "        if self:\n",
    "            return btnFunctor(f(self.content),btnFunctor.fmap(self.left,f),btnFunctor.fmap(self.right,f))\n",
    "        else:\n",
    "            return Leaf\n",
    "\n",
    "def btn2functor(b:btn)->btnFunctor:\n",
    "    return btnFunctor(b.content,b.left,b.right,b.tag)"
   ]
  },
  {
   "cell_type": "code",
   "execution_count": 16,
   "metadata": {},
   "outputs": [
    {
     "name": "stdout",
     "output_type": "stream",
     "text": [
      "20 \n",
      "\n",
      "12 28 \n",
      "\n",
      "4 16 24 32 \n",
      "\n"
     ]
    }
   ],
   "source": [
    "o=partial(mul,4)\n",
    "print_level_order(btn2functor(foldr(treeInsert,[8,6,4,1,7,3,5],None)).fmap(o))"
   ]
  }
 ],
 "metadata": {
  "kernelspec": {
   "display_name": "python3.11",
   "language": "python",
   "name": "python3"
  },
  "language_info": {
   "codemirror_mode": {
    "name": "ipython",
    "version": 3
   },
   "file_extension": ".py",
   "mimetype": "text/x-python",
   "name": "python",
   "nbconvert_exporter": "python",
   "pygments_lexer": "ipython3",
   "version": "3.11.1"
  },
  "orig_nbformat": 4,
  "vscode": {
   "interpreter": {
    "hash": "b10226086f9c590e4f011c15abe890420217b7a9f5fcad7de85d05c11c6ee1f9"
   }
  }
 },
 "nbformat": 4,
 "nbformat_minor": 2
}
