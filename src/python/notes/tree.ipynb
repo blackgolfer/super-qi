{
 "cells": [
  {
   "attachments": {},
   "cell_type": "markdown",
   "metadata": {},
   "source": [
    "# Tree"
   ]
  },
  {
   "attachments": {},
   "cell_type": "markdown",
   "metadata": {},
   "source": [
    "## Binary tree"
   ]
  },
  {
   "cell_type": "code",
   "execution_count": 11,
   "metadata": {},
   "outputs": [],
   "source": [
    "from Signal.btnt import btn, print_level_order\n",
    "from Contexts.Foldable import foldl, foldr"
   ]
  },
  {
   "attachments": {},
   "cell_type": "markdown",
   "metadata": {},
   "source": [
    "### Binary search tree"
   ]
  },
  {
   "cell_type": "code",
   "execution_count": 6,
   "metadata": {},
   "outputs": [],
   "source": [
    "def singleton(a:int)->btn:\n",
    "    return btn(a,None,None)\n",
    "\n",
    "def treeInsert(x:int,tree:btn)->btn:\n",
    "    if tree:\n",
    "        a = tree.content\n",
    "        if x==a: return tree\n",
    "        elif x<a:\n",
    "            tree.left=treeInsert(x,tree.left)\n",
    "            return tree\n",
    "        else:\n",
    "            tree.right=treeInsert(x,tree.right)\n",
    "            return tree\n",
    "    else: return singleton(x)"
   ]
  },
  {
   "cell_type": "code",
   "execution_count": 13,
   "metadata": {},
   "outputs": [],
   "source": [
    "nums=[8,6,4,1,7,3,5]\n",
    "numsTreeR = foldr(treeInsert,nums,None)\n",
    "numsTreeL = foldl((lambda x,y:treeInsert(y,x)),None,nums)"
   ]
  },
  {
   "cell_type": "code",
   "execution_count": 12,
   "metadata": {},
   "outputs": [
    {
     "name": "stdout",
     "output_type": "stream",
     "text": [
      "5 \n",
      "\n",
      "3 7 \n",
      "\n",
      "1 4 6 8 \n",
      "\n"
     ]
    }
   ],
   "source": [
    "print_level_order(numsTreeR)"
   ]
  },
  {
   "cell_type": "code",
   "execution_count": 14,
   "metadata": {},
   "outputs": [
    {
     "name": "stdout",
     "output_type": "stream",
     "text": [
      "8 \n",
      "\n",
      "6 \n",
      "\n",
      "4 7 \n",
      "\n",
      "1 5 \n",
      "\n",
      "3 \n",
      "\n"
     ]
    }
   ],
   "source": [
    "print_level_order(numsTreeL)"
   ]
  }
 ],
 "metadata": {
  "kernelspec": {
   "display_name": "python3.11",
   "language": "python",
   "name": "python3"
  },
  "language_info": {
   "codemirror_mode": {
    "name": "ipython",
    "version": 3
   },
   "file_extension": ".py",
   "mimetype": "text/x-python",
   "name": "python",
   "nbconvert_exporter": "python",
   "pygments_lexer": "ipython3",
   "version": "3.11.1"
  },
  "orig_nbformat": 4,
  "vscode": {
   "interpreter": {
    "hash": "b10226086f9c590e4f011c15abe890420217b7a9f5fcad7de85d05c11c6ee1f9"
   }
  }
 },
 "nbformat": 4,
 "nbformat_minor": 2
}
