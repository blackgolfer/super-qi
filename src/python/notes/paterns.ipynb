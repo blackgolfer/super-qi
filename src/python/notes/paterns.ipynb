{
 "cells": [
  {
   "attachments": {},
   "cell_type": "markdown",
   "metadata": {},
   "source": [
    "# Common patterns"
   ]
  },
  {
   "attachments": {},
   "cell_type": "markdown",
   "metadata": {},
   "source": [
    "| sym  | pronunciation                                    |\n",
    "|------|--------------------------------------------------|\n",
    "| |    | \"such that\"                                      |\n",
    "| <-   | \"is drawn from\"                                  |\n",
    "| =    | \"is defined to be\" / \"is defined as\"             |\n",
    "| ::   | \"has type\" / \"of type\" / \"is of type\"            |\n",
    "| ->   | \"a function that takes ... and returns a ...\" /  |\n",
    "|      |                          \"function that maps\" /  |\n",
    "|      |                          \"is a function from\" /  |\n",
    "|      |                                          \"to\"    |\n",
    "| $    | \"apply\"                                          |\n",
    "| _    | \"whatever\"                                       |\n",
    "| !!   | \"index\"                                          |\n",
    "| ++   | \"concat\"                                         |\n",
    "| []   | \"empty list\"                                     |\n",
    "| :    | \"cons\"                                           |\n",
    "| \\    | \"lambda\"                                         |\n",
    "| =>   | \"implies\" / \"then\"                               |\n",
    "| *>   | \"then\"                                           |\n",
    "| <$>  | \"fmap\" / \"dollar cyclops\"                        |\n",
    "| <$   | \"map-replace by\"                                 |\n",
    "| <*>  | \"ap\" / \"star cyclops\"                            |\n",
    "| .    | \"pipe to\" / \"compose\" / \"dot\"                    |\n",
    "| <|>  | \"or\"                                             |\n",
    "| @    | \"as\"                                             |\n",
    "| ~    | \"lazy\"                                           |\n",
    "| <=<  | \"left fish\"                                      |"
   ]
  },
  {
   "attachments": {},
   "cell_type": "markdown",
   "metadata": {},
   "source": [
    "## `<$`: map-replace by"
   ]
  },
  {
   "cell_type": "code",
   "execution_count": 40,
   "metadata": {},
   "outputs": [],
   "source": [
    "from functools import partial\n",
    "from typing import Any, Iterable, Iterator, TypeVar, Callable, Generator\n",
    "\n",
    "A=TypeVar('A')\n",
    "B=TypeVar('B')"
   ]
  },
  {
   "cell_type": "code",
   "execution_count": 31,
   "metadata": {},
   "outputs": [],
   "source": [
    "def const(a:A,b:B)->A:\n",
    "    return a\n",
    "\n",
    "def replaceby(a:A)->Callable[[B],A]:\n",
    "    return partial(const,a)"
   ]
  },
  {
   "attachments": {},
   "cell_type": "markdown",
   "metadata": {},
   "source": [
    "Composition of `map` and `const`, that is `map.const`"
   ]
  },
  {
   "cell_type": "code",
   "execution_count": 28,
   "metadata": {},
   "outputs": [
    {
     "data": {
      "text/plain": [
       "[[1, 2], [1, 2], [1, 2]]"
      ]
     },
     "execution_count": 28,
     "metadata": {},
     "output_type": "execute_result"
    }
   ],
   "source": [
    "list(map(replaceby([1,2]),[1,2,3]))"
   ]
  },
  {
   "cell_type": "code",
   "execution_count": 37,
   "metadata": {},
   "outputs": [],
   "source": [
    "def mrb(a:A,b:Iterable[B])->Iterator[A]:\n",
    "    return map(replaceby(a),b)"
   ]
  },
  {
   "cell_type": "code",
   "execution_count": 38,
   "metadata": {},
   "outputs": [
    {
     "data": {
      "text/plain": [
       "([1, 2], [1, 2], [1, 2])"
      ]
     },
     "execution_count": 38,
     "metadata": {},
     "output_type": "execute_result"
    }
   ],
   "source": [
    "tuple(mrb([1,2],(1,2,3)))"
   ]
  },
  {
   "attachments": {},
   "cell_type": "markdown",
   "metadata": {},
   "source": [
    "## `*>`: then\n",
    "This is simily to `<$`, but it retains the structure"
   ]
  },
  {
   "cell_type": "code",
   "execution_count": 41,
   "metadata": {},
   "outputs": [],
   "source": [
    "def then(a:Iterable[A],b:Iterable[B])->Generator[B,None,None]:\n",
    "    return (x for _ in a for x in b)"
   ]
  },
  {
   "cell_type": "code",
   "execution_count": 44,
   "metadata": {},
   "outputs": [
    {
     "data": {
      "text/plain": [
       "[3, 4, 3, 4]"
      ]
     },
     "execution_count": 44,
     "metadata": {},
     "output_type": "execute_result"
    }
   ],
   "source": [
    "list(then([1,2],(3,4)))"
   ]
  }
 ],
 "metadata": {
  "kernelspec": {
   "display_name": "python3.11",
   "language": "python",
   "name": "python3"
  },
  "language_info": {
   "codemirror_mode": {
    "name": "ipython",
    "version": 3
   },
   "file_extension": ".py",
   "mimetype": "text/x-python",
   "name": "python",
   "nbconvert_exporter": "python",
   "pygments_lexer": "ipython3",
   "version": "3.11.1"
  },
  "orig_nbformat": 4,
  "vscode": {
   "interpreter": {
    "hash": "b10226086f9c590e4f011c15abe890420217b7a9f5fcad7de85d05c11c6ee1f9"
   }
  }
 },
 "nbformat": 4,
 "nbformat_minor": 2
}
