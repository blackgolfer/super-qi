{
 "cells": [
  {
   "attachments": {},
   "cell_type": "markdown",
   "metadata": {},
   "source": [
    "# Common patterns"
   ]
  },
  {
   "attachments": {},
   "cell_type": "markdown",
   "metadata": {},
   "source": [
    "| sym  | pronunciation                                    |\n",
    "|------|--------------------------------------------------|\n",
    "| |    | \"such that\"                                      |\n",
    "| <-   | \"is drawn from\"                                  |\n",
    "| =    | \"is defined to be\" / \"is defined as\"             |\n",
    "| ::   | \"has type\" / \"of type\" / \"is of type\"            |\n",
    "| ->   | \"a function that takes ... and returns a ...\" /  |\n",
    "|      |                          \"function that maps\" /  |\n",
    "|      |                          \"is a function from\" /  |\n",
    "|      |                                          \"to\"    |\n",
    "| $    | \"apply\"                                          |\n",
    "| _    | \"whatever\"                                       |\n",
    "| !!   | \"index\"                                          |\n",
    "| ++   | \"concat\"                                         |\n",
    "| []   | \"empty list\"                                     |\n",
    "| :    | \"cons\"                                           |\n",
    "| \\    | \"lambda\"                                         |\n",
    "| =>   | \"implies\" / \"then\"                               |\n",
    "| *>   | \"then\"                                           |\n",
    "| <$>  | \"fmap\" / \"dollar cyclops\"                        |\n",
    "| <$   | \"map-replace by\"                                 |\n",
    "| <*>  | \"ap\" / \"star cyclops\"                            |\n",
    "| .    | \"pipe to\" / \"compose\" / \"dot\"                    |\n",
    "| <|>  | \"or\"                                             |\n",
    "| @    | \"as\"                                             |\n",
    "| ~    | \"lazy\"                                           |\n",
    "| <=<  | \"left fish\"                                      |"
   ]
  },
  {
   "cell_type": "code",
   "execution_count": null,
   "metadata": {},
   "outputs": [],
   "source": []
  }
 ],
 "metadata": {
  "language_info": {
   "name": "python"
  },
  "orig_nbformat": 4
 },
 "nbformat": 4,
 "nbformat_minor": 2
}
