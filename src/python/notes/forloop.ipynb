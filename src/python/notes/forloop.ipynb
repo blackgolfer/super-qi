{
 "cells": [
  {
   "attachments": {},
   "cell_type": "markdown",
   "metadata": {},
   "source": [
    "# Modeling For-Loop"
   ]
  },
  {
   "attachments": {},
   "cell_type": "markdown",
   "metadata": {},
   "source": [
    "## Low level model: head, tail and recursion"
   ]
  },
  {
   "cell_type": "code",
   "execution_count": 28,
   "metadata": {},
   "outputs": [],
   "source": [
    "from typing import TypeVar, Generic, Callable, Iterable, Generator, List\n",
    "from __future__ import annotations\n",
    "\n",
    "A=TypeVar('A')\n",
    "B=TypeVar('B')"
   ]
  },
  {
   "attachments": {},
   "cell_type": "markdown",
   "metadata": {},
   "source": [
    "### Case 1: Action only depends on the current element in the container"
   ]
  },
  {
   "cell_type": "code",
   "execution_count": 13,
   "metadata": {},
   "outputs": [],
   "source": [
    "def htr1(f:Callable[[A],B],v:Iterable[A])->Generator[B,None,None]:\n",
    "    match v:\n",
    "        case []: return\n",
    "        case x,*xs:\n",
    "            r = f(x)\n",
    "            yield r\n",
    "            yield from htr1(f,xs)"
   ]
  },
  {
   "cell_type": "code",
   "execution_count": 14,
   "metadata": {},
   "outputs": [
    {
     "data": {
      "text/plain": [
       "[1.0, 2.0]"
      ]
     },
     "execution_count": 14,
     "metadata": {},
     "output_type": "execute_result"
    }
   ],
   "source": [
    "list(htr1(float,[1,2]))"
   ]
  },
  {
   "attachments": {},
   "cell_type": "markdown",
   "metadata": {},
   "source": [
    "## Low level model: generator comprehension"
   ]
  },
  {
   "cell_type": "code",
   "execution_count": 15,
   "metadata": {},
   "outputs": [],
   "source": [
    "def gc1(f:Callable[[A],B],v:Iterable[A])->Generator[B,None,None]:\n",
    "    return (f(x) for x in v)"
   ]
  },
  {
   "cell_type": "code",
   "execution_count": null,
   "metadata": {},
   "outputs": [],
   "source": []
  },
  {
   "attachments": {},
   "cell_type": "markdown",
   "metadata": {},
   "source": [
    "## High level models"
   ]
  },
  {
   "attachments": {},
   "cell_type": "markdown",
   "metadata": {},
   "source": [
    "### Functor"
   ]
  },
  {
   "cell_type": "code",
   "execution_count": 77,
   "metadata": {},
   "outputs": [],
   "source": [
    "from functools import partial\n",
    "class Functor(Generic[A]):\n",
    "    pass"
   ]
  },
  {
   "attachments": {},
   "cell_type": "markdown",
   "metadata": {},
   "source": [
    "Since there are not abstract base class for iterable and the generic base class is only for type hint. So we need to implement each instance of Functor for each concrete iterable class."
   ]
  },
  {
   "cell_type": "code",
   "execution_count": 105,
   "metadata": {},
   "outputs": [],
   "source": [
    "class ListFunctor(list[A],Functor[A]):\n",
    "    def fmap(self,f:Callable[[A],B])->Functor[B]:\n",
    "        return ListFunctor((f(x) for x in self))\n",
    "    \n",
    "    def const(a,b): return a\n",
    "\n",
    "    def mrb(self,a): return self.fmap(partial(ListFunctor.const,a))"
   ]
  },
  {
   "attachments": {},
   "cell_type": "markdown",
   "metadata": {},
   "source": [
    "#### `fmap`"
   ]
  },
  {
   "cell_type": "code",
   "execution_count": 106,
   "metadata": {},
   "outputs": [
    {
     "data": {
      "text/plain": [
       "[1.0, 2.0, 3.0, 4.0]"
      ]
     },
     "execution_count": 106,
     "metadata": {},
     "output_type": "execute_result"
    }
   ],
   "source": [
    "a=ListFunctor([1,2,3,4])\n",
    "a.fmap(float)"
   ]
  },
  {
   "cell_type": "code",
   "execution_count": 87,
   "metadata": {},
   "outputs": [
    {
     "name": "stdout",
     "output_type": "stream",
     "text": [
      "2.0\n",
      "3.0\n",
      "4.0\n",
      "5.0\n"
     ]
    },
    {
     "data": {
      "text/plain": [
       "[None, None, None, None]"
      ]
     },
     "execution_count": 87,
     "metadata": {},
     "output_type": "execute_result"
    }
   ],
   "source": [
    "a.fmap((lambda x: x+1)).fmap(float).fmap(abs).fmap(print)"
   ]
  },
  {
   "attachments": {},
   "cell_type": "markdown",
   "metadata": {},
   "source": [
    "#### `map-replaced by`"
   ]
  },
  {
   "cell_type": "code",
   "execution_count": 107,
   "metadata": {},
   "outputs": [
    {
     "data": {
      "text/plain": [
       "[[1, 2], [1, 2], [1, 2], [1, 2]]"
      ]
     },
     "execution_count": 107,
     "metadata": {},
     "output_type": "execute_result"
    }
   ],
   "source": [
    "a.mrb([1,2])"
   ]
  },
  {
   "cell_type": "code",
   "execution_count": 1,
   "metadata": {},
   "outputs": [],
   "source": [
    "import numpy as np\n",
    "\n",
    "class InfoArray(np.ndarray):\n",
    "\n",
    "    def __new__(subtype, shape, dtype=float, buffer=None, offset=0,\n",
    "                strides=None, order=None, info=None):\n",
    "        # Create the ndarray instance of our type, given the usual\n",
    "        # ndarray input arguments.  This will call the standard\n",
    "        # ndarray constructor, but return an object of our type.\n",
    "        # It also triggers a call to InfoArray.__array_finalize__\n",
    "        obj = super().__new__(subtype, shape, dtype,\n",
    "                              buffer, offset, strides, order)\n",
    "        # set the new 'info' attribute to the value passed\n",
    "        obj.info = info\n",
    "        # Finally, we must return the newly created object:\n",
    "        return obj\n",
    "\n",
    "    def __array_finalize__(self, obj):\n",
    "        # ``self`` is a new object resulting from\n",
    "        # ndarray.__new__(InfoArray, ...), therefore it only has\n",
    "        # attributes that the ndarray.__new__ constructor gave it -\n",
    "        # i.e. those of a standard ndarray.\n",
    "        #\n",
    "        # We could have got to the ndarray.__new__ call in 3 ways:\n",
    "        # From an explicit constructor - e.g. InfoArray():\n",
    "        #    obj is None\n",
    "        #    (we're in the middle of the InfoArray.__new__\n",
    "        #    constructor, and self.info will be set when we return to\n",
    "        #    InfoArray.__new__)\n",
    "        if obj is None: return\n",
    "        # From view casting - e.g arr.view(InfoArray):\n",
    "        #    obj is arr\n",
    "        #    (type(obj) can be InfoArray)\n",
    "        # From new-from-template - e.g infoarr[:3]\n",
    "        #    type(obj) is InfoArray\n",
    "        #\n",
    "        # Note that it is here, rather than in the __new__ method,\n",
    "        # that we set the default value for 'info', because this\n",
    "        # method sees all creation of default objects - with the\n",
    "        # InfoArray.__new__ constructor, but also with\n",
    "        # arr.view(InfoArray).\n",
    "        self.info = getattr(obj, 'info', None)\n",
    "        # We do not need to return anything"
   ]
  }
 ],
 "metadata": {
  "kernelspec": {
   "display_name": "python3.11",
   "language": "python",
   "name": "python3"
  },
  "language_info": {
   "codemirror_mode": {
    "name": "ipython",
    "version": 3
   },
   "file_extension": ".py",
   "mimetype": "text/x-python",
   "name": "python",
   "nbconvert_exporter": "python",
   "pygments_lexer": "ipython3",
   "version": "3.11.1"
  },
  "orig_nbformat": 4,
  "vscode": {
   "interpreter": {
    "hash": "b10226086f9c590e4f011c15abe890420217b7a9f5fcad7de85d05c11c6ee1f9"
   }
  }
 },
 "nbformat": 4,
 "nbformat_minor": 2
}
