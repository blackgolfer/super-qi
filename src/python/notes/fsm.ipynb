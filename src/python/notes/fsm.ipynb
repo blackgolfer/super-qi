{
 "cells": [
  {
   "attachments": {},
   "cell_type": "markdown",
   "metadata": {},
   "source": [
    "# Finite State Machine"
   ]
  },
  {
   "attachments": {},
   "cell_type": "markdown",
   "metadata": {},
   "source": [
    "References:\n",
    "- [Context Managers and Python's with Statement](https://realpython.com/python-with-statement/)\n",
    "\n",
    "Let $x_t$ be the stochastic process:\n",
    "\n",
    "$$\n",
    "dx_t=\\mu dt+\\sigma dw_t\n",
    "$$\n",
    "\n",
    "We want to model $x_t$ with trend and flat behaviors. We call a process flat, if $\\mu=0$, otherwise the process is called trend. There are two scenarios for trend processes, trend up and trend down, in which casees, the model parameter $\\mu$ are positive and negative repectively. So in this setting, we make the parameter $\\mu$ depend on the states.\n",
    "\n",
    "Let $S_t$ be the state process, where $S_t\\in [-1,0,1]$, in other words, $S_t$ is a three states process, $-1$ corresponding to down tren, $0$ for flat and $1$ for trend up.\n",
    "\n",
    "The fact that $\\mu$ depends $S_t$, makes the law governing the process $x_t$ change over time. This kind of processes are called hidden markov processes.\n",
    "\n",
    "In summary, we have\n",
    "\n",
    "$$\n",
    "dx_t=\\mu(S_t) dt+\\sigma dW_t\n",
    "$$\n",
    "\n",
    "with $S_t$ being a state process. The law governing $S_t$ is the transition probabilities, $P\\{S_{t_i}=u\\ |\\ S_{t_{i-1}}=v\\},\\ u,v\\in[-1,0,1]$. These probabilities are given and the are not depending on time.\n",
    "\n",
    "We are going to develop a discrete simulator to simulate $x_t$.\n"
   ]
  },
  {
   "cell_type": "code",
   "execution_count": 34,
   "metadata": {},
   "outputs": [
    {
     "name": "stdout",
     "output_type": "stream",
     "text": [
      "Entering the context...\n",
      "Hello, World!\n",
      "Leaving the context...\n"
     ]
    }
   ],
   "source": [
    "from contextlib import contextmanager\n",
    "\n",
    "@contextmanager\n",
    "def hello_context_manager():\n",
    "    print(\"Entering the context...\")\n",
    "    yield \"Hello, World!\"\n",
    "    print(\"Leaving the context...\")\n",
    "\n",
    "with hello_context_manager() as hello:\n",
    "    print(hello)"
   ]
  },
  {
   "cell_type": "code",
   "execution_count": 35,
   "metadata": {},
   "outputs": [],
   "source": [
    "import numpy as np\n",
    "from nptyping import NDArray, Shape, Float64\n",
    "\n",
    "ModelParam=tuple[float,float]\n",
    "StateParam=NDArray[Shape['3,3'],Float64]"
   ]
  },
  {
   "cell_type": "code",
   "execution_count": 36,
   "metadata": {},
   "outputs": [
    {
     "name": "stdout",
     "output_type": "stream",
     "text": [
      "NDArray[Shape['3, 3'], Float]\n"
     ]
    }
   ],
   "source": [
    "print(StateParam)"
   ]
  },
  {
   "attachments": {},
   "cell_type": "markdown",
   "metadata": {},
   "source": [
    "### The model"
   ]
  },
  {
   "cell_type": "code",
   "execution_count": 103,
   "metadata": {},
   "outputs": [],
   "source": [
    "class hidden_markov_process():\n",
    "    SV=[-1,0,1]\n",
    "    def __init__(self,mp,tp):\n",
    "        self.__mp=mp\n",
    "        self.__tp=tp\n",
    "\n",
    "    def transition(self,start:int, end:int)->list[float]:\n",
    "        if start in self.SV and end in self.SV: return self.__tp[start+1][end+1]\n",
    "        else: raise ValueError(\"Illegal state value\")\n",
    "\n",
    "    def diffusion(self,s:int)->tuple[float,float]:\n",
    "        return self.__mp[s+1]\n",
    "    \n",
    "    def state_value(self): return self.SV"
   ]
  },
  {
   "cell_type": "code",
   "execution_count": 105,
   "metadata": {},
   "outputs": [],
   "source": [
    "MP=[(-1.0,20.0),(0.0,30.0),(1.0,20.0)] # model parameters\n",
    "TP=[[.25,.75,0.0],[.15,.7,.15],[0.0,.75,.25]] # transition probabilities\n",
    "model=hidden_markov_process(MP,TP)"
   ]
  },
  {
   "cell_type": "code",
   "execution_count": 106,
   "metadata": {},
   "outputs": [
    {
     "data": {
      "text/plain": [
       "[[0.25, 0.75, 0.0], [0.15, 0.7, 0.15], [0.0, 0.75, 0.25]]"
      ]
     },
     "execution_count": 106,
     "metadata": {},
     "output_type": "execute_result"
    }
   ],
   "source": [
    "[[model.transition(start,end) for end in model.state_value()] for start in model.state_value()]"
   ]
  },
  {
   "cell_type": "code",
   "execution_count": 107,
   "metadata": {},
   "outputs": [
    {
     "data": {
      "text/plain": [
       "[(-1.0, 20.0), (0.0, 30.0), (1.0, 20.0)]"
      ]
     },
     "execution_count": 107,
     "metadata": {},
     "output_type": "execute_result"
    }
   ],
   "source": [
    "[model.diffusion(s) for s in model.state_value()]"
   ]
  },
  {
   "attachments": {},
   "cell_type": "markdown",
   "metadata": {},
   "source": [
    "## Simulating the state process"
   ]
  },
  {
   "cell_type": "code",
   "execution_count": 108,
   "metadata": {},
   "outputs": [],
   "source": [
    "N=pow(2,13)\n",
    "@contextmanager\n",
    "def flat():\n",
    "    print(\"Entering the flat state...\")\n",
    "    print(\"State transition probabilites:\",tp[1])\n",
    "    yield tp[1]\n",
    "    print(\"leaving the flat state\")\n",
    "\n",
    "@contextmanager\n",
    "def uptrend():\n",
    "    pass\n",
    "\n",
    "@contextmanager\n",
    "def downtrend():\n",
    "    pass"
   ]
  },
  {
   "attachments": {},
   "cell_type": "markdown",
   "metadata": {},
   "source": [
    "### Checking random number generator"
   ]
  },
  {
   "cell_type": "code",
   "execution_count": 113,
   "metadata": {},
   "outputs": [],
   "source": [
    "from functools import partial\n",
    "np.random.seed(0)\n",
    "a=1\n",
    "b=1000\n",
    "# generate state\n",
    "def gState(sv:int,m:hidden_markov_process,rn:int)->int:\n",
    "    end=model.state_value()\n",
    "    p=[m.transition(sv,x) for x in m.state_value()]\n",
    "    for \n",
    "    if rn<(b-a)*p[0]: return end[0]\n",
    "    elif rn<(b-a)*(p[1]+p[0]): return end[1]\n",
    "    else: return end[2]\n",
    "\n",
    "def flat_process(length:int)->map:\n",
    "    with flat() as fs:\n",
    "        rn = [np.random.randint(a, b) for _ in range(length)]\n",
    "        return map(partial(gState,0,model),rn)\n"
   ]
  },
  {
   "cell_type": "code",
   "execution_count": 115,
   "metadata": {},
   "outputs": [
    {
     "name": "stdout",
     "output_type": "stream",
     "text": [
      "Entering the flat state...\n",
      "State transition probabilites: [0.15, 0.7, 0.15]\n",
      "leaving the flat state\n"
     ]
    },
    {
     "data": {
      "text/plain": [
       "[0.145263671875, 0.7100830078125, 0.1446533203125]"
      ]
     },
     "execution_count": 115,
     "metadata": {},
     "output_type": "execute_result"
    }
   ],
   "source": [
    "s=list(flat_process(N))\n",
    "[len(list(filter((lambda x:x==u),s)))/N for u in [-1,0,1]]"
   ]
  }
 ],
 "metadata": {
  "kernelspec": {
   "display_name": "python3.11",
   "language": "python",
   "name": "python3"
  },
  "language_info": {
   "codemirror_mode": {
    "name": "ipython",
    "version": 3
   },
   "file_extension": ".py",
   "mimetype": "text/x-python",
   "name": "python",
   "nbconvert_exporter": "python",
   "pygments_lexer": "ipython3",
   "version": "3.11.1"
  },
  "orig_nbformat": 4,
  "vscode": {
   "interpreter": {
    "hash": "b10226086f9c590e4f011c15abe890420217b7a9f5fcad7de85d05c11c6ee1f9"
   }
  }
 },
 "nbformat": 4,
 "nbformat_minor": 2
}
