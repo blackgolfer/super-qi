{
 "cells": [
  {
   "attachments": {},
   "cell_type": "markdown",
   "metadata": {},
   "source": [
    "# Finite State Machine"
   ]
  },
  {
   "attachments": {},
   "cell_type": "markdown",
   "metadata": {},
   "source": [
    "References:\n",
    "- [Context Managers and Python's with Statement](https://realpython.com/python-with-statement/)\n",
    "\n",
    "Let $x_t$ be the stochastic process:\n",
    "\n",
    "$$\n",
    "dx_t=\\mu dt+\\sigma dw_t\n",
    "$$\n",
    "\n",
    "This kind of diffusion processes is called Wiener process.\n",
    "\n",
    "We want to model $x_t$ with trend and flat behaviors. We call a process flat, if $\\mu=0$, otherwise the process is called trend. There are two scenarios for trend processes, trend up and trend down, in which casees, the model parameter $\\mu$ are positive and negative repectively. The flat process is also called Brownian motion and the trend process is Brown motion with drift.\n",
    "\n",
    "With the above setting, there are three different contexts for the Wiener process, the context of flat, the context of up trend and the context of down trend. To model a Wiener process having three different contexts is to make the parameter $\\mu$ depending on the hidden states that representing the contexts.\n",
    "\n",
    "Let $S_t$ be the state process, where $S_t\\in [-1,0,1]$, in other words, $S_t$ is a three states process, $-1$ corresponding to down trend, $0$ for flat and $1$ for trend up.\n",
    "\n",
    "The fact that $\\mu$ depends $S_t$, makes the law governing the process $x_t$ change over time according to the contexts that dictated by the state process. This kind of processes are called hidden markov processes.\n",
    "\n",
    "In summary, we have\n",
    "\n",
    "$$\n",
    "dx_t=\\mu(S_t) dt+\\sigma dW_t\n",
    "$$\n",
    "\n",
    "with $S_t$ being a state process. The law governing $S_t$ is the transition probabilities, $P\\{S_{t_i}=u\\ |\\ S_{t_{i-1}}=v\\},\\ u,v\\in[-1,0,1]$. These probabilities are not depending on time.\n",
    "\n",
    "We are going to develop a discrete simulator to simulate the hidden markov Wiener process $x_t$.\n"
   ]
  },
  {
   "cell_type": "code",
   "execution_count": 1,
   "metadata": {},
   "outputs": [
    {
     "name": "stdout",
     "output_type": "stream",
     "text": [
      "Entering the context...\n",
      "Hello, World!\n",
      "Leaving the context...\n"
     ]
    }
   ],
   "source": [
    "from contextlib import contextmanager\n",
    "\n",
    "@contextmanager\n",
    "def hello_context_manager():\n",
    "    print(\"Entering the context...\")\n",
    "    yield \"Hello, World!\"\n",
    "    print(\"Leaving the context...\")\n",
    "\n",
    "with hello_context_manager() as hello:\n",
    "    print(hello)"
   ]
  },
  {
   "attachments": {},
   "cell_type": "markdown",
   "metadata": {},
   "source": [
    "### The dependent models"
   ]
  },
  {
   "cell_type": "code",
   "execution_count": 2,
   "metadata": {},
   "outputs": [],
   "source": [
    "import numpy as np\n",
    "from nptyping import NDArray, Shape, Float64\n",
    "from typing import Literal, Final, Protocol, runtime_checkable\n",
    "from dataclasses import dataclass\n",
    "\n",
    "WienerParam=tuple[float,float]\n",
    "StateParam=NDArray[Shape['3,3'],Float64]\n",
    "State=Literal[-1,0,1]"
   ]
  },
  {
   "cell_type": "code",
   "execution_count": 3,
   "metadata": {},
   "outputs": [
    {
     "name": "stdout",
     "output_type": "stream",
     "text": [
      "NDArray[Shape['3, 3'], Float]\n"
     ]
    }
   ],
   "source": [
    "print(StateParam)"
   ]
  },
  {
   "cell_type": "code",
   "execution_count": 4,
   "metadata": {},
   "outputs": [],
   "source": [
    "@dataclass\n",
    "class Wiener:\n",
    "    wparams: list[WienerParam]\n",
    "\n",
    "@dataclass\n",
    "class FSMarkov:\n",
    "    tranprobs: StateParam\n",
    "\n",
    "# finite state markov model information interface\n",
    "class FSMarkovInfo(Protocol):\n",
    "    def transition(self,start:State, end:State)->list[float]: ...\n",
    "    def states(self)->list[State]: ...\n",
    "    def str2state(self,name:str)->State: ...\n",
    "\n",
    "# diffusion process model information interface\n",
    "class WienerInfo(Protocol):\n",
    "    def Wiener(self,s:int)->WienerParam: ..."
   ]
  },
  {
   "attachments": {},
   "cell_type": "markdown",
   "metadata": {},
   "source": [
    "### Simulator interfaces"
   ]
  },
  {
   "cell_type": "code",
   "execution_count": 5,
   "metadata": {},
   "outputs": [],
   "source": [
    "class FSMarkovSimulator(Protocol):\n",
    "    def sim_state(self,s:State)->tuple[int,State]: ...\n",
    "\n",
    "class WienerSimulator(Protocol):\n",
    "    def sim_Wiener(self,x0:float)->list[float]: ..."
   ]
  },
  {
   "attachments": {},
   "cell_type": "markdown",
   "metadata": {},
   "source": [
    "### The core model\n",
    "- a Wiener process model (an object of `Wiener` data class)\n",
    "- a finite state markove model (an object of `FSMarkov` data class)\n",
    "- Implements the `FSMarkovSimulator` interface\n",
    "- Implements the `FSMarkovInfo` interface\n",
    "- Implements the `WienerInfo` interface\n",
    "- Implements the `WienerSimulator` interface"
   ]
  },
  {
   "cell_type": "code",
   "execution_count": 6,
   "metadata": {},
   "outputs": [],
   "source": [
    "class HiddenMarkov():\n",
    "    def __init__(self,dp:Wiener,sp:FSMarkov):\n",
    "        self.dp=dp\n",
    "        self.fsm=sp\n",
    "    SV:Final[list[State]]=[-1,0,1]; INTERVAL_A:Final[int]=1;INTERVAL_B:Final[int]=1000\n",
    "    AB:Final[int]=INTERVAL_B-INTERVAL_A\n",
    "    def transition(self,start:State, end:State)->list[float]:\n",
    "        if start in self.SV and end in self.SV: return self.fsm.tranprobs[start+1][end+1]\n",
    "        else: raise ValueError(\"Illegal state value\")\n",
    "    def states(self)->list[State]: return self.SV\n",
    "    def str2state(self,name:str)->State:\n",
    "        match name:\n",
    "            case 'downtrend': return -1\n",
    "            case 'uptrend': return 1\n",
    "            case 'flat': return 0\n",
    "            case _: raise ValueError(\"Unknow state name\")\n",
    "        \n",
    "    def sim_state(self,s:State)->State:\n",
    "        rn=np.random.randint(self.INTERVAL_A,self.INTERVAL_B)\n",
    "        p=self.fsm.tranprobs[s+1]\n",
    "        if rn<self.AB*p[0]: return self.SV[0]\n",
    "        elif rn<=self.AB*(p[1]+p[0]): return self.SV[1]\n",
    "        else: return self.SV[2]\n",
    "\n",
    "    def wiener(self,s:int)->WienerParam: return self.dp.wparams[s+1]\n",
    "\n",
    "    def sim_wiener(self,x0:float)->list[float]:\n",
    "        return []"
   ]
  },
  {
   "cell_type": "code",
   "execution_count": 7,
   "metadata": {},
   "outputs": [],
   "source": [
    "MP=Wiener([(-1.0,20.0),(0.0,30.0),(1.0,20.0)]) # diffusion process\n",
    "TP=FSMarkov(np.array([[.25,.75,0.0],[.15,.7,.15],[0.0,.75,.25]])) # finite state markov process\n",
    "m=HiddenMarkov(MP,TP)"
   ]
  },
  {
   "cell_type": "code",
   "execution_count": 8,
   "metadata": {},
   "outputs": [
    {
     "data": {
      "text/plain": [
       "[[0.25, 0.75, 0.0], [0.15, 0.7, 0.15], [0.0, 0.75, 0.25]]"
      ]
     },
     "execution_count": 8,
     "metadata": {},
     "output_type": "execute_result"
    }
   ],
   "source": [
    "[[m.transition(start,end) for end in m.states()] for start in m.states()]"
   ]
  },
  {
   "cell_type": "code",
   "execution_count": 9,
   "metadata": {},
   "outputs": [
    {
     "data": {
      "text/plain": [
       "[(-1.0, 20.0), (0.0, 30.0), (1.0, 20.0)]"
      ]
     },
     "execution_count": 9,
     "metadata": {},
     "output_type": "execute_result"
    }
   ],
   "source": [
    "[m.wiener(s) for s in m.states()]"
   ]
  },
  {
   "attachments": {},
   "cell_type": "markdown",
   "metadata": {},
   "source": [
    "## Simulating the state process"
   ]
  },
  {
   "cell_type": "code",
   "execution_count": 10,
   "metadata": {},
   "outputs": [],
   "source": [
    "from typing import Generator\n",
    "from itertools import takewhile\n",
    "\n",
    "@contextmanager\n",
    "def single_state_simulator(s:State,m:FSMarkovSimulator,verbal:bool=False)->Generator:\n",
    "    if verbal:\n",
    "        print(\"Entering the flat state...\")\n",
    "        print(\"State transition probabilites:\",[m.transition(s,x) for x in m.states()])\n",
    "    state=s; n=0; new_state=state\n",
    "    while new_state==state: new_state=m.sim_state(state);n+=1\n",
    "\n",
    "    yield (n,new_state)\n",
    "\n",
    "    if verbal: print(f\"leaving the {state} state\")"
   ]
  },
  {
   "cell_type": "code",
   "execution_count": 11,
   "metadata": {},
   "outputs": [],
   "source": [
    "np.random.seed(0)\n",
    "N=pow(2,13)\n",
    "\n",
    "def single_state_process(s:State,m:FSMarkovSimulator,verbal=False)->tuple[int,State]:\n",
    "    with single_state_simulator(s,m,verbal) as fs:\n",
    "        return tuple(fs)"
   ]
  },
  {
   "attachments": {},
   "cell_type": "markdown",
   "metadata": {},
   "source": [
    "### Checking random number generator\n",
    "The simulated state appearing frequencies are close to the transition probablities, the errors are around in the order of $10^{-3}$ for $2^{13}$ realizations:"
   ]
  },
  {
   "cell_type": "code",
   "execution_count": 12,
   "metadata": {},
   "outputs": [
    {
     "data": {
      "text/plain": [
       "[[0.2506103515625, 0.753662109375, 0.0],\n",
       " [0.146728515625, 0.7071533203125, 0.158447265625],\n",
       " [0.0, 0.7509765625, 0.25146484375]]"
      ]
     },
     "execution_count": 12,
     "metadata": {},
     "output_type": "execute_result"
    }
   ],
   "source": [
    "[\n",
    "    list(map(\n",
    "            lambda s: # computing the frequency of the transition to state s for state v\n",
    "                len(list(\n",
    "                    filter(lambda x:x==s,[m.sim_state(v) for _ in range(N)])\n",
    "                ))/N,\n",
    "            m.states() # for all possible transition states\n",
    "        )\n",
    "    )\n",
    "    for v in m.states() # the state v visits all possible state in m.states()\n",
    "]"
   ]
  },
  {
   "attachments": {},
   "cell_type": "markdown",
   "metadata": {},
   "source": [
    "### Simulating single state processes\n",
    "Using the transition proabability, compute the length of the current state before entering the next state."
   ]
  },
  {
   "cell_type": "code",
   "execution_count": 13,
   "metadata": {},
   "outputs": [
    {
     "name": "stdout",
     "output_type": "stream",
     "text": [
      "Entering the flat state...\n",
      "State transition probabilites: [0.15, 0.7, 0.15]\n",
      "leaving the 0 state\n"
     ]
    },
    {
     "data": {
      "text/plain": [
       "(1, -1)"
      ]
     },
     "execution_count": 13,
     "metadata": {},
     "output_type": "execute_result"
    }
   ],
   "source": [
    "single_state_process(m.str2state('flat'),m,True)"
   ]
  },
  {
   "attachments": {},
   "cell_type": "markdown",
   "metadata": {},
   "source": [
    "`N` realizations for the flat state process:"
   ]
  },
  {
   "cell_type": "code",
   "execution_count": 14,
   "metadata": {},
   "outputs": [],
   "source": [
    "fps=[single_state_process(m.str2state('flat'),m) for _ in range(N)]"
   ]
  },
  {
   "cell_type": "code",
   "execution_count": 15,
   "metadata": {},
   "outputs": [
    {
     "data": {
      "text/plain": [
       "[(5, -1),\n",
       " (4, 1),\n",
       " (1, 1),\n",
       " (2, -1),\n",
       " (3, 1),\n",
       " (3, -1),\n",
       " (1, 1),\n",
       " (6, 1),\n",
       " (2, 1),\n",
       " (1, -1),\n",
       " (2, -1),\n",
       " (7, -1),\n",
       " (5, -1),\n",
       " (2, -1),\n",
       " (2, -1),\n",
       " (4, -1),\n",
       " (1, 1),\n",
       " (2, -1),\n",
       " (1, -1),\n",
       " (13, 1)]"
      ]
     },
     "execution_count": 15,
     "metadata": {},
     "output_type": "execute_result"
    }
   ],
   "source": [
    "fps[:20]"
   ]
  },
  {
   "attachments": {},
   "cell_type": "markdown",
   "metadata": {},
   "source": [
    "`N` realizations for the uptrend state process:"
   ]
  },
  {
   "cell_type": "code",
   "execution_count": 16,
   "metadata": {},
   "outputs": [],
   "source": [
    "uts=[single_state_process(m.str2state('uptrend'),m) for _ in range(N)]"
   ]
  },
  {
   "cell_type": "code",
   "execution_count": 17,
   "metadata": {},
   "outputs": [
    {
     "data": {
      "text/plain": [
       "[(2, 0),\n",
       " (1, 0),\n",
       " (1, 0),\n",
       " (1, 0),\n",
       " (3, 0),\n",
       " (1, 0),\n",
       " (1, 0),\n",
       " (1, 0),\n",
       " (1, 0),\n",
       " (1, 0),\n",
       " (1, 0),\n",
       " (1, 0),\n",
       " (1, 0),\n",
       " (1, 0),\n",
       " (1, 0),\n",
       " (1, 0),\n",
       " (1, 0),\n",
       " (1, 0),\n",
       " (1, 0),\n",
       " (1, 0)]"
      ]
     },
     "execution_count": 17,
     "metadata": {},
     "output_type": "execute_result"
    }
   ],
   "source": [
    "uts[:20]"
   ]
  },
  {
   "attachments": {},
   "cell_type": "markdown",
   "metadata": {},
   "source": [
    "`N` realizations for the downtrend state process:"
   ]
  },
  {
   "cell_type": "code",
   "execution_count": 18,
   "metadata": {},
   "outputs": [],
   "source": [
    "dts=[single_state_process(m.str2state('downtrend'),m) for _ in range(N)]"
   ]
  },
  {
   "cell_type": "code",
   "execution_count": 19,
   "metadata": {},
   "outputs": [
    {
     "data": {
      "text/plain": [
       "[(2, 0),\n",
       " (1, 0),\n",
       " (1, 0),\n",
       " (2, 0),\n",
       " (1, 0),\n",
       " (1, 0),\n",
       " (2, 0),\n",
       " (1, 0),\n",
       " (1, 0),\n",
       " (1, 0),\n",
       " (1, 0),\n",
       " (1, 0),\n",
       " (1, 0),\n",
       " (1, 0),\n",
       " (1, 0),\n",
       " (1, 0),\n",
       " (1, 0),\n",
       " (1, 0),\n",
       " (2, 0),\n",
       " (1, 0)]"
      ]
     },
     "execution_count": 19,
     "metadata": {},
     "output_type": "execute_result"
    }
   ],
   "source": [
    "dts[:20]"
   ]
  },
  {
   "attachments": {},
   "cell_type": "markdown",
   "metadata": {},
   "source": [
    "### Full process simulation\n",
    "We are testing several implementation as follows.\n",
    "- Using while loop: easier to read (maybe), utilize the components developed earlier.\n",
    "- Using `foldl`: tight and clean, can skip all the components developed earlier, but few times slower than the while loop.\n",
    "- Using caching technique on `foldl`: dramatically improves the peformance."
   ]
  },
  {
   "cell_type": "code",
   "execution_count": 20,
   "metadata": {},
   "outputs": [],
   "source": [
    "def state_process_w(s0:State,m:HiddenMarkov,length:int)->list[State]:\n",
    "    process=[]\n",
    "    while len(process)<length:\n",
    "        l,ns=single_state_process(s0,m)\n",
    "        process+=[s0]*l\n",
    "        s0=ns\n",
    "    return process[:length]"
   ]
  },
  {
   "cell_type": "code",
   "execution_count": 21,
   "metadata": {},
   "outputs": [
    {
     "name": "stdout",
     "output_type": "stream",
     "text": [
      "46.4 ms ± 2.52 ms per loop (mean ± std. dev. of 7 runs, 10 loops each)\n"
     ]
    }
   ],
   "source": [
    "%%timeit\n",
    "s=state_process_w(m.str2state('flat'),m,N)"
   ]
  },
  {
   "cell_type": "code",
   "execution_count": 22,
   "metadata": {},
   "outputs": [
    {
     "name": "stdout",
     "output_type": "stream",
     "text": [
      "CPU times: user 39.4 ms, sys: 3.13 ms, total: 42.5 ms\n",
      "Wall time: 42 ms\n"
     ]
    }
   ],
   "source": [
    "%%time\n",
    "s=state_process_w(0,m,N)"
   ]
  },
  {
   "cell_type": "code",
   "execution_count": 23,
   "metadata": {},
   "outputs": [],
   "source": [
    "from itertools import repeat\n",
    "from Contexts.Functor import ListFunctor\n",
    "from Contexts.Foldable import foldl\n",
    "v=list(repeat(1,N))"
   ]
  },
  {
   "cell_type": "code",
   "execution_count": 24,
   "metadata": {},
   "outputs": [],
   "source": [
    "def state_process(s0:State,m:HiddenMarkov,N:int)->list[State]:\n",
    "    return foldl(lambda acc,x:(m.sim_state(acc[0]),acc[1]+[acc[0]]),(s0,[]),repeat(1,N))[1]"
   ]
  },
  {
   "cell_type": "code",
   "execution_count": 25,
   "metadata": {},
   "outputs": [
    {
     "name": "stdout",
     "output_type": "stream",
     "text": [
      "116 ms ± 6.22 ms per loop (mean ± std. dev. of 7 runs, 10 loops each)\n"
     ]
    }
   ],
   "source": [
    "%%timeit\n",
    "s=state_process(0,m,N)"
   ]
  },
  {
   "cell_type": "code",
   "execution_count": 26,
   "metadata": {},
   "outputs": [
    {
     "name": "stdout",
     "output_type": "stream",
     "text": [
      "CPU times: user 105 ms, sys: 7.04 ms, total: 112 ms\n",
      "Wall time: 112 ms\n"
     ]
    }
   ],
   "source": [
    "%%time\n",
    "s=state_process(0,m,N)"
   ]
  },
  {
   "cell_type": "code",
   "execution_count": 27,
   "metadata": {},
   "outputs": [],
   "source": [
    "from functools import lru_cache\n",
    "\n",
    "@lru_cache(maxsize=128, typed=False)\n",
    "def state_process_cache(s0:State,m:HiddenMarkov,N:int)->list[State]:\n",
    "    return foldl(lambda acc,x:(m.sim_state(acc[0]),acc[1]+[acc[0]]),(s0,[]),repeat(1,N))[1]"
   ]
  },
  {
   "cell_type": "code",
   "execution_count": 28,
   "metadata": {},
   "outputs": [
    {
     "name": "stdout",
     "output_type": "stream",
     "text": [
      "77.8 ns ± 2.81 ns per loop (mean ± std. dev. of 7 runs, 10,000,000 loops each)\n"
     ]
    }
   ],
   "source": [
    "%%timeit\n",
    "s=state_process_cache(0,m,N)"
   ]
  },
  {
   "cell_type": "code",
   "execution_count": 29,
   "metadata": {},
   "outputs": [
    {
     "name": "stdout",
     "output_type": "stream",
     "text": [
      "CPU times: user 23 µs, sys: 3 µs, total: 26 µs\n",
      "Wall time: 30.8 µs\n"
     ]
    },
    {
     "data": {
      "text/plain": [
       "[0, 0, -1, 0, 0, 0, 0, 0, 0, 0, 1, 0, 0, 0, 0, 1, 0, 0, 1, 1]"
      ]
     },
     "execution_count": 29,
     "metadata": {},
     "output_type": "execute_result"
    }
   ],
   "source": [
    "%%time\n",
    "s=state_process_cache(0,m,N)\n",
    "s[:20]"
   ]
  },
  {
   "attachments": {},
   "cell_type": "markdown",
   "metadata": {},
   "source": [
    "## Simulating Wiener processes\n",
    "The discrete form of the Wiener process can be written as:\n",
    "\n",
    "$$x_i=x_{i-1}+\\mu \\Delta t_i+\\sigma\\sqrt{\\Delta t_i}\\xi_i$$\n",
    "\n",
    "where $\\xi\\sim N(0,1)$."
   ]
  },
  {
   "cell_type": "code",
   "execution_count": 30,
   "metadata": {},
   "outputs": [],
   "source": [
    "import math\n",
    "mu=1.0; sigma=20.0; x0=0.0; dt=1.0/365; N=pow(2,13); sqrtdt=math.sqrt(dt)\n",
    "foo=foldl(lambda acc,xi:(tmp:= acc[0]+mu*dt+sigma*sqrtdt*xi,acc[1]+[tmp]),(0.0,[]),np.random.normal(0.0,1.0,N))"
   ]
  },
  {
   "cell_type": "code",
   "execution_count": 31,
   "metadata": {},
   "outputs": [
    {
     "data": {
      "image/png": "[encoded data removed]",
      "text/plain": [
       "<Figure size 640x480 with 1 Axes>"
      ]
     },
     "metadata": {},
     "output_type": "display_data"
    }
   ],
   "source": [
    "import matplotlib.pyplot as plt\n",
    "from plot.qiplot import plot_ts\n",
    "plt.style.use(['ggplot','../plot/presentation.mplstyle'])\n",
    "\n",
    "t=[dt*i for i in range(N)]\n",
    "x=foo[1]\n",
    "fig,ax=plt.subplots()\n",
    "plot_ts(ax,t,x)"
   ]
  },
  {
   "attachments": {},
   "cell_type": "markdown",
   "metadata": {},
   "source": [
    "## Simulating a hidden markov process"
   ]
  },
  {
   "attachments": {},
   "cell_type": "markdown",
   "metadata": {},
   "source": [
    "## Model estimations"
   ]
  },
  {
   "attachments": {},
   "cell_type": "markdown",
   "metadata": {},
   "source": [
    "### Estimating the finite state markov process\n",
    "Given a simulated process $\\{s_i\\}_{i=1}^N,\\ s_i\\in S$, where $S$ is the state space, in this implementation,\n",
    "$S=\\{-1,0,1\\}$ representing the down trend, flat and up trend repectively.\n",
    "\n",
    "From the observed sequence $\\{s_i\\}_{i=1}^N$, we want to estimate the transitioin probablilites $p(S_v,S_u)=P\\{s_i=S_u\\ |\\ s_{i-1}=S_v\\}, i=1,\\cdots,N, S_u,S_v\\in S$. For a given $S_u, S_v\\in S$, the estimator is as follows:\n",
    "- Compute the number of occuring of the event $\\{s_i=S_u\\ |\\ s_{i-1}=S_v\\}$ in the sequence $\\{s_i\\}_{i=1}^N$.\n",
    "- Compute the number of the occuring of the event $\\{s_i=S_v\\}$.\n",
    "- The estimated transition probabability $p(S_v,S_u)$ is the ratio of the above two quantities.\n",
    "\n",
    "This estimator is coded in the function `transition_pair_estimator`:\n",
    "- `s1`: $S_v$\n",
    "- `s2`: $S_u$\n",
    "- `s0`: the initial value of the finite state markov process\n",
    "- `s`: a realization of the finite state markov process"
   ]
  },
  {
   "cell_type": "code",
   "execution_count": 32,
   "metadata": {},
   "outputs": [],
   "source": [
    "def transition_pair_estimator(s1:State,s2:State,s0:State,s:list[State])->float:\n",
    "    N=len(list(filter(lambda x:x==s1,s)))\n",
    "    return sum(foldl(lambda acc,x:(x,acc[1]+[1]) if acc[0]==s1 and x==s2 else (x,acc[1]),(s0,[]),s)[1])/N"
   ]
  },
  {
   "cell_type": "code",
   "execution_count": 33,
   "metadata": {},
   "outputs": [],
   "source": [
    "s=state_process(0,m,pow(2,13))"
   ]
  },
  {
   "cell_type": "code",
   "execution_count": 34,
   "metadata": {},
   "outputs": [
    {
     "data": {
      "text/plain": [
       "0.751269035532995"
      ]
     },
     "execution_count": 34,
     "metadata": {},
     "output_type": "execute_result"
    }
   ],
   "source": [
    "transition_pair_estimator(-1,0,0,s)"
   ]
  },
  {
   "cell_type": "code",
   "execution_count": 35,
   "metadata": {},
   "outputs": [
    {
     "data": {
      "text/plain": [
       "[[0.24873096446700507, 0.751269035532995, 0.0],\n",
       " [0.150559511698881, 0.7044760935910478, 0.14496439471007122],\n",
       " [0.0, 0.7688848920863309, 0.23111510791366907]]"
      ]
     },
     "execution_count": 35,
     "metadata": {},
     "output_type": "execute_result"
    }
   ],
   "source": [
    "[[transition_pair_estimator(s1,s2,0,s) for s2 in m.states()] for s1 in m.states()]"
   ]
  },
  {
   "attachments": {},
   "cell_type": "markdown",
   "metadata": {},
   "source": [
    "Comparing to the model parameters:"
   ]
  },
  {
   "cell_type": "code",
   "execution_count": 36,
   "metadata": {},
   "outputs": [
    {
     "data": {
      "text/plain": [
       "[[0.25, 0.75, 0.0], [0.15, 0.7, 0.15], [0.0, 0.75, 0.25]]"
      ]
     },
     "execution_count": 36,
     "metadata": {},
     "output_type": "execute_result"
    }
   ],
   "source": [
    "[[m.transition(start,end) for end in m.states()] for start in m.states()]"
   ]
  },
  {
   "attachments": {},
   "cell_type": "markdown",
   "metadata": {},
   "source": [
    "The erros are in the order of $10^{-2}$ from a realization of the process with length $2^{13}$.\n",
    "\n",
    "Let's increase the length of the process to $2^{16}$ and check the result:"
   ]
  },
  {
   "cell_type": "code",
   "execution_count": 37,
   "metadata": {},
   "outputs": [
    {
     "data": {
      "text/plain": [
       "[[0.24518053040792417, 0.7548194695920758, 0.0],\n",
       " [0.15124095691329306, 0.7016154847521288, 0.1471435583345782],\n",
       " [0.0, 0.7423557278208441, 0.2576442721791559]]"
      ]
     },
     "execution_count": 37,
     "metadata": {},
     "output_type": "execute_result"
    }
   ],
   "source": [
    "s=state_process(0,m,pow(2,16))\n",
    "[[transition_pair_estimator(s1,s2,0,s) for s2 in m.states()] for s1 in m.states()]"
   ]
  },
  {
   "attachments": {},
   "cell_type": "markdown",
   "metadata": {},
   "source": [
    "The errors are now in the order of $10^{-3}$, not a big gain in precision but it does gain."
   ]
  },
  {
   "attachments": {},
   "cell_type": "markdown",
   "metadata": {},
   "source": [
    "### Estimating Wiener processes\n",
    "Since the process $x_i$ statisfying\n",
    "\n",
    "$$x_i=x_{i-1}+\\mu\\Delta t+\\sigma\\sqrt{\\Delta}\\xi_i$$\n",
    "\n",
    "where $\\xi\\sim N(0,1)$.\n",
    "\n",
    "We have $\\Delta x_i=x_i-x_{i-1}\\sim N(\\mu\\Delta t,\\sigma\\sqrt{\\Delta t})$, for $i=1,2,\\cdots,N$, so the unbiased estimator for this normal distribution is as follows:\n",
    "\n",
    "$$\\mu\\Delta t=\\frac{1}{N}\\sum_{i=1}^N \\Delta x_i$$\n",
    "\n",
    "and\n",
    "\n",
    "$$\\sigma\\sqrt{\\Delta t}=\\sqrt{\\frac{1}{N-1}\\sum_{i=1}^N\\Delta^2x_i}$$"
   ]
  },
  {
   "cell_type": "code",
   "execution_count": 38,
   "metadata": {},
   "outputs": [],
   "source": [
    "mu=1.0; sigma=20.0; x0=0.0; dt=1.0/365; N=pow(2,13); sqrtdt=math.sqrt(dt)\n",
    "x=foldl(lambda acc,xi:(tmp:= acc[0]+mu*dt+sigma*sqrtdt*xi,acc[1]+[tmp]),(0.0,[]),np.random.normal(0.0,1.0,N))[1]"
   ]
  },
  {
   "cell_type": "code",
   "execution_count": 39,
   "metadata": {},
   "outputs": [],
   "source": [
    "from scipy.stats import norm"
   ]
  },
  {
   "cell_type": "code",
   "execution_count": 40,
   "metadata": {},
   "outputs": [],
   "source": [
    "dx=foldl(lambda acc,x:(x,acc[1]+[x-acc[0]]),(0.0,[]),x)[1]"
   ]
  },
  {
   "cell_type": "code",
   "execution_count": 41,
   "metadata": {},
   "outputs": [],
   "source": [
    "mudt,stddt=norm.fit(dx)"
   ]
  },
  {
   "cell_type": "code",
   "execution_count": 42,
   "metadata": {},
   "outputs": [
    {
     "name": "stdout",
     "output_type": "stream",
     "text": [
      "-0.35603251090124766 19.768171448769042\n"
     ]
    }
   ],
   "source": [
    "print(mudt/dt,stddt/sqrtdt)"
   ]
  },
  {
   "attachments": {},
   "cell_type": "markdown",
   "metadata": {},
   "source": [
    "It is hard to get a good estimation on the drift $\\mu$, but relatively easy to estimate the variance $\\sigma$ of the process."
   ]
  }
 ],
 "metadata": {
  "kernelspec": {
   "display_name": "python3.11",
   "language": "python",
   "name": "python3"
  },
  "language_info": {
   "codemirror_mode": {
    "name": "ipython",
    "version": 3
   },
   "file_extension": ".py",
   "mimetype": "text/x-python",
   "name": "python",
   "nbconvert_exporter": "python",
   "pygments_lexer": "ipython3",
   "version": "3.11.1"
  },
  "orig_nbformat": 4,
  "vscode": {
   "interpreter": {
    "hash": "b10226086f9c590e4f011c15abe890420217b7a9f5fcad7de85d05c11c6ee1f9"
   }
  }
 },
 "nbformat": 4,
 "nbformat_minor": 2
}
