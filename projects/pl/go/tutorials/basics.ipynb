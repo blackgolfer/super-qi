{
 "cells": [
  {
   "cell_type": "code",
   "execution_count": 3,
   "id": "538e27ca",
   "metadata": {},
   "outputs": [],
   "source": [
    "import \"fmt\""
   ]
  },
  {
   "cell_type": "markdown",
   "id": "7267dfa3",
   "metadata": {},
   "source": [
    "## Basics\n",
    "### Hellow world"
   ]
  },
  {
   "cell_type": "code",
   "execution_count": 6,
   "id": "3ffb378a",
   "metadata": {},
   "outputs": [
    {
     "name": "stdout",
     "output_type": "stream",
     "text": [
      "Hello, world."
     ]
    }
   ],
   "source": [
    "package main\n",
    "\n",
    "import \"fmt\" // Implements formatted I/O.\n",
    "\n",
    "/* Print something */\n",
    "func main() {\n",
    "\tfmt.Printf(\"Hello, world.\")\n",
    "}\n",
    "\n",
    "main()"
   ]
  },
  {
   "cell_type": "markdown",
   "id": "24f8092d",
   "metadata": {},
   "source": [
    "### Variables, types and keywords\n",
    "\n",
    "#### Numerical types"
   ]
  },
  {
   "cell_type": "code",
   "execution_count": 7,
   "id": "34456aa4",
   "metadata": {},
   "outputs": [
    {
     "ename": "ERROR",
     "evalue": "repl.go:6:2: error compiling assignment: b = a + a\n\trepl.go:6:2: incompatible types in assignment: int32 = int",
     "output_type": "error",
     "traceback": [
      "repl.go:6:2: error compiling assignment: b = a + a\n\trepl.go:6:2: incompatible types in assignment: int32 = int"
     ]
    }
   ],
   "source": [
    "package main\n",
    "\n",
    "func main() {\n",
    "\tvar a int\n",
    "\tvar b int32\n",
    "\tb = a + a\n",
    "\tb = b + 5\n",
    "}"
   ]
  },
  {
   "cell_type": "markdown",
   "id": "5a673b79",
   "metadata": {},
   "source": [
    "#### Constants"
   ]
  },
  {
   "cell_type": "code",
   "execution_count": 11,
   "id": "6eb14ae0",
   "metadata": {},
   "outputs": [
    {
     "name": "stdout",
     "output_type": "stream",
     "text": [
      "a=0,b=1"
     ]
    }
   ],
   "source": [
    "func main() {\n",
    "    const (\n",
    "        a = iota\n",
    "        b\n",
    "    )\n",
    "    fmt.Printf(\"a=%d,b=%d\",a,b)\n",
    "}\n",
    "main()"
   ]
  },
  {
   "cell_type": "markdown",
   "id": "e45f2034",
   "metadata": {},
   "source": [
    "#### Strings"
   ]
  },
  {
   "cell_type": "code",
   "execution_count": 14,
   "id": "f18f3715",
   "metadata": {},
   "outputs": [
    {
     "ename": "ERROR",
     "evalue": "repl.go:2:3: cannot assign to a byte in a string: s[0]",
     "output_type": "error",
     "traceback": [
      "repl.go:2:3: cannot assign to a byte in a string: s[0]"
     ]
    }
   ],
   "source": [
    "var s string = \"hello\"\n",
    "s[0] = 'c'"
   ]
  },
  {
   "cell_type": "code",
   "execution_count": 15,
   "id": "2200d5c8",
   "metadata": {},
   "outputs": [
    {
     "name": "stdout",
     "output_type": "stream",
     "text": [
      "cello\n"
     ]
    },
    {
     "data": {
      "text/plain": [
       "6 <nil>"
      ]
     },
     "execution_count": 15,
     "metadata": {},
     "output_type": "execute_result"
    }
   ],
   "source": [
    "s := \"hello\"\n",
    "c := []rune(s)\n",
    "c[0] = 'c'\n",
    "s2 := string(c)\n",
    "fmt.Printf(\"%s\\n\", s2)"
   ]
  },
  {
   "cell_type": "markdown",
   "id": "77fabf80",
   "metadata": {},
   "source": [
    "### Control structures"
   ]
  },
  {
   "cell_type": "markdown",
   "id": "9083a4cd",
   "metadata": {},
   "source": [
    "### Built-in functions"
   ]
  },
  {
   "cell_type": "markdown",
   "id": "2e350a52",
   "metadata": {},
   "source": [
    "### Arrays, slices and maps"
   ]
  },
  {
   "cell_type": "markdown",
   "id": "9a481a26",
   "metadata": {},
   "source": [
    "#### Slices"
   ]
  },
  {
   "cell_type": "code",
   "execution_count": 43,
   "id": "dbd9c6a2",
   "metadata": {},
   "outputs": [
    {
     "name": "stdout",
     "output_type": "stream",
     "text": [
      "len=10, cap=20"
     ]
    },
    {
     "data": {
      "text/plain": [
       "14 <nil>"
      ]
     },
     "execution_count": 43,
     "metadata": {},
     "output_type": "execute_result"
    }
   ],
   "source": [
    "const (\n",
    "    m=10\n",
    "    n=20\n",
    ")\n",
    "var array[n]int\n",
    "//slice:=make([]int,n)\n",
    "slice:=array[:m]\n",
    "fmt.Printf(\"len=%d, cap=%d\",len(slice),cap(slice))"
   ]
  }
 ],
 "metadata": {
  "kernelspec": {
   "display_name": "Go",
   "language": "go",
   "name": "gophernotes"
  },
  "language_info": {
   "codemirror_mode": "",
   "file_extension": ".go",
   "mimetype": "",
   "name": "go",
   "nbconvert_exporter": "",
   "pygments_lexer": "",
   "version": "go1.19.4"
  },
  "toc": {
   "base_numbering": 1,
   "nav_menu": {},
   "number_sections": true,
   "sideBar": true,
   "skip_h1_title": false,
   "title_cell": "Table of Contents",
   "title_sidebar": "Contents",
   "toc_cell": false,
   "toc_position": {},
   "toc_section_display": true,
   "toc_window_display": false
  }
 },
 "nbformat": 4,
 "nbformat_minor": 5
}
