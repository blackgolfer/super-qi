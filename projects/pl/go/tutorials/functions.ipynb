{
 "cells": [
  {
   "cell_type": "markdown",
   "id": "2ff0906a",
   "metadata": {},
   "source": [
    "## Functions"
   ]
  },
  {
   "cell_type": "code",
   "execution_count": 3,
   "id": "110f1d81",
   "metadata": {},
   "outputs": [
    {
     "name": "stdout",
     "output_type": "stream",
     "text": [
      "9 8 7 6 5 4 3 2 1 "
     ]
    }
   ],
   "source": [
    "import \"fmt\"\n",
    "func rec(i int) {\n",
    "    if i == 10 {\n",
    "        return\n",
    "    }\n",
    "    rec(i+1)\n",
    "    fmt.Printf(\"%d \", i)\n",
    "}\n",
    "rec(1)"
   ]
  },
  {
   "cell_type": "markdown",
   "id": "dce60eb8",
   "metadata": {},
   "source": [
    "### Scope"
   ]
  },
  {
   "cell_type": "code",
   "execution_count": 5,
   "id": "a75f6ddf",
   "metadata": {},
   "outputs": [
    {
     "name": "stderr",
     "output_type": "stream",
     "text": [
      "565"
     ]
    }
   ],
   "source": [
    "package main\n",
    "\n",
    "var a int\n",
    "\n",
    "func main() {\n",
    "    a = 5\n",
    "    print(a)\n",
    "    f()\n",
    "}\n",
    "\n",
    "func f() {\n",
    "    a := 6\n",
    "    print(a)\n",
    "    g()\n",
    "}\n",
    "\n",
    "func g() {\n",
    "    print(a)\n",
    "}\n",
    "\n",
    "main()"
   ]
  },
  {
   "cell_type": "markdown",
   "id": "177715fd",
   "metadata": {},
   "source": [
    "### Functions as values"
   ]
  },
  {
   "cell_type": "code",
   "execution_count": 6,
   "id": "0273d59f",
   "metadata": {},
   "outputs": [
    {
     "name": "stdout",
     "output_type": "stream",
     "text": [
      "Hello\n"
     ]
    }
   ],
   "source": [
    "func main() {\n",
    "\ta := func() {\n",
    "\t\tfmt.Println(\"Hello\")\n",
    "\t}\n",
    "\ta()\n",
    "}\n",
    "\n",
    "main()"
   ]
  },
  {
   "cell_type": "code",
   "execution_count": 15,
   "id": "a1a4f4e0",
   "metadata": {},
   "outputs": [
    {
     "name": "stdout",
     "output_type": "stream",
     "text": [
      "10,20,30"
     ]
    },
    {
     "data": {
      "text/plain": [
       "8 <nil>"
      ]
     },
     "execution_count": 15,
     "metadata": {},
     "output_type": "execute_result"
    }
   ],
   "source": [
    "var xs = map[int]func() int{\n",
    "    1: func() int { return 10 },\n",
    "    2: func() int { return 20 },\n",
    "    3: func() int { return 30 },\n",
    "}\n",
    "fmt.Printf(\"%d,%d,%d\",xs[1](),xs[2](),xs[3]())"
   ]
  },
  {
   "cell_type": "markdown",
   "id": "37d8ca38",
   "metadata": {},
   "source": [
    "### Deferred code"
   ]
  },
  {
   "cell_type": "code",
   "execution_count": 16,
   "id": "150ef0e4",
   "metadata": {},
   "outputs": [
    {
     "name": "stdout",
     "output_type": "stream",
     "text": [
      "4 3 2 1 0 "
     ]
    }
   ],
   "source": [
    "for i := 0; i < 5; i++ {\n",
    "    defer fmt.Printf(\"%d \", i)\n",
    "}"
   ]
  },
  {
   "cell_type": "code",
   "execution_count": 18,
   "id": "3d8d5c12",
   "metadata": {},
   "outputs": [
    {
     "data": {
      "text/plain": [
       "1"
      ]
     },
     "execution_count": 18,
     "metadata": {},
     "output_type": "execute_result"
    }
   ],
   "source": [
    "func f() (ret int) {\n",
    "    defer func() {\n",
    "        ret++\n",
    "    }()\n",
    "    return 0\n",
    "}\n",
    "\n",
    "f()"
   ]
  },
  {
   "cell_type": "markdown",
   "id": "14d8b343",
   "metadata": {},
   "source": [
    "### Panic and recovering"
   ]
  },
  {
   "cell_type": "code",
   "execution_count": 19,
   "id": "ee2afc84",
   "metadata": {},
   "outputs": [],
   "source": [
    "func Panic(f func()) (b bool) {\n",
    "    defer func() {\n",
    "        if x := recover(); x != nil {\n",
    "            b = true\n",
    "        }\n",
    "    }()\n",
    "    f()\n",
    "    return\n",
    "}"
   ]
  },
  {
   "cell_type": "code",
   "execution_count": 20,
   "id": "3f72bf44",
   "metadata": {},
   "outputs": [
    {
     "name": "stdout",
     "output_type": "stream",
     "text": [
      "true\n"
     ]
    }
   ],
   "source": [
    "func panicy() {\n",
    "    var a []int\n",
    "    a[3] = 5\n",
    "}\n",
    "\n",
    "func main() {\n",
    "    fmt.Println(Panic(panicy))\n",
    "}\n",
    "\n",
    "main()"
   ]
  },
  {
   "cell_type": "code",
   "execution_count": 21,
   "id": "1e9cb885",
   "metadata": {},
   "outputs": [
    {
     "name": "stdout",
     "output_type": "stream",
     "text": [
      "false\n"
     ]
    }
   ],
   "source": [
    "func panicy() {\n",
    "    var a [4]int\n",
    "    a[3] = 5\n",
    "}\n",
    "main()"
   ]
  },
  {
   "cell_type": "code",
   "execution_count": null,
   "id": "84bd2352",
   "metadata": {},
   "outputs": [],
   "source": []
  }
 ],
 "metadata": {
  "kernelspec": {
   "display_name": "Go",
   "language": "go",
   "name": "gophernotes"
  },
  "language_info": {
   "codemirror_mode": "",
   "file_extension": ".go",
   "mimetype": "",
   "name": "go",
   "nbconvert_exporter": "",
   "pygments_lexer": "",
   "version": "go1.19.4"
  },
  "toc": {
   "base_numbering": 1,
   "nav_menu": {},
   "number_sections": true,
   "sideBar": true,
   "skip_h1_title": false,
   "title_cell": "Table of Contents",
   "title_sidebar": "Contents",
   "toc_cell": false,
   "toc_position": {},
   "toc_section_display": true,
   "toc_window_display": false
  }
 },
 "nbformat": 4,
 "nbformat_minor": 5
}
