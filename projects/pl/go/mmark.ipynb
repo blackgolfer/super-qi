{
 "cells": [
  {
   "cell_type": "code",
   "execution_count": 1,
   "id": "c0462b29",
   "metadata": {},
   "outputs": [],
   "source": [
    "import (\n",
    "    \"github.com/gomarkdown/markdown\"\n",
    "    \"github.com/gomarkdown/markdown/parser\"\n",
    "    \"fmt\"\n",
    ")\n",
    "\n",
    "extensions := parser.CommonExtensions | parser.AutoHeadingIDs\n",
    "parser := parser.NewWithExtensions(extensions)\n",
    "\n",
    "md := []byte(\"markdown text\")\n",
    "html := markdown.ToHTML(md, parser, nil)"
   ]
  },
  {
   "cell_type": "code",
   "execution_count": 2,
   "id": "6adc20f2",
   "metadata": {},
   "outputs": [
    {
     "name": "stdout",
     "output_type": "stream",
     "text": [
      "<p>markdown text</p>\n"
     ]
    },
    {
     "data": {
      "text/plain": [
       "21 <nil>"
      ]
     },
     "execution_count": 2,
     "metadata": {},
     "output_type": "execute_result"
    }
   ],
   "source": [
    "fmt.Printf(\"%s\",html)"
   ]
  },
  {
   "cell_type": "code",
   "execution_count": null,
   "id": "9cabe744",
   "metadata": {},
   "outputs": [],
   "source": []
  }
 ],
 "metadata": {
  "kernelspec": {
   "display_name": "Go",
   "language": "go",
   "name": "gophernotes"
  },
  "language_info": {
   "codemirror_mode": "",
   "file_extension": ".go",
   "mimetype": "",
   "name": "go",
   "nbconvert_exporter": "",
   "pygments_lexer": "",
   "version": "go1.19.4"
  },
  "toc": {
   "base_numbering": 1,
   "nav_menu": {},
   "number_sections": true,
   "sideBar": true,
   "skip_h1_title": false,
   "title_cell": "Table of Contents",
   "title_sidebar": "Contents",
   "toc_cell": false,
   "toc_position": {},
   "toc_section_display": true,
   "toc_window_display": false
  }
 },
 "nbformat": 4,
 "nbformat_minor": 5
}
