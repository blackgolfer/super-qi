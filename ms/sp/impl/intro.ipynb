{
 "cells": [
  {
   "attachments": {},
   "cell_type": "markdown",
   "id": "15b25358",
   "metadata": {},
   "source": [
    "# 导言\n",
    "\n",
    " ```{epigraph}\n",
    " When I approach a programming problem, I first think about the types and abstractions that will be useful; I think about statically enforcing behaviour; and I don’t worry about the cost of intermediary data structures, because that price is almost never paid in full. \n",
    " \n",
    " --Michael Walker\n",
    " ```"
   ]
  },
  {
   "cell_type": "markdown",
   "id": "788b3850",
   "metadata": {},
   "source": [
    "这一部分是关于信号处理技术的工程实现。\n",
    "\n",
    "工程实现依赖于有效的单元操作。单元操作分两大类：其一是算法的单元操作；其二是编程技巧的单元操作。\n",
    "\n",
    "算法的单元操作也分两类，第一类是基本常见的单元操作，比如`shift`，`decimatioin`；另外一类是算法本身的单元操作，比如`lct`中的折叠算子。从某种意义上说，一个算法就是一个单元操作的集合与串通这些单元操作的逻辑。所以，算法上对单元操作的思考和掌控一般都比较严密，也因此比较到位。\n",
    "\n",
    "编程技巧上对单元操作的梳理也是比较丰富的，遗憾的是由于只要动手，一般都会比较快地得到结果，因此在单元操作上的设计比较容易被忽视，这是我们在工作中需要重视的。\n",
    "\n",
    "在大的框架上，编程技巧有以下几类：\n",
    "1. Python data model\n",
    "2. Object oriented programming (oop)\n",
    "   - 抽象类（abstract class）与具体类（concrete class）\n",
    "   - traits和mixin\n",
    "3. 对象的可变更性（mutable）与不可变更性（immutable）\n",
    "4. 函数式（functional programming）\n",
    "   \n",
    "更底层的技巧依赖于数据结构的经验，常用的有二叉树等。"
   ]
  },
  {
   "cell_type": "markdown",
   "id": "2adf0c4a",
   "metadata": {},
   "source": [
    "## Python collections 与 data model\n",
    "这段资料取自于{cite}`ramalho2015fluent`的第一章。这里简单介绍`collections`和data model，是我们常用的工具。"
   ]
  },
  {
   "cell_type": "markdown",
   "id": "71ea1e51",
   "metadata": {},
   "source": [
    "### collections"
   ]
  },
  {
   "cell_type": "code",
   "execution_count": 1,
   "id": "bb967835",
   "metadata": {},
   "outputs": [],
   "source": [
    "import collections\n",
    "\n",
    "Card=collections.namedtuple('Card', ['rank', 'suit'])"
   ]
  },
  {
   "cell_type": "code",
   "execution_count": 2,
   "id": "001c90c0",
   "metadata": {},
   "outputs": [
    {
     "data": {
      "text/plain": [
       "Card(rank='2', suit='spades')"
      ]
     },
     "execution_count": 2,
     "metadata": {},
     "output_type": "execute_result"
    }
   ],
   "source": [
    "Card('2','spades')"
   ]
  },
  {
   "cell_type": "markdown",
   "id": "0424a0cb",
   "metadata": {},
   "source": [
    "## data model\n",
    "我们用一个模拟扑克牌的案例来说明data model的用法，定义一个类叫`FrenchDeck`："
   ]
  },
  {
   "cell_type": "code",
   "execution_count": 3,
   "id": "97c1e450",
   "metadata": {},
   "outputs": [],
   "source": [
    "class FrenchDeck:\n",
    "    ranks = [str(n) for n in range(2,11)]+list('JQKA')\n",
    "    suits = 'spades diamonds clubs hearts'.split()\n",
    "    \n",
    "    def __init__(self):\n",
    "        self._cards=[Card(rank,suit) for suit in self.suits\n",
    "                                    for rank in self.ranks]\n",
    "        \n",
    "    def __len__(self):\n",
    "        return len(self._cards)\n",
    "    \n",
    "    def __getitem__(self,position):\n",
    "        return self._cards[position]"
   ]
  },
  {
   "cell_type": "markdown",
   "id": "668c78cf",
   "metadata": {},
   "source": [
    "`FrenchDeck`比较简单，但功能强大。这是因为用了特殊函数`__len__`和`__getitem__`。下面来说明其主要功能。"
   ]
  },
  {
   "cell_type": "markdown",
   "id": "4a854e9e",
   "metadata": {},
   "source": [
    "### `__len__`\n",
    "`__len__`的功能是返回纸牌的个数。\n",
    "\n",
    "`FrenchDeck`中，唯一一个成员就是`_cards`，用`list comprehension`的方法（以上程序第6行）生成，因此是collection中的一个类。`__len__`是应用`len`函数于这个成员，算出成员里面元素的个数，也就是纸牌的个数。"
   ]
  },
  {
   "cell_type": "code",
   "execution_count": 4,
   "id": "4489a13b",
   "metadata": {},
   "outputs": [
    {
     "data": {
      "text/plain": [
       "52"
      ]
     },
     "execution_count": 4,
     "metadata": {},
     "output_type": "execute_result"
    }
   ],
   "source": [
    "deck=FrenchDeck()\n",
    "len(deck)"
   ]
  },
  {
   "cell_type": "markdown",
   "id": "2abe9dcb",
   "metadata": {},
   "source": [
    "当函数`len`作用于`deck`，系统中是委托`FrenchDeck`中的特殊函数`__len__`来实现。"
   ]
  },
  {
   "cell_type": "markdown",
   "id": "6f9d93c5",
   "metadata": {},
   "source": [
    "### `__getitem__`\n",
    "定义这个特殊类方法使得`FrenchDeck`具备以下功能：\n",
    "1. 支持slicing：这是因为我们在`__getitem__`中委托算子`[]`进行对类成员`_cards`的指针操作。因为`_cards`的类型是`list`，这种简练的委托，使得`FrenchDeck`变成了像`list`数据结构。\n",
    "2. 使得`FrenchDeck`成为*iterable*，这样许多python中适用于*iterable*的程序库能被应用于`FrenchDeck`。\n",
    "\n",
    "值得强调的是，`FrenchDeck`的实现不是通过继承的方式，更多的是一种组合的方式来实现。这是*data model*非常重要的特征。"
   ]
  },
  {
   "cell_type": "markdown",
   "id": "1b6f6b52",
   "metadata": {},
   "source": [
    "#### 类`list`\n",
    "抽取第`n`张纸牌，`n`的方式与`list`一样，如下`deck[0]`为第一张纸牌，`deck[-1]`为最后一张纸牌："
   ]
  },
  {
   "cell_type": "code",
   "execution_count": 5,
   "id": "ee2ba68f",
   "metadata": {},
   "outputs": [
    {
     "data": {
      "text/plain": [
       "Card(rank='2', suit='spades')"
      ]
     },
     "execution_count": 5,
     "metadata": {},
     "output_type": "execute_result"
    }
   ],
   "source": [
    "deck[0]"
   ]
  },
  {
   "cell_type": "code",
   "execution_count": 6,
   "id": "9984a924",
   "metadata": {},
   "outputs": [
    {
     "data": {
      "text/plain": [
       "Card(rank='A', suit='hearts')"
      ]
     },
     "execution_count": 6,
     "metadata": {},
     "output_type": "execute_result"
    }
   ],
   "source": [
    "deck[-1]"
   ]
  },
  {
   "cell_type": "markdown",
   "id": "8e246c45",
   "metadata": {},
   "source": [
    "通过调用`random.choice`，使得`FrenchDeck`支持随机抽取纸牌的功能："
   ]
  },
  {
   "cell_type": "code",
   "execution_count": 7,
   "id": "cd9652c3",
   "metadata": {},
   "outputs": [
    {
     "data": {
      "text/plain": [
       "Card(rank='10', suit='diamonds')"
      ]
     },
     "execution_count": 7,
     "metadata": {},
     "output_type": "execute_result"
    }
   ],
   "source": [
    "from random import choice\n",
    "\n",
    "choice(deck)"
   ]
  },
  {
   "cell_type": "markdown",
   "id": "9ffa9b7b",
   "metadata": {},
   "source": [
    "支持*slicing*:"
   ]
  },
  {
   "cell_type": "code",
   "execution_count": 8,
   "id": "98686311",
   "metadata": {},
   "outputs": [
    {
     "data": {
      "text/plain": [
       "[Card(rank='2', suit='spades'),\n",
       " Card(rank='3', suit='spades'),\n",
       " Card(rank='4', suit='spades')]"
      ]
     },
     "execution_count": 8,
     "metadata": {},
     "output_type": "execute_result"
    }
   ],
   "source": [
    "deck[0:3]"
   ]
  },
  {
   "cell_type": "code",
   "execution_count": 9,
   "id": "3fea102c",
   "metadata": {},
   "outputs": [
    {
     "data": {
      "text/plain": [
       "[Card(rank='A', suit='spades'),\n",
       " Card(rank='A', suit='diamonds'),\n",
       " Card(rank='A', suit='clubs'),\n",
       " Card(rank='A', suit='hearts')]"
      ]
     },
     "execution_count": 9,
     "metadata": {},
     "output_type": "execute_result"
    }
   ],
   "source": [
    "deck[12::13]"
   ]
  },
  {
   "cell_type": "markdown",
   "id": "01915681",
   "metadata": {},
   "source": [
    "#### *iterable*"
   ]
  },
  {
   "cell_type": "code",
   "execution_count": 10,
   "id": "e88e45c1",
   "metadata": {},
   "outputs": [
    {
     "name": "stdout",
     "output_type": "stream",
     "text": [
      "Card(rank='2', suit='spades')\n",
      "Card(rank='3', suit='spades')\n",
      "Card(rank='4', suit='spades')\n",
      "Card(rank='5', suit='spades')\n",
      "Card(rank='6', suit='spades')\n"
     ]
    }
   ],
   "source": [
    "for i,j in zip(range(len(deck)),deck):\n",
    "    if i>4:\n",
    "        break\n",
    "    print(j)"
   ]
  },
  {
   "cell_type": "code",
   "execution_count": 11,
   "id": "65e309fe",
   "metadata": {},
   "outputs": [
    {
     "name": "stdout",
     "output_type": "stream",
     "text": [
      "Card(rank='A', suit='hearts')\n",
      "Card(rank='K', suit='hearts')\n",
      "Card(rank='Q', suit='hearts')\n",
      "Card(rank='J', suit='hearts')\n"
     ]
    }
   ],
   "source": [
    "for i,j in zip(range(len(deck)),reversed(deck)):\n",
    "    if (i<4):\n",
    "        print(j)\n",
    "    else:\n",
    "        break"
   ]
  },
  {
   "cell_type": "code",
   "execution_count": 12,
   "id": "ce60c760",
   "metadata": {},
   "outputs": [
    {
     "data": {
      "text/plain": [
       "True"
      ]
     },
     "execution_count": 12,
     "metadata": {},
     "output_type": "execute_result"
    }
   ],
   "source": [
    "Card('Q', 'hearts') in deck"
   ]
  },
  {
   "cell_type": "markdown",
   "id": "ac7cf844",
   "metadata": {},
   "source": [
    "我们来看看排序功能："
   ]
  },
  {
   "cell_type": "code",
   "execution_count": 13,
   "id": "75d5c612",
   "metadata": {},
   "outputs": [],
   "source": [
    "suit_values = dict(spades=3, hearts=2, diamonds=1, clubs=0)\n",
    "\n",
    "def spades_high(card):\n",
    "    rank_value = FrenchDeck.ranks.index(card.rank)\n",
    "    return rank_value * len(suit_values) + suit_values[card.suit]"
   ]
  },
  {
   "cell_type": "code",
   "execution_count": 14,
   "id": "6b2e3588",
   "metadata": {},
   "outputs": [
    {
     "name": "stdout",
     "output_type": "stream",
     "text": [
      "Card(rank='2', suit='clubs')\n",
      "Card(rank='2', suit='diamonds')\n",
      "Card(rank='2', suit='hearts')\n",
      "Card(rank='2', suit='spades')\n",
      "Card(rank='3', suit='clubs')\n",
      "Card(rank='3', suit='diamonds')\n"
     ]
    }
   ],
   "source": [
    "for i,card in zip(range(len(deck)),sorted(deck, key=spades_high)):\n",
    "    if i<6:\n",
    "        print(card)\n",
    "    else:\n",
    "        break"
   ]
  },
  {
   "cell_type": "markdown",
   "id": "86c71416",
   "metadata": {},
   "source": [
    "## traits和mixin的案例\n",
    "这个案例来自于文章[Higher-Order Mixin Classes, or \"Traits, but not quite!\"](https://web.archive.org/web/20161009062141/http://stupid-python-tricks.blogspot.com/2015/04/computed-properties-and-higher-order.html)，所用到的技巧非常漂亮。\n",
    "\n",
    "对于颜色，定义一个trait，通过函数的形式来生成trait类。用到匿名类`Inner`，配合`setattr`以及`property`两个函数的使用来设定匿名类的参数。"
   ]
  },
  {
   "cell_type": "code",
   "execution_count": 15,
   "id": "c7070d98",
   "metadata": {},
   "outputs": [],
   "source": [
    "def HasColor(name, default=None, doc=None):\n",
    "    \"\"\"\n",
    "    Return an anonymous class that has a color property\n",
    "    named `name`, with a default value of `default` and\n",
    "    a docstring of `doc`.\n",
    "    \"\"\"\n",
    "\n",
    "    propname = \"__color_{}\".format(name)\n",
    "    colors = {\n",
    "        \"black\": 0x00000000,\n",
    "        \"white\": 0x00ffffff,\n",
    "        \"red\":   0x00ff0000,\n",
    "        \"green\": 0x0000ff00,\n",
    "        \"blue\":  0x000000ff\n",
    "    }\n",
    "\n",
    "    def getter(self):\n",
    "        return getattr(self, propname, default)\n",
    "\n",
    "    def setter(self, value):\n",
    "        if isinstance(value, int):\n",
    "            if isinstance(value, bool):\n",
    "                raise TypeError(\"integer colors must be ints\")\n",
    "\n",
    "            if value < 0 or value > 0x00ffffff:\n",
    "                raise ValueError(\"integer colors must be 24-bit\")\n",
    "\n",
    "            setattr(self, propname, value)\n",
    "\n",
    "        elif isinstance(value, str):\n",
    "            if value not in colors:\n",
    "                raise ValueError(\"unknown color '{}'\".format(value))\n",
    "\n",
    "            setattr(self, propname, colors[value])\n",
    "\n",
    "        else:\n",
    "            raise TypeError(\"color specifications must be ints or strs\")\n",
    "\n",
    "\n",
    "    class Inner:\n",
    "        pass\n",
    "\n",
    "    setattr(Inner, name, property(getter, setter, None, doc))\n",
    "    return Inner"
   ]
  },
  {
   "cell_type": "markdown",
   "id": "ccb46887",
   "metadata": {},
   "source": [
    "使用trait来组装下面的`Canvas`和`Button`，这样的组装方式显得非常灵活，合理，这就是mixin的概念："
   ]
  },
  {
   "cell_type": "code",
   "execution_count": 16,
   "id": "00609852",
   "metadata": {},
   "outputs": [],
   "source": [
    "class GraphicsObject: # The base class of our hierarchy.\n",
    "    pass\n",
    "\n",
    "class Canvas(GraphicsObject,\n",
    "            HasColor(\"foreground\"),\n",
    "            HasColor(\"background\")):\n",
    "    pass\n",
    "\n",
    "class Button(Canvas, # Inherit Canvas's foreground and background.\n",
    "             HasColor(\"border\"),\n",
    "             HasColor(\"text\")):\n",
    "    pass"
   ]
  },
  {
   "cell_type": "code",
   "execution_count": 17,
   "id": "2f1af821",
   "metadata": {},
   "outputs": [],
   "source": [
    "c = Canvas()\n",
    "c.foreground = 'red'\n",
    "\n",
    "b = Button()\n",
    "b.foreground = 'black'\n",
    "b.text = 'green'\n"
   ]
  },
  {
   "cell_type": "code",
   "execution_count": 18,
   "id": "4c0c2466",
   "metadata": {},
   "outputs": [
    {
     "name": "stdout",
     "output_type": "stream",
     "text": [
      "canvas foreground: 0xff0000\n",
      "button foreground: 0x0\n",
      "button text: 0xff00\n"
     ]
    }
   ],
   "source": [
    "print(\"canvas foreground:\",hex(c.foreground))\n",
    "print(\"button foreground:\",hex(b.foreground))\n",
    "print(\"button text:\",hex(b.text))"
   ]
  },
  {
   "cell_type": "markdown",
   "id": "27c1a9cf",
   "metadata": {},
   "source": [
    "## 不可变更（immutable）类\n",
    "### 类的隐私参数\n",
    "类的隐私参数通过在参数名加前缀`__`来实现："
   ]
  },
  {
   "cell_type": "code",
   "execution_count": 19,
   "id": "b0e3fed5",
   "metadata": {},
   "outputs": [],
   "source": [
    "class foo:\n",
    "    def __init__(self,v):\n",
    "        self.__v=v\n",
    "\n",
    "    def __repr__(self):\n",
    "        return str(self.__v)\n",
    "f1=foo(3)"
   ]
  },
  {
   "cell_type": "code",
   "execution_count": 20,
   "id": "aa7c6998",
   "metadata": {},
   "outputs": [],
   "source": [
    "#print(f1.__v)会产生错误：AttributeError: 'foo' object has no attribute '__v'"
   ]
  },
  {
   "cell_type": "code",
   "execution_count": 21,
   "id": "54033416",
   "metadata": {},
   "outputs": [
    {
     "name": "stdout",
     "output_type": "stream",
     "text": [
      "3\n"
     ]
    }
   ],
   "source": [
    "print(f1)"
   ]
  },
  {
   "cell_type": "markdown",
   "id": "335bcf05",
   "metadata": {},
   "source": [
    "### 如何实现类的不可变更性\n",
    "通过屏蔽掉类的`__setattr__`和`__delattr__`特殊函数，我们可以达到准不可变更类。下面的案例分析，从中可以看到我们为什么用”准“这个词。"
   ]
  },
  {
   "cell_type": "code",
   "execution_count": 22,
   "id": "442665d7",
   "metadata": {},
   "outputs": [],
   "source": [
    "import inspect\n",
    "\n",
    "class Immutable(object):\n",
    "    \"\"\"Inherit this class to make the child class immutable\"\"\"\n",
    "    def __setattr__(self, *args):\n",
    "        if inspect.stack()[1][3] == '__init__':\n",
    "            object.__setattr__(self, *args)\n",
    "        else:\n",
    "            raise TypeError('Cannot modify Immutable instance')\n",
    "\n",
    "    __delattr__=__setattr__"
   ]
  },
  {
   "cell_type": "code",
   "execution_count": 23,
   "id": "9dc85230",
   "metadata": {},
   "outputs": [],
   "source": [
    "class foo(Immutable):\n",
    "    def __init__(self,data):\n",
    "        self.__data=data\n",
    "    \n",
    "    def __repr__(self):\n",
    "        return str(id(self.__data))\n",
    "    \n",
    "    def __getitem__(self,p):\n",
    "        return self.__data[p]\n",
    "    \n",
    "    def __setitem__(self,p,v):\n",
    "        self.__data[p]=v"
   ]
  },
  {
   "cell_type": "code",
   "execution_count": 24,
   "id": "40ea5410",
   "metadata": {},
   "outputs": [
    {
     "name": "stdout",
     "output_type": "stream",
     "text": [
      "140268132462272 140268132462272\n"
     ]
    }
   ],
   "source": [
    "foo1=list(range(4))\n",
    "foo2=foo(foo1)\n",
    "print(foo2,id(foo1))"
   ]
  },
  {
   "cell_type": "code",
   "execution_count": 25,
   "id": "bb6ddd0d",
   "metadata": {},
   "outputs": [
    {
     "name": "stdout",
     "output_type": "stream",
     "text": [
      "0\n",
      "s\n",
      "2\n",
      "3\n"
     ]
    }
   ],
   "source": [
    "foo2[1]='s'\n",
    "for i in foo2:\n",
    "    print(i)"
   ]
  },
  {
   "cell_type": "code",
   "execution_count": 26,
   "id": "d7f8f001",
   "metadata": {},
   "outputs": [
    {
     "name": "stdout",
     "output_type": "stream",
     "text": [
      "0\n",
      "s\n",
      "2\n",
      "3\n"
     ]
    }
   ],
   "source": [
    "for i in foo1:\n",
    "    print(i)"
   ]
  },
  {
   "cell_type": "markdown",
   "id": "d5069475",
   "metadata": {},
   "source": [
    "这里我们看到以下非常重要的几点：\n",
    "1. 数组作为类构造函数的输入参数是按pass by reference来进行，这里的foo1就是被pass by reference，因为foo1的`id`值跟`foo`里面`__data`的`id`值是一样的；同时我们也看到`foo2`中`__data[1]`改成字符`s`后，`foo1[1]`也相应改成了`s`。\n",
    "2. 虽然类`foo`继承了`Immutable`，屏蔽了对类参数的更改，这只是限制了对`__data`的更改，并不能限制`__data`内容的更改，也就是对参数的更改与对参数内容的更改是两个不同的概念。\n",
    "3. 真正能够让一个继承`Immutable`类成为绝对不可更改，必须要求类参数本身也是不可更改的类。\n",
    "4. 在没有声称`__setitem__`的情况下，作为`Immutable`的子类，外部对`foo`确实是没有更改的途径。对`foo`内部参数`__data`内容的更改只能在`foo`内部进行，这在一定程度上实现了不可更改性。"
   ]
  },
  {
   "cell_type": "markdown",
   "id": "34e1720d",
   "metadata": {},
   "source": [
    "## 常用的技巧\n",
    "1. map\n",
    "2. itertools\n",
    "3. lambda\n",
    "4. exception\n",
    "5. decorator\n",
    "6. closure\n",
    "7. generator\n",
    "8. threading\n",
    "9. regular expression"
   ]
  },
  {
   "cell_type": "markdown",
   "id": "571fc62d",
   "metadata": {},
   "source": [
    "### itertools\n",
    "我们来看看`itertools`的功能，这个程序包功能强大，对编程的方式影响深远。在这里我们探讨的主要功能是`iter`，`islice`，`repeat`和`starmap`，材料主要来源于\n",
    "[What are the uses of iter(callable, sentinel)?](https://stackoverflow.com/questions/38087427/what-are-the-uses-of-itercallable-sentinel)。至于其他功能和一些基础材料，可参见[Itertools in Python 3, By Example](https://realpython.com/python-itertools/)。"
   ]
  },
  {
   "cell_type": "code",
   "execution_count": 27,
   "id": "a173d8a9",
   "metadata": {},
   "outputs": [],
   "source": [
    "from itertools import starmap, islice, repeat, takewhile, tee, count"
   ]
  },
  {
   "cell_type": "code",
   "execution_count": 28,
   "id": "eb695b0d",
   "metadata": {},
   "outputs": [],
   "source": [
    "n=6\n",
    "N=23\n",
    "M=1+int(N/n)\n",
    "list_obj=list(range(N))"
   ]
  },
  {
   "cell_type": "markdown",
   "id": "deca0d8c",
   "metadata": {},
   "source": [
    "#### itertools.iter和itertools.islice"
   ]
  },
  {
   "cell_type": "markdown",
   "id": "e9530788",
   "metadata": {},
   "source": [
    "假设有一个序列：$0,1,2,\\cdots,N-1,\\quad N>0$，给定一个正整数`n`，我们需要一个分组的算法，将这组数按序分割成$M$组，每一组有`n`个数（最后一组的个数可能小于`n`）。"
   ]
  },
  {
   "cell_type": "code",
   "execution_count": 29,
   "id": "237956d8",
   "metadata": {},
   "outputs": [],
   "source": [
    "import time"
   ]
  },
  {
   "cell_type": "markdown",
   "id": "29cec4b4",
   "metadata": {},
   "source": [
    "下面的代码建立在以下两点的基础上：\n",
    "1. 一系列的`islice`作用于*同一个对象*。\n",
    "2. 这个对象是被分析序列`list_obj`的一个`iter`。\n",
    "\n",
    "这就保证第一次执行`islice`，我们截取出第一组`n`个数，第二次运行，截取第二组，余此类推。"
   ]
  },
  {
   "cell_type": "code",
   "execution_count": 30,
   "id": "913908f7",
   "metadata": {},
   "outputs": [
    {
     "name": "stdout",
     "output_type": "stream",
     "text": [
      "CPU times: user 2 µs, sys: 1 µs, total: 3 µs\n",
      "Wall time: 5.25 µs\n",
      "(0, 1, 2, 3, 4, 5)\n",
      "(6, 7, 8, 9, 10, 11)\n",
      "(12, 13, 14, 15, 16, 17)\n",
      "(18, 19, 20, 21, 22)\n"
     ]
    }
   ],
   "source": [
    "#%timeit -r1 time.sleep(.001)\n",
    "%time\n",
    "tmp=iter(list_obj)\n",
    "for i in range(M):\n",
    "    print(tuple(islice(tmp,n)))"
   ]
  },
  {
   "cell_type": "markdown",
   "id": "b1ea6c61",
   "metadata": {},
   "source": [
    "`islice`这种滑动的性质是建立在被作用的对象是被分析序列`list_obj`的一个`iter`。为了说明这个特征，下面的案例是将`islice`直接作用于被分析序列上，因为没有`iter`的特征，我们看到滑动的性质消失了："
   ]
  },
  {
   "cell_type": "code",
   "execution_count": 31,
   "id": "c2d8fbee",
   "metadata": {},
   "outputs": [
    {
     "name": "stdout",
     "output_type": "stream",
     "text": [
      "[0, 1, 2, 3, 4, 5] [0, 1, 2, 3, 4, 5]\n"
     ]
    }
   ],
   "source": [
    "print(list(islice(list_obj,n)),list(islice(list_obj,n)))"
   ]
  },
  {
   "cell_type": "markdown",
   "id": "24fb24da",
   "metadata": {},
   "source": [
    "用`islice`结合`iter`来获取滑动的性质，这种技巧非常重要。在这个技巧下，上面的算法的本质如下：\n",
    "1. 产生一个函数系列，序列中的元素`islice`作用于同一个`iter(list_obj)`对象，\n",
    "2. 按序来执行这个函数序列从而达到分段截取的目的。\n",
    "\n",
    "先来看看用list comprehension来产生这个函数序列："
   ]
  },
  {
   "cell_type": "code",
   "execution_count": 32,
   "id": "bd684184",
   "metadata": {},
   "outputs": [
    {
     "name": "stdout",
     "output_type": "stream",
     "text": [
      "(0, 1, 2, 3, 4, 5)\n",
      "(6, 7, 8, 9, 10, 11)\n",
      "(12, 13, 14, 15, 16, 17)\n",
      "(18, 19, 20, 21, 22)\n"
     ]
    }
   ],
   "source": [
    "#%timeit -r1 time.sleep(.001)\n",
    "tmp=iter(list_obj)\n",
    "foo=[islice(tmp,n) for i in range(M)]\n",
    "for i in range(M):\n",
    "    print(tuple(foo[i]))"
   ]
  },
  {
   "cell_type": "markdown",
   "id": "ce88a632",
   "metadata": {},
   "source": [
    "将算法封装成函数，返回函数序列的`iter`，利用这个`iter`可以轻松实现上面所说的第二步。这里我们用到了`iter`中的一个功能，我们可以将一个`callable`塞到`iter`里，让`iter`按这个`callable`来滑动，同时给定一个滑动终止的状态。我们所塞给`iter`的是`map`的特殊函数`__next__`，终止的状态是`()`，这是因为我们通过`map`将`islice`的结果转换成`tuple`，当被分析序列没有数据点的时候，`islice`返回空值，而`tuple`作用于空值为`()`，这个时候分割过程结束。"
   ]
  },
  {
   "cell_type": "code",
   "execution_count": 33,
   "id": "1e7a3b97",
   "metadata": {},
   "outputs": [],
   "source": [
    "def grouper_v1(n,m,iterable):\n",
    "    tmp=iter(iterable)\n",
    "    s=[islice(tmp,n) for i in range(m)]\n",
    "    return iter(map(tuple,s).__next__,())"
   ]
  },
  {
   "cell_type": "code",
   "execution_count": 34,
   "id": "098b2a61",
   "metadata": {},
   "outputs": [
    {
     "name": "stdout",
     "output_type": "stream",
     "text": [
      "(0, 1, 2, 3, 4, 5)\n",
      "(6, 7, 8, 9, 10, 11)\n",
      "(12, 13, 14, 15, 16, 17)\n",
      "(18, 19, 20, 21, 22)\n"
     ]
    }
   ],
   "source": [
    "#%timeit -r1 time.sleep(.001)\n",
    "foo=grouper_v1(n,M,list_obj)\n",
    "for i in foo:\n",
    "    print(i)"
   ]
  },
  {
   "cell_type": "markdown",
   "id": "208ef6e8",
   "metadata": {},
   "source": [
    "### repeat\n",
    "`repeat`将一个输入对象（第一个输入参数）重复`n`次（第二个输入参数），返回所产生的序列的一个`iter`。其最大的特征是同一个对象重复了`n`次，见下例："
   ]
  },
  {
   "cell_type": "code",
   "execution_count": 35,
   "id": "f5838c22",
   "metadata": {},
   "outputs": [
    {
     "name": "stdout",
     "output_type": "stream",
     "text": [
      "140268176109104\n",
      "140268176109104\n"
     ]
    }
   ],
   "source": [
    "foo=repeat(iter(list_obj),2)\n",
    "for i in foo:\n",
    "    print(id(i))"
   ]
  },
  {
   "cell_type": "markdown",
   "id": "ba2f8fdc",
   "metadata": {},
   "source": [
    "跟list comprehension比较，我们可以看到在list comprehension里，`iter(list_obj)`不断产生新的对象。这就是为什么在`grouper_v1`中，我们用中间变量`tmp`来固定住对象。"
   ]
  },
  {
   "cell_type": "code",
   "execution_count": 36,
   "id": "5552a973",
   "metadata": {},
   "outputs": [
    {
     "name": "stdout",
     "output_type": "stream",
     "text": [
      "140268176102528\n",
      "140268176107568\n"
     ]
    }
   ],
   "source": [
    "foo=[iter(list_obj) for i in range(2)]\n",
    "for i in range(2):\n",
    "    print(id(foo[i]))"
   ]
  },
  {
   "cell_type": "markdown",
   "id": "e7091e3e",
   "metadata": {},
   "source": [
    "从上面的`for in foo`与下面的例子，我们看到`repeat`返回的是一个`iter`。"
   ]
  },
  {
   "cell_type": "code",
   "execution_count": 37,
   "id": "f585cd01",
   "metadata": {},
   "outputs": [
    {
     "name": "stdout",
     "output_type": "stream",
     "text": [
      "[0, 1, 2, 3, 4, 5, 6, 7, 8, 9, 10, 11, 12, 13, 14, 15, 16, 17, 18, 19, 20, 21, 22]\n",
      "[]\n"
     ]
    }
   ],
   "source": [
    "foo=repeat(iter(list_obj),2)\n",
    "for i in range(2):\n",
    "    print(list(next(foo)))"
   ]
  },
  {
   "cell_type": "markdown",
   "id": "19d21bf7",
   "metadata": {},
   "source": [
    "### starmap\n",
    "我们可以利用`repeat`来产生`islice`的输入参数，再用`starmap`来生成函数序列。这里不能用`map`，因为`islice`的输入是两个参数。由此我们产生函数序列的工具箱又多了两工具，`starmap`和`repeat`。"
   ]
  },
  {
   "cell_type": "code",
   "execution_count": 38,
   "id": "ae8168d4",
   "metadata": {},
   "outputs": [
    {
     "name": "stdout",
     "output_type": "stream",
     "text": [
      "[0, 1, 2, 3, 4, 5]\n",
      "[6, 7, 8, 9, 10, 11]\n",
      "[12, 13, 14, 15, 16, 17]\n",
      "[18, 19, 20, 21, 22]\n"
     ]
    }
   ],
   "source": [
    "foo=starmap(islice,repeat((iter(list_obj),n)))\n",
    "for i in range(M):\n",
    "    print(list(next(foo)))"
   ]
  },
  {
   "cell_type": "markdown",
   "id": "27af75c6",
   "metadata": {},
   "source": [
    "有了函数序列，剩下来的事跟前面是一样的，将这个算法封装如下："
   ]
  },
  {
   "cell_type": "code",
   "execution_count": 39,
   "id": "157357f7",
   "metadata": {},
   "outputs": [],
   "source": [
    "def grouper(n, iterable):\n",
    "    '''Returns a generator yielding n sized tuples from iterable\n",
    "\n",
    "    For iterables not evenly divisible by n, the final group will be undersized.\n",
    "    '''\n",
    "    # Keep islicing n items and converting to groups until we hit an empty slice\n",
    "    return iter(map(tuple, starmap(islice, repeat((iter(iterable),n)))).__next__,())"
   ]
  },
  {
   "cell_type": "code",
   "execution_count": 40,
   "id": "3ecd6d2c",
   "metadata": {},
   "outputs": [
    {
     "name": "stdout",
     "output_type": "stream",
     "text": [
      "CPU times: user 2 µs, sys: 0 ns, total: 2 µs\n",
      "Wall time: 4.53 µs\n",
      "(0, 1, 2, 3, 4, 5)\n",
      "(6, 7, 8, 9, 10, 11)\n",
      "(12, 13, 14, 15, 16, 17)\n",
      "(18, 19, 20, 21, 22)\n"
     ]
    }
   ],
   "source": [
    "#%timeit -r1 time.sleep(.001)\n",
    "%time\n",
    "foo=grouper(n,list_obj)\n",
    "for i in foo:\n",
    "    print(i)"
   ]
  },
  {
   "cell_type": "markdown",
   "id": "1b99c1fc",
   "metadata": {},
   "source": [
    "上面的两个算法的差异在于后者是**lazy**，而前者不是。前者在提取结果前，函数序列是已经建立起来，而后者在去算第`n`步时，`islice`才产生。所以后者更合理。这个差异在这个案例体现不强，因为`islice`作用于同一个对象，当数据不是特别大的时候，问题不大。"
   ]
  },
  {
   "cell_type": "markdown",
   "id": "63d573d7",
   "metadata": {},
   "source": [
    "### takewhile\n",
    "我们可以用`takewhile`代替`iter`，用`bool`函数作为predicate（`takewhile`的第一个输入参数），用函数序列被访问的序列，也就是另外一个输入参数。当函数序列返回`()`，`bool`函数返回`False`，`takewhile`结束。"
   ]
  },
  {
   "cell_type": "code",
   "execution_count": 41,
   "id": "075c668d",
   "metadata": {},
   "outputs": [
    {
     "name": "stdout",
     "output_type": "stream",
     "text": [
      "CPU times: user 2 µs, sys: 1 µs, total: 3 µs\n",
      "Wall time: 5.72 µs\n",
      "(0, 1, 2, 3, 4, 5)\n",
      "(6, 7, 8, 9, 10, 11)\n",
      "(12, 13, 14, 15, 16, 17)\n",
      "(18, 19, 20, 21, 22)\n"
     ]
    }
   ],
   "source": [
    "%time\n",
    "foo=takewhile(bool,map(tuple, starmap(islice, repeat((iter(list_obj),n)))))\n",
    "for i in foo:\n",
    "    print(i)"
   ]
  },
  {
   "cell_type": "code",
   "execution_count": 42,
   "id": "610d0529",
   "metadata": {},
   "outputs": [
    {
     "name": "stdout",
     "output_type": "stream",
     "text": [
      "True\n",
      "True\n",
      "True\n",
      "True\n"
     ]
    }
   ],
   "source": [
    "foo=takewhile(bool,map(tuple, starmap(islice, repeat((iter(list_obj),n)))))\n",
    "for i in foo:\n",
    "    print(bool(i))"
   ]
  },
  {
   "cell_type": "code",
   "execution_count": 43,
   "id": "fb1e5025",
   "metadata": {},
   "outputs": [
    {
     "data": {
      "text/plain": [
       "False"
      ]
     },
     "execution_count": 43,
     "metadata": {},
     "output_type": "execute_result"
    }
   ],
   "source": [
    "bool(())"
   ]
  },
  {
   "cell_type": "code",
   "execution_count": 44,
   "id": "041314f9",
   "metadata": {},
   "outputs": [
    {
     "name": "stdout",
     "output_type": "stream",
     "text": [
      "[3, 4, 5]\n",
      "[9, 10, 11]\n"
     ]
    }
   ],
   "source": [
    "foo=iter(list_obj)\n",
    "for i in range(2):\n",
    "    print(list(islice(foo,3,6)))"
   ]
  },
  {
   "cell_type": "markdown",
   "id": "86fbcdff",
   "metadata": {},
   "source": [
    "## Decorator\n",
    "In Python, a [decorator](https://peps.python.org/pep-0318/) is the implementation of a pattern that allows adding a behavior to a function or a class. It is usually expressed with the @decorator syntax prefixing a function. Here’s a contrived example:"
   ]
  },
  {
   "cell_type": "code",
   "execution_count": 45,
   "id": "9cb297ee",
   "metadata": {},
   "outputs": [],
   "source": [
    "def some_decorator(f):\n",
    "    def wraps(*args):\n",
    "        print(f\"Calling function '{f.__name__}'\")\n",
    "        return f(args)\n",
    "    return wraps\n",
    "\n",
    "@some_decorator\n",
    "def decorated_function(x):\n",
    "    print(f\"With argument '{x}'\")"
   ]
  },
  {
   "cell_type": "code",
   "execution_count": 46,
   "id": "1534ba7f",
   "metadata": {},
   "outputs": [
    {
     "name": "stdout",
     "output_type": "stream",
     "text": [
      "Calling function 'decorated_function'\n",
      "With argument '('Python',)'\n"
     ]
    }
   ],
   "source": [
    "decorated_function('Python')"
   ]
  },
  {
   "cell_type": "markdown",
   "id": "78127dc8",
   "metadata": {},
   "source": [
    "## Closure\n",
    "A [closure](https://en.wikipedia.org/wiki/Closure_%28computer_programming%29) is a function where every free variable, everything except parameters, used in that function is bound to a specific value defined in the enclosing scope of that function. In effect, closures define the environment in which they run, and so can be called from anywhere.\n",
    "\n",
    "The concepts of lambdas and closures are not necessarily related, although lambda functions can be closures in the same way that normal functions can also be closures. Some languages have special constructs for closure or lambda (for example, Groovy with an anonymous block of code as Closure object), or a lambda expression (for example, Java Lambda expression with a limited option for closure).\n",
    "\n",
    "Here’s a closure constructed with a normal Python function:"
   ]
  },
  {
   "cell_type": "code",
   "execution_count": 47,
   "id": "fc6232ba",
   "metadata": {},
   "outputs": [
    {
     "name": "stdout",
     "output_type": "stream",
     "text": [
      "x = 0, y = 4, z = 5\n",
      "closure(5) = 9\n",
      "x = 1, y = 4, z = 6\n",
      "closure(6) = 11\n",
      "x = 2, y = 4, z = 7\n",
      "closure(7) = 13\n"
     ]
    }
   ],
   "source": [
    "def outer_func(x):\n",
    "    y = 4\n",
    "    def inner_func(z):\n",
    "        print(f\"x = {x}, y = {y}, z = {z}\")\n",
    "        return x + y + z\n",
    "    return inner_func\n",
    "\n",
    "for i in range(3):\n",
    "    closure = outer_func(i)\n",
    "    print(f\"closure({i+5}) = {closure(i+5)}\")"
   ]
  },
  {
   "attachments": {},
   "cell_type": "markdown",
   "id": "b10dae99",
   "metadata": {},
   "source": [
    "## 环境管理器"
   ]
  },
  {
   "attachments": {},
   "cell_type": "markdown",
   "id": "5ccf1a7d",
   "metadata": {},
   "source": [
    "### 基本概念\n",
    "这里的材料来自于[Context Manager Using @contextmanager Decorator](https://www.geeksforgeeks.org/context-manager-using-contextmanager-decorator/?ref=lbp)。"
   ]
  },
  {
   "cell_type": "code",
   "execution_count": 48,
   "id": "4d2d9296",
   "metadata": {},
   "outputs": [
    {
     "name": "stdout",
     "output_type": "stream",
     "text": [
      "init method called\n",
      "enter method called\n",
      "with statement block\n",
      "exit method called\n"
     ]
    }
   ],
   "source": [
    "# Python program creating a\n",
    "# context manager\n",
    "\n",
    "class ContextManager():\n",
    "\tdef __init__(self):\n",
    "\t\tprint('init method called')\n",
    "\t\t\n",
    "\tdef __enter__(self):\n",
    "\t\tprint('enter method called')\n",
    "\t\treturn self\n",
    "\t\n",
    "\tdef __exit__(self, exc_type, exc_value, exc_traceback):\n",
    "\t\tprint('exit method called')\n",
    "\n",
    "# Driver code\n",
    "with ContextManager() as manager:\n",
    "\tprint('with statement block')"
   ]
  },
  {
   "attachments": {},
   "cell_type": "markdown",
   "id": "9fce2279",
   "metadata": {},
   "source": [
    "In the above code, __enter__ will be executed when control enters with and __exit__, when control leaves with clause. We can simply make any function as a context manager with the help of contextlib.contextmanager decorator without having to write a separate class or __enter__ and __exit__ functions.\n",
    " \n",
    "\n",
    "Using @contextmanager\n",
    "We have to use contextlib.contextmanager to decorate a generator function which yields **exactly once**. Everything before yield is considered to be __enter__ section and everything after, to be __exit__ section. The generator function should yield the resource. "
   ]
  },
  {
   "cell_type": "code",
   "execution_count": 49,
   "id": "17ad89c5",
   "metadata": {},
   "outputs": [
    {
     "name": "stdout",
     "output_type": "stream",
     "text": [
      "Enter method called\n",
      "with statement block\n",
      "Exit method called\n"
     ]
    }
   ],
   "source": [
    "# Python program for creating a\n",
    "# context manager using @contextmanager\n",
    "# decorator\n",
    "\n",
    "from contextlib import contextmanager\n",
    "\n",
    "@contextmanager\n",
    "def ContextManager():\n",
    "\t\n",
    "\t# Before yield as the enter method\n",
    "\tprint(\"Enter method called\")\n",
    "\tyield\n",
    "\t\n",
    "\t# After yield as the exit method\n",
    "\tprint(\"Exit method called\")\n",
    "\n",
    "with ContextManager() as manager:\n",
    "\tprint('with statement block')\n"
   ]
  },
  {
   "attachments": {},
   "cell_type": "markdown",
   "id": "0fcac1ff",
   "metadata": {},
   "source": [
    "我们来看看一个简单的案例，对文件写入信息。这里的材料来自于[with statement in Python](https://www.geeksforgeeks.org/with-statement-in-python/)。"
   ]
  },
  {
   "attachments": {},
   "cell_type": "markdown",
   "id": "d7557d07",
   "metadata": {},
   "source": [
    "### 类方式实现"
   ]
  },
  {
   "cell_type": "code",
   "execution_count": 50,
   "id": "cfc15682",
   "metadata": {},
   "outputs": [],
   "source": [
    "# a simple file writer object\n",
    " \n",
    "class MessageWriter(object):\n",
    "    def __init__(self, file_name):\n",
    "        self.file_name = file_name\n",
    "     \n",
    "    def __enter__(self):\n",
    "        self.file = open(self.file_name, 'w')\n",
    "        return self.file\n",
    " \n",
    "    def __exit__(self, *args):\n",
    "        self.file.close()\n",
    " \n",
    "# using with statement with MessageWriter\n",
    " \n",
    "with MessageWriter('my_file.txt') as xfile:\n",
    "    xfile.write('hello world')"
   ]
  },
  {
   "attachments": {},
   "cell_type": "markdown",
   "id": "0e093d2e",
   "metadata": {},
   "source": [
    "### 生成器与环境管理器"
   ]
  },
  {
   "attachments": {},
   "cell_type": "markdown",
   "id": "9e3b9c70",
   "metadata": {},
   "source": [
    "A class based context manager as shown above is not the only way to support the with statement in user defined objects. The contextlib module provides a few more abstractions built upon the basic context manager interface. Here is how we can rewrite the context manager for the MessageWriter object using the contextlib module. "
   ]
  },
  {
   "cell_type": "code",
   "execution_count": 51,
   "id": "1792df1e",
   "metadata": {},
   "outputs": [],
   "source": [
    "from contextlib import contextmanager\n",
    "\n",
    "\n",
    "class MessageWriter(object):\n",
    "\tdef __init__(self, filename):\n",
    "\t\tself.file_name = filename\n",
    "\n",
    "\t@contextmanager\n",
    "\tdef open_file(self):\n",
    "\t\ttry:\n",
    "\t\t\tfile = open(self.file_name, 'w')\n",
    "\t\t\tyield file\n",
    "\t\tfinally:\n",
    "\t\t\tfile.close()\n",
    "\n",
    "\n",
    "# usage\n",
    "message_writer = MessageWriter('hello.txt')\n",
    "with message_writer.open_file() as my_file:\n",
    "\tmy_file.write('hello world')\n"
   ]
  },
  {
   "attachments": {},
   "cell_type": "markdown",
   "id": "6423d865",
   "metadata": {},
   "source": [
    "In this code example, because of the [yield](https://www.geeksforgeeks.org/use-yield-keyword-instead-return-keyword-python/) statement in its definition, the function open_file() is a [generator function](https://www.geeksforgeeks.org/generators-in-python/). When this open_file() function is called, it creates a resource descriptor named file. This resource descriptor is then passed to the caller and is represented here by the variable my_file. After the code inside the with block is executed the program control returns back to the open_file() function. The open_file() function resumes its execution and executes the code following the yield statement. This part of code which appears after the yield statement releases the acquired resources. The @contextmanager here is a [decorator](https://www.geeksforgeeks.org/decorators-in-python/). The previous class-based implementation and this generator-based implementation of context managers is internally the same. While the later seems more readable, it requires the knowledge of generators, decorators and yield."
   ]
  },
  {
   "attachments": {},
   "cell_type": "markdown",
   "id": "955ac1fe",
   "metadata": {},
   "source": [
    "## tail recursive"
   ]
  },
  {
   "attachments": {},
   "cell_type": "markdown",
   "id": "b23ce66d",
   "metadata": {},
   "source": [
    "## pattern matching"
   ]
  },
  {
   "attachments": {},
   "cell_type": "markdown",
   "id": "e5bbb119",
   "metadata": {},
   "source": [
    "## partial functions"
   ]
  },
  {
   "attachments": {},
   "cell_type": "markdown",
   "id": "e33b5ea4",
   "metadata": {},
   "source": [
    "## typing"
   ]
  },
  {
   "attachments": {},
   "cell_type": "markdown",
   "id": "54e7f9ad",
   "metadata": {},
   "source": [
    "## 函数式\n",
    "1. 容器（container）：对特定对象的一个封装。用信号的作为例子，信号是关于数组中的元素的一个容器。\n",
    "2. functor：一种特殊的容器，其中定义了`fmap`函数，其作用是应用外部定义的函数`f`（也就是`fmap`的输入参数）作用于被封装的类，并且将作用的结果用同样的容器封装起来作为`fmap`的输出。假设被封装的对象是类型`A`，`f`作用于对象的结果类型是`B`，即，`f: A->B`，那么`fmap: f->F[B]`，`F`是原来functor的类型，`F[B]`指的是含有类型`B`的functor，类型与原来的`F`一样，只是所含的元素是`B`类型（原来是`A`类型）。\n",
    "3. monad：在functor的基础上加上`bind`函数。用`M`代表一个monad的类型，跟`fmap`不同在于，`bind`要求输入参数`f`为`A->M[B]`的函数，`bind`的返回值为`M[B]`类型，而且是直接返回`f`的返回值。\n"
   ]
  },
  {
   "cell_type": "markdown",
   "id": "f727b0ae",
   "metadata": {},
   "source": [
    "### 一个monad的案例"
   ]
  },
  {
   "cell_type": "code",
   "execution_count": 52,
   "id": "41dad0f7",
   "metadata": {},
   "outputs": [],
   "source": [
    "from typing import Generic, TypeVar, Callable\n",
    "from immutable import Immutable\n",
    "\n",
    "A = TypeVar(\"A\")\n",
    "B = TypeVar(\"B\")\n",
    "\n",
    "class Maybe(Generic[A]):\n",
    "    pass\n",
    "\n",
    "class Just(Maybe[A],Immutable):\n",
    "\n",
    "    def __init__(self, val: A):\n",
    "        self.val = val\n",
    "\n",
    "    def fmap(self, func: Callable[[A], B]) -> Maybe[B]:\n",
    "        try:\n",
    "            new_val = func(self.val)\n",
    "            return Just(new_val)\n",
    "        except Exception as e:\n",
    "            return Nothing()\n",
    "\n",
    "    def bind(self, func: Callable[[A], Maybe[B]]) -> Maybe[B]:\n",
    "        try:\n",
    "            new_val = func(self.val)\n",
    "            return new_val\n",
    "        except Exception as e:\n",
    "            return Nothing()\n",
    "    \n",
    "    def __repr__(self):\n",
    "        return str(self.val)\n",
    "\n",
    "class Nothing(Maybe[A]):\n",
    "\n",
    "    def fmap(self, func: Callable[[A], B]) -> Maybe[B]:\n",
    "        return self\n",
    "    \n",
    "    def bind(self, func: Callable[[A], Maybe[B]]) -> Maybe[B]:\n",
    "        return self\n",
    "    \n",
    "    def __repr__(self):\n",
    "        return \"Nothing....\""
   ]
  },
  {
   "cell_type": "code",
   "execution_count": 53,
   "id": "16ec95d5",
   "metadata": {},
   "outputs": [
    {
     "data": {
      "text/plain": [
       "123.0"
      ]
     },
     "execution_count": 53,
     "metadata": {},
     "output_type": "execute_result"
    }
   ],
   "source": [
    "Just(\"123\").fmap(float)"
   ]
  },
  {
   "cell_type": "code",
   "execution_count": 54,
   "id": "aad2bd55",
   "metadata": {},
   "outputs": [
    {
     "data": {
      "text/plain": [
       "Nothing...."
      ]
     },
     "execution_count": 54,
     "metadata": {},
     "output_type": "execute_result"
    }
   ],
   "source": [
    "Just(\"123a\").fmap(float)"
   ]
  },
  {
   "cell_type": "code",
   "execution_count": 55,
   "id": "b7824d5a",
   "metadata": {},
   "outputs": [
    {
     "data": {
      "text/plain": [
       "10"
      ]
     },
     "execution_count": 55,
     "metadata": {},
     "output_type": "execute_result"
    }
   ],
   "source": [
    "Just(\" -10 \").fmap(int).fmap(abs)"
   ]
  },
  {
   "cell_type": "code",
   "execution_count": 56,
   "id": "a2ad95da",
   "metadata": {},
   "outputs": [],
   "source": [
    "def decrease(num: int) -> Maybe[int]:\n",
    "   if num >= 1:\n",
    "       return Just(num-1)\n",
    "   else:\n",
    "       return Nothing()"
   ]
  },
  {
   "cell_type": "code",
   "execution_count": 57,
   "id": "fdc59902",
   "metadata": {},
   "outputs": [
    {
     "data": {
      "text/plain": [
       "4"
      ]
     },
     "execution_count": 57,
     "metadata": {},
     "output_type": "execute_result"
    }
   ],
   "source": [
    "Just(5).bind(decrease)"
   ]
  },
  {
   "cell_type": "code",
   "execution_count": 58,
   "id": "05c39764",
   "metadata": {},
   "outputs": [
    {
     "data": {
      "text/plain": [
       "Nothing...."
      ]
     },
     "execution_count": 58,
     "metadata": {},
     "output_type": "execute_result"
    }
   ],
   "source": [
    "Just(0).bind(decrease)"
   ]
  },
  {
   "cell_type": "code",
   "execution_count": 59,
   "id": "c97b6aa9",
   "metadata": {},
   "outputs": [
    {
     "data": {
      "text/plain": [
       "10.0"
      ]
     },
     "execution_count": 59,
     "metadata": {},
     "output_type": "execute_result"
    }
   ],
   "source": [
    "Just(\"-10\").fmap(int).fmap(float).fmap(abs).fmap(str)"
   ]
  },
  {
   "cell_type": "code",
   "execution_count": 60,
   "id": "fb6bee35",
   "metadata": {},
   "outputs": [
    {
     "data": {
      "text/plain": [
       "Nothing...."
      ]
     },
     "execution_count": 60,
     "metadata": {},
     "output_type": "execute_result"
    }
   ],
   "source": [
    "Nothing().bind(lambda x: Just(x))"
   ]
  },
  {
   "attachments": {},
   "cell_type": "markdown",
   "id": "a3899824",
   "metadata": {},
   "source": [
    ":::{note}\n",
    "This text is **standard** *Markdown*\n",
    ":::"
   ]
  },
  {
   "cell_type": "markdown",
   "id": "a1b7dc61",
   "metadata": {},
   "source": [
    "## 常用的数据结构"
   ]
  },
  {
   "cell_type": "code",
   "execution_count": null,
   "id": "974f39cd",
   "metadata": {},
   "outputs": [],
   "source": []
  },
  {
   "cell_type": "markdown",
   "id": "667b7686",
   "metadata": {},
   "source": [
    "```{bibliography}\n",
    ":filter: docname in docnames\n",
    "```"
   ]
  }
 ],
 "metadata": {
  "kernelspec": {
   "display_name": "python3.11",
   "language": "python",
   "name": "python3"
  },
  "language_info": {
   "codemirror_mode": {
    "name": "ipython",
    "version": 3
   },
   "file_extension": ".py",
   "mimetype": "text/x-python",
   "name": "python",
   "nbconvert_exporter": "python",
   "pygments_lexer": "ipython3",
   "version": "3.11.1"
  },
  "toc": {
   "base_numbering": 1,
   "nav_menu": {},
   "number_sections": true,
   "sideBar": true,
   "skip_h1_title": false,
   "title_cell": "Table of Contents",
   "title_sidebar": "Contents",
   "toc_cell": false,
   "toc_position": {},
   "toc_section_display": true,
   "toc_window_display": false
  },
  "vscode": {
   "interpreter": {
    "hash": "b10226086f9c590e4f011c15abe890420217b7a9f5fcad7de85d05c11c6ee1f9"
   }
  }
 },
 "nbformat": 4,
 "nbformat_minor": 5
}
