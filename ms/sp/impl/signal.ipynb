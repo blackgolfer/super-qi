{
 "cells": [
  {
   "attachments": {},
   "cell_type": "markdown",
   "metadata": {},
   "source": [
    "# 信号空间\n",
    "```{epigraph}\n",
    "道可道非常道，名可名非常名。无名天地之始，有名万物之母。故常无欲以观其妙，常有欲以观其徼。此两者，同出而异名，同谓之玄，玄之又玄，众妙之门。\n",
    "\n",
    "--老子\n",
    "```\n",
    "\n",
    "万千世界起源于基础的规律与法则。这些规律与法则是世界与生俱有的，不是能够被人们所定义的。天地起源于“无”，而“有”产生了万物。\n",
    "\n",
    "因此我们应该客观地去观察其细节，而这种客观性是在主观的结构观察中进行。\n",
    "\n",
    "有与无、客观与主观就是一种不可言的基础法则，非常玄妙，是我们认识世界，以及行事的门道。"
   ]
  },
  {
   "attachments": {},
   "cell_type": "markdown",
   "metadata": {},
   "source": [
    "## 分析流程之结构模型\n",
    "信号处理就是对一个给定的信号，应用一系列的分析方法，进行分析。虽然分析的方案与细节因项目的性质与目的而异，但是分析流程在结构上有一定的规律。这里我们希望能回答以下的问题：\n",
    "- 结构的范畴。\n",
    "- 分析过程的共性。\n",
    "\n",
    "### 范畴\n",
    "#### 算法范畴\n",
    "算法分四类：全局分析，局部分析，自适应分析和自学习性分析。全局分析和局部分析共享基础分析算法。总体结构归纳如下：\n",
    "- 基础分析方法：傅里叶分析（尤其是余弦波和正弦波分析），卷积，小波分析等。\n",
    "- 局部分析：对局部信号两端有两类不同的处理\n",
    "  - 直接截取：对应与block transforms\n",
    "  - 光滑延伸：对应与lap transforms\n",
    "- 自适应分析：建立在多层次局部分析的基础上，从不同合法的组合中寻找最佳组合。\n",
    "- 自学习性：建立在多层局部分析的基础上，也有可能依赖于自适应分析。\n",
    "\n",
    "#### 信号范畴\n",
    "对信号的范畴的界定归结为有限化和离散化。\n",
    "- *时间域*：我们定义自然数$\\mathbb{N}$为时间域的空间。也就是说进入这个模型的型号都被认为其时间域是$\\mathbb N$，而且是按序排列。至于时间域的真实意义不在这个模型之内。\n",
    "- *值域*：原始信号由一列数组构成，数组的元素为复数，这个我们称之为*0-空间*。为了满足局部分析，我们还需要引入两个空间，都是序列，区分在于序列的元素。对应与block transform，元素为数组，代表所截取的一段信号，这个空间我们称之为*1-空间*。因此，*1-空间*数组序列构成。对应与lap transforms，序列的元素是一个三体，三体中的每个子元素是一个数组，三体中的左元素是左边延伸的数组，右边是右边延伸的数组，中间则是由直接截取的局部信号。也就是说，这个空间是由三体序列构成，我们称之为*3-空间*。\n",
    "\n",
    "### 分析过程的共性\n",
    "#### 特征：\n",
    "- 字面量数组是基础的分析单元，这个基础单元就是*0-空间*。分析算法最大的特点就是用基础分析方法反复应用在以*0-空间*为数据类型的元素上。\n",
    "- 类一局部分析：这对应block transform。将类型为0-空间的原始信号截取$n$段，生成1-空间，空间内每个元素以0-空间为类型。遍历1-空间的元素，在遍历的过程中，将基础分析方法应用于每个元素，方法的输出也是0-空间类。\n",
    "- 全局分析：我们把全局分析看成局部分析的特例。就是1-空间只含有一个以0-空间为类型的元素。\n",
    "- 类二局部分析：这类分析对应lap transforms。Lap transform的单元函数（也就是作用于一个局部信号的函数）的输入与输出都是三体0-空间：（0-空间，0-空间，0-空间)。Lap transform就是运用单元函数遍历3-空间。\n",
    "\n",
    "#### 容器（containers）与环境（contexts）\n",
    "容器和环境的概念是对循环操作过程进行建模而产生。一个循环操作过程可以分解为三个模块：载体，基本元素，对基本元素的操作。容器就是载体，它是基本元素的一个集合，重复的操作是将操作函数作用于基础元素从而产生了新的基础元素。通过遍历我们获得了新的基本元素的集合，也就是新的容器。而这种操作行为我们看成给容器赋予了一个工作环境。\n",
    "\n",
    "不同的性质的行为决定了不同的环境。行为的性质可以分为同构性与异构性。对多重循环而言，又可以分为独立性与依赖性。\n",
    "\n",
    "##### 同构与异构\n",
    "循环的操作就是将一个容器映射到另外一个容器，如果这两个容器是同一个结构，我们称之为同构，否则就是异构。比如函数`float`就是将基础元素为整数（类型为`int`）映射到相应的浮点数（类型为`float`）。一个`list`含有整数的容器在函数`float`的循环操作下变成了含有浮点数的`list`容器，这是一个同构操作。因为容器的结构没有变化，都是含有同样个数的`list`。如果这个操作函数不是`float`，而是将一个整数变成两个整数，那么这个循环操作行为就不是同构的，因为新的容器跟原来的容器含有不同的个数的基础元素。如果这个操作函数是将一个整数变成含有两个整数的一个`list`，那么这个循环操作又是同构的。\n",
    "\n",
    "##### 独立与依赖\n",
    "在多重循环中，有三个不同的行为，独立性，依赖性和嵌套性。\n",
    "- 独立性是指每个循环可以独立进行。\n",
    "- 依赖性是指当期循环依赖于上一个循环的结果。\n",
    "- 嵌套式是指多重循环以嵌套的形式进行，也就是上一个循环要依赖于子循环结束才能进行下一个对基础元素的操作。\n",
    "\n",
    "除了嵌套式外，函数式程式对这些不同环境有明确的定义。对同构，依赖性多循环，Functor是主要工具，Monad也可以胜任。对同构，独立多循环，Applicative是主要工具，Functor, Monad也是可以胜任。对异构，依赖性多循环，Monad是主要工具。\n",
    "\n",
    "如何对嵌套式进行建模是一个研究课题。我们在自适应性算法实现的时候，会碰到这样的课题，我们解决的方案是采用二叉树的数据结构结合迭代式环境来实现。\n",
    "\n",
    "## 模型描述\n",
    "从数学的角度，我们定义了三个信号空间：$\\mathfrak{F}_0=\\mathbb{C}^N$, $\\mathfrak{F}_1=\\{\\mathbb{C}^M\\}_{k=1}^K~$和$~\\mathfrak{F_3}=\\{(C^{M_e},C^M,C^{M_e})\\}_{k=1}^K$，分别对应0-空间，1-空间和3-空间。\n",
    "\n",
    "从范畴（category）学的角度，信号空间可以定义为$\\mathfrak{C}=\\{\\mathfrak{F}_1,\\mathfrak{F}_3\\}$，即信号空间是范畴$\\mathfrak C$，其中含有$\\mathfrak{F}_1$与$\\mathfrak{F}_3$两个对象（object）。时间域的信息隐含在对象的指针（index）中。一个具体的分析方法本质上就是信号空间$\\mathfrak C$的态射（morphism）。我们考虑的态射有一下两类：\n",
    "- 自同态（endomorphism）：$\\mathfrak F_i\\longrightarrow\\mathfrak F_i,\\quad i\\in\\{1,3\\}$，大多数的算法都为自同态。\n",
    "- 跨对象态射：$\\mathfrak F_i\\longrightarrow\\mathfrak F_j,\\quad i,j\\in\\{1,3\\}$，lap transform的逆变换就是从$\\mathfrak F_3$到$\\mathfrak F_1$的跨对象态射。\n",
    "\n",
    "在这个模型下，基础算法不是态射，因为它们是$\\mathfrak F_i\\rightarrow\\mathfrak F_i,\\quad i\\in\\{0,1\\}$或$\\mathfrak F_i\\rightarrow\\mathfrak F_j,\\quad i,j=\\{0,3\\}$的映射。信号空间的态射却是由这些基础算法提升（lifting）而来。从这个角度上看，上面所阐述的一个环境，就是一种提升的方法。\n",
    "\n",
    "这个模型勾画了我们业务逻辑的本质，但过于抽象，为了方便实现，我们再定义两个工作范畴：$\\mathfrak C_i=\\{\\mathfrak F_i\\},\\quad i\\in\\{1,3\\}$。这两个范畴在我们的程序实现上对应与上述的环境。一个具体的分析方法就是这两个范畴之间的映射（$\\mathfrak C_i$到$\\mathfrak C_i$或$\\mathfrak C_i$到$\\mathfrak C_j$的映射）。\n",
    "\n",
    "### 模型定义\n",
    "综上所述，信号空间模型可以定义为：\n",
    "- 三个基础集合：$\\mathfrak{F}_0=\\mathbb{C}^N$, $\\mathfrak{F}_1=\\{\\mathbb{C}^M\\}_{k=1}^K~$和$~\\mathfrak{F_3}=\\{(C^{M_e},C^M,C^{M_e})\\}_{k=1}^K$。\n",
    "- 两个范畴：$\\mathfrak C_1=\\{\\mathfrak F_1\\}$和$\\mathfrak C_3=\\{\\mathfrak F_3\\}$。\n",
    "- 时间域隐含在集合元素的指针中。\n",
    "- 分析方法为两个范畴之间的态射。\n",
    "- 基础算法（简称算法）为基础集合之间的映射。\n",
    "- 态射由算法提升而来，而这种提升的手段是通过对两个信号范畴的实现而获得，每一个特定的实现就是一种特定的环境，或者说环境就是对信号范畴在程序体中的表达。"
   ]
  },
  {
   "attachments": {},
   "cell_type": "markdown",
   "metadata": {},
   "source": [
    "## 模型的实现\n",
    "以上模型的实现涵括以下内容：\n",
    "- 信号空间的数据类型\n",
    "- 信号空间环境与态射（算法的提升）\n",
    "- 算法\n",
    "- 态射"
   ]
  },
  {
   "attachments": {},
   "cell_type": "markdown",
   "metadata": {},
   "source": [
    "### 基础信号空间的数据类型\n",
    "数据类型用type aliases来定义。对基础信号空间而言，这样可以利用`list`的诸多功能，尤其是`Iterable`和`Sequence`的功能。\n",
    "\n",
    "- `signum`: 定义了0-空间的元素数据类型为字面量`int`, `float`, `complex`，加入`str`是将信号空间拓广到文本分析，`None`与`tuple[()]`则是技术上对空集处理的可能需求。\n",
    "- `sig_0`：`list[signum]`，对应0-空间。\n",
    "- `sig_1`: `list[sig_0]`，对应1-空间。\n",
    "- `sig_3`: `list[(sig_0,sig_0,sig_0)]`，对应3-空间。"
   ]
  },
  {
   "cell_type": "code",
   "execution_count": 1,
   "metadata": {},
   "outputs": [],
   "source": [
    "#from Signal.Types import signum, sig_0, sig_1, sig_3\n",
    "import numpy as np\n",
    "import numpy.typing as npt\n",
    "\n",
    "signum=int|float|complex|str|None|tuple[()]\n",
    "#signum=int|float|complex|tuple[()]\n",
    "sig_0=list[signum]|npt.NDArray\n",
    "sig_1=list[sig_0]\n",
    "sig_3=list[tuple[sig_0,sig_0,sig_0]]"
   ]
  },
  {
   "attachments": {},
   "cell_type": "markdown",
   "metadata": {},
   "source": [
    "### 信号环境\n",
    "这是对信号范畴的实现。环境包括两大类，计算环境（computational contexts）和迭代环境（iterator contexts）。\n",
    "\n",
    "计算环境有：\n",
    "- `Sigor`: `ListFunctor`约束于0-空间，1-空间和3-空间。\n",
    "- `Sigive`：`ListApplicative`约束于0-空间，1-空间和3-空间。\n",
    "- `SigMonad`：`ListMonad`约束于0-空间，1-空间和3-空间。\n",
    "\n",
    "迭代环境：\n",
    "- `SigFoldable`：`ListFoldable`约束于0-空间，1-空间和3-空间。\n",
    "- `SigTraversable`：`ListTraversable`约束于0-空间，1-空间和3-空间。\n",
    "\n",
    "其中`SigTraversable`还没实现。还没实现的计算环境是`SigStateMonad`，一个成熟的用于有限状态机的环境。\n",
    "\n",
    "由于python的函数式功能散布在语言的各个部分，`map`，`reduce`，`filter`，`iter`，`itertools`，`functools`, `operator`，根据我们的需求我们有系统地对`list`容器赋予了一系列的环境。这一系列的实现放在`Contexts`程序包里，主要的手段就是`generator comprehension`，`abc`和`typing`。"
   ]
  },
  {
   "cell_type": "code",
   "execution_count": 2,
   "metadata": {},
   "outputs": [],
   "source": [
    "#from Signal.Contexts import Sigor, Sigive, SigMonad, SigLiftA2\n",
    "\n",
    "from Contexts.Functor import ListFunctor\n",
    "from Contexts import Functor\n",
    "from Contexts.Applicative import ListApplicative\n",
    "from Contexts import Applicative\n",
    "from Contexts.Monad import ListMonad\n",
    "from Contexts import Monad\n",
    "from Contexts.Foldable import ListFoldable\n",
    "from Contexts import Foldable\n",
    "\n",
    "from Signal.Types import sig_0\n",
    "\n",
    "Sigor=ListFunctor[signum|sig_0|tuple[sig_0,sig_0,sig_0]]\n",
    "Sigive=ListApplicative[signum|sig_0|tuple[sig_0,sig_0,sig_0]]\n",
    "SigMonad=ListMonad[signum|sig_0|tuple[sig_0,sig_0,sig_0]]\n",
    "SigLiftA2=Applicative.liftA2\n",
    "SigFoldable=ListFoldable[signum|sig_0|tuple[sig_0,sig_0,sig_0]]\n"
   ]
  },
  {
   "attachments": {},
   "cell_type": "markdown",
   "metadata": {},
   "source": [
    "#### 计算环境"
   ]
  },
  {
   "attachments": {},
   "cell_type": "markdown",
   "metadata": {},
   "source": [
    "##### `Sigor`: 信号范畴的Functor环境\n",
    "`Sigor`的关键功能就是`fmap`，是算法（`fmap`的输入参数）的提升器。`Sigor`适合同构，依赖性多循环的操作。以下案例从态射的角度，就是将`float`和`str`两个算法提升到态射层面，把原来的`sig_0[int]`映射为`sig_0[float]`，然后映射成`sig_0[str]`。从循环的角度，依次完成了两个有依赖的循环。"
   ]
  },
  {
   "cell_type": "code",
   "execution_count": 3,
   "metadata": {},
   "outputs": [
    {
     "data": {
      "text/plain": [
       "['1.0', '2.0', '3.0', '4.0', '5.0', '6.0', '7.0', '8.0']"
      ]
     },
     "execution_count": 3,
     "metadata": {},
     "output_type": "execute_result"
    }
   ],
   "source": [
    "a=[x for x in range(1,9)]\n",
    "s=Sigor(a)\n",
    "s.fmap(float).fmap(str)"
   ]
  },
  {
   "cell_type": "code",
   "execution_count": 4,
   "metadata": {},
   "outputs": [
    {
     "data": {
      "text/plain": [
       "['1.0', '2.0', '3.0', '4.0', '5.0', '6.0', '7.0', '8.0']"
      ]
     },
     "execution_count": 4,
     "metadata": {},
     "output_type": "execute_result"
    }
   ],
   "source": [
    "a=np.array([x for x in range(1,9)])\n",
    "s=Sigor(a)\n",
    "s.fmap(float).fmap(str)"
   ]
  },
  {
   "attachments": {},
   "cell_type": "markdown",
   "metadata": {},
   "source": [
    "`Sigor`还有一个很有意思的简单函数`Functor.const(a,b)：return a`和一个建立在这个函数之上的类方法`mrb`(map-replaced by，在Haskell语言中是算子`<$`)，其功能是将输入参数替换掉容器的每一个元素。`mrb`是通过`fmap.const`来实现，这是一个很有启发的技巧。下面的案例就是将原来的数组`[1,2,3,4,5,6,7,8]`中的每一个元素替换成`[1,2]`:"
   ]
  },
  {
   "cell_type": "code",
   "execution_count": 5,
   "metadata": {},
   "outputs": [
    {
     "data": {
      "text/plain": [
       "[[1, 2], [1, 2], [1, 2], [1, 2], [1, 2], [1, 2], [1, 2], [1, 2]]"
      ]
     },
     "execution_count": 5,
     "metadata": {},
     "output_type": "execute_result"
    }
   ],
   "source": [
    "s.mrb([1,2])"
   ]
  },
  {
   "cell_type": "code",
   "execution_count": 6,
   "metadata": {},
   "outputs": [
    {
     "data": {
      "text/plain": [
       "Contexts.Functor.ListFunctor"
      ]
     },
     "execution_count": 6,
     "metadata": {},
     "output_type": "execute_result"
    }
   ],
   "source": [
    "type(s.mrb([1,2]))"
   ]
  },
  {
   "attachments": {},
   "cell_type": "markdown",
   "metadata": {},
   "source": [
    "等价于以下操作："
   ]
  },
  {
   "cell_type": "code",
   "execution_count": 7,
   "metadata": {},
   "outputs": [
    {
     "data": {
      "text/plain": [
       "[[1, 2], [1, 2], [1, 2], [1, 2], [1, 2], [1, 2], [1, 2], [1, 2]]"
      ]
     },
     "execution_count": 7,
     "metadata": {},
     "output_type": "execute_result"
    }
   ],
   "source": [
    "s.fmap(lambda _: [1,2])"
   ]
  },
  {
   "attachments": {},
   "cell_type": "markdown",
   "metadata": {},
   "source": [
    "虽然`ListFunctor`是从`list`继承而来，但是`list`的类方法的返回值还是`list`。比如算子`+`:"
   ]
  },
  {
   "cell_type": "code",
   "execution_count": 8,
   "metadata": {},
   "outputs": [
    {
     "data": {
      "text/plain": [
       "list"
      ]
     },
     "execution_count": 8,
     "metadata": {},
     "output_type": "execute_result"
    }
   ],
   "source": [
    "type(s+s)"
   ]
  },
  {
   "attachments": {},
   "cell_type": "markdown",
   "metadata": {},
   "source": [
    "我们希望`s+s`还是`ListFunctor`。幸好在函数式程式里有Monoid的环境，这个环境制定了三个法则`mempty`，`mappend`和`mconcat`，分别代表空集，附加和concat。这些都是容器的关键概念和工具。Monoid的基本定义在程序包`Basic.Monoid`里。我们也把`ListFunctor`注册成`Monoid`环境。"
   ]
  },
  {
   "cell_type": "code",
   "execution_count": 9,
   "metadata": {},
   "outputs": [
    {
     "data": {
      "text/plain": [
       "Contexts.Functor.ListFunctor"
      ]
     },
     "execution_count": 9,
     "metadata": {},
     "output_type": "execute_result"
    }
   ],
   "source": [
    "type(Functor.mappend(s,s))"
   ]
  },
  {
   "cell_type": "code",
   "execution_count": 10,
   "metadata": {},
   "outputs": [
    {
     "data": {
      "text/plain": [
       "[1, 2, 3, 4, 5, 6, 7, 8, 1, 2, 3, 4, 5, 6, 7, 8]"
      ]
     },
     "execution_count": 10,
     "metadata": {},
     "output_type": "execute_result"
    }
   ],
   "source": [
    "Functor.mappend(s,s)"
   ]
  },
  {
   "cell_type": "code",
   "execution_count": 11,
   "metadata": {},
   "outputs": [
    {
     "data": {
      "text/plain": [
       "[1, 2, 1, 2, 1, 2, 1, 2, 1, 2, 1, 2, 1, 2, 1, 2]"
      ]
     },
     "execution_count": 11,
     "metadata": {},
     "output_type": "execute_result"
    }
   ],
   "source": [
    "Functor.mconcat(s.mrb([1,2]))"
   ]
  },
  {
   "cell_type": "code",
   "execution_count": 12,
   "metadata": {},
   "outputs": [
    {
     "data": {
      "text/plain": [
       "Contexts.Functor.ListFunctor"
      ]
     },
     "execution_count": 12,
     "metadata": {},
     "output_type": "execute_result"
    }
   ],
   "source": [
    "type(Functor.mconcat(s.mrb([1,2])))"
   ]
  },
  {
   "cell_type": "code",
   "execution_count": 13,
   "metadata": {},
   "outputs": [
    {
     "data": {
      "text/plain": [
       "[]"
      ]
     },
     "execution_count": 13,
     "metadata": {},
     "output_type": "execute_result"
    }
   ],
   "source": [
    "Functor.mempty(s)"
   ]
  },
  {
   "cell_type": "code",
   "execution_count": 14,
   "metadata": {},
   "outputs": [
    {
     "data": {
      "text/plain": [
       "Contexts.Functor.ListFunctor"
      ]
     },
     "execution_count": 14,
     "metadata": {},
     "output_type": "execute_result"
    }
   ],
   "source": [
    "type(Functor.mempty(s))"
   ]
  },
  {
   "cell_type": "code",
   "execution_count": 15,
   "metadata": {},
   "outputs": [
    {
     "data": {
      "text/plain": [
       "[]"
      ]
     },
     "execution_count": 15,
     "metadata": {},
     "output_type": "execute_result"
    }
   ],
   "source": [
    "Functor.mempty(s).mrb([1,2])"
   ]
  },
  {
   "attachments": {},
   "cell_type": "markdown",
   "metadata": {},
   "source": [
    "##### `Sigive`：信号范畴的Applicative环境\n",
    "`Sigive`在`Sigor`的基础上加上了`ap`类方法。`ap`的功能是同时提升输入参数中每个算法并且对自身进行映射，将结果依次合并到同一容器中。输入参数必须是一个`list`的单参数函数序列。`Sigive`适合同构，独立性多循环操作。\n",
    "\n",
    "以下案例是将`float`和`str`同时应用于自身并依次将结果合并成`sig_0`容器："
   ]
  },
  {
   "cell_type": "code",
   "execution_count": 16,
   "metadata": {},
   "outputs": [
    {
     "data": {
      "text/plain": [
       "[1.0,\n",
       " 2.0,\n",
       " 3.0,\n",
       " 4.0,\n",
       " 5.0,\n",
       " 6.0,\n",
       " 7.0,\n",
       " 8.0,\n",
       " '1',\n",
       " '2',\n",
       " '3',\n",
       " '4',\n",
       " '5',\n",
       " '6',\n",
       " '7',\n",
       " '8']"
      ]
     },
     "execution_count": 16,
     "metadata": {},
     "output_type": "execute_result"
    }
   ],
   "source": [
    "a=[x for x in range(1,9)]\n",
    "s=Sigive(a)\n",
    "s.ap([float,str])"
   ]
  },
  {
   "cell_type": "code",
   "execution_count": 17,
   "metadata": {},
   "outputs": [
    {
     "data": {
      "text/plain": [
       "[1.0,\n",
       " 2.0,\n",
       " 3.0,\n",
       " 4.0,\n",
       " 5.0,\n",
       " 6.0,\n",
       " 7.0,\n",
       " 8.0,\n",
       " '1',\n",
       " '2',\n",
       " '3',\n",
       " '4',\n",
       " '5',\n",
       " '6',\n",
       " '7',\n",
       " '8']"
      ]
     },
     "execution_count": 17,
     "metadata": {},
     "output_type": "execute_result"
    }
   ],
   "source": [
    "a=np.arange(1,9)\n",
    "s=Sigive(a)\n",
    "s.ap([float,str])"
   ]
  },
  {
   "attachments": {},
   "cell_type": "markdown",
   "metadata": {},
   "source": [
    "以下两个案例演示`Sigive`也是`Sigor`:"
   ]
  },
  {
   "cell_type": "code",
   "execution_count": 18,
   "metadata": {},
   "outputs": [
    {
     "data": {
      "text/plain": [
       "[1.0, 2.0, 3.0, 4.0, 5.0, 6.0, 7.0, 8.0]"
      ]
     },
     "execution_count": 18,
     "metadata": {},
     "output_type": "execute_result"
    }
   ],
   "source": [
    "s.fmap(float)"
   ]
  },
  {
   "cell_type": "code",
   "execution_count": 19,
   "metadata": {},
   "outputs": [
    {
     "data": {
      "text/plain": [
       "Contexts.Functor.ListFunctor"
      ]
     },
     "execution_count": 19,
     "metadata": {},
     "output_type": "execute_result"
    }
   ],
   "source": [
    "type(s.fmap(float))"
   ]
  },
  {
   "cell_type": "code",
   "execution_count": 20,
   "metadata": {},
   "outputs": [
    {
     "data": {
      "text/plain": [
       "[[3, 4], [3, 4], [3, 4], [3, 4], [3, 4], [3, 4], [3, 4], [3, 4]]"
      ]
     },
     "execution_count": 20,
     "metadata": {},
     "output_type": "execute_result"
    }
   ],
   "source": [
    "s.mrb([3,4])"
   ]
  },
  {
   "attachments": {},
   "cell_type": "markdown",
   "metadata": {},
   "source": [
    "`Sigive`还有其他三个法则，分别是`pure`,`then`和`liftA2`。`pure`将输入参数塞进`ListApplicative`，返回包含这个参数的一个`ListApplicative`："
   ]
  },
  {
   "cell_type": "code",
   "execution_count": 21,
   "metadata": {},
   "outputs": [
    {
     "data": {
      "text/plain": [
       "[1]"
      ]
     },
     "execution_count": 21,
     "metadata": {},
     "output_type": "execute_result"
    }
   ],
   "source": [
    "s.pure(1)"
   ]
  },
  {
   "attachments": {},
   "cell_type": "markdown",
   "metadata": {},
   "source": [
    "`then`是将输入参数替换每个元素，与`mconcat.mrb`等价。输入必须是`list`（因为python对类的松散，只要是`Iterable`也是可以接受的）："
   ]
  },
  {
   "cell_type": "code",
   "execution_count": 22,
   "metadata": {},
   "outputs": [
    {
     "data": {
      "text/plain": [
       "[1, 2, 1, 2, 1, 2, 1, 2, 1, 2, 1, 2, 1, 2, 1, 2]"
      ]
     },
     "execution_count": 22,
     "metadata": {},
     "output_type": "execute_result"
    }
   ],
   "source": [
    "s.then([1,2])"
   ]
  },
  {
   "cell_type": "code",
   "execution_count": 23,
   "metadata": {},
   "outputs": [
    {
     "data": {
      "text/plain": [
       "[1, 2, 1, 2, 1, 2, 1, 2, 1, 2, 1, 2, 1, 2, 1, 2]"
      ]
     },
     "execution_count": 23,
     "metadata": {},
     "output_type": "execute_result"
    }
   ],
   "source": [
    "Applicative.mconcat(s.mrb([1,2]))"
   ]
  },
  {
   "cell_type": "code",
   "execution_count": 24,
   "metadata": {},
   "outputs": [
    {
     "data": {
      "text/plain": [
       "[1, 2, 1, 2, 1, 2, 1, 2, 1, 2, 1, 2, 1, 2, 1, 2]"
      ]
     },
     "execution_count": 24,
     "metadata": {},
     "output_type": "execute_result"
    }
   ],
   "source": [
    "s.then((1,2))"
   ]
  },
  {
   "attachments": {},
   "cell_type": "markdown",
   "metadata": {},
   "source": [
    "`liftA2`的输入是二元函数和一个`list`对象。二元函数依次作用于自身的每个元素和输入`list`每个元素，也就是`liftA2`将输入的二元函数提升为一个`ListApplicative`的态射："
   ]
  },
  {
   "cell_type": "code",
   "execution_count": 25,
   "metadata": {},
   "outputs": [
    {
     "data": {
      "text/plain": [
       "[2, 3, 4, 5, 6, 7, 8, 9]"
      ]
     },
     "execution_count": 25,
     "metadata": {},
     "output_type": "execute_result"
    }
   ],
   "source": [
    "from operator import add\n",
    "s.liftA2(add,[1])"
   ]
  },
  {
   "cell_type": "code",
   "execution_count": 26,
   "metadata": {},
   "outputs": [
    {
     "data": {
      "text/plain": [
       "[2, 3, 3, 4, 4, 5, 5, 6, 6, 7, 7, 8, 8, 9, 9, 10]"
      ]
     },
     "execution_count": 26,
     "metadata": {},
     "output_type": "execute_result"
    }
   ],
   "source": [
    "s.liftA2(add,(1,2))"
   ]
  },
  {
   "attachments": {},
   "cell_type": "markdown",
   "metadata": {},
   "source": [
    "`Contexts.Applicative`还提供了若干有用的函数：`liftA2(f:Callable[[A,B],C],xs:Iterable[A],ys:Iterable[B])->Generator[C,None,None]`, `@ap.register`, `@pure.register`。其中`@ap.register`和`@pure.register`都注册了`list`类："
   ]
  },
  {
   "cell_type": "code",
   "execution_count": 27,
   "metadata": {},
   "outputs": [
    {
     "data": {
      "text/plain": [
       "[float, str]"
      ]
     },
     "execution_count": 27,
     "metadata": {},
     "output_type": "execute_result"
    }
   ],
   "source": [
    "Applicative.mappend(Applicative.pure([float]),Applicative.pure([str]))"
   ]
  },
  {
   "cell_type": "code",
   "execution_count": 28,
   "metadata": {},
   "outputs": [
    {
     "data": {
      "text/plain": [
       "[1, 2]"
      ]
     },
     "execution_count": 28,
     "metadata": {},
     "output_type": "execute_result"
    }
   ],
   "source": [
    "Applicative.pure([1,2])"
   ]
  },
  {
   "cell_type": "code",
   "execution_count": 29,
   "metadata": {},
   "outputs": [
    {
     "data": {
      "text/plain": [
       "Contexts.Applicative.ListApplicative"
      ]
     },
     "execution_count": 29,
     "metadata": {},
     "output_type": "execute_result"
    }
   ],
   "source": [
    "type(Applicative.pure([1,2]))"
   ]
  },
  {
   "cell_type": "code",
   "execution_count": 30,
   "metadata": {},
   "outputs": [
    {
     "data": {
      "text/plain": [
       "[[1, 2]]"
      ]
     },
     "execution_count": 30,
     "metadata": {},
     "output_type": "execute_result"
    }
   ],
   "source": [
    "Applicative.pure([[1,2]])"
   ]
  },
  {
   "cell_type": "code",
   "execution_count": 31,
   "metadata": {},
   "outputs": [
    {
     "data": {
      "text/plain": [
       "[1.0, 2.0, 3.0, 4.0, '1', '2', '3', '4']"
      ]
     },
     "execution_count": 31,
     "metadata": {},
     "output_type": "execute_result"
    }
   ],
   "source": [
    "Applicative.ap([float,str],[1,2,3,4])"
   ]
  },
  {
   "attachments": {},
   "cell_type": "markdown",
   "metadata": {},
   "source": [
    "以下案例拓展`Applicative.ap`可以接受`tuple`数据类型："
   ]
  },
  {
   "cell_type": "code",
   "execution_count": 32,
   "metadata": {},
   "outputs": [],
   "source": [
    "@Applicative.ap.register(tuple)\n",
    "def _(a,b): return ListApplicative((f(x) for f in a for x in b))"
   ]
  },
  {
   "cell_type": "code",
   "execution_count": 33,
   "metadata": {},
   "outputs": [
    {
     "data": {
      "text/plain": [
       "[1.0, 2.0, 3.0, 4.0, '1', '2', '3', '4']"
      ]
     },
     "execution_count": 33,
     "metadata": {},
     "output_type": "execute_result"
    }
   ],
   "source": [
    "Applicative.ap((float,str),(1,2,3,4))"
   ]
  },
  {
   "attachments": {},
   "cell_type": "markdown",
   "metadata": {},
   "source": [
    "##### `SigMonad`：信号范畴的Monad环境\n",
    "`SigMonad`在`Sigive`的基础上加上了`bind`的功能。`bind`的输入参数为函数`f:Callable[[A],SigMonad[B]]`，函数作用于`SigMonad`的元素，`bind`的功能就是将这个函数提升为`SigMonad`的态射。`bind`等价于`mconcate.fmap`，通过`mconcate`可以改变原来`SigMonad`的结构："
   ]
  },
  {
   "cell_type": "code",
   "execution_count": 34,
   "metadata": {},
   "outputs": [],
   "source": [
    "s=SigMonad(a)"
   ]
  },
  {
   "cell_type": "code",
   "execution_count": 35,
   "metadata": {},
   "outputs": [
    {
     "data": {
      "text/plain": [
       "[0, 1, 2, 1, 2, 3, 2, 3, 4, 3, 4, 5, 4, 5, 6, 5, 6, 7, 6, 7, 8, 7, 8, 9]"
      ]
     },
     "execution_count": 35,
     "metadata": {},
     "output_type": "execute_result"
    }
   ],
   "source": [
    "s.bind(lambda x: [x-1,x,x+1])"
   ]
  },
  {
   "cell_type": "code",
   "execution_count": 36,
   "metadata": {},
   "outputs": [
    {
     "data": {
      "text/plain": [
       "[[0, 1, 2],\n",
       " [1, 2, 3],\n",
       " [2, 3, 4],\n",
       " [3, 4, 5],\n",
       " [4, 5, 6],\n",
       " [5, 6, 7],\n",
       " [6, 7, 8],\n",
       " [7, 8, 9]]"
      ]
     },
     "execution_count": 36,
     "metadata": {},
     "output_type": "execute_result"
    }
   ],
   "source": [
    "s.fmap(lambda x: [x-1,x,x+1])"
   ]
  },
  {
   "cell_type": "code",
   "execution_count": 37,
   "metadata": {},
   "outputs": [
    {
     "data": {
      "text/plain": [
       "[0, 1, 2, 1, 2, 3, 2, 3, 4, 3, 4, 5, 4, 5, 6, 5, 6, 7, 6, 7, 8, 7, 8, 9]"
      ]
     },
     "execution_count": 37,
     "metadata": {},
     "output_type": "execute_result"
    }
   ],
   "source": [
    "Monad.mconcat(s.fmap(lambda x: [x-1,x,x+1]))"
   ]
  },
  {
   "cell_type": "code",
   "execution_count": 38,
   "metadata": {},
   "outputs": [
    {
     "data": {
      "text/plain": [
       "[1, 2, 3, 2, 3, 4, 3, 4, 5, 4, 5, 6, 5, 6, 7, 6, 7, 8, 7, 8, 9, 8, 9, 10]"
      ]
     },
     "execution_count": 38,
     "metadata": {},
     "output_type": "execute_result"
    }
   ],
   "source": [
    "s.bind(lambda x: [x-1,x,x+1]).bind(lambda x: [x+1])"
   ]
  },
  {
   "attachments": {},
   "cell_type": "markdown",
   "metadata": {},
   "source": [
    "接下来看看一个模拟国际象棋的案例，摘自于[list monad](http://learnyouahaskell.com/a-fistful-of-monads#the-list-monad)。将棋盘的8x8个格子用坐标$(x,y),\\ x,y\\in[1,2,3,4,5,6,7,8]$来标识。问骑士能否从位置$(6,2)$走三步移到$(6,1)$。"
   ]
  },
  {
   "cell_type": "code",
   "execution_count": 39,
   "metadata": {},
   "outputs": [],
   "source": [
    "KinghtPos=tuple[int,int]"
   ]
  },
  {
   "attachments": {},
   "cell_type": "markdown",
   "metadata": {},
   "source": [
    "`moveKnight`计算骑士在给定的位置可以走动的所有坐标："
   ]
  },
  {
   "cell_type": "code",
   "execution_count": 40,
   "metadata": {},
   "outputs": [],
   "source": [
    "def moveKnight(p:KinghtPos)->list[KinghtPos]:\n",
    "    board=[1,2,3,4,5,6,7,8]\n",
    "    match p:\n",
    "        case (c,r):\n",
    "            return list(filter((lambda x: (x[0] in board) and (x[1] in board)),\n",
    "                          [(c+2,r-1),(c+2,r+1),(c-2,r-1),(c-2,r+1),(c+1,r-2)\n",
    "                           ,(c+1,r+2),(c-1,r-2),(c-1,r+2)]))\n",
    "        case _: return []"
   ]
  },
  {
   "attachments": {},
   "cell_type": "markdown",
   "metadata": {},
   "source": [
    "骑士从位置$(6,2)$有六个可走到的坐标："
   ]
  },
  {
   "cell_type": "code",
   "execution_count": 41,
   "metadata": {},
   "outputs": [
    {
     "data": {
      "text/plain": [
       "[(8, 1), (8, 3), (4, 1), (4, 3), (7, 4), (5, 4)]"
      ]
     },
     "execution_count": 41,
     "metadata": {},
     "output_type": "execute_result"
    }
   ],
   "source": [
    "moveKnight((6,2))"
   ]
  },
  {
   "attachments": {},
   "cell_type": "markdown",
   "metadata": {},
   "source": [
    "`in3`计算骑士走三步所有可能的坐标："
   ]
  },
  {
   "cell_type": "code",
   "execution_count": 42,
   "metadata": {},
   "outputs": [],
   "source": [
    "def in3(start:KinghtPos)->list[KinghtPos]:\n",
    "    return Monad.pure([start]).bind(moveKnight).bind(moveKnight).bind(moveKnight)"
   ]
  },
  {
   "attachments": {},
   "cell_type": "markdown",
   "metadata": {},
   "source": [
    "- `Monad.pure([start])`：将`start`放进monad环境。\n",
    "- 第一个`bind(moveKnight)`：将`moveKnight`应用于monad环境中的元素`start`，算出走第一步所有可能的位置，返回以这些坐标为元素的monad。\n",
    "- 第二个`bind(moveKnight)`：将`moveKnight`依次应用于第一步所得的monad中的元素，算出第二步所有可以到达的坐标，同样返回以这些坐标为元素的monad。\n",
    "- 第三个`bind(moveKnight)`：与第二步类似，得到第三步结果。"
   ]
  },
  {
   "attachments": {},
   "cell_type": "markdown",
   "metadata": {},
   "source": [
    "对骑士从坐标$(6,2)$出发走三步后的所有可能坐标（有些坐标有重复）如下："
   ]
  },
  {
   "cell_type": "code",
   "execution_count": 43,
   "metadata": {},
   "outputs": [
    {
     "data": {
      "text/plain": [
       "[(8, 1),\n",
       " (8, 3),\n",
       " (4, 1),\n",
       " (4, 3),\n",
       " (7, 4),\n",
       " (5, 4),\n",
       " (5, 2),\n",
       " (5, 4),\n",
       " (8, 1),\n",
       " (8, 5),\n",
       " (6, 1),\n",
       " (6, 5),\n",
       " (8, 1),\n",
       " (8, 3),\n",
       " (4, 1),\n",
       " (4, 3),\n",
       " (7, 4),\n",
       " (5, 4),\n",
       " (8, 3),\n",
       " (8, 5),\n",
       " (4, 3),\n",
       " (4, 5),\n",
       " (7, 2),\n",
       " (7, 6),\n",
       " (5, 2),\n",
       " (5, 6),\n",
       " (5, 2),\n",
       " (8, 3),\n",
       " (6, 3),\n",
       " (5, 4),\n",
       " (5, 6),\n",
       " (8, 3),\n",
       " (8, 7),\n",
       " (6, 3),\n",
       " (6, 7),\n",
       " (8, 1),\n",
       " (8, 3),\n",
       " (4, 1),\n",
       " (4, 3),\n",
       " (7, 4),\n",
       " (5, 4),\n",
       " (4, 1),\n",
       " (4, 3),\n",
       " (3, 4),\n",
       " (1, 4),\n",
       " (7, 2),\n",
       " (7, 4),\n",
       " (3, 2),\n",
       " (3, 4),\n",
       " (6, 1),\n",
       " (6, 5),\n",
       " (4, 1),\n",
       " (4, 5),\n",
       " (5, 2),\n",
       " (5, 4),\n",
       " (1, 2),\n",
       " (1, 4),\n",
       " (4, 1),\n",
       " (4, 5),\n",
       " (2, 1),\n",
       " (2, 5),\n",
       " (8, 1),\n",
       " (8, 3),\n",
       " (4, 1),\n",
       " (4, 3),\n",
       " (7, 4),\n",
       " (5, 4),\n",
       " (8, 3),\n",
       " (8, 5),\n",
       " (4, 3),\n",
       " (4, 5),\n",
       " (7, 2),\n",
       " (7, 6),\n",
       " (5, 2),\n",
       " (5, 6),\n",
       " (4, 1),\n",
       " (4, 3),\n",
       " (3, 4),\n",
       " (1, 4),\n",
       " (4, 3),\n",
       " (4, 5),\n",
       " (3, 2),\n",
       " (3, 6),\n",
       " (1, 2),\n",
       " (1, 6),\n",
       " (7, 2),\n",
       " (3, 2),\n",
       " (6, 3),\n",
       " (4, 3),\n",
       " (7, 4),\n",
       " (7, 6),\n",
       " (3, 4),\n",
       " (3, 6),\n",
       " (6, 3),\n",
       " (6, 7),\n",
       " (4, 3),\n",
       " (4, 7),\n",
       " (5, 2),\n",
       " (1, 2),\n",
       " (4, 3),\n",
       " (2, 3),\n",
       " (5, 4),\n",
       " (5, 6),\n",
       " (1, 4),\n",
       " (1, 6),\n",
       " (4, 3),\n",
       " (4, 7),\n",
       " (2, 3),\n",
       " (2, 7),\n",
       " (7, 2),\n",
       " (7, 4),\n",
       " (3, 2),\n",
       " (3, 4),\n",
       " (6, 1),\n",
       " (6, 5),\n",
       " (4, 1),\n",
       " (4, 5),\n",
       " (7, 4),\n",
       " (7, 6),\n",
       " (3, 4),\n",
       " (3, 6),\n",
       " (6, 3),\n",
       " (6, 7),\n",
       " (4, 3),\n",
       " (4, 7),\n",
       " (6, 1),\n",
       " (6, 3),\n",
       " (7, 4),\n",
       " (6, 5),\n",
       " (6, 7),\n",
       " (7, 4),\n",
       " (7, 8),\n",
       " (8, 1),\n",
       " (8, 3),\n",
       " (4, 1),\n",
       " (4, 3),\n",
       " (7, 4),\n",
       " (5, 4),\n",
       " (8, 5),\n",
       " (8, 7),\n",
       " (4, 5),\n",
       " (4, 7),\n",
       " (7, 4),\n",
       " (7, 8),\n",
       " (5, 4),\n",
       " (5, 8),\n",
       " (5, 2),\n",
       " (5, 4),\n",
       " (8, 1),\n",
       " (8, 5),\n",
       " (6, 1),\n",
       " (6, 5),\n",
       " (5, 4),\n",
       " (5, 6),\n",
       " (8, 3),\n",
       " (8, 7),\n",
       " (6, 3),\n",
       " (6, 7),\n",
       " (5, 2),\n",
       " (5, 4),\n",
       " (1, 2),\n",
       " (1, 4),\n",
       " (4, 1),\n",
       " (4, 5),\n",
       " (2, 1),\n",
       " (2, 5),\n",
       " (5, 4),\n",
       " (5, 6),\n",
       " (1, 4),\n",
       " (1, 6),\n",
       " (4, 3),\n",
       " (4, 7),\n",
       " (2, 3),\n",
       " (2, 7),\n",
       " (8, 1),\n",
       " (8, 3),\n",
       " (4, 1),\n",
       " (4, 3),\n",
       " (7, 4),\n",
       " (5, 4),\n",
       " (8, 5),\n",
       " (8, 7),\n",
       " (4, 5),\n",
       " (4, 7),\n",
       " (7, 4),\n",
       " (7, 8),\n",
       " (5, 4),\n",
       " (5, 8),\n",
       " (6, 1),\n",
       " (6, 3),\n",
       " (2, 1),\n",
       " (2, 3),\n",
       " (5, 4),\n",
       " (3, 4),\n",
       " (6, 5),\n",
       " (6, 7),\n",
       " (2, 5),\n",
       " (2, 7),\n",
       " (5, 4),\n",
       " (5, 8),\n",
       " (3, 4),\n",
       " (3, 8)]"
      ]
     },
     "execution_count": 43,
     "metadata": {},
     "output_type": "execute_result"
    }
   ],
   "source": [
    "in3((6,2))"
   ]
  },
  {
   "attachments": {},
   "cell_type": "markdown",
   "metadata": {},
   "source": [
    "`canReachIn3`计算骑士从`start`坐标开始，三步是否能到达`end`:"
   ]
  },
  {
   "cell_type": "code",
   "execution_count": 44,
   "metadata": {},
   "outputs": [],
   "source": [
    "def canReachIn3(start:KinghtPos,end:KinghtPos)->bool:\n",
    "    return end in in3(start)"
   ]
  },
  {
   "attachments": {},
   "cell_type": "markdown",
   "metadata": {},
   "source": [
    "算法很简单就是看`end`是否在走三步后所有可能的坐标里面。"
   ]
  },
  {
   "attachments": {},
   "cell_type": "markdown",
   "metadata": {},
   "source": [
    "答案是骑士从$(6,2)$出发，走三步可以到达$(6,1)$："
   ]
  },
  {
   "cell_type": "code",
   "execution_count": 45,
   "metadata": {},
   "outputs": [
    {
     "data": {
      "text/plain": [
       "True"
      ]
     },
     "execution_count": 45,
     "metadata": {},
     "output_type": "execute_result"
    }
   ],
   "source": [
    "canReachIn3((6,2),(6,1))"
   ]
  },
  {
   "attachments": {},
   "cell_type": "markdown",
   "metadata": {},
   "source": [
    "#### 迭代环境"
   ]
  },
  {
   "attachments": {},
   "cell_type": "markdown",
   "metadata": {},
   "source": [
    "##### `SigFoldable`\n",
    "`SigFoldable`有四个类方法，分别是`foldl`，`foldr`，`scanl`，`scanr`。假设容器的元素集合为$[x_1,x_2,\\cdots,x_n]$，\n",
    "- `foldl`：`(f:Callable[[B,A],B],x0:B)->B`，迭代计算$y_1=f(x_0,x_1),\\ y_2=f(y_1,x_2),\\cdots,\\ y_n=f(y_{n-1},x_n)$，返回$y_n$，其中$f$为第一个输入参数，$x_0$为第二个输入参数。\n",
    "- `foldr`：`(f:Callable[[A,B],B],x0:B)->B`，迭代计算$y_1=f(x_n,x_{n+1}),\\ y_2=f(x_{n-1},y_1),\\cdots,\\ y_n=f(x_1,y_{n-1})$，返回$y_n$，其中$f$为第一个输入参数，$x_{n+1}$为第二个输入参数。\n",
    "- `scanl`：`(f:Callable[[B,A],B],x0:B)->B`，迭代计算$y_1=f(x_0,x_1),\\ y_2=f(y_1,x_2),\\cdots,\\ y_n=f(y_{n-1},x_n)$，返回$[y_1,y_2,\\cdots,y_n]$，其中$f$为第一个输入参数，$x_0$为第二个输入参数。\n",
    "- `scanr`：`(f:Callable[[A,B],B],x0:B)->B`，迭代计算$y_1=f(x_n,x_{n+1}),\\ y_2=f(x_{n-1},y_1),\\cdots,\\ y_n=f(x_1,y_{n-1})$，返回$[y_1,y_2,\\cdots,y_n]$，其中$f$为第一个输入参数，$x_{n+1}$为第二个输入参数。"
   ]
  },
  {
   "cell_type": "code",
   "execution_count": 46,
   "metadata": {},
   "outputs": [
    {
     "name": "stdout",
     "output_type": "stream",
     "text": [
      "[1, 2, 3, 4, 5, 6, 7, 8]\n"
     ]
    }
   ],
   "source": [
    "s=SigFoldable(a)\n",
    "print(s)"
   ]
  },
  {
   "cell_type": "code",
   "execution_count": 47,
   "metadata": {},
   "outputs": [
    {
     "data": {
      "text/plain": [
       "numpy.ndarray"
      ]
     },
     "execution_count": 47,
     "metadata": {},
     "output_type": "execute_result"
    }
   ],
   "source": [
    "type(a)"
   ]
  },
  {
   "cell_type": "code",
   "execution_count": 48,
   "metadata": {},
   "outputs": [
    {
     "data": {
      "text/plain": [
       "36"
      ]
     },
     "execution_count": 48,
     "metadata": {},
     "output_type": "execute_result"
    }
   ],
   "source": [
    "s.foldl(add,0)"
   ]
  },
  {
   "cell_type": "code",
   "execution_count": 49,
   "metadata": {},
   "outputs": [
    {
     "data": {
      "text/plain": [
       "36"
      ]
     },
     "execution_count": 49,
     "metadata": {},
     "output_type": "execute_result"
    }
   ],
   "source": [
    "s.foldr(add,0)"
   ]
  },
  {
   "cell_type": "code",
   "execution_count": 50,
   "metadata": {},
   "outputs": [
    {
     "data": {
      "text/plain": [
       "[1, 3, 6, 10, 15, 21, 28, 36]"
      ]
     },
     "execution_count": 50,
     "metadata": {},
     "output_type": "execute_result"
    }
   ],
   "source": [
    "s.scanl(add,0)"
   ]
  },
  {
   "cell_type": "code",
   "execution_count": 51,
   "metadata": {},
   "outputs": [
    {
     "data": {
      "text/plain": [
       "[8, 15, 21, 26, 30, 33, 35, 36]"
      ]
     },
     "execution_count": 51,
     "metadata": {},
     "output_type": "execute_result"
    }
   ],
   "source": [
    "s.scanr(add,0)"
   ]
  },
  {
   "cell_type": "code",
   "execution_count": 72,
   "metadata": {},
   "outputs": [],
   "source": [
    "a=[[1,2,3,4],[5,6,7,8]]\n",
    "s=SigFoldable(a)"
   ]
  },
  {
   "cell_type": "code",
   "execution_count": 76,
   "metadata": {},
   "outputs": [],
   "source": [
    "from functools import partial\n",
    "def leftEdge(n,acc,x): return (acc[1][-n:],x)\n",
    "def rightEdge(n,x,acc): return x+(acc[1][:n],)\n",
    "r2=partial(rightEdge,2)\n",
    "l2=partial(leftEdge,2)\n",
    "v_le=([],[-1,0])\n",
    "v_re=([],[9,10],[])"
   ]
  },
  {
   "cell_type": "code",
   "execution_count": 77,
   "metadata": {},
   "outputs": [
    {
     "data": {
      "text/plain": [
       "[([-1, 0], [1, 2, 3, 4], [5, 6]), ([3, 4], [5, 6, 7, 8], [9, 10])]"
      ]
     },
     "execution_count": 77,
     "metadata": {},
     "output_type": "execute_result"
    }
   ],
   "source": [
    "s.scanl(l2,v_le).scanr(r2,v_re)[::-1]"
   ]
  },
  {
   "attachments": {},
   "cell_type": "markdown",
   "metadata": {},
   "source": [
    "```{note}\n",
    "`v_le`和`v_re`不仅是初始值，而且分别定义了输出容器元素的形状。\n",
    "```"
   ]
  },
  {
   "attachments": {},
   "cell_type": "markdown",
   "metadata": {},
   "source": [
    "`Contexts.Foldable`提供了这四个函数，可用于`Iterable`类型："
   ]
  },
  {
   "cell_type": "code",
   "execution_count": 52,
   "metadata": {},
   "outputs": [],
   "source": [
    "from Basic.Monoid import mappend, mempty\n",
    "\n",
    "v=[[1,2],[3,4]]\n",
    "foo=Foldable.scanl(mappend,mempty(v),v)"
   ]
  },
  {
   "cell_type": "code",
   "execution_count": 53,
   "metadata": {},
   "outputs": [
    {
     "name": "stdout",
     "output_type": "stream",
     "text": [
      "[1, 2]\n",
      "[1, 2, 3, 4]\n"
     ]
    }
   ],
   "source": [
    "for i in foo: print(i)"
   ]
  },
  {
   "cell_type": "code",
   "execution_count": 54,
   "metadata": {},
   "outputs": [
    {
     "data": {
      "text/plain": [
       "[1, 2, 3, 4]"
      ]
     },
     "execution_count": 54,
     "metadata": {},
     "output_type": "execute_result"
    }
   ],
   "source": [
    "Foldable.foldl(mappend,mempty(v),v)"
   ]
  },
  {
   "cell_type": "code",
   "execution_count": 55,
   "metadata": {},
   "outputs": [
    {
     "data": {
      "text/plain": [
       "(1, 2, 3, 4)"
      ]
     },
     "execution_count": 55,
     "metadata": {},
     "output_type": "execute_result"
    }
   ],
   "source": [
    "v=((1,2),(3,4))\n",
    "Foldable.foldl(mappend,mempty(v),v)"
   ]
  },
  {
   "cell_type": "code",
   "execution_count": 56,
   "metadata": {},
   "outputs": [
    {
     "data": {
      "text/plain": [
       "(3, 4, 1, 2)"
      ]
     },
     "execution_count": 56,
     "metadata": {},
     "output_type": "execute_result"
    }
   ],
   "source": [
    "Foldable.foldl(mappend,mempty(v),reversed(v))"
   ]
  },
  {
   "attachments": {},
   "cell_type": "markdown",
   "metadata": {},
   "source": [
    "### 算法\n",
    "#### 边界处理方法\n",
    "#### 方法\n",
    "边界处理方法包含零延伸，周期延伸和对称延伸三种。假设信号长度为$n$，延伸的长度为$m$，通常我们要求$m\\leq n$，信号为$[x_1,x_2,\\cdots,x_n]$。\n",
    "\n",
    "顾名思义，零延伸就是对区间外用零值延伸。即左右延伸都是$[0,\\cdots,0]$，延伸的数组长度为$m$。\n",
    "\n",
    "周期延伸是将区间中的信号看成周期函数进行延伸，因此，左延伸数组为$[x_{n-m+1},\\cdots,x_n]$，这是因为根据周期性，元素$x_1$往左跟元素$x_n$相邻。同理，右延伸数组为$[x_1,x_2,\\cdots,x_m]$。\n",
    "\n",
    "对称延伸是以端点为原点的对称延伸：左延伸数组为$[x_m,x_{m-1},\\cdots,x_1]$, 右延伸数组为$[x_n,x_{n-1},\\cdots,x_{n-m+1}]$\n",
    "\n",
    "#### 程序设计\n",
    "程序包括三个数据类型，三种算法函数。三种函数为`zero`，`periodic`，`symetric`分别与零延伸，周期延伸和对称延伸相对应。函数的接口：输入接口为`(n,v)`，其中`n`为延伸的长度，类型为`int`，`v`为被延伸的信号，类型为`sig_0`。函数要求`n`不大于信号的长度的正整数。输出接口为`Extensions`的数据类，这个数据类是一对`sig_0`，即`(sig_0,sig_0)`，其中左元素对应左延伸数组，右元素对应右延伸数组。为了方便使用，定义了另外两个数据类：\n",
    "- `PaddingMethodNames`: 延伸方法名称，`Enum`数据类，其中的域值为`ZERO`,`PERIODIC`和`SYMETRIC`。\n",
    "- `padding`: dictionary数据类，其中`key`为`PaddingMethoNames`，`value`为上面的延伸函数。"
   ]
  },
  {
   "cell_type": "code",
   "execution_count": 57,
   "metadata": {},
   "outputs": [],
   "source": [
    "#from Signal.Padding import PaddingMethodNames, padding\n",
    "\n",
    "from typing import NewType\n",
    "from enum import Enum\n",
    "from Signal.Types import sig_0\n",
    "\n",
    "Extensions = NewType('Extensions',tuple[sig_0,sig_0])\n",
    "PaddingMethodNames=Enum('PaddingMethod',['ZERO','PERIODIC','SYMETRIC'])\n",
    "\n",
    "def zero(n:int,v:sig_0)->Extensions:\n",
    "    if n<0 or n>len(v): raise ValueError(\"Illegal Input\")\n",
    "    else: return Extensions(([0.0]*n,[0.0]*n))\n",
    "\n",
    "def periodic(n:int,v:sig_0)->Extensions:\n",
    "    if n<0 or n>len(v): raise ValueError(\"Illegal Input\")\n",
    "    else: return Extensions((v[-n:],v[:n]))\n",
    "\n",
    "def symetric(n:int,v:sig_0)->Extensions:\n",
    "    if n<0 or n>len(v): raise ValueError(\"Illegal Input\")\n",
    "    else: return Extensions((v[:n][::-1],v[-n:][::-1]))\n",
    "\n",
    "padding={name:method for (name,method) in zip(PaddingMethodNames,(zero,periodic,symetric))}"
   ]
  },
  {
   "cell_type": "code",
   "execution_count": 58,
   "metadata": {},
   "outputs": [
    {
     "name": "stdout",
     "output_type": "stream",
     "text": [
      "PaddingMethod.ZERO\n",
      "PaddingMethod.PERIODIC\n",
      "PaddingMethod.SYMETRIC\n"
     ]
    }
   ],
   "source": [
    "for i in PaddingMethodNames: print(i)"
   ]
  },
  {
   "cell_type": "code",
   "execution_count": 59,
   "metadata": {},
   "outputs": [
    {
     "name": "stdout",
     "output_type": "stream",
     "text": [
      "原信号:  [1 2 3 4 5 6 7 8]\n",
      "PaddingMethod.ZERO: ([0.0, 0.0, 0.0, 0.0], [0.0, 0.0, 0.0, 0.0])\n",
      "PaddingMethod.PERIODIC: (array([5, 6, 7, 8]), array([1, 2, 3, 4]))\n",
      "PaddingMethod.SYMETRIC: (array([4, 3, 2, 1]), array([8, 7, 6, 5]))\n"
     ]
    }
   ],
   "source": [
    "a=np.arange(1,9)\n",
    "foo = map((lambda x: padding[x](4,a)), PaddingMethodNames)\n",
    "print('原信号: ',a)\n",
    "for i,j in zip(PaddingMethodNames,foo): print(str(i)+\":\",j)"
   ]
  },
  {
   "cell_type": "code",
   "execution_count": 60,
   "metadata": {},
   "outputs": [],
   "source": [
    "#from Signal.Utils import ispower2\n",
    "\n",
    "def ispower2(n:int)->bool:\n",
    "    return (n & (n-1) == 0) and n != 0"
   ]
  }
 ],
 "metadata": {
  "kernelspec": {
   "display_name": "python3.11",
   "language": "python",
   "name": "python3"
  },
  "language_info": {
   "codemirror_mode": {
    "name": "ipython",
    "version": 3
   },
   "file_extension": ".py",
   "mimetype": "text/x-python",
   "name": "python",
   "nbconvert_exporter": "python",
   "pygments_lexer": "ipython3",
   "version": "3.11.1"
  },
  "orig_nbformat": 4,
  "vscode": {
   "interpreter": {
    "hash": "b10226086f9c590e4f011c15abe890420217b7a9f5fcad7de85d05c11c6ee1f9"
   }
  }
 },
 "nbformat": 4,
 "nbformat_minor": 2
}
